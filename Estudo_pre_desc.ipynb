{
 "cells": [
  {
   "cell_type": "markdown",
   "metadata": {},
   "source": [
    "## Exploração, análise e tratamento dos Dados"
   ]
  },
  {
   "cell_type": "code",
   "execution_count": 2,
   "metadata": {},
   "outputs": [
    {
     "name": "stdout",
     "output_type": "stream",
     "text": [
      "Pacotes importados com sucesso\n"
     ]
    }
   ],
   "source": [
    "# Importando os pacotes\n",
    "\n",
    "import pandas as pd\n",
    "import numpy as np\n",
    "print(\"Pacotes importados com sucesso\")"
   ]
  },
  {
   "cell_type": "code",
   "execution_count": 3,
   "metadata": {},
   "outputs": [
    {
     "data": {
      "text/html": [
       "<div>\n",
       "<style scoped>\n",
       "    .dataframe tbody tr th:only-of-type {\n",
       "        vertical-align: middle;\n",
       "    }\n",
       "\n",
       "    .dataframe tbody tr th {\n",
       "        vertical-align: top;\n",
       "    }\n",
       "\n",
       "    .dataframe thead th {\n",
       "        text-align: right;\n",
       "    }\n",
       "</style>\n",
       "<table border=\"1\" class=\"dataframe\">\n",
       "  <thead>\n",
       "    <tr style=\"text-align: right;\">\n",
       "      <th></th>\n",
       "      <th>Age</th>\n",
       "      <th>Sex</th>\n",
       "      <th>ChestPainType</th>\n",
       "      <th>RestingBP</th>\n",
       "      <th>Cholesterol</th>\n",
       "      <th>FastingBS</th>\n",
       "      <th>RestingECG</th>\n",
       "      <th>MaxHR</th>\n",
       "      <th>ExerciseAngina</th>\n",
       "      <th>Oldpeak</th>\n",
       "      <th>ST_Slope</th>\n",
       "      <th>HeartDisease</th>\n",
       "    </tr>\n",
       "  </thead>\n",
       "  <tbody>\n",
       "    <tr>\n",
       "      <th>0</th>\n",
       "      <td>40</td>\n",
       "      <td>M</td>\n",
       "      <td>ATA</td>\n",
       "      <td>140</td>\n",
       "      <td>289</td>\n",
       "      <td>0</td>\n",
       "      <td>Normal</td>\n",
       "      <td>172</td>\n",
       "      <td>N</td>\n",
       "      <td>0.0</td>\n",
       "      <td>Up</td>\n",
       "      <td>0</td>\n",
       "    </tr>\n",
       "    <tr>\n",
       "      <th>1</th>\n",
       "      <td>49</td>\n",
       "      <td>F</td>\n",
       "      <td>NAP</td>\n",
       "      <td>160</td>\n",
       "      <td>180</td>\n",
       "      <td>0</td>\n",
       "      <td>Normal</td>\n",
       "      <td>156</td>\n",
       "      <td>N</td>\n",
       "      <td>1.0</td>\n",
       "      <td>Flat</td>\n",
       "      <td>1</td>\n",
       "    </tr>\n",
       "    <tr>\n",
       "      <th>2</th>\n",
       "      <td>37</td>\n",
       "      <td>M</td>\n",
       "      <td>ATA</td>\n",
       "      <td>130</td>\n",
       "      <td>283</td>\n",
       "      <td>0</td>\n",
       "      <td>ST</td>\n",
       "      <td>98</td>\n",
       "      <td>N</td>\n",
       "      <td>0.0</td>\n",
       "      <td>Up</td>\n",
       "      <td>0</td>\n",
       "    </tr>\n",
       "    <tr>\n",
       "      <th>3</th>\n",
       "      <td>48</td>\n",
       "      <td>F</td>\n",
       "      <td>ASY</td>\n",
       "      <td>138</td>\n",
       "      <td>214</td>\n",
       "      <td>0</td>\n",
       "      <td>Normal</td>\n",
       "      <td>108</td>\n",
       "      <td>Y</td>\n",
       "      <td>1.5</td>\n",
       "      <td>Flat</td>\n",
       "      <td>1</td>\n",
       "    </tr>\n",
       "    <tr>\n",
       "      <th>4</th>\n",
       "      <td>54</td>\n",
       "      <td>M</td>\n",
       "      <td>NAP</td>\n",
       "      <td>150</td>\n",
       "      <td>195</td>\n",
       "      <td>0</td>\n",
       "      <td>Normal</td>\n",
       "      <td>122</td>\n",
       "      <td>N</td>\n",
       "      <td>0.0</td>\n",
       "      <td>Up</td>\n",
       "      <td>0</td>\n",
       "    </tr>\n",
       "  </tbody>\n",
       "</table>\n",
       "</div>"
      ],
      "text/plain": [
       "   Age Sex ChestPainType  RestingBP  Cholesterol  FastingBS RestingECG  MaxHR  \\\n",
       "0   40   M           ATA        140          289          0     Normal    172   \n",
       "1   49   F           NAP        160          180          0     Normal    156   \n",
       "2   37   M           ATA        130          283          0         ST     98   \n",
       "3   48   F           ASY        138          214          0     Normal    108   \n",
       "4   54   M           NAP        150          195          0     Normal    122   \n",
       "\n",
       "  ExerciseAngina  Oldpeak ST_Slope  HeartDisease  \n",
       "0              N      0.0       Up             0  \n",
       "1              N      1.0     Flat             1  \n",
       "2              N      0.0       Up             0  \n",
       "3              Y      1.5     Flat             1  \n",
       "4              N      0.0       Up             0  "
      ]
     },
     "execution_count": 3,
     "metadata": {},
     "output_type": "execute_result"
    }
   ],
   "source": [
    "# Lendo a base de dados\n",
    "\n",
    "dados = pd.read_csv('heart.csv',sep=',',encoding='iso-8859-1')\n",
    "\n",
    "dados.head()"
   ]
  },
  {
   "cell_type": "markdown",
   "metadata": {},
   "source": [
    "# Exploração dos Dados"
   ]
  },
  {
   "cell_type": "code",
   "execution_count": 4,
   "metadata": {},
   "outputs": [
    {
     "name": "stdout",
     "output_type": "stream",
     "text": [
      "Quantidade de linha 918, quantidade de colunas 12\n"
     ]
    }
   ],
   "source": [
    "# Quantidade de linha e colunas\n",
    "\n",
    "print(f\"Quantidade de linha {dados.shape[0]}, quantidade de colunas {dados.shape[1]}\")"
   ]
  },
  {
   "cell_type": "code",
   "execution_count": 5,
   "metadata": {},
   "outputs": [
    {
     "data": {
      "text/plain": [
       "28     1\n",
       "29     3\n",
       "30     1\n",
       "31     2\n",
       "32     5\n",
       "33     2\n",
       "34     7\n",
       "35    11\n",
       "36     6\n",
       "37    11\n",
       "38    16\n",
       "39    15\n",
       "40    13\n",
       "41    24\n",
       "42    18\n",
       "43    24\n",
       "44    19\n",
       "45    18\n",
       "46    24\n",
       "47    19\n",
       "48    31\n",
       "49    21\n",
       "50    25\n",
       "51    35\n",
       "52    36\n",
       "53    33\n",
       "54    51\n",
       "55    41\n",
       "56    38\n",
       "57    38\n",
       "58    42\n",
       "59    35\n",
       "60    32\n",
       "61    31\n",
       "62    35\n",
       "63    30\n",
       "64    22\n",
       "65    21\n",
       "66    13\n",
       "67    15\n",
       "68    10\n",
       "69    13\n",
       "70     7\n",
       "71     5\n",
       "72     4\n",
       "73     1\n",
       "74     7\n",
       "75     3\n",
       "76     2\n",
       "77     2\n",
       "Name: Age, dtype: int64"
      ]
     },
     "execution_count": 5,
     "metadata": {},
     "output_type": "execute_result"
    }
   ],
   "source": [
    "# Análise das Variáveis\n",
    "\n",
    "dados['Age'].value_counts().sort_index()"
   ]
  },
  {
   "cell_type": "code",
   "execution_count": 6,
   "metadata": {},
   "outputs": [],
   "source": [
    "import plotly.express as px"
   ]
  },
  {
   "cell_type": "code",
   "execution_count": 7,
   "metadata": {},
   "outputs": [
    {
     "data": {
      "application/vnd.plotly.v1+json": {
       "config": {
        "plotlyServerURL": "https://plot.ly"
       },
       "data": [
        {
         "alignmentgroup": "True",
         "bingroup": "x",
         "hovertemplate": "Age=%{x}<br>count=%{y}<extra></extra>",
         "legendgroup": "",
         "marker": {
          "color": "#636efa",
          "pattern": {
           "shape": ""
          }
         },
         "name": "",
         "nbinsx": 60,
         "offsetgroup": "",
         "orientation": "v",
         "showlegend": false,
         "type": "histogram",
         "x": [
          40,
          49,
          37,
          48,
          54,
          39,
          45,
          54,
          37,
          48,
          37,
          58,
          39,
          49,
          42,
          54,
          38,
          43,
          60,
          36,
          43,
          44,
          49,
          44,
          40,
          36,
          53,
          52,
          53,
          51,
          53,
          56,
          54,
          41,
          43,
          32,
          65,
          41,
          48,
          48,
          54,
          54,
          35,
          52,
          43,
          59,
          37,
          50,
          36,
          41,
          50,
          47,
          45,
          41,
          52,
          51,
          31,
          58,
          54,
          52,
          49,
          43,
          45,
          46,
          50,
          37,
          45,
          32,
          52,
          44,
          57,
          44,
          52,
          44,
          55,
          46,
          32,
          35,
          52,
          49,
          55,
          54,
          63,
          52,
          56,
          66,
          65,
          53,
          43,
          55,
          49,
          39,
          52,
          48,
          39,
          58,
          43,
          39,
          56,
          41,
          65,
          51,
          40,
          40,
          46,
          57,
          48,
          34,
          50,
          39,
          59,
          57,
          47,
          38,
          49,
          33,
          38,
          59,
          35,
          34,
          47,
          52,
          46,
          58,
          58,
          54,
          34,
          48,
          54,
          42,
          38,
          46,
          56,
          56,
          61,
          49,
          43,
          39,
          54,
          43,
          52,
          50,
          47,
          53,
          56,
          39,
          42,
          43,
          50,
          54,
          39,
          48,
          40,
          55,
          41,
          56,
          38,
          49,
          44,
          54,
          59,
          49,
          47,
          42,
          52,
          46,
          50,
          48,
          58,
          58,
          29,
          40,
          53,
          49,
          52,
          43,
          54,
          59,
          37,
          46,
          52,
          51,
          52,
          46,
          54,
          58,
          58,
          41,
          50,
          53,
          46,
          50,
          48,
          45,
          41,
          62,
          49,
          42,
          53,
          57,
          47,
          46,
          42,
          31,
          56,
          50,
          35,
          35,
          28,
          54,
          48,
          50,
          56,
          56,
          47,
          30,
          39,
          54,
          55,
          29,
          46,
          51,
          48,
          33,
          55,
          50,
          53,
          38,
          41,
          37,
          37,
          40,
          38,
          41,
          54,
          39,
          41,
          55,
          48,
          48,
          55,
          54,
          55,
          43,
          48,
          54,
          54,
          48,
          45,
          49,
          44,
          48,
          61,
          62,
          55,
          53,
          55,
          36,
          51,
          55,
          46,
          54,
          46,
          59,
          47,
          54,
          52,
          34,
          54,
          47,
          45,
          32,
          55,
          55,
          45,
          59,
          51,
          52,
          57,
          54,
          60,
          49,
          51,
          55,
          42,
          51,
          59,
          53,
          48,
          36,
          48,
          47,
          53,
          65,
          32,
          61,
          50,
          57,
          51,
          47,
          60,
          55,
          53,
          62,
          51,
          51,
          55,
          53,
          58,
          57,
          65,
          60,
          41,
          34,
          53,
          74,
          57,
          56,
          61,
          68,
          59,
          63,
          38,
          62,
          46,
          42,
          45,
          59,
          52,
          60,
          60,
          56,
          38,
          40,
          51,
          62,
          72,
          63,
          63,
          64,
          43,
          64,
          61,
          52,
          51,
          69,
          59,
          48,
          69,
          36,
          53,
          43,
          56,
          58,
          55,
          67,
          46,
          53,
          38,
          53,
          62,
          47,
          56,
          56,
          56,
          64,
          61,
          68,
          57,
          63,
          60,
          66,
          63,
          59,
          61,
          73,
          47,
          65,
          70,
          50,
          60,
          50,
          43,
          38,
          54,
          61,
          42,
          53,
          55,
          61,
          51,
          70,
          61,
          38,
          57,
          38,
          62,
          58,
          52,
          61,
          50,
          51,
          65,
          52,
          47,
          35,
          57,
          62,
          59,
          53,
          62,
          54,
          56,
          56,
          54,
          66,
          63,
          44,
          60,
          55,
          66,
          66,
          65,
          60,
          60,
          60,
          56,
          59,
          62,
          63,
          57,
          62,
          63,
          46,
          63,
          60,
          58,
          64,
          63,
          74,
          52,
          69,
          51,
          60,
          56,
          55,
          54,
          77,
          63,
          55,
          52,
          64,
          60,
          60,
          58,
          59,
          61,
          40,
          61,
          41,
          57,
          63,
          59,
          51,
          59,
          42,
          55,
          63,
          62,
          56,
          53,
          68,
          53,
          60,
          62,
          59,
          51,
          61,
          57,
          56,
          58,
          69,
          67,
          58,
          65,
          63,
          55,
          57,
          65,
          54,
          72,
          75,
          49,
          51,
          60,
          64,
          58,
          61,
          67,
          62,
          65,
          63,
          69,
          51,
          62,
          55,
          75,
          40,
          67,
          58,
          60,
          63,
          35,
          62,
          43,
          63,
          68,
          65,
          48,
          63,
          64,
          61,
          50,
          59,
          55,
          45,
          65,
          61,
          49,
          72,
          50,
          64,
          55,
          63,
          59,
          56,
          62,
          74,
          54,
          57,
          62,
          76,
          54,
          70,
          61,
          48,
          48,
          61,
          66,
          68,
          55,
          62,
          71,
          74,
          53,
          58,
          75,
          56,
          58,
          64,
          54,
          54,
          59,
          55,
          57,
          61,
          41,
          71,
          38,
          55,
          56,
          69,
          64,
          72,
          69,
          56,
          62,
          67,
          57,
          69,
          51,
          48,
          69,
          69,
          64,
          57,
          53,
          37,
          67,
          74,
          63,
          58,
          61,
          64,
          58,
          60,
          57,
          55,
          55,
          56,
          57,
          61,
          61,
          74,
          68,
          51,
          62,
          53,
          62,
          46,
          54,
          62,
          55,
          58,
          62,
          70,
          67,
          57,
          64,
          74,
          65,
          56,
          59,
          60,
          63,
          59,
          53,
          44,
          61,
          57,
          71,
          46,
          53,
          64,
          40,
          67,
          48,
          43,
          47,
          54,
          48,
          46,
          51,
          58,
          71,
          57,
          66,
          37,
          59,
          50,
          48,
          61,
          59,
          42,
          48,
          40,
          62,
          44,
          46,
          59,
          58,
          49,
          44,
          66,
          65,
          42,
          52,
          65,
          63,
          45,
          41,
          61,
          60,
          59,
          62,
          57,
          51,
          44,
          60,
          63,
          57,
          51,
          58,
          44,
          47,
          61,
          57,
          70,
          76,
          67,
          45,
          45,
          39,
          42,
          56,
          58,
          35,
          58,
          41,
          57,
          42,
          62,
          59,
          41,
          50,
          59,
          61,
          54,
          54,
          52,
          47,
          66,
          58,
          64,
          50,
          44,
          67,
          49,
          57,
          63,
          48,
          51,
          60,
          59,
          45,
          55,
          41,
          60,
          54,
          42,
          49,
          46,
          56,
          66,
          56,
          49,
          54,
          57,
          65,
          54,
          54,
          62,
          52,
          52,
          60,
          63,
          66,
          42,
          64,
          54,
          46,
          67,
          56,
          34,
          57,
          64,
          59,
          50,
          51,
          54,
          53,
          52,
          40,
          58,
          41,
          41,
          50,
          54,
          64,
          51,
          46,
          55,
          45,
          56,
          66,
          38,
          62,
          55,
          58,
          43,
          64,
          50,
          53,
          45,
          65,
          69,
          69,
          67,
          68,
          34,
          62,
          51,
          46,
          67,
          50,
          42,
          56,
          41,
          42,
          53,
          43,
          56,
          52,
          62,
          70,
          54,
          70,
          54,
          35,
          48,
          55,
          58,
          54,
          69,
          77,
          68,
          58,
          60,
          51,
          55,
          52,
          60,
          58,
          64,
          37,
          59,
          51,
          43,
          58,
          29,
          41,
          63,
          51,
          54,
          44,
          54,
          65,
          57,
          63,
          35,
          41,
          62,
          43,
          58,
          52,
          61,
          39,
          45,
          52,
          62,
          62,
          53,
          43,
          47,
          52,
          68,
          39,
          53,
          62,
          51,
          60,
          65,
          65,
          60,
          60,
          54,
          44,
          44,
          51,
          59,
          71,
          61,
          55,
          64,
          43,
          58,
          60,
          58,
          49,
          48,
          52,
          44,
          56,
          57,
          67,
          53,
          52,
          43,
          52,
          59,
          64,
          66,
          39,
          57,
          58,
          57,
          47,
          55,
          35,
          61,
          58,
          58,
          58,
          56,
          56,
          67,
          55,
          44,
          63,
          63,
          41,
          59,
          57,
          45,
          68,
          57,
          57,
          38
         ],
         "xaxis": "x",
         "yaxis": "y"
        }
       ],
       "layout": {
        "barmode": "relative",
        "height": 500,
        "legend": {
         "tracegroupgap": 0
        },
        "margin": {
         "t": 60
        },
        "template": {
         "data": {
          "bar": [
           {
            "error_x": {
             "color": "#2a3f5f"
            },
            "error_y": {
             "color": "#2a3f5f"
            },
            "marker": {
             "line": {
              "color": "#E5ECF6",
              "width": 0.5
             },
             "pattern": {
              "fillmode": "overlay",
              "size": 10,
              "solidity": 0.2
             }
            },
            "type": "bar"
           }
          ],
          "barpolar": [
           {
            "marker": {
             "line": {
              "color": "#E5ECF6",
              "width": 0.5
             },
             "pattern": {
              "fillmode": "overlay",
              "size": 10,
              "solidity": 0.2
             }
            },
            "type": "barpolar"
           }
          ],
          "carpet": [
           {
            "aaxis": {
             "endlinecolor": "#2a3f5f",
             "gridcolor": "white",
             "linecolor": "white",
             "minorgridcolor": "white",
             "startlinecolor": "#2a3f5f"
            },
            "baxis": {
             "endlinecolor": "#2a3f5f",
             "gridcolor": "white",
             "linecolor": "white",
             "minorgridcolor": "white",
             "startlinecolor": "#2a3f5f"
            },
            "type": "carpet"
           }
          ],
          "choropleth": [
           {
            "colorbar": {
             "outlinewidth": 0,
             "ticks": ""
            },
            "type": "choropleth"
           }
          ],
          "contour": [
           {
            "colorbar": {
             "outlinewidth": 0,
             "ticks": ""
            },
            "colorscale": [
             [
              0,
              "#0d0887"
             ],
             [
              0.1111111111111111,
              "#46039f"
             ],
             [
              0.2222222222222222,
              "#7201a8"
             ],
             [
              0.3333333333333333,
              "#9c179e"
             ],
             [
              0.4444444444444444,
              "#bd3786"
             ],
             [
              0.5555555555555556,
              "#d8576b"
             ],
             [
              0.6666666666666666,
              "#ed7953"
             ],
             [
              0.7777777777777778,
              "#fb9f3a"
             ],
             [
              0.8888888888888888,
              "#fdca26"
             ],
             [
              1,
              "#f0f921"
             ]
            ],
            "type": "contour"
           }
          ],
          "contourcarpet": [
           {
            "colorbar": {
             "outlinewidth": 0,
             "ticks": ""
            },
            "type": "contourcarpet"
           }
          ],
          "heatmap": [
           {
            "colorbar": {
             "outlinewidth": 0,
             "ticks": ""
            },
            "colorscale": [
             [
              0,
              "#0d0887"
             ],
             [
              0.1111111111111111,
              "#46039f"
             ],
             [
              0.2222222222222222,
              "#7201a8"
             ],
             [
              0.3333333333333333,
              "#9c179e"
             ],
             [
              0.4444444444444444,
              "#bd3786"
             ],
             [
              0.5555555555555556,
              "#d8576b"
             ],
             [
              0.6666666666666666,
              "#ed7953"
             ],
             [
              0.7777777777777778,
              "#fb9f3a"
             ],
             [
              0.8888888888888888,
              "#fdca26"
             ],
             [
              1,
              "#f0f921"
             ]
            ],
            "type": "heatmap"
           }
          ],
          "heatmapgl": [
           {
            "colorbar": {
             "outlinewidth": 0,
             "ticks": ""
            },
            "colorscale": [
             [
              0,
              "#0d0887"
             ],
             [
              0.1111111111111111,
              "#46039f"
             ],
             [
              0.2222222222222222,
              "#7201a8"
             ],
             [
              0.3333333333333333,
              "#9c179e"
             ],
             [
              0.4444444444444444,
              "#bd3786"
             ],
             [
              0.5555555555555556,
              "#d8576b"
             ],
             [
              0.6666666666666666,
              "#ed7953"
             ],
             [
              0.7777777777777778,
              "#fb9f3a"
             ],
             [
              0.8888888888888888,
              "#fdca26"
             ],
             [
              1,
              "#f0f921"
             ]
            ],
            "type": "heatmapgl"
           }
          ],
          "histogram": [
           {
            "marker": {
             "pattern": {
              "fillmode": "overlay",
              "size": 10,
              "solidity": 0.2
             }
            },
            "type": "histogram"
           }
          ],
          "histogram2d": [
           {
            "colorbar": {
             "outlinewidth": 0,
             "ticks": ""
            },
            "colorscale": [
             [
              0,
              "#0d0887"
             ],
             [
              0.1111111111111111,
              "#46039f"
             ],
             [
              0.2222222222222222,
              "#7201a8"
             ],
             [
              0.3333333333333333,
              "#9c179e"
             ],
             [
              0.4444444444444444,
              "#bd3786"
             ],
             [
              0.5555555555555556,
              "#d8576b"
             ],
             [
              0.6666666666666666,
              "#ed7953"
             ],
             [
              0.7777777777777778,
              "#fb9f3a"
             ],
             [
              0.8888888888888888,
              "#fdca26"
             ],
             [
              1,
              "#f0f921"
             ]
            ],
            "type": "histogram2d"
           }
          ],
          "histogram2dcontour": [
           {
            "colorbar": {
             "outlinewidth": 0,
             "ticks": ""
            },
            "colorscale": [
             [
              0,
              "#0d0887"
             ],
             [
              0.1111111111111111,
              "#46039f"
             ],
             [
              0.2222222222222222,
              "#7201a8"
             ],
             [
              0.3333333333333333,
              "#9c179e"
             ],
             [
              0.4444444444444444,
              "#bd3786"
             ],
             [
              0.5555555555555556,
              "#d8576b"
             ],
             [
              0.6666666666666666,
              "#ed7953"
             ],
             [
              0.7777777777777778,
              "#fb9f3a"
             ],
             [
              0.8888888888888888,
              "#fdca26"
             ],
             [
              1,
              "#f0f921"
             ]
            ],
            "type": "histogram2dcontour"
           }
          ],
          "mesh3d": [
           {
            "colorbar": {
             "outlinewidth": 0,
             "ticks": ""
            },
            "type": "mesh3d"
           }
          ],
          "parcoords": [
           {
            "line": {
             "colorbar": {
              "outlinewidth": 0,
              "ticks": ""
             }
            },
            "type": "parcoords"
           }
          ],
          "pie": [
           {
            "automargin": true,
            "type": "pie"
           }
          ],
          "scatter": [
           {
            "fillpattern": {
             "fillmode": "overlay",
             "size": 10,
             "solidity": 0.2
            },
            "type": "scatter"
           }
          ],
          "scatter3d": [
           {
            "line": {
             "colorbar": {
              "outlinewidth": 0,
              "ticks": ""
             }
            },
            "marker": {
             "colorbar": {
              "outlinewidth": 0,
              "ticks": ""
             }
            },
            "type": "scatter3d"
           }
          ],
          "scattercarpet": [
           {
            "marker": {
             "colorbar": {
              "outlinewidth": 0,
              "ticks": ""
             }
            },
            "type": "scattercarpet"
           }
          ],
          "scattergeo": [
           {
            "marker": {
             "colorbar": {
              "outlinewidth": 0,
              "ticks": ""
             }
            },
            "type": "scattergeo"
           }
          ],
          "scattergl": [
           {
            "marker": {
             "colorbar": {
              "outlinewidth": 0,
              "ticks": ""
             }
            },
            "type": "scattergl"
           }
          ],
          "scattermapbox": [
           {
            "marker": {
             "colorbar": {
              "outlinewidth": 0,
              "ticks": ""
             }
            },
            "type": "scattermapbox"
           }
          ],
          "scatterpolar": [
           {
            "marker": {
             "colorbar": {
              "outlinewidth": 0,
              "ticks": ""
             }
            },
            "type": "scatterpolar"
           }
          ],
          "scatterpolargl": [
           {
            "marker": {
             "colorbar": {
              "outlinewidth": 0,
              "ticks": ""
             }
            },
            "type": "scatterpolargl"
           }
          ],
          "scatterternary": [
           {
            "marker": {
             "colorbar": {
              "outlinewidth": 0,
              "ticks": ""
             }
            },
            "type": "scatterternary"
           }
          ],
          "surface": [
           {
            "colorbar": {
             "outlinewidth": 0,
             "ticks": ""
            },
            "colorscale": [
             [
              0,
              "#0d0887"
             ],
             [
              0.1111111111111111,
              "#46039f"
             ],
             [
              0.2222222222222222,
              "#7201a8"
             ],
             [
              0.3333333333333333,
              "#9c179e"
             ],
             [
              0.4444444444444444,
              "#bd3786"
             ],
             [
              0.5555555555555556,
              "#d8576b"
             ],
             [
              0.6666666666666666,
              "#ed7953"
             ],
             [
              0.7777777777777778,
              "#fb9f3a"
             ],
             [
              0.8888888888888888,
              "#fdca26"
             ],
             [
              1,
              "#f0f921"
             ]
            ],
            "type": "surface"
           }
          ],
          "table": [
           {
            "cells": {
             "fill": {
              "color": "#EBF0F8"
             },
             "line": {
              "color": "white"
             }
            },
            "header": {
             "fill": {
              "color": "#C8D4E3"
             },
             "line": {
              "color": "white"
             }
            },
            "type": "table"
           }
          ]
         },
         "layout": {
          "annotationdefaults": {
           "arrowcolor": "#2a3f5f",
           "arrowhead": 0,
           "arrowwidth": 1
          },
          "autotypenumbers": "strict",
          "coloraxis": {
           "colorbar": {
            "outlinewidth": 0,
            "ticks": ""
           }
          },
          "colorscale": {
           "diverging": [
            [
             0,
             "#8e0152"
            ],
            [
             0.1,
             "#c51b7d"
            ],
            [
             0.2,
             "#de77ae"
            ],
            [
             0.3,
             "#f1b6da"
            ],
            [
             0.4,
             "#fde0ef"
            ],
            [
             0.5,
             "#f7f7f7"
            ],
            [
             0.6,
             "#e6f5d0"
            ],
            [
             0.7,
             "#b8e186"
            ],
            [
             0.8,
             "#7fbc41"
            ],
            [
             0.9,
             "#4d9221"
            ],
            [
             1,
             "#276419"
            ]
           ],
           "sequential": [
            [
             0,
             "#0d0887"
            ],
            [
             0.1111111111111111,
             "#46039f"
            ],
            [
             0.2222222222222222,
             "#7201a8"
            ],
            [
             0.3333333333333333,
             "#9c179e"
            ],
            [
             0.4444444444444444,
             "#bd3786"
            ],
            [
             0.5555555555555556,
             "#d8576b"
            ],
            [
             0.6666666666666666,
             "#ed7953"
            ],
            [
             0.7777777777777778,
             "#fb9f3a"
            ],
            [
             0.8888888888888888,
             "#fdca26"
            ],
            [
             1,
             "#f0f921"
            ]
           ],
           "sequentialminus": [
            [
             0,
             "#0d0887"
            ],
            [
             0.1111111111111111,
             "#46039f"
            ],
            [
             0.2222222222222222,
             "#7201a8"
            ],
            [
             0.3333333333333333,
             "#9c179e"
            ],
            [
             0.4444444444444444,
             "#bd3786"
            ],
            [
             0.5555555555555556,
             "#d8576b"
            ],
            [
             0.6666666666666666,
             "#ed7953"
            ],
            [
             0.7777777777777778,
             "#fb9f3a"
            ],
            [
             0.8888888888888888,
             "#fdca26"
            ],
            [
             1,
             "#f0f921"
            ]
           ]
          },
          "colorway": [
           "#636efa",
           "#EF553B",
           "#00cc96",
           "#ab63fa",
           "#FFA15A",
           "#19d3f3",
           "#FF6692",
           "#B6E880",
           "#FF97FF",
           "#FECB52"
          ],
          "font": {
           "color": "#2a3f5f"
          },
          "geo": {
           "bgcolor": "white",
           "lakecolor": "white",
           "landcolor": "#E5ECF6",
           "showlakes": true,
           "showland": true,
           "subunitcolor": "white"
          },
          "hoverlabel": {
           "align": "left"
          },
          "hovermode": "closest",
          "mapbox": {
           "style": "light"
          },
          "paper_bgcolor": "white",
          "plot_bgcolor": "#E5ECF6",
          "polar": {
           "angularaxis": {
            "gridcolor": "white",
            "linecolor": "white",
            "ticks": ""
           },
           "bgcolor": "#E5ECF6",
           "radialaxis": {
            "gridcolor": "white",
            "linecolor": "white",
            "ticks": ""
           }
          },
          "scene": {
           "xaxis": {
            "backgroundcolor": "#E5ECF6",
            "gridcolor": "white",
            "gridwidth": 2,
            "linecolor": "white",
            "showbackground": true,
            "ticks": "",
            "zerolinecolor": "white"
           },
           "yaxis": {
            "backgroundcolor": "#E5ECF6",
            "gridcolor": "white",
            "gridwidth": 2,
            "linecolor": "white",
            "showbackground": true,
            "ticks": "",
            "zerolinecolor": "white"
           },
           "zaxis": {
            "backgroundcolor": "#E5ECF6",
            "gridcolor": "white",
            "gridwidth": 2,
            "linecolor": "white",
            "showbackground": true,
            "ticks": "",
            "zerolinecolor": "white"
           }
          },
          "shapedefaults": {
           "line": {
            "color": "#2a3f5f"
           }
          },
          "ternary": {
           "aaxis": {
            "gridcolor": "white",
            "linecolor": "white",
            "ticks": ""
           },
           "baxis": {
            "gridcolor": "white",
            "linecolor": "white",
            "ticks": ""
           },
           "bgcolor": "#E5ECF6",
           "caxis": {
            "gridcolor": "white",
            "linecolor": "white",
            "ticks": ""
           }
          },
          "title": {
           "x": 0.05
          },
          "xaxis": {
           "automargin": true,
           "gridcolor": "white",
           "linecolor": "white",
           "ticks": "",
           "title": {
            "standoff": 15
           },
           "zerolinecolor": "white",
           "zerolinewidth": 2
          },
          "yaxis": {
           "automargin": true,
           "gridcolor": "white",
           "linecolor": "white",
           "ticks": "",
           "title": {
            "standoff": 15
           },
           "zerolinecolor": "white",
           "zerolinewidth": 2
          }
         }
        },
        "title": {
         "text": "Distribuição das idades"
        },
        "width": 800,
        "xaxis": {
         "anchor": "y",
         "domain": [
          0,
          1
         ],
         "title": {
          "text": "Age"
         }
        },
        "yaxis": {
         "anchor": "x",
         "domain": [
          0,
          1
         ],
         "title": {
          "text": "count"
         }
        }
       }
      }
     },
     "metadata": {},
     "output_type": "display_data"
    }
   ],
   "source": [
    "hist1 = px.histogram(dados, x='Age',nbins=60)\n",
    "hist1.update_layout(width=800,height=500,title_text=\"Distribuição das idades\")\n",
    "hist1.show()"
   ]
  },
  {
   "cell_type": "code",
   "execution_count": 8,
   "metadata": {},
   "outputs": [
    {
     "data": {
      "text/plain": [
       "<Axes: xlabel='Age', ylabel='Count'>"
      ]
     },
     "execution_count": 8,
     "metadata": {},
     "output_type": "execute_result"
    },
    {
     "data": {
      "image/png": "[encoded data removed]",
      "text/plain": [
       "<Figure size 640x480 with 1 Axes>"
      ]
     },
     "metadata": {},
     "output_type": "display_data"
    }
   ],
   "source": [
    "import seaborn as sns\n",
    "\n",
    "sns.histplot(dados,x='Age',bins=30,color=\"orange\",kde=True,stat=\"count\")"
   ]
  },
  {
   "cell_type": "code",
   "execution_count": 9,
   "metadata": {},
   "outputs": [
    {
     "data": {
      "text/plain": [
       "M    725\n",
       "F    193\n",
       "Name: Sex, dtype: int64"
      ]
     },
     "execution_count": 9,
     "metadata": {},
     "output_type": "execute_result"
    }
   ],
   "source": [
    "dados['Sex'].value_counts()"
   ]
  },
  {
   "cell_type": "code",
   "execution_count": 10,
   "metadata": {},
   "outputs": [
    {
     "data": {
      "text/plain": [
       "<Axes: xlabel='Sex', ylabel='count'>"
      ]
     },
     "execution_count": 10,
     "metadata": {},
     "output_type": "execute_result"
    },
    {
     "data": {
      "image/png": "[encoded data removed]",
      "text/plain": [
       "<Figure size 640x480 with 1 Axes>"
      ]
     },
     "metadata": {},
     "output_type": "display_data"
    }
   ],
   "source": [
    "sns.countplot(x='Sex',data=dados,color=\"orange\")"
   ]
  },
  {
   "cell_type": "code",
   "execution_count": 11,
   "metadata": {},
   "outputs": [
    {
     "data": {
      "text/plain": [
       "ASY    496\n",
       "ATA    173\n",
       "NAP    203\n",
       "TA      46\n",
       "Name: ChestPainType, dtype: int64"
      ]
     },
     "execution_count": 11,
     "metadata": {},
     "output_type": "execute_result"
    }
   ],
   "source": [
    "# Dor no peito\n",
    "\n",
    "dados['ChestPainType'].value_counts().sort_index()"
   ]
  },
  {
   "cell_type": "code",
   "execution_count": 12,
   "metadata": {},
   "outputs": [
    {
     "data": {
      "text/plain": [
       "<Axes: xlabel='ChestPainType', ylabel='count'>"
      ]
     },
     "execution_count": 12,
     "metadata": {},
     "output_type": "execute_result"
    },
    {
     "data": {
      "image/png": "[encoded data removed]",
      "text/plain": [
       "<Figure size 640x480 with 1 Axes>"
      ]
     },
     "metadata": {},
     "output_type": "display_data"
    }
   ],
   "source": [
    "sns.countplot(x=\"ChestPainType\",data=dados,color=\"orange\")"
   ]
  },
  {
   "cell_type": "code",
   "execution_count": 13,
   "metadata": {},
   "outputs": [
    {
     "data": {
      "text/plain": [
       "0      172\n",
       "85       1\n",
       "100      2\n",
       "110      1\n",
       "113      1\n",
       "      ... \n",
       "491      1\n",
       "518      1\n",
       "529      1\n",
       "564      1\n",
       "603      1\n",
       "Name: Cholesterol, Length: 222, dtype: int64"
      ]
     },
     "execution_count": 13,
     "metadata": {},
     "output_type": "execute_result"
    }
   ],
   "source": [
    "# Análise do Colestorol\n",
    "\n",
    "dados[\"Cholesterol\"].value_counts().sort_index()"
   ]
  },
  {
   "cell_type": "code",
   "execution_count": 14,
   "metadata": {},
   "outputs": [
    {
     "data": {
      "text/plain": [
       "<Axes: xlabel='Cholesterol', ylabel='Count'>"
      ]
     },
     "execution_count": 14,
     "metadata": {},
     "output_type": "execute_result"
    },
    {
     "data": {
      "image/png": "[encoded data removed]",
      "text/plain": [
       "<Figure size 640x480 with 1 Axes>"
      ]
     },
     "metadata": {},
     "output_type": "display_data"
    }
   ],
   "source": [
    "sns.histplot(x=\"Cholesterol\",bins=30,color=\"orange\",data=dados,kde=True,stat=\"count\")"
   ]
  },
  {
   "cell_type": "code",
   "execution_count": 15,
   "metadata": {},
   "outputs": [
    {
     "data": {
      "text/plain": [
       "0       1\n",
       "80      1\n",
       "92      1\n",
       "94      2\n",
       "95      6\n",
       "       ..\n",
       "180    12\n",
       "185     1\n",
       "190     2\n",
       "192     1\n",
       "200     4\n",
       "Name: RestingBP, Length: 67, dtype: int64"
      ]
     },
     "execution_count": 15,
     "metadata": {},
     "output_type": "execute_result"
    }
   ],
   "source": [
    "# Blood pressure, pressão sanguinea em repouso em\n",
    "\n",
    "dados[\"RestingBP\"].value_counts().sort_index()"
   ]
  },
  {
   "cell_type": "code",
   "execution_count": 16,
   "metadata": {},
   "outputs": [
    {
     "data": {
      "text/plain": [
       "<Axes: xlabel='RestingBP', ylabel='Count'>"
      ]
     },
     "execution_count": 16,
     "metadata": {},
     "output_type": "execute_result"
    },
    {
     "data": {
      "image/png": "[encoded data removed]",
      "text/plain": [
       "<Figure size 640x480 with 1 Axes>"
      ]
     },
     "metadata": {},
     "output_type": "display_data"
    }
   ],
   "source": [
    "sns.histplot(data=dados,x=\"RestingBP\",bins=30,color=\"orange\",kde=True,stat=\"count\")"
   ]
  },
  {
   "cell_type": "code",
   "execution_count": 17,
   "metadata": {},
   "outputs": [
    {
     "data": {
      "text/plain": [
       "0    704\n",
       "1    214\n",
       "Name: FastingBS, dtype: int64"
      ]
     },
     "execution_count": 17,
     "metadata": {},
     "output_type": "execute_result"
    }
   ],
   "source": [
    "#Fasting BS (blood sugar)\n",
    "\n",
    "dados['FastingBS'].value_counts()"
   ]
  },
  {
   "cell_type": "code",
   "execution_count": 18,
   "metadata": {},
   "outputs": [
    {
     "data": {
      "text/plain": [
       "<Axes: xlabel='FastingBS', ylabel='count'>"
      ]
     },
     "execution_count": 18,
     "metadata": {},
     "output_type": "execute_result"
    },
    {
     "data": {
      "image/png": "[encoded data removed]",
      "text/plain": [
       "<Figure size 640x480 with 1 Axes>"
      ]
     },
     "metadata": {},
     "output_type": "display_data"
    }
   ],
   "source": [
    "sns.countplot(x=\"FastingBS\",data=dados)"
   ]
  },
  {
   "cell_type": "code",
   "execution_count": 19,
   "metadata": {},
   "outputs": [
    {
     "data": {
      "text/plain": [
       "Normal    552\n",
       "LVH       188\n",
       "ST        178\n",
       "Name: RestingECG, dtype: int64"
      ]
     },
     "execution_count": 19,
     "metadata": {},
     "output_type": "execute_result"
    }
   ],
   "source": [
    "# Resting ECG = eletrocardiograma em repouso\n",
    "\n",
    "dados[\"RestingECG\"].value_counts()"
   ]
  },
  {
   "cell_type": "code",
   "execution_count": 20,
   "metadata": {},
   "outputs": [
    {
     "data": {
      "text/plain": [
       "<Axes: xlabel='RestingECG', ylabel='count'>"
      ]
     },
     "execution_count": 20,
     "metadata": {},
     "output_type": "execute_result"
    },
    {
     "data": {
      "image/png": "[encoded data removed]",
      "text/plain": [
       "<Figure size 640x480 with 1 Axes>"
      ]
     },
     "metadata": {},
     "output_type": "display_data"
    }
   ],
   "source": [
    "sns.countplot(x=\"RestingECG\",legend=\"auto\",data=dados)"
   ]
  },
  {
   "cell_type": "code",
   "execution_count": 21,
   "metadata": {},
   "outputs": [
    {
     "data": {
      "text/plain": [
       "60     1\n",
       "63     1\n",
       "67     1\n",
       "69     1\n",
       "70     1\n",
       "      ..\n",
       "190    2\n",
       "192    1\n",
       "194    1\n",
       "195    1\n",
       "202    1\n",
       "Name: MaxHR, Length: 119, dtype: int64"
      ]
     },
     "execution_count": 21,
     "metadata": {},
     "output_type": "execute_result"
    }
   ],
   "source": [
    "# MAX HR (heart rate)\n",
    "\n",
    "dados[\"MaxHR\"].value_counts().sort_index()"
   ]
  },
  {
   "cell_type": "code",
   "execution_count": 22,
   "metadata": {},
   "outputs": [
    {
     "data": {
      "text/plain": [
       "<Axes: xlabel='MaxHR', ylabel='Count'>"
      ]
     },
     "execution_count": 22,
     "metadata": {},
     "output_type": "execute_result"
    },
    {
     "data": {
      "image/png": "[encoded data removed]",
      "text/plain": [
       "<Figure size 640x480 with 1 Axes>"
      ]
     },
     "metadata": {},
     "output_type": "display_data"
    }
   ],
   "source": [
    "sns.histplot(dados,x=\"MaxHR\",bins=30,color=\"orange\",kde=True,stat=\"count\")"
   ]
  },
  {
   "cell_type": "code",
   "execution_count": 23,
   "metadata": {},
   "outputs": [
    {
     "data": {
      "text/plain": [
       "N    547\n",
       "Y    371\n",
       "Name: ExerciseAngina, dtype: int64"
      ]
     },
     "execution_count": 23,
     "metadata": {},
     "output_type": "execute_result"
    }
   ],
   "source": [
    "# Exercise Angima = Angima induzida por exercicio\n",
    "\n",
    "dados['ExerciseAngina'].value_counts().sort_index()"
   ]
  },
  {
   "cell_type": "code",
   "execution_count": 24,
   "metadata": {},
   "outputs": [
    {
     "data": {
      "application/vnd.plotly.v1+json": {
       "config": {
        "plotlyServerURL": "https://plot.ly"
       },
       "data": [
        {
         "domain": {
          "x": [
           0,
           1
          ],
          "y": [
           0,
           1
          ]
         },
         "hovertemplate": "ExerciseAngina=%{label}<extra></extra>",
         "labels": [
          "N",
          "N",
          "N",
          "Y",
          "N",
          "N",
          "N",
          "N",
          "Y",
          "N",
          "N",
          "Y",
          "N",
          "Y",
          "N",
          "N",
          "N",
          "N",
          "N",
          "N",
          "N",
          "N",
          "N",
          "Y",
          "N",
          "N",
          "Y",
          "N",
          "N",
          "N",
          "N",
          "N",
          "N",
          "N",
          "N",
          "N",
          "Y",
          "N",
          "N",
          "Y",
          "N",
          "Y",
          "N",
          "N",
          "Y",
          "Y",
          "N",
          "N",
          "N",
          "N",
          "Y",
          "Y",
          "N",
          "N",
          "Y",
          "N",
          "Y",
          "N",
          "N",
          "Y",
          "N",
          "N",
          "N",
          "Y",
          "N",
          "N",
          "N",
          "N",
          "Y",
          "N",
          "Y",
          "N",
          "N",
          "N",
          "Y",
          "N",
          "N",
          "N",
          "Y",
          "N",
          "N",
          "N",
          "N",
          "N",
          "Y",
          "Y",
          "Y",
          "Y",
          "N",
          "Y",
          "N",
          "N",
          "N",
          "Y",
          "N",
          "Y",
          "N",
          "N",
          "N",
          "N",
          "Y",
          "N",
          "N",
          "Y",
          "N",
          "N",
          "N",
          "N",
          "N",
          "N",
          "N",
          "Y",
          "Y",
          "N",
          "N",
          "Y",
          "N",
          "Y",
          "N",
          "N",
          "N",
          "N",
          "N",
          "Y",
          "N",
          "N",
          "N",
          "N",
          "N",
          "Y",
          "N",
          "Y",
          "Y",
          "Y",
          "Y",
          "N",
          "N",
          "N",
          "Y",
          "Y",
          "Y",
          "Y",
          "Y",
          "N",
          "N",
          "N",
          "N",
          "N",
          "N",
          "Y",
          "N",
          "N",
          "N",
          "N",
          "N",
          "Y",
          "Y",
          "N",
          "Y",
          "N",
          "Y",
          "Y",
          "N",
          "N",
          "N",
          "N",
          "Y",
          "N",
          "N",
          "N",
          "N",
          "N",
          "N",
          "N",
          "Y",
          "Y",
          "N",
          "N",
          "N",
          "N",
          "Y",
          "N",
          "Y",
          "Y",
          "N",
          "N",
          "N",
          "Y",
          "Y",
          "Y",
          "N",
          "N",
          "N",
          "N",
          "N",
          "N",
          "N",
          "N",
          "Y",
          "N",
          "N",
          "N",
          "N",
          "N",
          "N",
          "Y",
          "N",
          "N",
          "N",
          "N",
          "N",
          "Y",
          "Y",
          "N",
          "Y",
          "N",
          "N",
          "N",
          "N",
          "N",
          "N",
          "Y",
          "N",
          "N",
          "N",
          "N",
          "N",
          "Y",
          "N",
          "N",
          "N",
          "N",
          "N",
          "N",
          "N",
          "Y",
          "Y",
          "N",
          "Y",
          "Y",
          "N",
          "Y",
          "Y",
          "N",
          "Y",
          "N",
          "Y",
          "Y",
          "Y",
          "Y",
          "N",
          "N",
          "Y",
          "N",
          "Y",
          "N",
          "N",
          "N",
          "N",
          "N",
          "Y",
          "N",
          "Y",
          "N",
          "Y",
          "N",
          "Y",
          "N",
          "Y",
          "N",
          "N",
          "N",
          "Y",
          "N",
          "N",
          "N",
          "N",
          "Y",
          "Y",
          "N",
          "N",
          "N",
          "Y",
          "N",
          "N",
          "N",
          "N",
          "N",
          "N",
          "N",
          "N",
          "N",
          "N",
          "Y",
          "N",
          "Y",
          "Y",
          "Y",
          "N",
          "N",
          "N",
          "N",
          "N",
          "Y",
          "N",
          "Y",
          "N",
          "N",
          "N",
          "N",
          "N",
          "N",
          "N",
          "N",
          "Y",
          "N",
          "N",
          "Y",
          "N",
          "N",
          "N",
          "N",
          "N",
          "Y",
          "N",
          "Y",
          "N",
          "Y",
          "Y",
          "Y",
          "N",
          "N",
          "N",
          "N",
          "N",
          "N",
          "N",
          "N",
          "N",
          "N",
          "N",
          "Y",
          "N",
          "N",
          "N",
          "N",
          "N",
          "N",
          "Y",
          "Y",
          "N",
          "Y",
          "Y",
          "Y",
          "N",
          "N",
          "Y",
          "N",
          "Y",
          "N",
          "Y",
          "Y",
          "N",
          "N",
          "N",
          "Y",
          "Y",
          "Y",
          "Y",
          "Y",
          "Y",
          "Y",
          "Y",
          "Y",
          "Y",
          "N",
          "Y",
          "N",
          "Y",
          "Y",
          "Y",
          "Y",
          "Y",
          "N",
          "N",
          "Y",
          "Y",
          "Y",
          "N",
          "N",
          "N",
          "Y",
          "N",
          "Y",
          "Y",
          "N",
          "N",
          "Y",
          "Y",
          "N",
          "N",
          "N",
          "N",
          "Y",
          "Y",
          "Y",
          "Y",
          "Y",
          "N",
          "Y",
          "N",
          "N",
          "Y",
          "N",
          "Y",
          "N",
          "Y",
          "N",
          "Y",
          "Y",
          "Y",
          "N",
          "Y",
          "Y",
          "Y",
          "N",
          "N",
          "Y",
          "Y",
          "Y",
          "Y",
          "N",
          "Y",
          "Y",
          "N",
          "Y",
          "N",
          "N",
          "Y",
          "N",
          "N",
          "N",
          "Y",
          "Y",
          "Y",
          "Y",
          "Y",
          "Y",
          "Y",
          "N",
          "Y",
          "Y",
          "Y",
          "Y",
          "Y",
          "Y",
          "Y",
          "N",
          "N",
          "N",
          "Y",
          "Y",
          "Y",
          "N",
          "Y",
          "N",
          "Y",
          "N",
          "Y",
          "N",
          "N",
          "Y",
          "Y",
          "Y",
          "N",
          "Y",
          "N",
          "Y",
          "Y",
          "Y",
          "Y",
          "N",
          "N",
          "Y",
          "Y",
          "Y",
          "N",
          "Y",
          "N",
          "Y",
          "Y",
          "N",
          "N",
          "Y",
          "Y",
          "Y",
          "N",
          "Y",
          "Y",
          "Y",
          "Y",
          "Y",
          "Y",
          "N",
          "Y",
          "Y",
          "Y",
          "Y",
          "N",
          "N",
          "N",
          "Y",
          "N",
          "Y",
          "N",
          "N",
          "N",
          "Y",
          "Y",
          "Y",
          "N",
          "Y",
          "Y",
          "Y",
          "N",
          "N",
          "Y",
          "N",
          "Y",
          "Y",
          "Y",
          "Y",
          "N",
          "Y",
          "Y",
          "Y",
          "Y",
          "Y",
          "Y",
          "N",
          "Y",
          "N",
          "Y",
          "Y",
          "Y",
          "N",
          "N",
          "N",
          "N",
          "N",
          "N",
          "N",
          "Y",
          "Y",
          "N",
          "Y",
          "Y",
          "Y",
          "Y",
          "Y",
          "N",
          "N",
          "Y",
          "Y",
          "Y",
          "Y",
          "Y",
          "Y",
          "Y",
          "Y",
          "Y",
          "Y",
          "Y",
          "N",
          "Y",
          "Y",
          "Y",
          "Y",
          "Y",
          "Y",
          "Y",
          "Y",
          "Y",
          "N",
          "Y",
          "N",
          "Y",
          "N",
          "Y",
          "N",
          "N",
          "N",
          "Y",
          "N",
          "Y",
          "Y",
          "N",
          "N",
          "Y",
          "N",
          "Y",
          "Y",
          "Y",
          "Y",
          "Y",
          "N",
          "Y",
          "Y",
          "Y",
          "N",
          "N",
          "N",
          "N",
          "N",
          "Y",
          "N",
          "N",
          "N",
          "Y",
          "Y",
          "N",
          "Y",
          "Y",
          "N",
          "N",
          "N",
          "Y",
          "N",
          "N",
          "N",
          "N",
          "Y",
          "Y",
          "Y",
          "Y",
          "Y",
          "N",
          "N",
          "N",
          "Y",
          "N",
          "Y",
          "N",
          "N",
          "N",
          "N",
          "N",
          "N",
          "Y",
          "Y",
          "Y",
          "Y",
          "N",
          "N",
          "N",
          "N",
          "N",
          "Y",
          "N",
          "N",
          "N",
          "N",
          "N",
          "Y",
          "N",
          "Y",
          "N",
          "N",
          "N",
          "N",
          "N",
          "Y",
          "N",
          "Y",
          "N",
          "N",
          "Y",
          "N",
          "N",
          "N",
          "Y",
          "Y",
          "N",
          "N",
          "N",
          "Y",
          "Y",
          "N",
          "N",
          "N",
          "Y",
          "Y",
          "N",
          "N",
          "N",
          "N",
          "Y",
          "Y",
          "N",
          "Y",
          "N",
          "N",
          "N",
          "N",
          "N",
          "Y",
          "N",
          "Y",
          "Y",
          "N",
          "Y",
          "N",
          "N",
          "N",
          "N",
          "N",
          "N",
          "N",
          "N",
          "N",
          "N",
          "Y",
          "N",
          "Y",
          "N",
          "Y",
          "N",
          "N",
          "N",
          "N",
          "N",
          "N",
          "Y",
          "N",
          "Y",
          "N",
          "Y",
          "Y",
          "N",
          "N",
          "N",
          "Y",
          "N",
          "N",
          "Y",
          "Y",
          "Y",
          "N",
          "Y",
          "N",
          "Y",
          "N",
          "Y",
          "N",
          "Y",
          "N",
          "N",
          "N",
          "Y",
          "N",
          "Y",
          "N",
          "Y",
          "N",
          "Y",
          "N",
          "N",
          "N",
          "N",
          "N",
          "N",
          "Y",
          "N",
          "N",
          "Y",
          "Y",
          "Y",
          "N",
          "Y",
          "N",
          "Y",
          "N",
          "N",
          "Y",
          "N",
          "N",
          "N",
          "Y",
          "N",
          "N",
          "N",
          "Y",
          "N",
          "N",
          "N",
          "N",
          "Y",
          "N",
          "N",
          "N",
          "N",
          "Y",
          "N",
          "N",
          "Y",
          "N",
          "Y",
          "N",
          "Y",
          "N",
          "N",
          "N",
          "N",
          "N",
          "Y",
          "N",
          "N",
          "Y",
          "Y",
          "Y",
          "N",
          "N",
          "Y",
          "Y",
          "N",
          "N",
          "N",
          "N",
          "Y",
          "N",
          "N",
          "N",
          "Y",
          "N",
          "N",
          "Y",
          "N",
          "N",
          "Y",
          "N",
          "N",
          "N",
          "Y",
          "N",
          "N",
          "Y",
          "N",
          "N",
          "Y",
          "N",
          "N",
          "N",
          "Y",
          "N",
          "N",
          "Y",
          "N",
          "N",
          "N",
          "N",
          "Y",
          "N",
          "N",
          "N",
          "Y",
          "N",
          "N",
          "N",
          "N",
          "N",
          "N",
          "Y",
          "Y",
          "N",
          "N",
          "N",
          "Y",
          "N",
          "N",
          "N",
          "N",
          "N",
          "N",
          "N",
          "Y",
          "N",
          "N",
          "Y",
          "Y",
          "N",
          "N",
          "N",
          "N",
          "N",
          "N",
          "Y",
          "N",
          "Y",
          "N",
          "N",
          "N",
          "Y",
          "N",
          "N",
          "N",
          "N",
          "N",
          "Y",
          "Y",
          "Y",
          "N",
          "N",
          "Y",
          "N",
          "N",
          "Y",
          "N",
          "N"
         ],
         "legendgroup": "",
         "name": "",
         "showlegend": true,
         "type": "pie"
        }
       ],
       "layout": {
        "legend": {
         "tracegroupgap": 0
        },
        "margin": {
         "t": 60
        },
        "template": {
         "data": {
          "bar": [
           {
            "error_x": {
             "color": "#2a3f5f"
            },
            "error_y": {
             "color": "#2a3f5f"
            },
            "marker": {
             "line": {
              "color": "#E5ECF6",
              "width": 0.5
             },
             "pattern": {
              "fillmode": "overlay",
              "size": 10,
              "solidity": 0.2
             }
            },
            "type": "bar"
           }
          ],
          "barpolar": [
           {
            "marker": {
             "line": {
              "color": "#E5ECF6",
              "width": 0.5
             },
             "pattern": {
              "fillmode": "overlay",
              "size": 10,
              "solidity": 0.2
             }
            },
            "type": "barpolar"
           }
          ],
          "carpet": [
           {
            "aaxis": {
             "endlinecolor": "#2a3f5f",
             "gridcolor": "white",
             "linecolor": "white",
             "minorgridcolor": "white",
             "startlinecolor": "#2a3f5f"
            },
            "baxis": {
             "endlinecolor": "#2a3f5f",
             "gridcolor": "white",
             "linecolor": "white",
             "minorgridcolor": "white",
             "startlinecolor": "#2a3f5f"
            },
            "type": "carpet"
           }
          ],
          "choropleth": [
           {
            "colorbar": {
             "outlinewidth": 0,
             "ticks": ""
            },
            "type": "choropleth"
           }
          ],
          "contour": [
           {
            "colorbar": {
             "outlinewidth": 0,
             "ticks": ""
            },
            "colorscale": [
             [
              0,
              "#0d0887"
             ],
             [
              0.1111111111111111,
              "#46039f"
             ],
             [
              0.2222222222222222,
              "#7201a8"
             ],
             [
              0.3333333333333333,
              "#9c179e"
             ],
             [
              0.4444444444444444,
              "#bd3786"
             ],
             [
              0.5555555555555556,
              "#d8576b"
             ],
             [
              0.6666666666666666,
              "#ed7953"
             ],
             [
              0.7777777777777778,
              "#fb9f3a"
             ],
             [
              0.8888888888888888,
              "#fdca26"
             ],
             [
              1,
              "#f0f921"
             ]
            ],
            "type": "contour"
           }
          ],
          "contourcarpet": [
           {
            "colorbar": {
             "outlinewidth": 0,
             "ticks": ""
            },
            "type": "contourcarpet"
           }
          ],
          "heatmap": [
           {
            "colorbar": {
             "outlinewidth": 0,
             "ticks": ""
            },
            "colorscale": [
             [
              0,
              "#0d0887"
             ],
             [
              0.1111111111111111,
              "#46039f"
             ],
             [
              0.2222222222222222,
              "#7201a8"
             ],
             [
              0.3333333333333333,
              "#9c179e"
             ],
             [
              0.4444444444444444,
              "#bd3786"
             ],
             [
              0.5555555555555556,
              "#d8576b"
             ],
             [
              0.6666666666666666,
              "#ed7953"
             ],
             [
              0.7777777777777778,
              "#fb9f3a"
             ],
             [
              0.8888888888888888,
              "#fdca26"
             ],
             [
              1,
              "#f0f921"
             ]
            ],
            "type": "heatmap"
           }
          ],
          "heatmapgl": [
           {
            "colorbar": {
             "outlinewidth": 0,
             "ticks": ""
            },
            "colorscale": [
             [
              0,
              "#0d0887"
             ],
             [
              0.1111111111111111,
              "#46039f"
             ],
             [
              0.2222222222222222,
              "#7201a8"
             ],
             [
              0.3333333333333333,
              "#9c179e"
             ],
             [
              0.4444444444444444,
              "#bd3786"
             ],
             [
              0.5555555555555556,
              "#d8576b"
             ],
             [
              0.6666666666666666,
              "#ed7953"
             ],
             [
              0.7777777777777778,
              "#fb9f3a"
             ],
             [
              0.8888888888888888,
              "#fdca26"
             ],
             [
              1,
              "#f0f921"
             ]
            ],
            "type": "heatmapgl"
           }
          ],
          "histogram": [
           {
            "marker": {
             "pattern": {
              "fillmode": "overlay",
              "size": 10,
              "solidity": 0.2
             }
            },
            "type": "histogram"
           }
          ],
          "histogram2d": [
           {
            "colorbar": {
             "outlinewidth": 0,
             "ticks": ""
            },
            "colorscale": [
             [
              0,
              "#0d0887"
             ],
             [
              0.1111111111111111,
              "#46039f"
             ],
             [
              0.2222222222222222,
              "#7201a8"
             ],
             [
              0.3333333333333333,
              "#9c179e"
             ],
             [
              0.4444444444444444,
              "#bd3786"
             ],
             [
              0.5555555555555556,
              "#d8576b"
             ],
             [
              0.6666666666666666,
              "#ed7953"
             ],
             [
              0.7777777777777778,
              "#fb9f3a"
             ],
             [
              0.8888888888888888,
              "#fdca26"
             ],
             [
              1,
              "#f0f921"
             ]
            ],
            "type": "histogram2d"
           }
          ],
          "histogram2dcontour": [
           {
            "colorbar": {
             "outlinewidth": 0,
             "ticks": ""
            },
            "colorscale": [
             [
              0,
              "#0d0887"
             ],
             [
              0.1111111111111111,
              "#46039f"
             ],
             [
              0.2222222222222222,
              "#7201a8"
             ],
             [
              0.3333333333333333,
              "#9c179e"
             ],
             [
              0.4444444444444444,
              "#bd3786"
             ],
             [
              0.5555555555555556,
              "#d8576b"
             ],
             [
              0.6666666666666666,
              "#ed7953"
             ],
             [
              0.7777777777777778,
              "#fb9f3a"
             ],
             [
              0.8888888888888888,
              "#fdca26"
             ],
             [
              1,
              "#f0f921"
             ]
            ],
            "type": "histogram2dcontour"
           }
          ],
          "mesh3d": [
           {
            "colorbar": {
             "outlinewidth": 0,
             "ticks": ""
            },
            "type": "mesh3d"
           }
          ],
          "parcoords": [
           {
            "line": {
             "colorbar": {
              "outlinewidth": 0,
              "ticks": ""
             }
            },
            "type": "parcoords"
           }
          ],
          "pie": [
           {
            "automargin": true,
            "type": "pie"
           }
          ],
          "scatter": [
           {
            "fillpattern": {
             "fillmode": "overlay",
             "size": 10,
             "solidity": 0.2
            },
            "type": "scatter"
           }
          ],
          "scatter3d": [
           {
            "line": {
             "colorbar": {
              "outlinewidth": 0,
              "ticks": ""
             }
            },
            "marker": {
             "colorbar": {
              "outlinewidth": 0,
              "ticks": ""
             }
            },
            "type": "scatter3d"
           }
          ],
          "scattercarpet": [
           {
            "marker": {
             "colorbar": {
              "outlinewidth": 0,
              "ticks": ""
             }
            },
            "type": "scattercarpet"
           }
          ],
          "scattergeo": [
           {
            "marker": {
             "colorbar": {
              "outlinewidth": 0,
              "ticks": ""
             }
            },
            "type": "scattergeo"
           }
          ],
          "scattergl": [
           {
            "marker": {
             "colorbar": {
              "outlinewidth": 0,
              "ticks": ""
             }
            },
            "type": "scattergl"
           }
          ],
          "scattermapbox": [
           {
            "marker": {
             "colorbar": {
              "outlinewidth": 0,
              "ticks": ""
             }
            },
            "type": "scattermapbox"
           }
          ],
          "scatterpolar": [
           {
            "marker": {
             "colorbar": {
              "outlinewidth": 0,
              "ticks": ""
             }
            },
            "type": "scatterpolar"
           }
          ],
          "scatterpolargl": [
           {
            "marker": {
             "colorbar": {
              "outlinewidth": 0,
              "ticks": ""
             }
            },
            "type": "scatterpolargl"
           }
          ],
          "scatterternary": [
           {
            "marker": {
             "colorbar": {
              "outlinewidth": 0,
              "ticks": ""
             }
            },
            "type": "scatterternary"
           }
          ],
          "surface": [
           {
            "colorbar": {
             "outlinewidth": 0,
             "ticks": ""
            },
            "colorscale": [
             [
              0,
              "#0d0887"
             ],
             [
              0.1111111111111111,
              "#46039f"
             ],
             [
              0.2222222222222222,
              "#7201a8"
             ],
             [
              0.3333333333333333,
              "#9c179e"
             ],
             [
              0.4444444444444444,
              "#bd3786"
             ],
             [
              0.5555555555555556,
              "#d8576b"
             ],
             [
              0.6666666666666666,
              "#ed7953"
             ],
             [
              0.7777777777777778,
              "#fb9f3a"
             ],
             [
              0.8888888888888888,
              "#fdca26"
             ],
             [
              1,
              "#f0f921"
             ]
            ],
            "type": "surface"
           }
          ],
          "table": [
           {
            "cells": {
             "fill": {
              "color": "#EBF0F8"
             },
             "line": {
              "color": "white"
             }
            },
            "header": {
             "fill": {
              "color": "#C8D4E3"
             },
             "line": {
              "color": "white"
             }
            },
            "type": "table"
           }
          ]
         },
         "layout": {
          "annotationdefaults": {
           "arrowcolor": "#2a3f5f",
           "arrowhead": 0,
           "arrowwidth": 1
          },
          "autotypenumbers": "strict",
          "coloraxis": {
           "colorbar": {
            "outlinewidth": 0,
            "ticks": ""
           }
          },
          "colorscale": {
           "diverging": [
            [
             0,
             "#8e0152"
            ],
            [
             0.1,
             "#c51b7d"
            ],
            [
             0.2,
             "#de77ae"
            ],
            [
             0.3,
             "#f1b6da"
            ],
            [
             0.4,
             "#fde0ef"
            ],
            [
             0.5,
             "#f7f7f7"
            ],
            [
             0.6,
             "#e6f5d0"
            ],
            [
             0.7,
             "#b8e186"
            ],
            [
             0.8,
             "#7fbc41"
            ],
            [
             0.9,
             "#4d9221"
            ],
            [
             1,
             "#276419"
            ]
           ],
           "sequential": [
            [
             0,
             "#0d0887"
            ],
            [
             0.1111111111111111,
             "#46039f"
            ],
            [
             0.2222222222222222,
             "#7201a8"
            ],
            [
             0.3333333333333333,
             "#9c179e"
            ],
            [
             0.4444444444444444,
             "#bd3786"
            ],
            [
             0.5555555555555556,
             "#d8576b"
            ],
            [
             0.6666666666666666,
             "#ed7953"
            ],
            [
             0.7777777777777778,
             "#fb9f3a"
            ],
            [
             0.8888888888888888,
             "#fdca26"
            ],
            [
             1,
             "#f0f921"
            ]
           ],
           "sequentialminus": [
            [
             0,
             "#0d0887"
            ],
            [
             0.1111111111111111,
             "#46039f"
            ],
            [
             0.2222222222222222,
             "#7201a8"
            ],
            [
             0.3333333333333333,
             "#9c179e"
            ],
            [
             0.4444444444444444,
             "#bd3786"
            ],
            [
             0.5555555555555556,
             "#d8576b"
            ],
            [
             0.6666666666666666,
             "#ed7953"
            ],
            [
             0.7777777777777778,
             "#fb9f3a"
            ],
            [
             0.8888888888888888,
             "#fdca26"
            ],
            [
             1,
             "#f0f921"
            ]
           ]
          },
          "colorway": [
           "#636efa",
           "#EF553B",
           "#00cc96",
           "#ab63fa",
           "#FFA15A",
           "#19d3f3",
           "#FF6692",
           "#B6E880",
           "#FF97FF",
           "#FECB52"
          ],
          "font": {
           "color": "#2a3f5f"
          },
          "geo": {
           "bgcolor": "white",
           "lakecolor": "white",
           "landcolor": "#E5ECF6",
           "showlakes": true,
           "showland": true,
           "subunitcolor": "white"
          },
          "hoverlabel": {
           "align": "left"
          },
          "hovermode": "closest",
          "mapbox": {
           "style": "light"
          },
          "paper_bgcolor": "white",
          "plot_bgcolor": "#E5ECF6",
          "polar": {
           "angularaxis": {
            "gridcolor": "white",
            "linecolor": "white",
            "ticks": ""
           },
           "bgcolor": "#E5ECF6",
           "radialaxis": {
            "gridcolor": "white",
            "linecolor": "white",
            "ticks": ""
           }
          },
          "scene": {
           "xaxis": {
            "backgroundcolor": "#E5ECF6",
            "gridcolor": "white",
            "gridwidth": 2,
            "linecolor": "white",
            "showbackground": true,
            "ticks": "",
            "zerolinecolor": "white"
           },
           "yaxis": {
            "backgroundcolor": "#E5ECF6",
            "gridcolor": "white",
            "gridwidth": 2,
            "linecolor": "white",
            "showbackground": true,
            "ticks": "",
            "zerolinecolor": "white"
           },
           "zaxis": {
            "backgroundcolor": "#E5ECF6",
            "gridcolor": "white",
            "gridwidth": 2,
            "linecolor": "white",
            "showbackground": true,
            "ticks": "",
            "zerolinecolor": "white"
           }
          },
          "shapedefaults": {
           "line": {
            "color": "#2a3f5f"
           }
          },
          "ternary": {
           "aaxis": {
            "gridcolor": "white",
            "linecolor": "white",
            "ticks": ""
           },
           "baxis": {
            "gridcolor": "white",
            "linecolor": "white",
            "ticks": ""
           },
           "bgcolor": "#E5ECF6",
           "caxis": {
            "gridcolor": "white",
            "linecolor": "white",
            "ticks": ""
           }
          },
          "title": {
           "x": 0.05
          },
          "xaxis": {
           "automargin": true,
           "gridcolor": "white",
           "linecolor": "white",
           "ticks": "",
           "title": {
            "standoff": 15
           },
           "zerolinecolor": "white",
           "zerolinewidth": 2
          },
          "yaxis": {
           "automargin": true,
           "gridcolor": "white",
           "linecolor": "white",
           "ticks": "",
           "title": {
            "standoff": 15
           },
           "zerolinecolor": "white",
           "zerolinewidth": 2
          }
         }
        }
       }
      }
     },
     "metadata": {},
     "output_type": "display_data"
    }
   ],
   "source": [
    "px.pie(dados,\"ExerciseAngina\")"
   ]
  },
  {
   "cell_type": "code",
   "execution_count": 25,
   "metadata": {},
   "outputs": [
    {
     "data": {
      "text/plain": [
       " 0.0    368\n",
       " 1.0     86\n",
       " 2.0     76\n",
       " 1.5     53\n",
       " 3.0     28\n",
       " 1.2     26\n",
       " 0.2     22\n",
       " 0.5     19\n",
       " 1.4     18\n",
       " 1.8     17\n",
       " 2.5     16\n",
       " 0.8     16\n",
       " 1.6     16\n",
       " 0.1     14\n",
       " 0.6     14\n",
       " 0.4     11\n",
       " 0.3     11\n",
       " 4.0      8\n",
       " 0.7      7\n",
       " 2.8      7\n",
       " 1.9      7\n",
       " 1.3      7\n",
       " 2.6      7\n",
       " 1.1      7\n",
       " 1.7      6\n",
       " 2.2      5\n",
       " 0.9      4\n",
       " 2.4      4\n",
       " 3.6      4\n",
       " 3.4      3\n",
       " 4.2      2\n",
       " 3.5      2\n",
       "-0.5      2\n",
       " 2.3      2\n",
       " 3.2      2\n",
       " 2.1      2\n",
       "-1.0      2\n",
       "-0.1      2\n",
       " 5.6      1\n",
       " 2.9      1\n",
       " 6.2      1\n",
       " 3.8      1\n",
       "-1.5      1\n",
       " 3.1      1\n",
       "-2.0      1\n",
       " 3.7      1\n",
       "-0.8      1\n",
       "-0.7      1\n",
       "-1.1      1\n",
       "-2.6      1\n",
       "-0.9      1\n",
       " 5.0      1\n",
       " 4.4      1\n",
       "Name: Oldpeak, dtype: int64"
      ]
     },
     "execution_count": 25,
     "metadata": {},
     "output_type": "execute_result"
    }
   ],
   "source": [
    "# Análise do Old peak\n",
    "\n",
    "dados[\"Oldpeak\"].value_counts()"
   ]
  },
  {
   "cell_type": "code",
   "execution_count": 26,
   "metadata": {},
   "outputs": [
    {
     "data": {
      "text/plain": [
       "<Axes: xlabel='Oldpeak', ylabel='Count'>"
      ]
     },
     "execution_count": 26,
     "metadata": {},
     "output_type": "execute_result"
    },
    {
     "data": {
      "image/png": "[encoded data removed]",
      "text/plain": [
       "<Figure size 640x480 with 1 Axes>"
      ]
     },
     "metadata": {},
     "output_type": "display_data"
    }
   ],
   "source": [
    "sns.histplot(dados,x=\"Oldpeak\",bins = 30, color=\"orange\",kde=True,stat=\"count\")"
   ]
  },
  {
   "cell_type": "code",
   "execution_count": 27,
   "metadata": {},
   "outputs": [
    {
     "data": {
      "text/plain": [
       "Flat    460\n",
       "Up      395\n",
       "Down     63\n",
       "Name: ST_Slope, dtype: int64"
      ]
     },
     "execution_count": 27,
     "metadata": {},
     "output_type": "execute_result"
    }
   ],
   "source": [
    "# St_slope inclinação do segmento ST no ECG\n",
    "\n",
    "dados[\"ST_Slope\"].value_counts()"
   ]
  },
  {
   "cell_type": "code",
   "execution_count": 28,
   "metadata": {},
   "outputs": [
    {
     "data": {
      "application/vnd.plotly.v1+json": {
       "config": {
        "plotlyServerURL": "https://plot.ly"
       },
       "data": [
        {
         "domain": {
          "x": [
           0,
           1
          ],
          "y": [
           0,
           1
          ]
         },
         "hovertemplate": "ST_Slope=%{label}<extra></extra>",
         "labels": [
          "Up",
          "Flat",
          "Up",
          "Flat",
          "Up",
          "Up",
          "Up",
          "Up",
          "Flat",
          "Up",
          "Up",
          "Flat",
          "Up",
          "Flat",
          "Up",
          "Flat",
          "Flat",
          "Up",
          "Flat",
          "Flat",
          "Up",
          "Flat",
          "Up",
          "Flat",
          "Up",
          "Up",
          "Flat",
          "Up",
          "Up",
          "Up",
          "Flat",
          "Up",
          "Flat",
          "Flat",
          "Up",
          "Up",
          "Flat",
          "Up",
          "Up",
          "Flat",
          "Up",
          "Flat",
          "Up",
          "Up",
          "Flat",
          "Flat",
          "Up",
          "Up",
          "Flat",
          "Flat",
          "Flat",
          "Flat",
          "Up",
          "Up",
          "Flat",
          "Up",
          "Flat",
          "Flat",
          "Up",
          "Flat",
          "Up",
          "Up",
          "Up",
          "Flat",
          "Up",
          "Up",
          "Up",
          "Up",
          "Flat",
          "Up",
          "Flat",
          "Up",
          "Flat",
          "Up",
          "Flat",
          "Up",
          "Flat",
          "Up",
          "Up",
          "Flat",
          "Up",
          "Up",
          "Flat",
          "Up",
          "Flat",
          "Flat",
          "Flat",
          "Flat",
          "Flat",
          "Flat",
          "Up",
          "Up",
          "Up",
          "Flat",
          "Up",
          "Flat",
          "Up",
          "Up",
          "Up",
          "Up",
          "Flat",
          "Up",
          "Flat",
          "Flat",
          "Flat",
          "Up",
          "Up",
          "Up",
          "Up",
          "Up",
          "Flat",
          "Flat",
          "Up",
          "Up",
          "Up",
          "Flat",
          "Flat",
          "Flat",
          "Up",
          "Flat",
          "Flat",
          "Up",
          "Up",
          "Flat",
          "Up",
          "Up",
          "Up",
          "Up",
          "Up",
          "Flat",
          "Up",
          "Flat",
          "Flat",
          "Flat",
          "Flat",
          "Flat",
          "Up",
          "Up",
          "Flat",
          "Flat",
          "Flat",
          "Flat",
          "Flat",
          "Up",
          "Flat",
          "Up",
          "Up",
          "Up",
          "Up",
          "Flat",
          "Up",
          "Up",
          "Up",
          "Up",
          "Up",
          "Flat",
          "Flat",
          "Up",
          "Flat",
          "Up",
          "Flat",
          "Flat",
          "Up",
          "Up",
          "Up",
          "Flat",
          "Flat",
          "Up",
          "Up",
          "Up",
          "Up",
          "Up",
          "Up",
          "Up",
          "Flat",
          "Flat",
          "Flat",
          "Up",
          "Up",
          "Up",
          "Flat",
          "Up",
          "Flat",
          "Flat",
          "Up",
          "Flat",
          "Up",
          "Flat",
          "Flat",
          "Flat",
          "Up",
          "Up",
          "Up",
          "Up",
          "Up",
          "Up",
          "Flat",
          "Up",
          "Flat",
          "Flat",
          "Up",
          "Up",
          "Up",
          "Up",
          "Up",
          "Up",
          "Up",
          "Flat",
          "Up",
          "Flat",
          "Flat",
          "Flat",
          "Up",
          "Up",
          "Flat",
          "Up",
          "Flat",
          "Up",
          "Up",
          "Up",
          "Flat",
          "Flat",
          "Up",
          "Up",
          "Up",
          "Flat",
          "Up",
          "Flat",
          "Up",
          "Up",
          "Up",
          "Up",
          "Up",
          "Up",
          "Up",
          "Flat",
          "Flat",
          "Flat",
          "Flat",
          "Flat",
          "Up",
          "Flat",
          "Flat",
          "Up",
          "Flat",
          "Up",
          "Flat",
          "Down",
          "Flat",
          "Flat",
          "Flat",
          "Flat",
          "Up",
          "Up",
          "Flat",
          "Up",
          "Up",
          "Up",
          "Up",
          "Up",
          "Up",
          "Up",
          "Flat",
          "Flat",
          "Flat",
          "Up",
          "Flat",
          "Up",
          "Flat",
          "Flat",
          "Up",
          "Up",
          "Flat",
          "Up",
          "Up",
          "Up",
          "Flat",
          "Flat",
          "Flat",
          "Up",
          "Up",
          "Flat",
          "Up",
          "Up",
          "Up",
          "Up",
          "Up",
          "Up",
          "Up",
          "Up",
          "Up",
          "Up",
          "Up",
          "Flat",
          "Up",
          "Up",
          "Flat",
          "Up",
          "Flat",
          "Up",
          "Flat",
          "Up",
          "Up",
          "Down",
          "Flat",
          "Up",
          "Flat",
          "Down",
          "Up",
          "Down",
          "Up",
          "Up",
          "Up",
          "Up",
          "Down",
          "Up",
          "Flat",
          "Up",
          "Flat",
          "Up",
          "Flat",
          "Flat",
          "Up",
          "Down",
          "Flat",
          "Down",
          "Up",
          "Up",
          "Flat",
          "Down",
          "Up",
          "Up",
          "Up",
          "Up",
          "Up",
          "Flat",
          "Flat",
          "Up",
          "Up",
          "Down",
          "Down",
          "Down",
          "Flat",
          "Flat",
          "Flat",
          "Flat",
          "Flat",
          "Flat",
          "Flat",
          "Flat",
          "Flat",
          "Up",
          "Down",
          "Flat",
          "Up",
          "Flat",
          "Flat",
          "Flat",
          "Flat",
          "Flat",
          "Flat",
          "Flat",
          "Flat",
          "Flat",
          "Flat",
          "Flat",
          "Flat",
          "Up",
          "Flat",
          "Flat",
          "Up",
          "Flat",
          "Up",
          "Flat",
          "Down",
          "Up",
          "Flat",
          "Flat",
          "Flat",
          "Up",
          "Flat",
          "Flat",
          "Flat",
          "Flat",
          "Flat",
          "Flat",
          "Flat",
          "Flat",
          "Flat",
          "Flat",
          "Flat",
          "Flat",
          "Flat",
          "Flat",
          "Flat",
          "Flat",
          "Flat",
          "Flat",
          "Up",
          "Flat",
          "Flat",
          "Flat",
          "Flat",
          "Flat",
          "Flat",
          "Flat",
          "Flat",
          "Flat",
          "Flat",
          "Flat",
          "Flat",
          "Flat",
          "Flat",
          "Flat",
          "Flat",
          "Flat",
          "Flat",
          "Up",
          "Down",
          "Up",
          "Flat",
          "Up",
          "Flat",
          "Flat",
          "Up",
          "Flat",
          "Up",
          "Flat",
          "Flat",
          "Flat",
          "Flat",
          "Up",
          "Down",
          "Flat",
          "Down",
          "Up",
          "Up",
          "Flat",
          "Flat",
          "Up",
          "Up",
          "Flat",
          "Flat",
          "Flat",
          "Flat",
          "Flat",
          "Flat",
          "Up",
          "Flat",
          "Flat",
          "Down",
          "Flat",
          "Flat",
          "Up",
          "Flat",
          "Up",
          "Flat",
          "Flat",
          "Flat",
          "Up",
          "Flat",
          "Flat",
          "Down",
          "Up",
          "Down",
          "Up",
          "Flat",
          "Up",
          "Up",
          "Flat",
          "Flat",
          "Flat",
          "Flat",
          "Flat",
          "Up",
          "Flat",
          "Up",
          "Down",
          "Flat",
          "Flat",
          "Flat",
          "Down",
          "Up",
          "Down",
          "Flat",
          "Flat",
          "Up",
          "Flat",
          "Up",
          "Flat",
          "Flat",
          "Flat",
          "Flat",
          "Flat",
          "Flat",
          "Flat",
          "Down",
          "Down",
          "Flat",
          "Flat",
          "Down",
          "Flat",
          "Flat",
          "Up",
          "Down",
          "Flat",
          "Flat",
          "Up",
          "Down",
          "Flat",
          "Up",
          "Flat",
          "Up",
          "Flat",
          "Up",
          "Flat",
          "Flat",
          "Flat",
          "Down",
          "Up",
          "Flat",
          "Down",
          "Up",
          "Flat",
          "Up",
          "Up",
          "Flat",
          "Up",
          "Flat",
          "Flat",
          "Flat",
          "Flat",
          "Flat",
          "Flat",
          "Down",
          "Flat",
          "Flat",
          "Down",
          "Flat",
          "Up",
          "Flat",
          "Down",
          "Flat",
          "Down",
          "Up",
          "Up",
          "Flat",
          "Down",
          "Up",
          "Up",
          "Flat",
          "Up",
          "Flat",
          "Flat",
          "Up",
          "Flat",
          "Down",
          "Flat",
          "Flat",
          "Down",
          "Up",
          "Up",
          "Flat",
          "Flat",
          "Flat",
          "Flat",
          "Flat",
          "Flat",
          "Down",
          "Flat",
          "Down",
          "Flat",
          "Flat",
          "Flat",
          "Flat",
          "Flat",
          "Flat",
          "Flat",
          "Down",
          "Flat",
          "Flat",
          "Up",
          "Flat",
          "Up",
          "Flat",
          "Flat",
          "Flat",
          "Flat",
          "Flat",
          "Flat",
          "Up",
          "Up",
          "Down",
          "Flat",
          "Up",
          "Flat",
          "Flat",
          "Up",
          "Down",
          "Flat",
          "Flat",
          "Flat",
          "Flat",
          "Down",
          "Up",
          "Up",
          "Flat",
          "Flat",
          "Flat",
          "Flat",
          "Flat",
          "Up",
          "Flat",
          "Up",
          "Flat",
          "Flat",
          "Flat",
          "Up",
          "Flat",
          "Up",
          "Up",
          "Flat",
          "Flat",
          "Flat",
          "Flat",
          "Flat",
          "Up",
          "Up",
          "Flat",
          "Up",
          "Flat",
          "Flat",
          "Down",
          "Flat",
          "Up",
          "Flat",
          "Flat",
          "Flat",
          "Up",
          "Up",
          "Up",
          "Flat",
          "Up",
          "Flat",
          "Up",
          "Flat",
          "Up",
          "Up",
          "Down",
          "Flat",
          "Up",
          "Up",
          "Up",
          "Up",
          "Up",
          "Up",
          "Up",
          "Up",
          "Up",
          "Flat",
          "Up",
          "Up",
          "Up",
          "Flat",
          "Flat",
          "Flat",
          "Up",
          "Up",
          "Up",
          "Flat",
          "Up",
          "Flat",
          "Up",
          "Flat",
          "Flat",
          "Up",
          "Flat",
          "Up",
          "Up",
          "Down",
          "Flat",
          "Up",
          "Up",
          "Flat",
          "Up",
          "Flat",
          "Up",
          "Up",
          "Flat",
          "Up",
          "Flat",
          "Flat",
          "Up",
          "Flat",
          "Up",
          "Flat",
          "Flat",
          "Up",
          "Flat",
          "Flat",
          "Up",
          "Up",
          "Down",
          "Up",
          "Flat",
          "Up",
          "Up",
          "Flat",
          "Flat",
          "Up",
          "Flat",
          "Flat",
          "Up",
          "Up",
          "Up",
          "Flat",
          "Flat",
          "Up",
          "Flat",
          "Flat",
          "Flat",
          "Flat",
          "Flat",
          "Up",
          "Flat",
          "Flat",
          "Up",
          "Up",
          "Up",
          "Up",
          "Flat",
          "Up",
          "Down",
          "Down",
          "Down",
          "Flat",
          "Flat",
          "Flat",
          "Up",
          "Down",
          "Up",
          "Flat",
          "Flat",
          "Up",
          "Up",
          "Flat",
          "Up",
          "Up",
          "Down",
          "Up",
          "Down",
          "Up",
          "Flat",
          "Up",
          "Up",
          "Flat",
          "Up",
          "Flat",
          "Up",
          "Up",
          "Flat",
          "Up",
          "Flat",
          "Up",
          "Up",
          "Up",
          "Flat",
          "Up",
          "Flat",
          "Up",
          "Up",
          "Down",
          "Up",
          "Flat",
          "Flat",
          "Flat",
          "Flat",
          "Up",
          "Flat",
          "Up",
          "Up",
          "Up",
          "Down",
          "Flat",
          "Flat",
          "Flat",
          "Flat",
          "Flat",
          "Flat",
          "Up",
          "Flat",
          "Flat",
          "Flat",
          "Flat",
          "Up",
          "Down",
          "Flat",
          "Up",
          "Flat",
          "Up",
          "Up",
          "Flat",
          "Up",
          "Flat",
          "Flat",
          "Up",
          "Down",
          "Up",
          "Up",
          "Up",
          "Flat",
          "Flat",
          "Flat",
          "Up",
          "Up",
          "Up",
          "Up",
          "Flat",
          "Up",
          "Flat",
          "Flat",
          "Up",
          "Flat",
          "Flat",
          "Down",
          "Flat",
          "Flat",
          "Flat",
          "Flat",
          "Up",
          "Up",
          "Up",
          "Up",
          "Flat",
          "Up",
          "Flat",
          "Flat",
          "Up",
          "Up",
          "Up",
          "Flat",
          "Flat",
          "Flat",
          "Up",
          "Flat",
          "Flat",
          "Flat",
          "Up",
          "Up",
          "Flat",
          "Down",
          "Up",
          "Flat",
          "Up",
          "Up",
          "Flat",
          "Up",
          "Flat",
          "Down",
          "Up",
          "Up",
          "Up",
          "Up",
          "Flat",
          "Flat",
          "Flat",
          "Up",
          "Up",
          "Up",
          "Up",
          "Up",
          "Flat",
          "Flat",
          "Up",
          "Up",
          "Up",
          "Flat",
          "Flat",
          "Up",
          "Down",
          "Up",
          "Up",
          "Flat",
          "Flat",
          "Flat",
          "Up",
          "Up",
          "Flat",
          "Flat",
          "Up",
          "Flat",
          "Flat",
          "Flat",
          "Up",
          "Flat",
          "Flat",
          "Up",
          "Flat",
          "Up",
          "Up",
          "Down",
          "Flat",
          "Flat",
          "Up",
          "Down",
          "Flat",
          "Up",
          "Down",
          "Up",
          "Flat",
          "Up",
          "Flat",
          "Flat",
          "Flat",
          "Flat",
          "Flat",
          "Flat",
          "Up"
         ],
         "legendgroup": "",
         "name": "",
         "showlegend": true,
         "type": "pie"
        }
       ],
       "layout": {
        "legend": {
         "tracegroupgap": 0
        },
        "margin": {
         "t": 60
        },
        "template": {
         "data": {
          "bar": [
           {
            "error_x": {
             "color": "#2a3f5f"
            },
            "error_y": {
             "color": "#2a3f5f"
            },
            "marker": {
             "line": {
              "color": "#E5ECF6",
              "width": 0.5
             },
             "pattern": {
              "fillmode": "overlay",
              "size": 10,
              "solidity": 0.2
             }
            },
            "type": "bar"
           }
          ],
          "barpolar": [
           {
            "marker": {
             "line": {
              "color": "#E5ECF6",
              "width": 0.5
             },
             "pattern": {
              "fillmode": "overlay",
              "size": 10,
              "solidity": 0.2
             }
            },
            "type": "barpolar"
           }
          ],
          "carpet": [
           {
            "aaxis": {
             "endlinecolor": "#2a3f5f",
             "gridcolor": "white",
             "linecolor": "white",
             "minorgridcolor": "white",
             "startlinecolor": "#2a3f5f"
            },
            "baxis": {
             "endlinecolor": "#2a3f5f",
             "gridcolor": "white",
             "linecolor": "white",
             "minorgridcolor": "white",
             "startlinecolor": "#2a3f5f"
            },
            "type": "carpet"
           }
          ],
          "choropleth": [
           {
            "colorbar": {
             "outlinewidth": 0,
             "ticks": ""
            },
            "type": "choropleth"
           }
          ],
          "contour": [
           {
            "colorbar": {
             "outlinewidth": 0,
             "ticks": ""
            },
            "colorscale": [
             [
              0,
              "#0d0887"
             ],
             [
              0.1111111111111111,
              "#46039f"
             ],
             [
              0.2222222222222222,
              "#7201a8"
             ],
             [
              0.3333333333333333,
              "#9c179e"
             ],
             [
              0.4444444444444444,
              "#bd3786"
             ],
             [
              0.5555555555555556,
              "#d8576b"
             ],
             [
              0.6666666666666666,
              "#ed7953"
             ],
             [
              0.7777777777777778,
              "#fb9f3a"
             ],
             [
              0.8888888888888888,
              "#fdca26"
             ],
             [
              1,
              "#f0f921"
             ]
            ],
            "type": "contour"
           }
          ],
          "contourcarpet": [
           {
            "colorbar": {
             "outlinewidth": 0,
             "ticks": ""
            },
            "type": "contourcarpet"
           }
          ],
          "heatmap": [
           {
            "colorbar": {
             "outlinewidth": 0,
             "ticks": ""
            },
            "colorscale": [
             [
              0,
              "#0d0887"
             ],
             [
              0.1111111111111111,
              "#46039f"
             ],
             [
              0.2222222222222222,
              "#7201a8"
             ],
             [
              0.3333333333333333,
              "#9c179e"
             ],
             [
              0.4444444444444444,
              "#bd3786"
             ],
             [
              0.5555555555555556,
              "#d8576b"
             ],
             [
              0.6666666666666666,
              "#ed7953"
             ],
             [
              0.7777777777777778,
              "#fb9f3a"
             ],
             [
              0.8888888888888888,
              "#fdca26"
             ],
             [
              1,
              "#f0f921"
             ]
            ],
            "type": "heatmap"
           }
          ],
          "heatmapgl": [
           {
            "colorbar": {
             "outlinewidth": 0,
             "ticks": ""
            },
            "colorscale": [
             [
              0,
              "#0d0887"
             ],
             [
              0.1111111111111111,
              "#46039f"
             ],
             [
              0.2222222222222222,
              "#7201a8"
             ],
             [
              0.3333333333333333,
              "#9c179e"
             ],
             [
              0.4444444444444444,
              "#bd3786"
             ],
             [
              0.5555555555555556,
              "#d8576b"
             ],
             [
              0.6666666666666666,
              "#ed7953"
             ],
             [
              0.7777777777777778,
              "#fb9f3a"
             ],
             [
              0.8888888888888888,
              "#fdca26"
             ],
             [
              1,
              "#f0f921"
             ]
            ],
            "type": "heatmapgl"
           }
          ],
          "histogram": [
           {
            "marker": {
             "pattern": {
              "fillmode": "overlay",
              "size": 10,
              "solidity": 0.2
             }
            },
            "type": "histogram"
           }
          ],
          "histogram2d": [
           {
            "colorbar": {
             "outlinewidth": 0,
             "ticks": ""
            },
            "colorscale": [
             [
              0,
              "#0d0887"
             ],
             [
              0.1111111111111111,
              "#46039f"
             ],
             [
              0.2222222222222222,
              "#7201a8"
             ],
             [
              0.3333333333333333,
              "#9c179e"
             ],
             [
              0.4444444444444444,
              "#bd3786"
             ],
             [
              0.5555555555555556,
              "#d8576b"
             ],
             [
              0.6666666666666666,
              "#ed7953"
             ],
             [
              0.7777777777777778,
              "#fb9f3a"
             ],
             [
              0.8888888888888888,
              "#fdca26"
             ],
             [
              1,
              "#f0f921"
             ]
            ],
            "type": "histogram2d"
           }
          ],
          "histogram2dcontour": [
           {
            "colorbar": {
             "outlinewidth": 0,
             "ticks": ""
            },
            "colorscale": [
             [
              0,
              "#0d0887"
             ],
             [
              0.1111111111111111,
              "#46039f"
             ],
             [
              0.2222222222222222,
              "#7201a8"
             ],
             [
              0.3333333333333333,
              "#9c179e"
             ],
             [
              0.4444444444444444,
              "#bd3786"
             ],
             [
              0.5555555555555556,
              "#d8576b"
             ],
             [
              0.6666666666666666,
              "#ed7953"
             ],
             [
              0.7777777777777778,
              "#fb9f3a"
             ],
             [
              0.8888888888888888,
              "#fdca26"
             ],
             [
              1,
              "#f0f921"
             ]
            ],
            "type": "histogram2dcontour"
           }
          ],
          "mesh3d": [
           {
            "colorbar": {
             "outlinewidth": 0,
             "ticks": ""
            },
            "type": "mesh3d"
           }
          ],
          "parcoords": [
           {
            "line": {
             "colorbar": {
              "outlinewidth": 0,
              "ticks": ""
             }
            },
            "type": "parcoords"
           }
          ],
          "pie": [
           {
            "automargin": true,
            "type": "pie"
           }
          ],
          "scatter": [
           {
            "fillpattern": {
             "fillmode": "overlay",
             "size": 10,
             "solidity": 0.2
            },
            "type": "scatter"
           }
          ],
          "scatter3d": [
           {
            "line": {
             "colorbar": {
              "outlinewidth": 0,
              "ticks": ""
             }
            },
            "marker": {
             "colorbar": {
              "outlinewidth": 0,
              "ticks": ""
             }
            },
            "type": "scatter3d"
           }
          ],
          "scattercarpet": [
           {
            "marker": {
             "colorbar": {
              "outlinewidth": 0,
              "ticks": ""
             }
            },
            "type": "scattercarpet"
           }
          ],
          "scattergeo": [
           {
            "marker": {
             "colorbar": {
              "outlinewidth": 0,
              "ticks": ""
             }
            },
            "type": "scattergeo"
           }
          ],
          "scattergl": [
           {
            "marker": {
             "colorbar": {
              "outlinewidth": 0,
              "ticks": ""
             }
            },
            "type": "scattergl"
           }
          ],
          "scattermapbox": [
           {
            "marker": {
             "colorbar": {
              "outlinewidth": 0,
              "ticks": ""
             }
            },
            "type": "scattermapbox"
           }
          ],
          "scatterpolar": [
           {
            "marker": {
             "colorbar": {
              "outlinewidth": 0,
              "ticks": ""
             }
            },
            "type": "scatterpolar"
           }
          ],
          "scatterpolargl": [
           {
            "marker": {
             "colorbar": {
              "outlinewidth": 0,
              "ticks": ""
             }
            },
            "type": "scatterpolargl"
           }
          ],
          "scatterternary": [
           {
            "marker": {
             "colorbar": {
              "outlinewidth": 0,
              "ticks": ""
             }
            },
            "type": "scatterternary"
           }
          ],
          "surface": [
           {
            "colorbar": {
             "outlinewidth": 0,
             "ticks": ""
            },
            "colorscale": [
             [
              0,
              "#0d0887"
             ],
             [
              0.1111111111111111,
              "#46039f"
             ],
             [
              0.2222222222222222,
              "#7201a8"
             ],
             [
              0.3333333333333333,
              "#9c179e"
             ],
             [
              0.4444444444444444,
              "#bd3786"
             ],
             [
              0.5555555555555556,
              "#d8576b"
             ],
             [
              0.6666666666666666,
              "#ed7953"
             ],
             [
              0.7777777777777778,
              "#fb9f3a"
             ],
             [
              0.8888888888888888,
              "#fdca26"
             ],
             [
              1,
              "#f0f921"
             ]
            ],
            "type": "surface"
           }
          ],
          "table": [
           {
            "cells": {
             "fill": {
              "color": "#EBF0F8"
             },
             "line": {
              "color": "white"
             }
            },
            "header": {
             "fill": {
              "color": "#C8D4E3"
             },
             "line": {
              "color": "white"
             }
            },
            "type": "table"
           }
          ]
         },
         "layout": {
          "annotationdefaults": {
           "arrowcolor": "#2a3f5f",
           "arrowhead": 0,
           "arrowwidth": 1
          },
          "autotypenumbers": "strict",
          "coloraxis": {
           "colorbar": {
            "outlinewidth": 0,
            "ticks": ""
           }
          },
          "colorscale": {
           "diverging": [
            [
             0,
             "#8e0152"
            ],
            [
             0.1,
             "#c51b7d"
            ],
            [
             0.2,
             "#de77ae"
            ],
            [
             0.3,
             "#f1b6da"
            ],
            [
             0.4,
             "#fde0ef"
            ],
            [
             0.5,
             "#f7f7f7"
            ],
            [
             0.6,
             "#e6f5d0"
            ],
            [
             0.7,
             "#b8e186"
            ],
            [
             0.8,
             "#7fbc41"
            ],
            [
             0.9,
             "#4d9221"
            ],
            [
             1,
             "#276419"
            ]
           ],
           "sequential": [
            [
             0,
             "#0d0887"
            ],
            [
             0.1111111111111111,
             "#46039f"
            ],
            [
             0.2222222222222222,
             "#7201a8"
            ],
            [
             0.3333333333333333,
             "#9c179e"
            ],
            [
             0.4444444444444444,
             "#bd3786"
            ],
            [
             0.5555555555555556,
             "#d8576b"
            ],
            [
             0.6666666666666666,
             "#ed7953"
            ],
            [
             0.7777777777777778,
             "#fb9f3a"
            ],
            [
             0.8888888888888888,
             "#fdca26"
            ],
            [
             1,
             "#f0f921"
            ]
           ],
           "sequentialminus": [
            [
             0,
             "#0d0887"
            ],
            [
             0.1111111111111111,
             "#46039f"
            ],
            [
             0.2222222222222222,
             "#7201a8"
            ],
            [
             0.3333333333333333,
             "#9c179e"
            ],
            [
             0.4444444444444444,
             "#bd3786"
            ],
            [
             0.5555555555555556,
             "#d8576b"
            ],
            [
             0.6666666666666666,
             "#ed7953"
            ],
            [
             0.7777777777777778,
             "#fb9f3a"
            ],
            [
             0.8888888888888888,
             "#fdca26"
            ],
            [
             1,
             "#f0f921"
            ]
           ]
          },
          "colorway": [
           "#636efa",
           "#EF553B",
           "#00cc96",
           "#ab63fa",
           "#FFA15A",
           "#19d3f3",
           "#FF6692",
           "#B6E880",
           "#FF97FF",
           "#FECB52"
          ],
          "font": {
           "color": "#2a3f5f"
          },
          "geo": {
           "bgcolor": "white",
           "lakecolor": "white",
           "landcolor": "#E5ECF6",
           "showlakes": true,
           "showland": true,
           "subunitcolor": "white"
          },
          "hoverlabel": {
           "align": "left"
          },
          "hovermode": "closest",
          "mapbox": {
           "style": "light"
          },
          "paper_bgcolor": "white",
          "plot_bgcolor": "#E5ECF6",
          "polar": {
           "angularaxis": {
            "gridcolor": "white",
            "linecolor": "white",
            "ticks": ""
           },
           "bgcolor": "#E5ECF6",
           "radialaxis": {
            "gridcolor": "white",
            "linecolor": "white",
            "ticks": ""
           }
          },
          "scene": {
           "xaxis": {
            "backgroundcolor": "#E5ECF6",
            "gridcolor": "white",
            "gridwidth": 2,
            "linecolor": "white",
            "showbackground": true,
            "ticks": "",
            "zerolinecolor": "white"
           },
           "yaxis": {
            "backgroundcolor": "#E5ECF6",
            "gridcolor": "white",
            "gridwidth": 2,
            "linecolor": "white",
            "showbackground": true,
            "ticks": "",
            "zerolinecolor": "white"
           },
           "zaxis": {
            "backgroundcolor": "#E5ECF6",
            "gridcolor": "white",
            "gridwidth": 2,
            "linecolor": "white",
            "showbackground": true,
            "ticks": "",
            "zerolinecolor": "white"
           }
          },
          "shapedefaults": {
           "line": {
            "color": "#2a3f5f"
           }
          },
          "ternary": {
           "aaxis": {
            "gridcolor": "white",
            "linecolor": "white",
            "ticks": ""
           },
           "baxis": {
            "gridcolor": "white",
            "linecolor": "white",
            "ticks": ""
           },
           "bgcolor": "#E5ECF6",
           "caxis": {
            "gridcolor": "white",
            "linecolor": "white",
            "ticks": ""
           }
          },
          "title": {
           "x": 0.05
          },
          "xaxis": {
           "automargin": true,
           "gridcolor": "white",
           "linecolor": "white",
           "ticks": "",
           "title": {
            "standoff": 15
           },
           "zerolinecolor": "white",
           "zerolinewidth": 2
          },
          "yaxis": {
           "automargin": true,
           "gridcolor": "white",
           "linecolor": "white",
           "ticks": "",
           "title": {
            "standoff": 15
           },
           "zerolinecolor": "white",
           "zerolinewidth": 2
          }
         }
        }
       }
      }
     },
     "metadata": {},
     "output_type": "display_data"
    }
   ],
   "source": [
    "px.pie(dados,'ST_Slope')"
   ]
  },
  {
   "cell_type": "code",
   "execution_count": 29,
   "metadata": {},
   "outputs": [
    {
     "data": {
      "text/plain": [
       "1    508\n",
       "0    410\n",
       "Name: HeartDisease, dtype: int64"
      ]
     },
     "execution_count": 29,
     "metadata": {},
     "output_type": "execute_result"
    }
   ],
   "source": [
    "# Doenças Cardiacas\n",
    "\n",
    "dados[\"HeartDisease\"].value_counts()"
   ]
  },
  {
   "cell_type": "code",
   "execution_count": 30,
   "metadata": {},
   "outputs": [
    {
     "data": {
      "text/plain": [
       "<Axes: xlabel='HeartDisease', ylabel='count'>"
      ]
     },
     "execution_count": 30,
     "metadata": {},
     "output_type": "execute_result"
    },
    {
     "data": {
      "image/png": "[encoded data removed]",
      "text/plain": [
       "<Figure size 640x480 with 1 Axes>"
      ]
     },
     "metadata": {},
     "output_type": "display_data"
    }
   ],
   "source": [
    "sns.countplot(x=\"HeartDisease\",data=dados)"
   ]
  },
  {
   "cell_type": "code",
   "execution_count": 31,
   "metadata": {},
   "outputs": [
    {
     "data": {
      "text/plain": [
       "Age                 int64\n",
       "Sex                object\n",
       "ChestPainType      object\n",
       "RestingBP           int64\n",
       "Cholesterol         int64\n",
       "FastingBS           int64\n",
       "RestingECG         object\n",
       "MaxHR               int64\n",
       "ExerciseAngina     object\n",
       "Oldpeak           float64\n",
       "ST_Slope           object\n",
       "HeartDisease        int64\n",
       "dtype: object"
      ]
     },
     "execution_count": 31,
     "metadata": {},
     "output_type": "execute_result"
    }
   ],
   "source": [
    "# Análise dos tipos de atributos\n",
    "dados.dtypes"
   ]
  },
  {
   "cell_type": "code",
   "execution_count": 32,
   "metadata": {},
   "outputs": [
    {
     "data": {
      "text/plain": [
       "Age               0\n",
       "Sex               0\n",
       "ChestPainType     0\n",
       "RestingBP         0\n",
       "Cholesterol       0\n",
       "FastingBS         0\n",
       "RestingECG        0\n",
       "MaxHR             0\n",
       "ExerciseAngina    0\n",
       "Oldpeak           0\n",
       "ST_Slope          0\n",
       "HeartDisease      0\n",
       "dtype: int64"
      ]
     },
     "execution_count": 32,
     "metadata": {},
     "output_type": "execute_result"
    }
   ],
   "source": [
    "# Análise dos valores faltantes\n",
    "dados.isnull().sum()"
   ]
  },
  {
   "cell_type": "code",
   "execution_count": 33,
   "metadata": {},
   "outputs": [
    {
     "name": "stdout",
     "output_type": "stream",
     "text": [
      "dados antes da exclusão: linhas 918 colunas 12\n",
      "dados depois da exclusão: linhas 918 colunas 12\n"
     ]
    }
   ],
   "source": [
    "#Extraindo os valores faltantes\n",
    "\n",
    "dados2 = dados.dropna()\n",
    "\n",
    "print(f\"dados antes da exclusão: linhas {dados.shape[0]} colunas {dados.shape[1]}\")\n",
    "print(f\"dados depois da exclusão: linhas {dados2.shape[0]} colunas {dados2.shape[1]}\")\n",
    " "
   ]
  },
  {
   "cell_type": "code",
   "execution_count": 34,
   "metadata": {},
   "outputs": [],
   "source": [
    "# Substindo os valores fatlatens pela medida\n",
    "\n",
    "dados2[\"Age\"].fillna(dados[\"Age\"].mean(),inplace=True)"
   ]
  },
  {
   "cell_type": "code",
   "execution_count": 35,
   "metadata": {},
   "outputs": [
    {
     "data": {
      "text/plain": [
       "<bound method Series.fillna of 0      40\n",
       "1      49\n",
       "2      37\n",
       "3      48\n",
       "4      54\n",
       "       ..\n",
       "913    45\n",
       "914    68\n",
       "915    57\n",
       "916    57\n",
       "917    38\n",
       "Name: Age, Length: 918, dtype: int64>"
      ]
     },
     "execution_count": 35,
     "metadata": {},
     "output_type": "execute_result"
    }
   ],
   "source": [
    "dados2[\"Age\"].fillna"
   ]
  },
  {
   "cell_type": "code",
   "execution_count": 36,
   "metadata": {},
   "outputs": [
    {
     "data": {
      "text/html": [
       "<div>\n",
       "<style scoped>\n",
       "    .dataframe tbody tr th:only-of-type {\n",
       "        vertical-align: middle;\n",
       "    }\n",
       "\n",
       "    .dataframe tbody tr th {\n",
       "        vertical-align: top;\n",
       "    }\n",
       "\n",
       "    .dataframe thead th {\n",
       "        text-align: right;\n",
       "    }\n",
       "</style>\n",
       "<table border=\"1\" class=\"dataframe\">\n",
       "  <thead>\n",
       "    <tr style=\"text-align: right;\">\n",
       "      <th></th>\n",
       "      <th>Age</th>\n",
       "      <th>RestingBP</th>\n",
       "      <th>Cholesterol</th>\n",
       "      <th>FastingBS</th>\n",
       "      <th>MaxHR</th>\n",
       "      <th>Oldpeak</th>\n",
       "      <th>HeartDisease</th>\n",
       "    </tr>\n",
       "  </thead>\n",
       "  <tbody>\n",
       "    <tr>\n",
       "      <th>count</th>\n",
       "      <td>918.000000</td>\n",
       "      <td>918.000000</td>\n",
       "      <td>918.000000</td>\n",
       "      <td>918.000000</td>\n",
       "      <td>918.000000</td>\n",
       "      <td>918.000000</td>\n",
       "      <td>918.000000</td>\n",
       "    </tr>\n",
       "    <tr>\n",
       "      <th>mean</th>\n",
       "      <td>53.510893</td>\n",
       "      <td>132.396514</td>\n",
       "      <td>198.799564</td>\n",
       "      <td>0.233115</td>\n",
       "      <td>136.809368</td>\n",
       "      <td>0.887364</td>\n",
       "      <td>0.553377</td>\n",
       "    </tr>\n",
       "    <tr>\n",
       "      <th>std</th>\n",
       "      <td>9.432617</td>\n",
       "      <td>18.514154</td>\n",
       "      <td>109.384145</td>\n",
       "      <td>0.423046</td>\n",
       "      <td>25.460334</td>\n",
       "      <td>1.066570</td>\n",
       "      <td>0.497414</td>\n",
       "    </tr>\n",
       "    <tr>\n",
       "      <th>min</th>\n",
       "      <td>28.000000</td>\n",
       "      <td>0.000000</td>\n",
       "      <td>0.000000</td>\n",
       "      <td>0.000000</td>\n",
       "      <td>60.000000</td>\n",
       "      <td>-2.600000</td>\n",
       "      <td>0.000000</td>\n",
       "    </tr>\n",
       "    <tr>\n",
       "      <th>25%</th>\n",
       "      <td>47.000000</td>\n",
       "      <td>120.000000</td>\n",
       "      <td>173.250000</td>\n",
       "      <td>0.000000</td>\n",
       "      <td>120.000000</td>\n",
       "      <td>0.000000</td>\n",
       "      <td>0.000000</td>\n",
       "    </tr>\n",
       "    <tr>\n",
       "      <th>50%</th>\n",
       "      <td>54.000000</td>\n",
       "      <td>130.000000</td>\n",
       "      <td>223.000000</td>\n",
       "      <td>0.000000</td>\n",
       "      <td>138.000000</td>\n",
       "      <td>0.600000</td>\n",
       "      <td>1.000000</td>\n",
       "    </tr>\n",
       "    <tr>\n",
       "      <th>75%</th>\n",
       "      <td>60.000000</td>\n",
       "      <td>140.000000</td>\n",
       "      <td>267.000000</td>\n",
       "      <td>0.000000</td>\n",
       "      <td>156.000000</td>\n",
       "      <td>1.500000</td>\n",
       "      <td>1.000000</td>\n",
       "    </tr>\n",
       "    <tr>\n",
       "      <th>max</th>\n",
       "      <td>77.000000</td>\n",
       "      <td>200.000000</td>\n",
       "      <td>603.000000</td>\n",
       "      <td>1.000000</td>\n",
       "      <td>202.000000</td>\n",
       "      <td>6.200000</td>\n",
       "      <td>1.000000</td>\n",
       "    </tr>\n",
       "  </tbody>\n",
       "</table>\n",
       "</div>"
      ],
      "text/plain": [
       "              Age   RestingBP  Cholesterol   FastingBS       MaxHR  \\\n",
       "count  918.000000  918.000000   918.000000  918.000000  918.000000   \n",
       "mean    53.510893  132.396514   198.799564    0.233115  136.809368   \n",
       "std      9.432617   18.514154   109.384145    0.423046   25.460334   \n",
       "min     28.000000    0.000000     0.000000    0.000000   60.000000   \n",
       "25%     47.000000  120.000000   173.250000    0.000000  120.000000   \n",
       "50%     54.000000  130.000000   223.000000    0.000000  138.000000   \n",
       "75%     60.000000  140.000000   267.000000    0.000000  156.000000   \n",
       "max     77.000000  200.000000   603.000000    1.000000  202.000000   \n",
       "\n",
       "          Oldpeak  HeartDisease  \n",
       "count  918.000000    918.000000  \n",
       "mean     0.887364      0.553377  \n",
       "std      1.066570      0.497414  \n",
       "min     -2.600000      0.000000  \n",
       "25%      0.000000      0.000000  \n",
       "50%      0.600000      1.000000  \n",
       "75%      1.500000      1.000000  \n",
       "max      6.200000      1.000000  "
      ]
     },
     "execution_count": 36,
     "metadata": {},
     "output_type": "execute_result"
    }
   ],
   "source": [
    "# Análise Estastistica Descritiva\n",
    "\n",
    "dados.describe()"
   ]
  },
  {
   "cell_type": "code",
   "execution_count": 37,
   "metadata": {},
   "outputs": [],
   "source": [
    "# Localizando valores especificos\n",
    "dados2 = dados.loc[dados.RestingBP != 0] \n"
   ]
  },
  {
   "cell_type": "code",
   "execution_count": 38,
   "metadata": {},
   "outputs": [
    {
     "data": {
      "text/plain": [
       "(917, 12)"
      ]
     },
     "execution_count": 38,
     "metadata": {},
     "output_type": "execute_result"
    }
   ],
   "source": [
    "dados2.shape"
   ]
  },
  {
   "cell_type": "code",
   "execution_count": 39,
   "metadata": {},
   "outputs": [
    {
     "data": {
      "text/plain": [
       "199.0163576881134"
      ]
     },
     "execution_count": 39,
     "metadata": {},
     "output_type": "execute_result"
    }
   ],
   "source": [
    "dados2.Cholesterol.mean()"
   ]
  },
  {
   "cell_type": "code",
   "execution_count": 40,
   "metadata": {},
   "outputs": [
    {
     "name": "stderr",
     "output_type": "stream",
     "text": [
      "C:\\Users\\carlo\\AppData\\Local\\Temp\\ipykernel_19060\\3415842204.py:2: SettingWithCopyWarning:\n",
      "\n",
      "\n",
      "A value is trying to be set on a copy of a slice from a DataFrame\n",
      "\n",
      "See the caveats in the documentation: https://pandas.pydata.org/pandas-docs/stable/user_guide/indexing.html#returning-a-view-versus-a-copy\n",
      "\n"
     ]
    }
   ],
   "source": [
    "\n",
    "# Substitundo os 0 por NAs\n",
    "dados2.Cholesterol.replace(0,np.NAN,inplace=True)"
   ]
  },
  {
   "cell_type": "code",
   "execution_count": 41,
   "metadata": {},
   "outputs": [
    {
     "data": {
      "text/plain": [
       "Age                 0\n",
       "Sex                 0\n",
       "ChestPainType       0\n",
       "RestingBP           0\n",
       "Cholesterol       171\n",
       "FastingBS           0\n",
       "RestingECG          0\n",
       "MaxHR               0\n",
       "ExerciseAngina      0\n",
       "Oldpeak             0\n",
       "ST_Slope            0\n",
       "HeartDisease        0\n",
       "dtype: int64"
      ]
     },
     "execution_count": 41,
     "metadata": {},
     "output_type": "execute_result"
    }
   ],
   "source": [
    "dados2.isnull().sum()"
   ]
  },
  {
   "cell_type": "code",
   "execution_count": 42,
   "metadata": {},
   "outputs": [
    {
     "name": "stderr",
     "output_type": "stream",
     "text": [
      "C:\\Users\\carlo\\AppData\\Local\\Temp\\ipykernel_19060\\2902897643.py:1: SettingWithCopyWarning:\n",
      "\n",
      "\n",
      "A value is trying to be set on a copy of a slice from a DataFrame\n",
      "\n",
      "See the caveats in the documentation: https://pandas.pydata.org/pandas-docs/stable/user_guide/indexing.html#returning-a-view-versus-a-copy\n",
      "\n"
     ]
    },
    {
     "data": {
      "text/plain": [
       "Age               0\n",
       "Sex               0\n",
       "ChestPainType     0\n",
       "RestingBP         0\n",
       "Cholesterol       0\n",
       "FastingBS         0\n",
       "RestingECG        0\n",
       "MaxHR             0\n",
       "ExerciseAngina    0\n",
       "Oldpeak           0\n",
       "ST_Slope          0\n",
       "HeartDisease      0\n",
       "dtype: int64"
      ]
     },
     "execution_count": 42,
     "metadata": {},
     "output_type": "execute_result"
    }
   ],
   "source": [
    "dados2[\"Cholesterol\"].fillna(dados2[\"Cholesterol\"].mean(),inplace=True)\n",
    "\n",
    "dados2.isnull().sum()"
   ]
  },
  {
   "cell_type": "code",
   "execution_count": 43,
   "metadata": {},
   "outputs": [
    {
     "data": {
      "text/html": [
       "<div>\n",
       "<style scoped>\n",
       "    .dataframe tbody tr th:only-of-type {\n",
       "        vertical-align: middle;\n",
       "    }\n",
       "\n",
       "    .dataframe tbody tr th {\n",
       "        vertical-align: top;\n",
       "    }\n",
       "\n",
       "    .dataframe thead th {\n",
       "        text-align: right;\n",
       "    }\n",
       "</style>\n",
       "<table border=\"1\" class=\"dataframe\">\n",
       "  <thead>\n",
       "    <tr style=\"text-align: right;\">\n",
       "      <th></th>\n",
       "      <th>Age</th>\n",
       "      <th>RestingBP</th>\n",
       "      <th>Cholesterol</th>\n",
       "      <th>FastingBS</th>\n",
       "      <th>MaxHR</th>\n",
       "      <th>Oldpeak</th>\n",
       "      <th>HeartDisease</th>\n",
       "    </tr>\n",
       "  </thead>\n",
       "  <tbody>\n",
       "    <tr>\n",
       "      <th>count</th>\n",
       "      <td>917.000000</td>\n",
       "      <td>917.000000</td>\n",
       "      <td>917.000000</td>\n",
       "      <td>917.000000</td>\n",
       "      <td>917.000000</td>\n",
       "      <td>917.000000</td>\n",
       "      <td>917.000000</td>\n",
       "    </tr>\n",
       "    <tr>\n",
       "      <th>mean</th>\n",
       "      <td>53.509269</td>\n",
       "      <td>132.540894</td>\n",
       "      <td>244.635389</td>\n",
       "      <td>0.233370</td>\n",
       "      <td>136.789531</td>\n",
       "      <td>0.886696</td>\n",
       "      <td>0.552890</td>\n",
       "    </tr>\n",
       "    <tr>\n",
       "      <th>std</th>\n",
       "      <td>9.437636</td>\n",
       "      <td>17.999749</td>\n",
       "      <td>53.347125</td>\n",
       "      <td>0.423206</td>\n",
       "      <td>25.467129</td>\n",
       "      <td>1.066960</td>\n",
       "      <td>0.497466</td>\n",
       "    </tr>\n",
       "    <tr>\n",
       "      <th>min</th>\n",
       "      <td>28.000000</td>\n",
       "      <td>80.000000</td>\n",
       "      <td>85.000000</td>\n",
       "      <td>0.000000</td>\n",
       "      <td>60.000000</td>\n",
       "      <td>-2.600000</td>\n",
       "      <td>0.000000</td>\n",
       "    </tr>\n",
       "    <tr>\n",
       "      <th>25%</th>\n",
       "      <td>47.000000</td>\n",
       "      <td>120.000000</td>\n",
       "      <td>214.000000</td>\n",
       "      <td>0.000000</td>\n",
       "      <td>120.000000</td>\n",
       "      <td>0.000000</td>\n",
       "      <td>0.000000</td>\n",
       "    </tr>\n",
       "    <tr>\n",
       "      <th>50%</th>\n",
       "      <td>54.000000</td>\n",
       "      <td>130.000000</td>\n",
       "      <td>244.635389</td>\n",
       "      <td>0.000000</td>\n",
       "      <td>138.000000</td>\n",
       "      <td>0.600000</td>\n",
       "      <td>1.000000</td>\n",
       "    </tr>\n",
       "    <tr>\n",
       "      <th>75%</th>\n",
       "      <td>60.000000</td>\n",
       "      <td>140.000000</td>\n",
       "      <td>267.000000</td>\n",
       "      <td>0.000000</td>\n",
       "      <td>156.000000</td>\n",
       "      <td>1.500000</td>\n",
       "      <td>1.000000</td>\n",
       "    </tr>\n",
       "    <tr>\n",
       "      <th>max</th>\n",
       "      <td>77.000000</td>\n",
       "      <td>200.000000</td>\n",
       "      <td>603.000000</td>\n",
       "      <td>1.000000</td>\n",
       "      <td>202.000000</td>\n",
       "      <td>6.200000</td>\n",
       "      <td>1.000000</td>\n",
       "    </tr>\n",
       "  </tbody>\n",
       "</table>\n",
       "</div>"
      ],
      "text/plain": [
       "              Age   RestingBP  Cholesterol   FastingBS       MaxHR  \\\n",
       "count  917.000000  917.000000   917.000000  917.000000  917.000000   \n",
       "mean    53.509269  132.540894   244.635389    0.233370  136.789531   \n",
       "std      9.437636   17.999749    53.347125    0.423206   25.467129   \n",
       "min     28.000000   80.000000    85.000000    0.000000   60.000000   \n",
       "25%     47.000000  120.000000   214.000000    0.000000  120.000000   \n",
       "50%     54.000000  130.000000   244.635389    0.000000  138.000000   \n",
       "75%     60.000000  140.000000   267.000000    0.000000  156.000000   \n",
       "max     77.000000  200.000000   603.000000    1.000000  202.000000   \n",
       "\n",
       "          Oldpeak  HeartDisease  \n",
       "count  917.000000    917.000000  \n",
       "mean     0.886696      0.552890  \n",
       "std      1.066960      0.497466  \n",
       "min     -2.600000      0.000000  \n",
       "25%      0.000000      0.000000  \n",
       "50%      0.600000      1.000000  \n",
       "75%      1.500000      1.000000  \n",
       "max      6.200000      1.000000  "
      ]
     },
     "execution_count": 43,
     "metadata": {},
     "output_type": "execute_result"
    }
   ],
   "source": [
    "dados2.describe()"
   ]
  },
  {
   "cell_type": "code",
   "execution_count": 44,
   "metadata": {},
   "outputs": [
    {
     "data": {
      "text/html": [
       "<div>\n",
       "<style scoped>\n",
       "    .dataframe tbody tr th:only-of-type {\n",
       "        vertical-align: middle;\n",
       "    }\n",
       "\n",
       "    .dataframe tbody tr th {\n",
       "        vertical-align: top;\n",
       "    }\n",
       "\n",
       "    .dataframe thead th {\n",
       "        text-align: right;\n",
       "    }\n",
       "</style>\n",
       "<table border=\"1\" class=\"dataframe\">\n",
       "  <thead>\n",
       "    <tr style=\"text-align: right;\">\n",
       "      <th></th>\n",
       "      <th>Age</th>\n",
       "      <th>Sex</th>\n",
       "      <th>ChestPainType</th>\n",
       "      <th>RestingBP</th>\n",
       "      <th>Cholesterol</th>\n",
       "      <th>FastingBS</th>\n",
       "      <th>RestingECG</th>\n",
       "      <th>MaxHR</th>\n",
       "      <th>ExerciseAngina</th>\n",
       "      <th>Oldpeak</th>\n",
       "      <th>ST_Slope</th>\n",
       "      <th>HeartDisease</th>\n",
       "    </tr>\n",
       "  </thead>\n",
       "  <tbody>\n",
       "    <tr>\n",
       "      <th>0</th>\n",
       "      <td>54</td>\n",
       "      <td>M</td>\n",
       "      <td>ASY</td>\n",
       "      <td>120</td>\n",
       "      <td>244.635389</td>\n",
       "      <td>0</td>\n",
       "      <td>Normal</td>\n",
       "      <td>150</td>\n",
       "      <td>N</td>\n",
       "      <td>0.0</td>\n",
       "      <td>Flat</td>\n",
       "      <td>1</td>\n",
       "    </tr>\n",
       "  </tbody>\n",
       "</table>\n",
       "</div>"
      ],
      "text/plain": [
       "   Age Sex ChestPainType  RestingBP  Cholesterol  FastingBS RestingECG  MaxHR  \\\n",
       "0   54   M           ASY        120   244.635389          0     Normal    150   \n",
       "\n",
       "  ExerciseAngina  Oldpeak ST_Slope  HeartDisease  \n",
       "0              N      0.0     Flat             1  "
      ]
     },
     "execution_count": 44,
     "metadata": {},
     "output_type": "execute_result"
    }
   ],
   "source": [
    "dados2.mode()"
   ]
  },
  {
   "cell_type": "code",
   "execution_count": 45,
   "metadata": {},
   "outputs": [
    {
     "data": {
      "text/plain": [
       "<Axes: xlabel='Cholesterol', ylabel='Count'>"
      ]
     },
     "execution_count": 45,
     "metadata": {},
     "output_type": "execute_result"
    },
    {
     "data": {
      "image/png": "[encoded data removed]",
      "text/plain": [
       "<Figure size 640x480 with 1 Axes>"
      ]
     },
     "metadata": {},
     "output_type": "display_data"
    }
   ],
   "source": [
    "sns.histplot(dados2,x=\"Cholesterol\",bins=30,color=\"orange\",kde=True,stat=\"count\")"
   ]
  },
  {
   "cell_type": "code",
   "execution_count": 46,
   "metadata": {},
   "outputs": [
    {
     "data": {
      "application/vnd.plotly.v1+json": {
       "config": {
        "plotlyServerURL": "https://plot.ly"
       },
       "data": [
        {
         "alignmentgroup": "True",
         "hovertemplate": "Age=%{y}<extra></extra>",
         "legendgroup": "",
         "marker": {
          "color": "#636efa"
         },
         "name": "",
         "notched": false,
         "offsetgroup": "",
         "orientation": "v",
         "showlegend": false,
         "type": "box",
         "x0": " ",
         "xaxis": "x",
         "y": [
          40,
          49,
          37,
          48,
          54,
          39,
          45,
          54,
          37,
          48,
          37,
          58,
          39,
          49,
          42,
          54,
          38,
          43,
          60,
          36,
          43,
          44,
          49,
          44,
          40,
          36,
          53,
          52,
          53,
          51,
          53,
          56,
          54,
          41,
          43,
          32,
          65,
          41,
          48,
          48,
          54,
          54,
          35,
          52,
          43,
          59,
          37,
          50,
          36,
          41,
          50,
          47,
          45,
          41,
          52,
          51,
          31,
          58,
          54,
          52,
          49,
          43,
          45,
          46,
          50,
          37,
          45,
          32,
          52,
          44,
          57,
          44,
          52,
          44,
          55,
          46,
          32,
          35,
          52,
          49,
          55,
          54,
          63,
          52,
          56,
          66,
          65,
          53,
          43,
          55,
          49,
          39,
          52,
          48,
          39,
          58,
          43,
          39,
          56,
          41,
          65,
          51,
          40,
          40,
          46,
          57,
          48,
          34,
          50,
          39,
          59,
          57,
          47,
          38,
          49,
          33,
          38,
          59,
          35,
          34,
          47,
          52,
          46,
          58,
          58,
          54,
          34,
          48,
          54,
          42,
          38,
          46,
          56,
          56,
          61,
          49,
          43,
          39,
          54,
          43,
          52,
          50,
          47,
          53,
          56,
          39,
          42,
          43,
          50,
          54,
          39,
          48,
          40,
          55,
          41,
          56,
          38,
          49,
          44,
          54,
          59,
          49,
          47,
          42,
          52,
          46,
          50,
          48,
          58,
          58,
          29,
          40,
          53,
          49,
          52,
          43,
          54,
          59,
          37,
          46,
          52,
          51,
          52,
          46,
          54,
          58,
          58,
          41,
          50,
          53,
          46,
          50,
          48,
          45,
          41,
          62,
          49,
          42,
          53,
          57,
          47,
          46,
          42,
          31,
          56,
          50,
          35,
          35,
          28,
          54,
          48,
          50,
          56,
          56,
          47,
          30,
          39,
          54,
          55,
          29,
          46,
          51,
          48,
          33,
          55,
          50,
          53,
          38,
          41,
          37,
          37,
          40,
          38,
          41,
          54,
          39,
          41,
          55,
          48,
          48,
          55,
          54,
          55,
          43,
          48,
          54,
          54,
          48,
          45,
          49,
          44,
          48,
          61,
          62,
          55,
          53,
          55,
          36,
          51,
          55,
          46,
          54,
          46,
          59,
          47,
          54,
          52,
          34,
          54,
          47,
          45,
          32,
          55,
          55,
          45,
          59,
          51,
          52,
          57,
          54,
          60,
          49,
          51,
          55,
          42,
          51,
          59,
          53,
          48,
          36,
          48,
          47,
          53,
          65,
          32,
          61,
          50,
          57,
          51,
          47,
          60,
          55,
          53,
          62,
          51,
          51,
          55,
          53,
          58,
          57,
          65,
          60,
          41,
          34,
          53,
          74,
          57,
          56,
          61,
          68,
          59,
          63,
          38,
          62,
          46,
          42,
          45,
          59,
          52,
          60,
          60,
          56,
          38,
          40,
          51,
          62,
          72,
          63,
          63,
          64,
          43,
          64,
          61,
          52,
          51,
          69,
          59,
          48,
          69,
          36,
          53,
          43,
          56,
          58,
          55,
          67,
          46,
          53,
          38,
          53,
          62,
          47,
          56,
          56,
          56,
          64,
          61,
          68,
          57,
          63,
          60,
          66,
          63,
          59,
          61,
          73,
          47,
          65,
          70,
          50,
          60,
          50,
          43,
          38,
          54,
          61,
          42,
          53,
          55,
          61,
          51,
          70,
          61,
          38,
          57,
          38,
          62,
          58,
          52,
          61,
          50,
          51,
          65,
          52,
          47,
          35,
          57,
          62,
          59,
          53,
          62,
          54,
          56,
          56,
          54,
          66,
          63,
          44,
          60,
          55,
          66,
          66,
          65,
          60,
          60,
          60,
          56,
          59,
          62,
          63,
          57,
          62,
          63,
          46,
          63,
          60,
          58,
          64,
          63,
          74,
          52,
          69,
          51,
          60,
          56,
          55,
          54,
          77,
          63,
          52,
          64,
          60,
          60,
          58,
          59,
          61,
          40,
          61,
          41,
          57,
          63,
          59,
          51,
          59,
          42,
          55,
          63,
          62,
          56,
          53,
          68,
          53,
          60,
          62,
          59,
          51,
          61,
          57,
          56,
          58,
          69,
          67,
          58,
          65,
          63,
          55,
          57,
          65,
          54,
          72,
          75,
          49,
          51,
          60,
          64,
          58,
          61,
          67,
          62,
          65,
          63,
          69,
          51,
          62,
          55,
          75,
          40,
          67,
          58,
          60,
          63,
          35,
          62,
          43,
          63,
          68,
          65,
          48,
          63,
          64,
          61,
          50,
          59,
          55,
          45,
          65,
          61,
          49,
          72,
          50,
          64,
          55,
          63,
          59,
          56,
          62,
          74,
          54,
          57,
          62,
          76,
          54,
          70,
          61,
          48,
          48,
          61,
          66,
          68,
          55,
          62,
          71,
          74,
          53,
          58,
          75,
          56,
          58,
          64,
          54,
          54,
          59,
          55,
          57,
          61,
          41,
          71,
          38,
          55,
          56,
          69,
          64,
          72,
          69,
          56,
          62,
          67,
          57,
          69,
          51,
          48,
          69,
          69,
          64,
          57,
          53,
          37,
          67,
          74,
          63,
          58,
          61,
          64,
          58,
          60,
          57,
          55,
          55,
          56,
          57,
          61,
          61,
          74,
          68,
          51,
          62,
          53,
          62,
          46,
          54,
          62,
          55,
          58,
          62,
          70,
          67,
          57,
          64,
          74,
          65,
          56,
          59,
          60,
          63,
          59,
          53,
          44,
          61,
          57,
          71,
          46,
          53,
          64,
          40,
          67,
          48,
          43,
          47,
          54,
          48,
          46,
          51,
          58,
          71,
          57,
          66,
          37,
          59,
          50,
          48,
          61,
          59,
          42,
          48,
          40,
          62,
          44,
          46,
          59,
          58,
          49,
          44,
          66,
          65,
          42,
          52,
          65,
          63,
          45,
          41,
          61,
          60,
          59,
          62,
          57,
          51,
          44,
          60,
          63,
          57,
          51,
          58,
          44,
          47,
          61,
          57,
          70,
          76,
          67,
          45,
          45,
          39,
          42,
          56,
          58,
          35,
          58,
          41,
          57,
          42,
          62,
          59,
          41,
          50,
          59,
          61,
          54,
          54,
          52,
          47,
          66,
          58,
          64,
          50,
          44,
          67,
          49,
          57,
          63,
          48,
          51,
          60,
          59,
          45,
          55,
          41,
          60,
          54,
          42,
          49,
          46,
          56,
          66,
          56,
          49,
          54,
          57,
          65,
          54,
          54,
          62,
          52,
          52,
          60,
          63,
          66,
          42,
          64,
          54,
          46,
          67,
          56,
          34,
          57,
          64,
          59,
          50,
          51,
          54,
          53,
          52,
          40,
          58,
          41,
          41,
          50,
          54,
          64,
          51,
          46,
          55,
          45,
          56,
          66,
          38,
          62,
          55,
          58,
          43,
          64,
          50,
          53,
          45,
          65,
          69,
          69,
          67,
          68,
          34,
          62,
          51,
          46,
          67,
          50,
          42,
          56,
          41,
          42,
          53,
          43,
          56,
          52,
          62,
          70,
          54,
          70,
          54,
          35,
          48,
          55,
          58,
          54,
          69,
          77,
          68,
          58,
          60,
          51,
          55,
          52,
          60,
          58,
          64,
          37,
          59,
          51,
          43,
          58,
          29,
          41,
          63,
          51,
          54,
          44,
          54,
          65,
          57,
          63,
          35,
          41,
          62,
          43,
          58,
          52,
          61,
          39,
          45,
          52,
          62,
          62,
          53,
          43,
          47,
          52,
          68,
          39,
          53,
          62,
          51,
          60,
          65,
          65,
          60,
          60,
          54,
          44,
          44,
          51,
          59,
          71,
          61,
          55,
          64,
          43,
          58,
          60,
          58,
          49,
          48,
          52,
          44,
          56,
          57,
          67,
          53,
          52,
          43,
          52,
          59,
          64,
          66,
          39,
          57,
          58,
          57,
          47,
          55,
          35,
          61,
          58,
          58,
          58,
          56,
          56,
          67,
          55,
          44,
          63,
          63,
          41,
          59,
          57,
          45,
          68,
          57,
          57,
          38
         ],
         "y0": " ",
         "yaxis": "y"
        }
       ],
       "layout": {
        "boxmode": "group",
        "legend": {
         "tracegroupgap": 0
        },
        "margin": {
         "t": 60
        },
        "template": {
         "data": {
          "bar": [
           {
            "error_x": {
             "color": "#2a3f5f"
            },
            "error_y": {
             "color": "#2a3f5f"
            },
            "marker": {
             "line": {
              "color": "#E5ECF6",
              "width": 0.5
             },
             "pattern": {
              "fillmode": "overlay",
              "size": 10,
              "solidity": 0.2
             }
            },
            "type": "bar"
           }
          ],
          "barpolar": [
           {
            "marker": {
             "line": {
              "color": "#E5ECF6",
              "width": 0.5
             },
             "pattern": {
              "fillmode": "overlay",
              "size": 10,
              "solidity": 0.2
             }
            },
            "type": "barpolar"
           }
          ],
          "carpet": [
           {
            "aaxis": {
             "endlinecolor": "#2a3f5f",
             "gridcolor": "white",
             "linecolor": "white",
             "minorgridcolor": "white",
             "startlinecolor": "#2a3f5f"
            },
            "baxis": {
             "endlinecolor": "#2a3f5f",
             "gridcolor": "white",
             "linecolor": "white",
             "minorgridcolor": "white",
             "startlinecolor": "#2a3f5f"
            },
            "type": "carpet"
           }
          ],
          "choropleth": [
           {
            "colorbar": {
             "outlinewidth": 0,
             "ticks": ""
            },
            "type": "choropleth"
           }
          ],
          "contour": [
           {
            "colorbar": {
             "outlinewidth": 0,
             "ticks": ""
            },
            "colorscale": [
             [
              0,
              "#0d0887"
             ],
             [
              0.1111111111111111,
              "#46039f"
             ],
             [
              0.2222222222222222,
              "#7201a8"
             ],
             [
              0.3333333333333333,
              "#9c179e"
             ],
             [
              0.4444444444444444,
              "#bd3786"
             ],
             [
              0.5555555555555556,
              "#d8576b"
             ],
             [
              0.6666666666666666,
              "#ed7953"
             ],
             [
              0.7777777777777778,
              "#fb9f3a"
             ],
             [
              0.8888888888888888,
              "#fdca26"
             ],
             [
              1,
              "#f0f921"
             ]
            ],
            "type": "contour"
           }
          ],
          "contourcarpet": [
           {
            "colorbar": {
             "outlinewidth": 0,
             "ticks": ""
            },
            "type": "contourcarpet"
           }
          ],
          "heatmap": [
           {
            "colorbar": {
             "outlinewidth": 0,
             "ticks": ""
            },
            "colorscale": [
             [
              0,
              "#0d0887"
             ],
             [
              0.1111111111111111,
              "#46039f"
             ],
             [
              0.2222222222222222,
              "#7201a8"
             ],
             [
              0.3333333333333333,
              "#9c179e"
             ],
             [
              0.4444444444444444,
              "#bd3786"
             ],
             [
              0.5555555555555556,
              "#d8576b"
             ],
             [
              0.6666666666666666,
              "#ed7953"
             ],
             [
              0.7777777777777778,
              "#fb9f3a"
             ],
             [
              0.8888888888888888,
              "#fdca26"
             ],
             [
              1,
              "#f0f921"
             ]
            ],
            "type": "heatmap"
           }
          ],
          "heatmapgl": [
           {
            "colorbar": {
             "outlinewidth": 0,
             "ticks": ""
            },
            "colorscale": [
             [
              0,
              "#0d0887"
             ],
             [
              0.1111111111111111,
              "#46039f"
             ],
             [
              0.2222222222222222,
              "#7201a8"
             ],
             [
              0.3333333333333333,
              "#9c179e"
             ],
             [
              0.4444444444444444,
              "#bd3786"
             ],
             [
              0.5555555555555556,
              "#d8576b"
             ],
             [
              0.6666666666666666,
              "#ed7953"
             ],
             [
              0.7777777777777778,
              "#fb9f3a"
             ],
             [
              0.8888888888888888,
              "#fdca26"
             ],
             [
              1,
              "#f0f921"
             ]
            ],
            "type": "heatmapgl"
           }
          ],
          "histogram": [
           {
            "marker": {
             "pattern": {
              "fillmode": "overlay",
              "size": 10,
              "solidity": 0.2
             }
            },
            "type": "histogram"
           }
          ],
          "histogram2d": [
           {
            "colorbar": {
             "outlinewidth": 0,
             "ticks": ""
            },
            "colorscale": [
             [
              0,
              "#0d0887"
             ],
             [
              0.1111111111111111,
              "#46039f"
             ],
             [
              0.2222222222222222,
              "#7201a8"
             ],
             [
              0.3333333333333333,
              "#9c179e"
             ],
             [
              0.4444444444444444,
              "#bd3786"
             ],
             [
              0.5555555555555556,
              "#d8576b"
             ],
             [
              0.6666666666666666,
              "#ed7953"
             ],
             [
              0.7777777777777778,
              "#fb9f3a"
             ],
             [
              0.8888888888888888,
              "#fdca26"
             ],
             [
              1,
              "#f0f921"
             ]
            ],
            "type": "histogram2d"
           }
          ],
          "histogram2dcontour": [
           {
            "colorbar": {
             "outlinewidth": 0,
             "ticks": ""
            },
            "colorscale": [
             [
              0,
              "#0d0887"
             ],
             [
              0.1111111111111111,
              "#46039f"
             ],
             [
              0.2222222222222222,
              "#7201a8"
             ],
             [
              0.3333333333333333,
              "#9c179e"
             ],
             [
              0.4444444444444444,
              "#bd3786"
             ],
             [
              0.5555555555555556,
              "#d8576b"
             ],
             [
              0.6666666666666666,
              "#ed7953"
             ],
             [
              0.7777777777777778,
              "#fb9f3a"
             ],
             [
              0.8888888888888888,
              "#fdca26"
             ],
             [
              1,
              "#f0f921"
             ]
            ],
            "type": "histogram2dcontour"
           }
          ],
          "mesh3d": [
           {
            "colorbar": {
             "outlinewidth": 0,
             "ticks": ""
            },
            "type": "mesh3d"
           }
          ],
          "parcoords": [
           {
            "line": {
             "colorbar": {
              "outlinewidth": 0,
              "ticks": ""
             }
            },
            "type": "parcoords"
           }
          ],
          "pie": [
           {
            "automargin": true,
            "type": "pie"
           }
          ],
          "scatter": [
           {
            "fillpattern": {
             "fillmode": "overlay",
             "size": 10,
             "solidity": 0.2
            },
            "type": "scatter"
           }
          ],
          "scatter3d": [
           {
            "line": {
             "colorbar": {
              "outlinewidth": 0,
              "ticks": ""
             }
            },
            "marker": {
             "colorbar": {
              "outlinewidth": 0,
              "ticks": ""
             }
            },
            "type": "scatter3d"
           }
          ],
          "scattercarpet": [
           {
            "marker": {
             "colorbar": {
              "outlinewidth": 0,
              "ticks": ""
             }
            },
            "type": "scattercarpet"
           }
          ],
          "scattergeo": [
           {
            "marker": {
             "colorbar": {
              "outlinewidth": 0,
              "ticks": ""
             }
            },
            "type": "scattergeo"
           }
          ],
          "scattergl": [
           {
            "marker": {
             "colorbar": {
              "outlinewidth": 0,
              "ticks": ""
             }
            },
            "type": "scattergl"
           }
          ],
          "scattermapbox": [
           {
            "marker": {
             "colorbar": {
              "outlinewidth": 0,
              "ticks": ""
             }
            },
            "type": "scattermapbox"
           }
          ],
          "scatterpolar": [
           {
            "marker": {
             "colorbar": {
              "outlinewidth": 0,
              "ticks": ""
             }
            },
            "type": "scatterpolar"
           }
          ],
          "scatterpolargl": [
           {
            "marker": {
             "colorbar": {
              "outlinewidth": 0,
              "ticks": ""
             }
            },
            "type": "scatterpolargl"
           }
          ],
          "scatterternary": [
           {
            "marker": {
             "colorbar": {
              "outlinewidth": 0,
              "ticks": ""
             }
            },
            "type": "scatterternary"
           }
          ],
          "surface": [
           {
            "colorbar": {
             "outlinewidth": 0,
             "ticks": ""
            },
            "colorscale": [
             [
              0,
              "#0d0887"
             ],
             [
              0.1111111111111111,
              "#46039f"
             ],
             [
              0.2222222222222222,
              "#7201a8"
             ],
             [
              0.3333333333333333,
              "#9c179e"
             ],
             [
              0.4444444444444444,
              "#bd3786"
             ],
             [
              0.5555555555555556,
              "#d8576b"
             ],
             [
              0.6666666666666666,
              "#ed7953"
             ],
             [
              0.7777777777777778,
              "#fb9f3a"
             ],
             [
              0.8888888888888888,
              "#fdca26"
             ],
             [
              1,
              "#f0f921"
             ]
            ],
            "type": "surface"
           }
          ],
          "table": [
           {
            "cells": {
             "fill": {
              "color": "#EBF0F8"
             },
             "line": {
              "color": "white"
             }
            },
            "header": {
             "fill": {
              "color": "#C8D4E3"
             },
             "line": {
              "color": "white"
             }
            },
            "type": "table"
           }
          ]
         },
         "layout": {
          "annotationdefaults": {
           "arrowcolor": "#2a3f5f",
           "arrowhead": 0,
           "arrowwidth": 1
          },
          "autotypenumbers": "strict",
          "coloraxis": {
           "colorbar": {
            "outlinewidth": 0,
            "ticks": ""
           }
          },
          "colorscale": {
           "diverging": [
            [
             0,
             "#8e0152"
            ],
            [
             0.1,
             "#c51b7d"
            ],
            [
             0.2,
             "#de77ae"
            ],
            [
             0.3,
             "#f1b6da"
            ],
            [
             0.4,
             "#fde0ef"
            ],
            [
             0.5,
             "#f7f7f7"
            ],
            [
             0.6,
             "#e6f5d0"
            ],
            [
             0.7,
             "#b8e186"
            ],
            [
             0.8,
             "#7fbc41"
            ],
            [
             0.9,
             "#4d9221"
            ],
            [
             1,
             "#276419"
            ]
           ],
           "sequential": [
            [
             0,
             "#0d0887"
            ],
            [
             0.1111111111111111,
             "#46039f"
            ],
            [
             0.2222222222222222,
             "#7201a8"
            ],
            [
             0.3333333333333333,
             "#9c179e"
            ],
            [
             0.4444444444444444,
             "#bd3786"
            ],
            [
             0.5555555555555556,
             "#d8576b"
            ],
            [
             0.6666666666666666,
             "#ed7953"
            ],
            [
             0.7777777777777778,
             "#fb9f3a"
            ],
            [
             0.8888888888888888,
             "#fdca26"
            ],
            [
             1,
             "#f0f921"
            ]
           ],
           "sequentialminus": [
            [
             0,
             "#0d0887"
            ],
            [
             0.1111111111111111,
             "#46039f"
            ],
            [
             0.2222222222222222,
             "#7201a8"
            ],
            [
             0.3333333333333333,
             "#9c179e"
            ],
            [
             0.4444444444444444,
             "#bd3786"
            ],
            [
             0.5555555555555556,
             "#d8576b"
            ],
            [
             0.6666666666666666,
             "#ed7953"
            ],
            [
             0.7777777777777778,
             "#fb9f3a"
            ],
            [
             0.8888888888888888,
             "#fdca26"
            ],
            [
             1,
             "#f0f921"
            ]
           ]
          },
          "colorway": [
           "#636efa",
           "#EF553B",
           "#00cc96",
           "#ab63fa",
           "#FFA15A",
           "#19d3f3",
           "#FF6692",
           "#B6E880",
           "#FF97FF",
           "#FECB52"
          ],
          "font": {
           "color": "#2a3f5f"
          },
          "geo": {
           "bgcolor": "white",
           "lakecolor": "white",
           "landcolor": "#E5ECF6",
           "showlakes": true,
           "showland": true,
           "subunitcolor": "white"
          },
          "hoverlabel": {
           "align": "left"
          },
          "hovermode": "closest",
          "mapbox": {
           "style": "light"
          },
          "paper_bgcolor": "white",
          "plot_bgcolor": "#E5ECF6",
          "polar": {
           "angularaxis": {
            "gridcolor": "white",
            "linecolor": "white",
            "ticks": ""
           },
           "bgcolor": "#E5ECF6",
           "radialaxis": {
            "gridcolor": "white",
            "linecolor": "white",
            "ticks": ""
           }
          },
          "scene": {
           "xaxis": {
            "backgroundcolor": "#E5ECF6",
            "gridcolor": "white",
            "gridwidth": 2,
            "linecolor": "white",
            "showbackground": true,
            "ticks": "",
            "zerolinecolor": "white"
           },
           "yaxis": {
            "backgroundcolor": "#E5ECF6",
            "gridcolor": "white",
            "gridwidth": 2,
            "linecolor": "white",
            "showbackground": true,
            "ticks": "",
            "zerolinecolor": "white"
           },
           "zaxis": {
            "backgroundcolor": "#E5ECF6",
            "gridcolor": "white",
            "gridwidth": 2,
            "linecolor": "white",
            "showbackground": true,
            "ticks": "",
            "zerolinecolor": "white"
           }
          },
          "shapedefaults": {
           "line": {
            "color": "#2a3f5f"
           }
          },
          "ternary": {
           "aaxis": {
            "gridcolor": "white",
            "linecolor": "white",
            "ticks": ""
           },
           "baxis": {
            "gridcolor": "white",
            "linecolor": "white",
            "ticks": ""
           },
           "bgcolor": "#E5ECF6",
           "caxis": {
            "gridcolor": "white",
            "linecolor": "white",
            "ticks": ""
           }
          },
          "title": {
           "x": 0.05
          },
          "xaxis": {
           "automargin": true,
           "gridcolor": "white",
           "linecolor": "white",
           "ticks": "",
           "title": {
            "standoff": 15
           },
           "zerolinecolor": "white",
           "zerolinewidth": 2
          },
          "yaxis": {
           "automargin": true,
           "gridcolor": "white",
           "linecolor": "white",
           "ticks": "",
           "title": {
            "standoff": 15
           },
           "zerolinecolor": "white",
           "zerolinewidth": 2
          }
         }
        },
        "xaxis": {
         "anchor": "y",
         "domain": [
          0,
          1
         ]
        },
        "yaxis": {
         "anchor": "x",
         "domain": [
          0,
          1
         ],
         "title": {
          "text": "Age"
         }
        }
       }
      }
     },
     "metadata": {},
     "output_type": "display_data"
    }
   ],
   "source": [
    "# Análise de Outliers\n",
    "\n",
    "px.box(dados2,y=\"Age\")"
   ]
  },
  {
   "cell_type": "code",
   "execution_count": 47,
   "metadata": {},
   "outputs": [
    {
     "data": {
      "application/vnd.plotly.v1+json": {
       "config": {
        "plotlyServerURL": "https://plot.ly"
       },
       "data": [
        {
         "alignmentgroup": "True",
         "hovertemplate": "RestingBP=%{y}<extra></extra>",
         "legendgroup": "",
         "marker": {
          "color": "#636efa"
         },
         "name": "",
         "notched": false,
         "offsetgroup": "",
         "orientation": "v",
         "showlegend": false,
         "type": "box",
         "x0": " ",
         "xaxis": "x",
         "y": [
          140,
          160,
          130,
          138,
          150,
          120,
          130,
          110,
          140,
          120,
          130,
          136,
          120,
          140,
          115,
          120,
          110,
          120,
          100,
          120,
          100,
          120,
          124,
          150,
          130,
          130,
          124,
          120,
          113,
          125,
          145,
          130,
          125,
          130,
          150,
          125,
          140,
          110,
          120,
          150,
          150,
          130,
          150,
          140,
          120,
          130,
          120,
          140,
          112,
          110,
          130,
          120,
          140,
          130,
          130,
          160,
          120,
          130,
          150,
          112,
          100,
          150,
          140,
          120,
          110,
          120,
          132,
          110,
          160,
          150,
          140,
          130,
          120,
          120,
          140,
          150,
          118,
          140,
          140,
          130,
          110,
          120,
          150,
          160,
          150,
          140,
          170,
          140,
          120,
          140,
          110,
          130,
          120,
          160,
          110,
          130,
          142,
          160,
          120,
          125,
          130,
          130,
          150,
          120,
          118,
          140,
          120,
          150,
          140,
          190,
          130,
          150,
          140,
          140,
          130,
          100,
          120,
          130,
          120,
          140,
          135,
          125,
          110,
          180,
          130,
          120,
          130,
          108,
          120,
          120,
          145,
          110,
          170,
          150,
          130,
          115,
          120,
          120,
          140,
          150,
          160,
          140,
          160,
          140,
          120,
          110,
          120,
          120,
          120,
          130,
          130,
          100,
          130,
          120,
          120,
          155,
          110,
          140,
          130,
          160,
          140,
          128,
          160,
          120,
          140,
          140,
          140,
          140,
          135,
          140,
          120,
          140,
          140,
          140,
          140,
          140,
          140,
          140,
          130,
          130,
          130,
          130,
          140,
          110,
          160,
          160,
          130,
          120,
          120,
          180,
          180,
          170,
          130,
          135,
          125,
          160,
          120,
          150,
          120,
          130,
          110,
          120,
          160,
          100,
          130,
          150,
          120,
          110,
          130,
          125,
          106,
          140,
          130,
          130,
          150,
          170,
          110,
          120,
          140,
          140,
          130,
          160,
          120,
          120,
          120,
          145,
          120,
          92,
          120,
          130,
          130,
          130,
          120,
          112,
          140,
          120,
          120,
          140,
          160,
          160,
          145,
          200,
          160,
          120,
          160,
          120,
          120,
          122,
          130,
          130,
          135,
          120,
          125,
          140,
          145,
          120,
          130,
          150,
          150,
          122,
          140,
          120,
          120,
          130,
          140,
          160,
          130,
          98,
          130,
          130,
          120,
          105,
          140,
          120,
          180,
          180,
          135,
          170,
          180,
          130,
          120,
          150,
          130,
          110,
          140,
          110,
          140,
          120,
          133,
          120,
          110,
          140,
          130,
          115,
          95,
          105,
          145,
          110,
          110,
          110,
          160,
          140,
          125,
          120,
          95,
          120,
          115,
          130,
          115,
          95,
          155,
          125,
          125,
          115,
          80,
          145,
          105,
          140,
          130,
          145,
          125,
          100,
          105,
          115,
          100,
          105,
          110,
          125,
          95,
          130,
          115,
          115,
          100,
          95,
          130,
          120,
          160,
          150,
          140,
          95,
          100,
          110,
          110,
          130,
          120,
          135,
          120,
          115,
          137,
          110,
          120,
          140,
          120,
          130,
          120,
          145,
          115,
          120,
          115,
          105,
          160,
          160,
          155,
          120,
          120,
          200,
          150,
          135,
          140,
          150,
          135,
          150,
          185,
          135,
          125,
          160,
          155,
          160,
          140,
          120,
          160,
          115,
          115,
          110,
          120,
          150,
          145,
          130,
          140,
          160,
          140,
          115,
          130,
          150,
          160,
          135,
          140,
          170,
          165,
          200,
          160,
          130,
          145,
          135,
          110,
          120,
          140,
          115,
          110,
          160,
          150,
          180,
          125,
          125,
          130,
          155,
          140,
          130,
          132,
          142,
          110,
          120,
          150,
          180,
          120,
          160,
          126,
          140,
          110,
          133,
          128,
          120,
          170,
          110,
          126,
          152,
          116,
          120,
          130,
          138,
          128,
          130,
          128,
          130,
          120,
          136,
          130,
          124,
          160,
          122,
          144,
          140,
          120,
          136,
          154,
          120,
          125,
          134,
          104,
          139,
          136,
          122,
          128,
          131,
          134,
          120,
          132,
          152,
          124,
          126,
          138,
          154,
          141,
          131,
          178,
          132,
          110,
          130,
          170,
          126,
          140,
          142,
          120,
          134,
          139,
          110,
          140,
          140,
          136,
          120,
          170,
          130,
          137,
          142,
          142,
          132,
          146,
          160,
          135,
          136,
          130,
          140,
          132,
          158,
          136,
          136,
          106,
          120,
          110,
          136,
          160,
          123,
          112,
          122,
          130,
          150,
          150,
          102,
          96,
          130,
          120,
          144,
          124,
          150,
          130,
          144,
          139,
          131,
          143,
          133,
          143,
          116,
          110,
          125,
          130,
          133,
          150,
          130,
          110,
          138,
          104,
          138,
          170,
          140,
          132,
          132,
          142,
          112,
          139,
          172,
          120,
          144,
          145,
          155,
          150,
          160,
          137,
          137,
          134,
          133,
          132,
          140,
          135,
          144,
          141,
          150,
          130,
          110,
          158,
          128,
          140,
          150,
          160,
          142,
          137,
          139,
          146,
          156,
          145,
          131,
          140,
          122,
          142,
          141,
          180,
          124,
          118,
          140,
          140,
          136,
          100,
          190,
          130,
          160,
          130,
          122,
          133,
          120,
          130,
          130,
          140,
          120,
          155,
          134,
          114,
          160,
          144,
          158,
          134,
          127,
          135,
          122,
          140,
          120,
          130,
          115,
          124,
          128,
          120,
          120,
          130,
          110,
          140,
          150,
          135,
          142,
          140,
          134,
          128,
          112,
          140,
          140,
          110,
          140,
          120,
          130,
          115,
          112,
          132,
          130,
          138,
          120,
          112,
          110,
          128,
          160,
          120,
          170,
          144,
          130,
          140,
          160,
          130,
          122,
          152,
          124,
          130,
          101,
          126,
          140,
          118,
          110,
          160,
          150,
          136,
          128,
          140,
          140,
          130,
          105,
          138,
          120,
          174,
          120,
          150,
          130,
          120,
          150,
          145,
          150,
          140,
          136,
          118,
          108,
          120,
          120,
          156,
          140,
          106,
          142,
          104,
          94,
          120,
          120,
          146,
          120,
          150,
          130,
          110,
          148,
          128,
          178,
          126,
          150,
          140,
          130,
          124,
          110,
          125,
          110,
          120,
          100,
          140,
          120,
          108,
          120,
          130,
          165,
          130,
          124,
          100,
          150,
          140,
          112,
          180,
          110,
          158,
          135,
          120,
          134,
          120,
          200,
          150,
          130,
          120,
          122,
          152,
          160,
          125,
          160,
          120,
          136,
          134,
          117,
          108,
          112,
          140,
          120,
          150,
          142,
          152,
          125,
          118,
          132,
          145,
          138,
          140,
          125,
          192,
          123,
          112,
          110,
          132,
          112,
          112,
          120,
          108,
          130,
          130,
          105,
          140,
          128,
          120,
          178,
          120,
          150,
          130,
          128,
          110,
          180,
          110,
          130,
          138,
          138,
          160,
          140,
          100,
          120,
          118,
          138,
          140,
          150,
          125,
          129,
          120,
          134,
          110,
          102,
          130,
          130,
          132,
          108,
          140,
          160,
          140,
          145,
          108,
          126,
          124,
          135,
          100,
          110,
          140,
          125,
          118,
          125,
          125,
          140,
          160,
          152,
          102,
          105,
          125,
          130,
          170,
          125,
          122,
          128,
          130,
          130,
          135,
          94,
          120,
          120,
          110,
          135,
          150,
          130,
          138,
          135,
          130,
          132,
          150,
          118,
          145,
          118,
          115,
          128,
          130,
          160,
          138,
          120,
          138,
          120,
          180,
          140,
          130,
          140,
          140,
          130,
          110,
          155,
          140,
          145,
          120,
          130,
          112,
          110,
          150,
          160,
          150,
          132,
          140,
          150,
          120,
          130,
          120,
          130,
          110,
          172,
          120,
          140,
          140,
          160,
          128,
          138,
          132,
          128,
          134,
          170,
          146,
          138,
          154,
          130,
          110,
          130,
          128,
          122,
          148,
          114,
          170,
          125,
          130,
          120,
          152,
          132,
          120,
          140,
          124,
          120,
          164,
          140,
          110,
          144,
          130,
          130,
          138
         ],
         "y0": " ",
         "yaxis": "y"
        }
       ],
       "layout": {
        "boxmode": "group",
        "legend": {
         "tracegroupgap": 0
        },
        "margin": {
         "t": 60
        },
        "template": {
         "data": {
          "bar": [
           {
            "error_x": {
             "color": "#2a3f5f"
            },
            "error_y": {
             "color": "#2a3f5f"
            },
            "marker": {
             "line": {
              "color": "#E5ECF6",
              "width": 0.5
             },
             "pattern": {
              "fillmode": "overlay",
              "size": 10,
              "solidity": 0.2
             }
            },
            "type": "bar"
           }
          ],
          "barpolar": [
           {
            "marker": {
             "line": {
              "color": "#E5ECF6",
              "width": 0.5
             },
             "pattern": {
              "fillmode": "overlay",
              "size": 10,
              "solidity": 0.2
             }
            },
            "type": "barpolar"
           }
          ],
          "carpet": [
           {
            "aaxis": {
             "endlinecolor": "#2a3f5f",
             "gridcolor": "white",
             "linecolor": "white",
             "minorgridcolor": "white",
             "startlinecolor": "#2a3f5f"
            },
            "baxis": {
             "endlinecolor": "#2a3f5f",
             "gridcolor": "white",
             "linecolor": "white",
             "minorgridcolor": "white",
             "startlinecolor": "#2a3f5f"
            },
            "type": "carpet"
           }
          ],
          "choropleth": [
           {
            "colorbar": {
             "outlinewidth": 0,
             "ticks": ""
            },
            "type": "choropleth"
           }
          ],
          "contour": [
           {
            "colorbar": {
             "outlinewidth": 0,
             "ticks": ""
            },
            "colorscale": [
             [
              0,
              "#0d0887"
             ],
             [
              0.1111111111111111,
              "#46039f"
             ],
             [
              0.2222222222222222,
              "#7201a8"
             ],
             [
              0.3333333333333333,
              "#9c179e"
             ],
             [
              0.4444444444444444,
              "#bd3786"
             ],
             [
              0.5555555555555556,
              "#d8576b"
             ],
             [
              0.6666666666666666,
              "#ed7953"
             ],
             [
              0.7777777777777778,
              "#fb9f3a"
             ],
             [
              0.8888888888888888,
              "#fdca26"
             ],
             [
              1,
              "#f0f921"
             ]
            ],
            "type": "contour"
           }
          ],
          "contourcarpet": [
           {
            "colorbar": {
             "outlinewidth": 0,
             "ticks": ""
            },
            "type": "contourcarpet"
           }
          ],
          "heatmap": [
           {
            "colorbar": {
             "outlinewidth": 0,
             "ticks": ""
            },
            "colorscale": [
             [
              0,
              "#0d0887"
             ],
             [
              0.1111111111111111,
              "#46039f"
             ],
             [
              0.2222222222222222,
              "#7201a8"
             ],
             [
              0.3333333333333333,
              "#9c179e"
             ],
             [
              0.4444444444444444,
              "#bd3786"
             ],
             [
              0.5555555555555556,
              "#d8576b"
             ],
             [
              0.6666666666666666,
              "#ed7953"
             ],
             [
              0.7777777777777778,
              "#fb9f3a"
             ],
             [
              0.8888888888888888,
              "#fdca26"
             ],
             [
              1,
              "#f0f921"
             ]
            ],
            "type": "heatmap"
           }
          ],
          "heatmapgl": [
           {
            "colorbar": {
             "outlinewidth": 0,
             "ticks": ""
            },
            "colorscale": [
             [
              0,
              "#0d0887"
             ],
             [
              0.1111111111111111,
              "#46039f"
             ],
             [
              0.2222222222222222,
              "#7201a8"
             ],
             [
              0.3333333333333333,
              "#9c179e"
             ],
             [
              0.4444444444444444,
              "#bd3786"
             ],
             [
              0.5555555555555556,
              "#d8576b"
             ],
             [
              0.6666666666666666,
              "#ed7953"
             ],
             [
              0.7777777777777778,
              "#fb9f3a"
             ],
             [
              0.8888888888888888,
              "#fdca26"
             ],
             [
              1,
              "#f0f921"
             ]
            ],
            "type": "heatmapgl"
           }
          ],
          "histogram": [
           {
            "marker": {
             "pattern": {
              "fillmode": "overlay",
              "size": 10,
              "solidity": 0.2
             }
            },
            "type": "histogram"
           }
          ],
          "histogram2d": [
           {
            "colorbar": {
             "outlinewidth": 0,
             "ticks": ""
            },
            "colorscale": [
             [
              0,
              "#0d0887"
             ],
             [
              0.1111111111111111,
              "#46039f"
             ],
             [
              0.2222222222222222,
              "#7201a8"
             ],
             [
              0.3333333333333333,
              "#9c179e"
             ],
             [
              0.4444444444444444,
              "#bd3786"
             ],
             [
              0.5555555555555556,
              "#d8576b"
             ],
             [
              0.6666666666666666,
              "#ed7953"
             ],
             [
              0.7777777777777778,
              "#fb9f3a"
             ],
             [
              0.8888888888888888,
              "#fdca26"
             ],
             [
              1,
              "#f0f921"
             ]
            ],
            "type": "histogram2d"
           }
          ],
          "histogram2dcontour": [
           {
            "colorbar": {
             "outlinewidth": 0,
             "ticks": ""
            },
            "colorscale": [
             [
              0,
              "#0d0887"
             ],
             [
              0.1111111111111111,
              "#46039f"
             ],
             [
              0.2222222222222222,
              "#7201a8"
             ],
             [
              0.3333333333333333,
              "#9c179e"
             ],
             [
              0.4444444444444444,
              "#bd3786"
             ],
             [
              0.5555555555555556,
              "#d8576b"
             ],
             [
              0.6666666666666666,
              "#ed7953"
             ],
             [
              0.7777777777777778,
              "#fb9f3a"
             ],
             [
              0.8888888888888888,
              "#fdca26"
             ],
             [
              1,
              "#f0f921"
             ]
            ],
            "type": "histogram2dcontour"
           }
          ],
          "mesh3d": [
           {
            "colorbar": {
             "outlinewidth": 0,
             "ticks": ""
            },
            "type": "mesh3d"
           }
          ],
          "parcoords": [
           {
            "line": {
             "colorbar": {
              "outlinewidth": 0,
              "ticks": ""
             }
            },
            "type": "parcoords"
           }
          ],
          "pie": [
           {
            "automargin": true,
            "type": "pie"
           }
          ],
          "scatter": [
           {
            "fillpattern": {
             "fillmode": "overlay",
             "size": 10,
             "solidity": 0.2
            },
            "type": "scatter"
           }
          ],
          "scatter3d": [
           {
            "line": {
             "colorbar": {
              "outlinewidth": 0,
              "ticks": ""
             }
            },
            "marker": {
             "colorbar": {
              "outlinewidth": 0,
              "ticks": ""
             }
            },
            "type": "scatter3d"
           }
          ],
          "scattercarpet": [
           {
            "marker": {
             "colorbar": {
              "outlinewidth": 0,
              "ticks": ""
             }
            },
            "type": "scattercarpet"
           }
          ],
          "scattergeo": [
           {
            "marker": {
             "colorbar": {
              "outlinewidth": 0,
              "ticks": ""
             }
            },
            "type": "scattergeo"
           }
          ],
          "scattergl": [
           {
            "marker": {
             "colorbar": {
              "outlinewidth": 0,
              "ticks": ""
             }
            },
            "type": "scattergl"
           }
          ],
          "scattermapbox": [
           {
            "marker": {
             "colorbar": {
              "outlinewidth": 0,
              "ticks": ""
             }
            },
            "type": "scattermapbox"
           }
          ],
          "scatterpolar": [
           {
            "marker": {
             "colorbar": {
              "outlinewidth": 0,
              "ticks": ""
             }
            },
            "type": "scatterpolar"
           }
          ],
          "scatterpolargl": [
           {
            "marker": {
             "colorbar": {
              "outlinewidth": 0,
              "ticks": ""
             }
            },
            "type": "scatterpolargl"
           }
          ],
          "scatterternary": [
           {
            "marker": {
             "colorbar": {
              "outlinewidth": 0,
              "ticks": ""
             }
            },
            "type": "scatterternary"
           }
          ],
          "surface": [
           {
            "colorbar": {
             "outlinewidth": 0,
             "ticks": ""
            },
            "colorscale": [
             [
              0,
              "#0d0887"
             ],
             [
              0.1111111111111111,
              "#46039f"
             ],
             [
              0.2222222222222222,
              "#7201a8"
             ],
             [
              0.3333333333333333,
              "#9c179e"
             ],
             [
              0.4444444444444444,
              "#bd3786"
             ],
             [
              0.5555555555555556,
              "#d8576b"
             ],
             [
              0.6666666666666666,
              "#ed7953"
             ],
             [
              0.7777777777777778,
              "#fb9f3a"
             ],
             [
              0.8888888888888888,
              "#fdca26"
             ],
             [
              1,
              "#f0f921"
             ]
            ],
            "type": "surface"
           }
          ],
          "table": [
           {
            "cells": {
             "fill": {
              "color": "#EBF0F8"
             },
             "line": {
              "color": "white"
             }
            },
            "header": {
             "fill": {
              "color": "#C8D4E3"
             },
             "line": {
              "color": "white"
             }
            },
            "type": "table"
           }
          ]
         },
         "layout": {
          "annotationdefaults": {
           "arrowcolor": "#2a3f5f",
           "arrowhead": 0,
           "arrowwidth": 1
          },
          "autotypenumbers": "strict",
          "coloraxis": {
           "colorbar": {
            "outlinewidth": 0,
            "ticks": ""
           }
          },
          "colorscale": {
           "diverging": [
            [
             0,
             "#8e0152"
            ],
            [
             0.1,
             "#c51b7d"
            ],
            [
             0.2,
             "#de77ae"
            ],
            [
             0.3,
             "#f1b6da"
            ],
            [
             0.4,
             "#fde0ef"
            ],
            [
             0.5,
             "#f7f7f7"
            ],
            [
             0.6,
             "#e6f5d0"
            ],
            [
             0.7,
             "#b8e186"
            ],
            [
             0.8,
             "#7fbc41"
            ],
            [
             0.9,
             "#4d9221"
            ],
            [
             1,
             "#276419"
            ]
           ],
           "sequential": [
            [
             0,
             "#0d0887"
            ],
            [
             0.1111111111111111,
             "#46039f"
            ],
            [
             0.2222222222222222,
             "#7201a8"
            ],
            [
             0.3333333333333333,
             "#9c179e"
            ],
            [
             0.4444444444444444,
             "#bd3786"
            ],
            [
             0.5555555555555556,
             "#d8576b"
            ],
            [
             0.6666666666666666,
             "#ed7953"
            ],
            [
             0.7777777777777778,
             "#fb9f3a"
            ],
            [
             0.8888888888888888,
             "#fdca26"
            ],
            [
             1,
             "#f0f921"
            ]
           ],
           "sequentialminus": [
            [
             0,
             "#0d0887"
            ],
            [
             0.1111111111111111,
             "#46039f"
            ],
            [
             0.2222222222222222,
             "#7201a8"
            ],
            [
             0.3333333333333333,
             "#9c179e"
            ],
            [
             0.4444444444444444,
             "#bd3786"
            ],
            [
             0.5555555555555556,
             "#d8576b"
            ],
            [
             0.6666666666666666,
             "#ed7953"
            ],
            [
             0.7777777777777778,
             "#fb9f3a"
            ],
            [
             0.8888888888888888,
             "#fdca26"
            ],
            [
             1,
             "#f0f921"
            ]
           ]
          },
          "colorway": [
           "#636efa",
           "#EF553B",
           "#00cc96",
           "#ab63fa",
           "#FFA15A",
           "#19d3f3",
           "#FF6692",
           "#B6E880",
           "#FF97FF",
           "#FECB52"
          ],
          "font": {
           "color": "#2a3f5f"
          },
          "geo": {
           "bgcolor": "white",
           "lakecolor": "white",
           "landcolor": "#E5ECF6",
           "showlakes": true,
           "showland": true,
           "subunitcolor": "white"
          },
          "hoverlabel": {
           "align": "left"
          },
          "hovermode": "closest",
          "mapbox": {
           "style": "light"
          },
          "paper_bgcolor": "white",
          "plot_bgcolor": "#E5ECF6",
          "polar": {
           "angularaxis": {
            "gridcolor": "white",
            "linecolor": "white",
            "ticks": ""
           },
           "bgcolor": "#E5ECF6",
           "radialaxis": {
            "gridcolor": "white",
            "linecolor": "white",
            "ticks": ""
           }
          },
          "scene": {
           "xaxis": {
            "backgroundcolor": "#E5ECF6",
            "gridcolor": "white",
            "gridwidth": 2,
            "linecolor": "white",
            "showbackground": true,
            "ticks": "",
            "zerolinecolor": "white"
           },
           "yaxis": {
            "backgroundcolor": "#E5ECF6",
            "gridcolor": "white",
            "gridwidth": 2,
            "linecolor": "white",
            "showbackground": true,
            "ticks": "",
            "zerolinecolor": "white"
           },
           "zaxis": {
            "backgroundcolor": "#E5ECF6",
            "gridcolor": "white",
            "gridwidth": 2,
            "linecolor": "white",
            "showbackground": true,
            "ticks": "",
            "zerolinecolor": "white"
           }
          },
          "shapedefaults": {
           "line": {
            "color": "#2a3f5f"
           }
          },
          "ternary": {
           "aaxis": {
            "gridcolor": "white",
            "linecolor": "white",
            "ticks": ""
           },
           "baxis": {
            "gridcolor": "white",
            "linecolor": "white",
            "ticks": ""
           },
           "bgcolor": "#E5ECF6",
           "caxis": {
            "gridcolor": "white",
            "linecolor": "white",
            "ticks": ""
           }
          },
          "title": {
           "x": 0.05
          },
          "xaxis": {
           "automargin": true,
           "gridcolor": "white",
           "linecolor": "white",
           "ticks": "",
           "title": {
            "standoff": 15
           },
           "zerolinecolor": "white",
           "zerolinewidth": 2
          },
          "yaxis": {
           "automargin": true,
           "gridcolor": "white",
           "linecolor": "white",
           "ticks": "",
           "title": {
            "standoff": 15
           },
           "zerolinecolor": "white",
           "zerolinewidth": 2
          }
         }
        },
        "xaxis": {
         "anchor": "y",
         "domain": [
          0,
          1
         ]
        },
        "yaxis": {
         "anchor": "x",
         "domain": [
          0,
          1
         ],
         "title": {
          "text": "RestingBP"
         }
        }
       }
      }
     },
     "metadata": {},
     "output_type": "display_data"
    }
   ],
   "source": [
    "px.box(dados2,y=\"RestingBP\")"
   ]
  },
  {
   "cell_type": "code",
   "execution_count": 48,
   "metadata": {},
   "outputs": [],
   "source": [
    "# Salvando a base final tratada \n",
    "\n",
    "dados2.to_csv('heart_tratado.csv', sep=';', encoding='utf-8', index = False)"
   ]
  },
  {
   "cell_type": "code",
   "execution_count": 49,
   "metadata": {},
   "outputs": [
    {
     "name": "stdout",
     "output_type": "stream",
     "text": [
      "Sex\n",
      "F     50\n",
      "M    457\n",
      "Name: HeartDisease, dtype: int64\n"
     ]
    }
   ],
   "source": [
    "print(dados2.groupby(\"Sex\")[\"HeartDisease\"].sum())"
   ]
  },
  {
   "cell_type": "code",
   "execution_count": 50,
   "metadata": {},
   "outputs": [
    {
     "name": "stdout",
     "output_type": "stream",
     "text": [
      "   Age Sex ChestPainType  RestingBP  Cholesterol  FastingBS RestingECG  MaxHR  \\\n",
      "0   40   M           ATA        140        289.0          0     Normal    172   \n",
      "1   49   F           NAP        160        180.0          0     Normal    156   \n",
      "2   37   M           ATA        130        283.0          0         ST     98   \n",
      "3   48   F           ASY        138        214.0          0     Normal    108   \n",
      "4   54   M           NAP        150        195.0          0     Normal    122   \n",
      "\n",
      "  ExerciseAngina  Oldpeak ST_Slope  HeartDisease  \n",
      "0              N      0.0       Up             0  \n",
      "1              N      1.0     Flat             1  \n",
      "2              N      0.0       Up             0  \n",
      "3              Y      1.5     Flat             1  \n",
      "4              N      0.0       Up             0  \n"
     ]
    }
   ],
   "source": [
    "# Salvando a variável trata\n",
    "\n",
    "df = pd.DataFrame.copy(dados2)\n",
    "\n",
    "print(df.head())"
   ]
  },
  {
   "cell_type": "code",
   "execution_count": 51,
   "metadata": {},
   "outputs": [],
   "source": [
    "df2 = pd.DataFrame.copy(df)"
   ]
  },
  {
   "cell_type": "markdown",
   "metadata": {},
   "source": [
    "# Transformando as variáveis categóricas nominais em variáveis categóricas ordinias"
   ]
  },
  {
   "cell_type": "code",
   "execution_count": 52,
   "metadata": {},
   "outputs": [],
   "source": [
    "df2['Sex'].replace({'M':0,'F':1},inplace=True)\n",
    "df2['ChestPainType'].replace({'TA':0, 'ATA': 1, 'NAP':2, 'ASY': 3}, inplace=True)\n",
    "df2['RestingECG'].replace({'Normal':0, 'ST': 1, 'LVH':2}, inplace=True)\n",
    "df2['ExerciseAngina'].replace({'N':0, 'Y': 1}, inplace=True)\n",
    "df2['ST_Slope'].replace({'Up':0, 'Flat': 1, 'Down':2}, inplace=True)"
   ]
  },
  {
   "cell_type": "code",
   "execution_count": 53,
   "metadata": {},
   "outputs": [
    {
     "data": {
      "text/html": [
       "<div>\n",
       "<style scoped>\n",
       "    .dataframe tbody tr th:only-of-type {\n",
       "        vertical-align: middle;\n",
       "    }\n",
       "\n",
       "    .dataframe tbody tr th {\n",
       "        vertical-align: top;\n",
       "    }\n",
       "\n",
       "    .dataframe thead th {\n",
       "        text-align: right;\n",
       "    }\n",
       "</style>\n",
       "<table border=\"1\" class=\"dataframe\">\n",
       "  <thead>\n",
       "    <tr style=\"text-align: right;\">\n",
       "      <th></th>\n",
       "      <th>Age</th>\n",
       "      <th>Sex</th>\n",
       "      <th>ChestPainType</th>\n",
       "      <th>RestingBP</th>\n",
       "      <th>Cholesterol</th>\n",
       "      <th>FastingBS</th>\n",
       "      <th>RestingECG</th>\n",
       "      <th>MaxHR</th>\n",
       "      <th>ExerciseAngina</th>\n",
       "      <th>Oldpeak</th>\n",
       "      <th>ST_Slope</th>\n",
       "      <th>HeartDisease</th>\n",
       "    </tr>\n",
       "  </thead>\n",
       "  <tbody>\n",
       "    <tr>\n",
       "      <th>0</th>\n",
       "      <td>40</td>\n",
       "      <td>0</td>\n",
       "      <td>1</td>\n",
       "      <td>140</td>\n",
       "      <td>289.0</td>\n",
       "      <td>0</td>\n",
       "      <td>0</td>\n",
       "      <td>172</td>\n",
       "      <td>0</td>\n",
       "      <td>0.0</td>\n",
       "      <td>0</td>\n",
       "      <td>0</td>\n",
       "    </tr>\n",
       "    <tr>\n",
       "      <th>1</th>\n",
       "      <td>49</td>\n",
       "      <td>1</td>\n",
       "      <td>2</td>\n",
       "      <td>160</td>\n",
       "      <td>180.0</td>\n",
       "      <td>0</td>\n",
       "      <td>0</td>\n",
       "      <td>156</td>\n",
       "      <td>0</td>\n",
       "      <td>1.0</td>\n",
       "      <td>1</td>\n",
       "      <td>1</td>\n",
       "    </tr>\n",
       "    <tr>\n",
       "      <th>2</th>\n",
       "      <td>37</td>\n",
       "      <td>0</td>\n",
       "      <td>1</td>\n",
       "      <td>130</td>\n",
       "      <td>283.0</td>\n",
       "      <td>0</td>\n",
       "      <td>1</td>\n",
       "      <td>98</td>\n",
       "      <td>0</td>\n",
       "      <td>0.0</td>\n",
       "      <td>0</td>\n",
       "      <td>0</td>\n",
       "    </tr>\n",
       "    <tr>\n",
       "      <th>3</th>\n",
       "      <td>48</td>\n",
       "      <td>1</td>\n",
       "      <td>3</td>\n",
       "      <td>138</td>\n",
       "      <td>214.0</td>\n",
       "      <td>0</td>\n",
       "      <td>0</td>\n",
       "      <td>108</td>\n",
       "      <td>1</td>\n",
       "      <td>1.5</td>\n",
       "      <td>1</td>\n",
       "      <td>1</td>\n",
       "    </tr>\n",
       "    <tr>\n",
       "      <th>4</th>\n",
       "      <td>54</td>\n",
       "      <td>0</td>\n",
       "      <td>2</td>\n",
       "      <td>150</td>\n",
       "      <td>195.0</td>\n",
       "      <td>0</td>\n",
       "      <td>0</td>\n",
       "      <td>122</td>\n",
       "      <td>0</td>\n",
       "      <td>0.0</td>\n",
       "      <td>0</td>\n",
       "      <td>0</td>\n",
       "    </tr>\n",
       "  </tbody>\n",
       "</table>\n",
       "</div>"
      ],
      "text/plain": [
       "   Age  Sex  ChestPainType  RestingBP  Cholesterol  FastingBS  RestingECG  \\\n",
       "0   40    0              1        140        289.0          0           0   \n",
       "1   49    1              2        160        180.0          0           0   \n",
       "2   37    0              1        130        283.0          0           1   \n",
       "3   48    1              3        138        214.0          0           0   \n",
       "4   54    0              2        150        195.0          0           0   \n",
       "\n",
       "   MaxHR  ExerciseAngina  Oldpeak  ST_Slope  HeartDisease  \n",
       "0    172               0      0.0         0             0  \n",
       "1    156               0      1.0         1             1  \n",
       "2     98               0      0.0         0             0  \n",
       "3    108               1      1.5         1             1  \n",
       "4    122               0      0.0         0             0  "
      ]
     },
     "execution_count": 53,
     "metadata": {},
     "output_type": "execute_result"
    }
   ],
   "source": [
    "df2.head()"
   ]
  },
  {
   "cell_type": "markdown",
   "metadata": {},
   "source": [
    "# Atributos Previsores e Alvo"
   ]
  },
  {
   "cell_type": "code",
   "execution_count": 54,
   "metadata": {},
   "outputs": [],
   "source": [
    "previsores = df2.iloc[:,0:11].values"
   ]
  },
  {
   "cell_type": "code",
   "execution_count": 55,
   "metadata": {},
   "outputs": [
    {
     "data": {
      "text/plain": [
       "array([[40. ,  0. ,  1. , ...,  0. ,  0. ,  0. ],\n",
       "       [49. ,  1. ,  2. , ...,  0. ,  1. ,  1. ],\n",
       "       [37. ,  0. ,  1. , ...,  0. ,  0. ,  0. ],\n",
       "       ...,\n",
       "       [57. ,  0. ,  3. , ...,  1. ,  1.2,  1. ],\n",
       "       [57. ,  1. ,  1. , ...,  0. ,  0. ,  1. ],\n",
       "       [38. ,  0. ,  2. , ...,  0. ,  0. ,  0. ]])"
      ]
     },
     "execution_count": 55,
     "metadata": {},
     "output_type": "execute_result"
    }
   ],
   "source": [
    "previsores"
   ]
  },
  {
   "cell_type": "code",
   "execution_count": 56,
   "metadata": {},
   "outputs": [],
   "source": [
    "alvo = df2.iloc[:,11].values"
   ]
  },
  {
   "cell_type": "code",
   "execution_count": 57,
   "metadata": {},
   "outputs": [
    {
     "data": {
      "text/plain": [
       "array([0, 1, 0, 1, 0, 0, 0, 0, 1, 0, 0, 1, 0, 1, 0, 0, 1, 0, 1, 1, 0, 0,\n",
       "       0, 1, 0, 0, 0, 0, 0, 0, 1, 0, 1, 1, 0, 0, 1, 0, 0, 0, 0, 1, 0, 0,\n",
       "       1, 0, 0, 0, 0, 1, 1, 1, 0, 0, 0, 0, 1, 1, 0, 1, 0, 0, 0, 1, 0, 0,\n",
       "       0, 0, 1, 0, 1, 0, 1, 0, 1, 0, 1, 0, 0, 1, 0, 0, 1, 0, 1, 1, 1, 0,\n",
       "       1, 0, 0, 0, 0, 1, 0, 1, 0, 0, 0, 0, 1, 0, 1, 1, 1, 0, 0, 0, 0, 0,\n",
       "       0, 1, 0, 0, 0, 1, 1, 1, 0, 1, 1, 0, 0, 1, 0, 0, 0, 0, 0, 0, 0, 1,\n",
       "       1, 1, 0, 1, 0, 0, 1, 1, 1, 1, 1, 0, 1, 0, 0, 0, 0, 1, 0, 0, 0, 0,\n",
       "       0, 1, 1, 0, 1, 0, 1, 1, 0, 0, 0, 1, 1, 0, 0, 0, 0, 0, 0, 0, 1, 1,\n",
       "       1, 0, 0, 0, 1, 0, 1, 0, 0, 1, 0, 1, 0, 1, 0, 0, 0, 0, 0, 0, 0, 0,\n",
       "       1, 0, 0, 0, 0, 0, 0, 0, 0, 1, 0, 1, 1, 1, 0, 0, 1, 0, 1, 0, 0, 0,\n",
       "       1, 1, 0, 0, 0, 1, 0, 1, 0, 0, 0, 0, 0, 0, 0, 0, 1, 1, 1, 1, 0, 1,\n",
       "       1, 0, 1, 0, 1, 1, 1, 1, 1, 1, 0, 0, 1, 0, 0, 0, 0, 0, 0, 0, 1, 1,\n",
       "       1, 0, 1, 0, 1, 0, 0, 0, 1, 0, 0, 0, 1, 1, 0, 0, 0, 1, 0, 0, 0, 0,\n",
       "       0, 0, 0, 0, 0, 0, 0, 1, 1, 1, 1, 1, 1, 1, 1, 0, 1, 1, 1, 1, 1, 0,\n",
       "       1, 1, 0, 1, 1, 1, 0, 1, 1, 1, 1, 1, 1, 1, 1, 1, 1, 1, 0, 1, 1, 1,\n",
       "       1, 1, 0, 1, 1, 1, 0, 1, 1, 1, 1, 1, 1, 1, 1, 1, 1, 1, 1, 1, 1, 1,\n",
       "       1, 1, 1, 1, 1, 1, 1, 1, 1, 1, 1, 1, 0, 1, 1, 1, 1, 1, 1, 1, 1, 1,\n",
       "       1, 1, 1, 1, 1, 1, 1, 1, 1, 1, 1, 1, 1, 1, 1, 1, 1, 1, 1, 1, 1, 1,\n",
       "       1, 1, 1, 1, 1, 1, 1, 1, 1, 1, 1, 1, 1, 1, 1, 1, 1, 1, 1, 1, 1, 0,\n",
       "       1, 1, 0, 0, 1, 0, 1, 1, 0, 1, 1, 1, 1, 0, 1, 1, 0, 0, 1, 1, 1, 0,\n",
       "       1, 1, 1, 1, 1, 1, 1, 1, 1, 1, 1, 1, 0, 1, 0, 1, 1, 1, 0, 1, 1, 1,\n",
       "       0, 1, 0, 1, 0, 1, 0, 1, 1, 1, 1, 0, 1, 0, 1, 1, 1, 1, 1, 1, 1, 1,\n",
       "       1, 0, 1, 0, 1, 1, 1, 1, 1, 1, 1, 0, 1, 1, 1, 1, 1, 1, 0, 1, 1, 1,\n",
       "       0, 1, 1, 0, 1, 0, 1, 1, 0, 1, 1, 1, 1, 0, 1, 1, 1, 0, 0, 1, 0, 1,\n",
       "       1, 1, 1, 1, 1, 1, 1, 1, 1, 1, 0, 1, 1, 1, 1, 0, 0, 1, 1, 1, 0, 1,\n",
       "       0, 1, 1, 0, 1, 0, 1, 1, 1, 0, 0, 0, 1, 1, 1, 0, 1, 1, 1, 1, 1, 1,\n",
       "       1, 1, 1, 1, 1, 1, 1, 1, 1, 1, 0, 1, 1, 1, 0, 1, 1, 0, 0, 1, 1, 1,\n",
       "       1, 1, 0, 1, 1, 0, 1, 1, 1, 0, 0, 1, 1, 1, 1, 1, 0, 1, 0, 1, 1, 0,\n",
       "       1, 0, 0, 0, 1, 1, 1, 1, 0, 0, 0, 1, 0, 0, 1, 1, 0, 0, 1, 0, 0, 0,\n",
       "       0, 0, 0, 0, 1, 0, 1, 0, 0, 1, 1, 1, 1, 1, 0, 0, 1, 0, 0, 0, 1, 0,\n",
       "       1, 1, 1, 1, 1, 0, 0, 0, 0, 0, 1, 0, 1, 1, 0, 1, 0, 0, 0, 1, 0, 1,\n",
       "       0, 1, 1, 0, 0, 0, 0, 1, 0, 0, 0, 0, 1, 1, 1, 0, 0, 0, 0, 0, 0, 1,\n",
       "       0, 1, 1, 1, 1, 1, 0, 1, 0, 0, 0, 1, 0, 1, 1, 1, 0, 1, 1, 0, 1, 0,\n",
       "       1, 0, 0, 0, 1, 1, 0, 1, 1, 1, 1, 0, 0, 0, 1, 0, 0, 1, 1, 1, 0, 1,\n",
       "       0, 0, 0, 1, 0, 0, 1, 0, 1, 0, 1, 1, 1, 1, 1, 0, 0, 0, 0, 0, 0, 0,\n",
       "       1, 0, 0, 1, 1, 1, 0, 1, 0, 0, 0, 0, 0, 1, 0, 1, 1, 0, 0, 1, 1, 1,\n",
       "       1, 0, 0, 1, 1, 0, 0, 0, 1, 0, 0, 1, 0, 1, 0, 1, 0, 0, 0, 0, 0, 1,\n",
       "       0, 1, 1, 1, 1, 0, 0, 0, 1, 0, 1, 0, 0, 1, 0, 0, 0, 0, 0, 0, 1, 1,\n",
       "       0, 1, 0, 0, 1, 1, 0, 0, 1, 1, 0, 1, 0, 1, 0, 1, 0, 0, 1, 0, 0, 1,\n",
       "       0, 1, 1, 0, 1, 1, 1, 0, 1, 0, 0, 0, 0, 1, 1, 0, 0, 1, 1, 0, 1, 0,\n",
       "       0, 0, 0, 1, 0, 0, 1, 1, 1, 0, 0, 0, 1, 0, 1, 0, 1, 0, 1, 1, 1, 0,\n",
       "       0, 0, 1, 0, 1, 1, 1, 0, 1, 1, 1, 1, 1, 1, 0], dtype=int64)"
      ]
     },
     "execution_count": 57,
     "metadata": {},
     "output_type": "execute_result"
    }
   ],
   "source": [
    "alvo"
   ]
  },
  {
   "cell_type": "markdown",
   "metadata": {},
   "source": [
    "# Analise de Escolanemto"
   ]
  },
  {
   "cell_type": "code",
   "execution_count": 58,
   "metadata": {},
   "outputs": [
    {
     "name": "stdout",
     "output_type": "stream",
     "text": [
      "pacote importado com sucesso\n"
     ]
    }
   ],
   "source": [
    "from sklearn.preprocessing import StandardScaler\n",
    "print(\"pacote importado com sucesso\")"
   ]
  },
  {
   "cell_type": "code",
   "execution_count": 59,
   "metadata": {},
   "outputs": [],
   "source": [
    "previsores_esc = StandardScaler().fit_transform(previsores)"
   ]
  },
  {
   "cell_type": "code",
   "execution_count": 60,
   "metadata": {},
   "outputs": [
    {
     "data": {
      "text/plain": [
       "array([[-1.43220634, -0.51630861, -1.34470119, ..., -0.82431012,\n",
       "        -0.83150225, -1.05109458],\n",
       "       [-0.47805725,  1.9368261 , -0.27058012, ..., -0.82431012,\n",
       "         0.10625149,  0.59651863],\n",
       "       [-1.75025603, -0.51630861, -1.34470119, ..., -0.82431012,\n",
       "        -0.83150225, -1.05109458],\n",
       "       ...,\n",
       "       [ 0.37007527, -0.51630861,  0.80354095, ...,  1.21313565,\n",
       "         0.29380223,  0.59651863],\n",
       "       [ 0.37007527,  1.9368261 , -1.34470119, ..., -0.82431012,\n",
       "        -0.83150225,  0.59651863],\n",
       "       [-1.64423947, -0.51630861, -0.27058012, ..., -0.82431012,\n",
       "        -0.83150225, -1.05109458]])"
      ]
     },
     "execution_count": 60,
     "metadata": {},
     "output_type": "execute_result"
    }
   ],
   "source": [
    "previsores_esc"
   ]
  },
  {
   "cell_type": "code",
   "execution_count": 61,
   "metadata": {},
   "outputs": [
    {
     "data": {
      "text/html": [
       "<div>\n",
       "<style scoped>\n",
       "    .dataframe tbody tr th:only-of-type {\n",
       "        vertical-align: middle;\n",
       "    }\n",
       "\n",
       "    .dataframe tbody tr th {\n",
       "        vertical-align: top;\n",
       "    }\n",
       "\n",
       "    .dataframe thead th {\n",
       "        text-align: right;\n",
       "    }\n",
       "</style>\n",
       "<table border=\"1\" class=\"dataframe\">\n",
       "  <thead>\n",
       "    <tr style=\"text-align: right;\">\n",
       "      <th></th>\n",
       "      <th>0</th>\n",
       "      <th>1</th>\n",
       "      <th>2</th>\n",
       "      <th>3</th>\n",
       "      <th>4</th>\n",
       "      <th>5</th>\n",
       "      <th>6</th>\n",
       "      <th>7</th>\n",
       "      <th>8</th>\n",
       "      <th>9</th>\n",
       "      <th>10</th>\n",
       "    </tr>\n",
       "  </thead>\n",
       "  <tbody>\n",
       "    <tr>\n",
       "      <th>0</th>\n",
       "      <td>-1.432206</td>\n",
       "      <td>-0.516309</td>\n",
       "      <td>-1.344701</td>\n",
       "      <td>0.414627</td>\n",
       "      <td>0.832075</td>\n",
       "      <td>-0.551733</td>\n",
       "      <td>-0.749818</td>\n",
       "      <td>1.383339</td>\n",
       "      <td>-0.824310</td>\n",
       "      <td>-0.831502</td>\n",
       "      <td>-1.051095</td>\n",
       "    </tr>\n",
       "    <tr>\n",
       "      <th>1</th>\n",
       "      <td>-0.478057</td>\n",
       "      <td>1.936826</td>\n",
       "      <td>-0.270580</td>\n",
       "      <td>1.526360</td>\n",
       "      <td>-1.212261</td>\n",
       "      <td>-0.551733</td>\n",
       "      <td>-0.749818</td>\n",
       "      <td>0.754736</td>\n",
       "      <td>-0.824310</td>\n",
       "      <td>0.106251</td>\n",
       "      <td>0.596519</td>\n",
       "    </tr>\n",
       "    <tr>\n",
       "      <th>2</th>\n",
       "      <td>-1.750256</td>\n",
       "      <td>-0.516309</td>\n",
       "      <td>-1.344701</td>\n",
       "      <td>-0.141240</td>\n",
       "      <td>0.719543</td>\n",
       "      <td>-0.551733</td>\n",
       "      <td>0.491306</td>\n",
       "      <td>-1.523953</td>\n",
       "      <td>-0.824310</td>\n",
       "      <td>-0.831502</td>\n",
       "      <td>-1.051095</td>\n",
       "    </tr>\n",
       "    <tr>\n",
       "      <th>3</th>\n",
       "      <td>-0.584074</td>\n",
       "      <td>1.936826</td>\n",
       "      <td>0.803541</td>\n",
       "      <td>0.303453</td>\n",
       "      <td>-0.574578</td>\n",
       "      <td>-0.551733</td>\n",
       "      <td>-0.749818</td>\n",
       "      <td>-1.131075</td>\n",
       "      <td>1.213136</td>\n",
       "      <td>0.575128</td>\n",
       "      <td>0.596519</td>\n",
       "    </tr>\n",
       "    <tr>\n",
       "      <th>4</th>\n",
       "      <td>0.052026</td>\n",
       "      <td>-0.516309</td>\n",
       "      <td>-0.270580</td>\n",
       "      <td>0.970493</td>\n",
       "      <td>-0.930931</td>\n",
       "      <td>-0.551733</td>\n",
       "      <td>-0.749818</td>\n",
       "      <td>-0.581047</td>\n",
       "      <td>-0.824310</td>\n",
       "      <td>-0.831502</td>\n",
       "      <td>-1.051095</td>\n",
       "    </tr>\n",
       "    <tr>\n",
       "      <th>...</th>\n",
       "      <td>...</td>\n",
       "      <td>...</td>\n",
       "      <td>...</td>\n",
       "      <td>...</td>\n",
       "      <td>...</td>\n",
       "      <td>...</td>\n",
       "      <td>...</td>\n",
       "      <td>...</td>\n",
       "      <td>...</td>\n",
       "      <td>...</td>\n",
       "      <td>...</td>\n",
       "    </tr>\n",
       "    <tr>\n",
       "      <th>912</th>\n",
       "      <td>-0.902124</td>\n",
       "      <td>-0.516309</td>\n",
       "      <td>-2.418822</td>\n",
       "      <td>-1.252973</td>\n",
       "      <td>0.363191</td>\n",
       "      <td>-0.551733</td>\n",
       "      <td>-0.749818</td>\n",
       "      <td>-0.188170</td>\n",
       "      <td>-0.824310</td>\n",
       "      <td>0.293802</td>\n",
       "      <td>0.596519</td>\n",
       "    </tr>\n",
       "    <tr>\n",
       "      <th>913</th>\n",
       "      <td>1.536257</td>\n",
       "      <td>-0.516309</td>\n",
       "      <td>0.803541</td>\n",
       "      <td>0.636973</td>\n",
       "      <td>-0.968441</td>\n",
       "      <td>1.812470</td>\n",
       "      <td>-0.749818</td>\n",
       "      <td>0.165420</td>\n",
       "      <td>-0.824310</td>\n",
       "      <td>2.356860</td>\n",
       "      <td>0.596519</td>\n",
       "    </tr>\n",
       "    <tr>\n",
       "      <th>914</th>\n",
       "      <td>0.370075</td>\n",
       "      <td>-0.516309</td>\n",
       "      <td>0.803541</td>\n",
       "      <td>-0.141240</td>\n",
       "      <td>-2.131275</td>\n",
       "      <td>-0.551733</td>\n",
       "      <td>-0.749818</td>\n",
       "      <td>-0.856061</td>\n",
       "      <td>1.213136</td>\n",
       "      <td>0.293802</td>\n",
       "      <td>0.596519</td>\n",
       "    </tr>\n",
       "    <tr>\n",
       "      <th>915</th>\n",
       "      <td>0.370075</td>\n",
       "      <td>1.936826</td>\n",
       "      <td>-1.344701</td>\n",
       "      <td>-0.141240</td>\n",
       "      <td>-0.161960</td>\n",
       "      <td>-0.551733</td>\n",
       "      <td>1.732430</td>\n",
       "      <td>1.461915</td>\n",
       "      <td>-0.824310</td>\n",
       "      <td>-0.831502</td>\n",
       "      <td>0.596519</td>\n",
       "    </tr>\n",
       "    <tr>\n",
       "      <th>916</th>\n",
       "      <td>-1.644239</td>\n",
       "      <td>-0.516309</td>\n",
       "      <td>-0.270580</td>\n",
       "      <td>0.303453</td>\n",
       "      <td>-1.306038</td>\n",
       "      <td>-0.551733</td>\n",
       "      <td>-0.749818</td>\n",
       "      <td>1.422627</td>\n",
       "      <td>-0.824310</td>\n",
       "      <td>-0.831502</td>\n",
       "      <td>-1.051095</td>\n",
       "    </tr>\n",
       "  </tbody>\n",
       "</table>\n",
       "<p>917 rows × 11 columns</p>\n",
       "</div>"
      ],
      "text/plain": [
       "           0         1         2         3         4         5         6   \\\n",
       "0   -1.432206 -0.516309 -1.344701  0.414627  0.832075 -0.551733 -0.749818   \n",
       "1   -0.478057  1.936826 -0.270580  1.526360 -1.212261 -0.551733 -0.749818   \n",
       "2   -1.750256 -0.516309 -1.344701 -0.141240  0.719543 -0.551733  0.491306   \n",
       "3   -0.584074  1.936826  0.803541  0.303453 -0.574578 -0.551733 -0.749818   \n",
       "4    0.052026 -0.516309 -0.270580  0.970493 -0.930931 -0.551733 -0.749818   \n",
       "..        ...       ...       ...       ...       ...       ...       ...   \n",
       "912 -0.902124 -0.516309 -2.418822 -1.252973  0.363191 -0.551733 -0.749818   \n",
       "913  1.536257 -0.516309  0.803541  0.636973 -0.968441  1.812470 -0.749818   \n",
       "914  0.370075 -0.516309  0.803541 -0.141240 -2.131275 -0.551733 -0.749818   \n",
       "915  0.370075  1.936826 -1.344701 -0.141240 -0.161960 -0.551733  1.732430   \n",
       "916 -1.644239 -0.516309 -0.270580  0.303453 -1.306038 -0.551733 -0.749818   \n",
       "\n",
       "           7         8         9         10  \n",
       "0    1.383339 -0.824310 -0.831502 -1.051095  \n",
       "1    0.754736 -0.824310  0.106251  0.596519  \n",
       "2   -1.523953 -0.824310 -0.831502 -1.051095  \n",
       "3   -1.131075  1.213136  0.575128  0.596519  \n",
       "4   -0.581047 -0.824310 -0.831502 -1.051095  \n",
       "..        ...       ...       ...       ...  \n",
       "912 -0.188170 -0.824310  0.293802  0.596519  \n",
       "913  0.165420 -0.824310  2.356860  0.596519  \n",
       "914 -0.856061  1.213136  0.293802  0.596519  \n",
       "915  1.461915 -0.824310 -0.831502  0.596519  \n",
       "916  1.422627 -0.824310 -0.831502 -1.051095  \n",
       "\n",
       "[917 rows x 11 columns]"
      ]
     },
     "execution_count": 61,
     "metadata": {},
     "output_type": "execute_result"
    }
   ],
   "source": [
    "previsoresdf = pd.DataFrame(previsores_esc)\n",
    "previsoresdf"
   ]
  },
  {
   "cell_type": "markdown",
   "metadata": {},
   "source": [
    "# Codificação de Variáreis categoricas"
   ]
  },
  {
   "cell_type": "code",
   "execution_count": 62,
   "metadata": {},
   "outputs": [
    {
     "name": "stdout",
     "output_type": "stream",
     "text": [
      "pacote importado com sucesso\n"
     ]
    }
   ],
   "source": [
    "from sklearn.preprocessing import LabelEncoder\n",
    "print(\"pacote importado com sucesso\")"
   ]
  },
  {
   "cell_type": "code",
   "execution_count": 63,
   "metadata": {},
   "outputs": [
    {
     "data": {
      "text/plain": [
       "array([[40, 'M', 'ATA', ..., 'N', 0.0, 'Up'],\n",
       "       [49, 'F', 'NAP', ..., 'N', 1.0, 'Flat'],\n",
       "       [37, 'M', 'ATA', ..., 'N', 0.0, 'Up'],\n",
       "       ...,\n",
       "       [57, 'M', 'ASY', ..., 'Y', 1.2, 'Flat'],\n",
       "       [57, 'F', 'ATA', ..., 'N', 0.0, 'Flat'],\n",
       "       [38, 'M', 'NAP', ..., 'N', 0.0, 'Up']], dtype=object)"
      ]
     },
     "execution_count": 63,
     "metadata": {},
     "output_type": "execute_result"
    }
   ],
   "source": [
    "previsores2 = df.iloc[:,0:11].values\n",
    "\n",
    "previsores2"
   ]
  },
  {
   "cell_type": "code",
   "execution_count": 64,
   "metadata": {},
   "outputs": [],
   "source": [
    "previsores2[:,1] = LabelEncoder().fit_transform(previsores[:,1])"
   ]
  },
  {
   "cell_type": "code",
   "execution_count": 65,
   "metadata": {},
   "outputs": [
    {
     "data": {
      "text/plain": [
       "array([[40, 0, 'ATA', ..., 'N', 0.0, 'Up'],\n",
       "       [49, 1, 'NAP', ..., 'N', 1.0, 'Flat'],\n",
       "       [37, 0, 'ATA', ..., 'N', 0.0, 'Up'],\n",
       "       ...,\n",
       "       [57, 0, 'ASY', ..., 'Y', 1.2, 'Flat'],\n",
       "       [57, 1, 'ATA', ..., 'N', 0.0, 'Flat'],\n",
       "       [38, 0, 'NAP', ..., 'N', 0.0, 'Up']], dtype=object)"
      ]
     },
     "execution_count": 65,
     "metadata": {},
     "output_type": "execute_result"
    }
   ],
   "source": [
    "previsores2"
   ]
  },
  {
   "cell_type": "code",
   "execution_count": 66,
   "metadata": {},
   "outputs": [],
   "source": [
    "previsores2[:,2] = LabelEncoder().fit_transform(previsores2[:,2])\n",
    "previsores2[:,6] = LabelEncoder().fit_transform(previsores2[:,6])\n",
    "previsores2[:,8] = LabelEncoder().fit_transform(previsores2[:,8])\n",
    "previsores2[:,10] = LabelEncoder().fit_transform(previsores2[:,10])"
   ]
  },
  {
   "cell_type": "code",
   "execution_count": 67,
   "metadata": {},
   "outputs": [
    {
     "data": {
      "text/plain": [
       "array([[40, 0, 1, ..., 0, 0.0, 2],\n",
       "       [49, 1, 2, ..., 0, 1.0, 1],\n",
       "       [37, 0, 1, ..., 0, 0.0, 2],\n",
       "       ...,\n",
       "       [57, 0, 0, ..., 1, 1.2, 1],\n",
       "       [57, 1, 1, ..., 0, 0.0, 1],\n",
       "       [38, 0, 2, ..., 0, 0.0, 2]], dtype=object)"
      ]
     },
     "execution_count": 67,
     "metadata": {},
     "output_type": "execute_result"
    }
   ],
   "source": [
    "previsores2"
   ]
  },
  {
   "cell_type": "markdown",
   "metadata": {},
   "source": [
    "# One Hot Encoder: Criação de Variáveis Dummy"
   ]
  },
  {
   "cell_type": "code",
   "execution_count": 68,
   "metadata": {},
   "outputs": [],
   "source": [
    "from sklearn.preprocessing import OneHotEncoder\n",
    "from sklearn.compose import ColumnTransformer"
   ]
  },
  {
   "cell_type": "code",
   "execution_count": 69,
   "metadata": {},
   "outputs": [],
   "source": [
    "previsores3 = ColumnTransformer(transformers=[('OneHot', OneHotEncoder(), [1,2,6,8,10])],\n",
    "                                remainder='passthrough').fit_transform(previsores2)"
   ]
  },
  {
   "cell_type": "code",
   "execution_count": 70,
   "metadata": {},
   "outputs": [
    {
     "data": {
      "text/plain": [
       "array([[1.0, 0.0, 0.0, ..., 0, 172, 0.0],\n",
       "       [0.0, 1.0, 0.0, ..., 0, 156, 1.0],\n",
       "       [1.0, 0.0, 0.0, ..., 0, 98, 0.0],\n",
       "       ...,\n",
       "       [1.0, 0.0, 1.0, ..., 0, 115, 1.2],\n",
       "       [0.0, 1.0, 0.0, ..., 0, 174, 0.0],\n",
       "       [1.0, 0.0, 0.0, ..., 0, 173, 0.0]], dtype=object)"
      ]
     },
     "execution_count": 70,
     "metadata": {},
     "output_type": "execute_result"
    }
   ],
   "source": [
    "previsores3"
   ]
  },
  {
   "cell_type": "code",
   "execution_count": 71,
   "metadata": {},
   "outputs": [
    {
     "data": {
      "text/plain": [
       "(917, 20)"
      ]
     },
     "execution_count": 71,
     "metadata": {},
     "output_type": "execute_result"
    }
   ],
   "source": [
    "# Analisando a quantidade de colunas\n",
    "previsores3.shape"
   ]
  },
  {
   "cell_type": "code",
   "execution_count": 72,
   "metadata": {},
   "outputs": [],
   "source": [
    "# Escalonando a varíavel \n",
    "\n",
    "previsores3_esc = StandardScaler().fit_transform(previsores3)"
   ]
  },
  {
   "cell_type": "code",
   "execution_count": 73,
   "metadata": {},
   "outputs": [
    {
     "data": {
      "text/plain": [
       "array([[ 0.51630861, -0.51630861, -1.08542493, ..., -0.55173333,\n",
       "         1.38333943, -0.83150225],\n",
       "       [-1.9368261 ,  1.9368261 , -1.08542493, ..., -0.55173333,\n",
       "         0.75473573,  0.10625149],\n",
       "       [ 0.51630861, -0.51630861, -1.08542493, ..., -0.55173333,\n",
       "        -1.52395266, -0.83150225],\n",
       "       ...,\n",
       "       [ 0.51630861, -0.51630861,  0.92129817, ..., -0.55173333,\n",
       "        -0.85606123,  0.29380223],\n",
       "       [-1.9368261 ,  1.9368261 , -1.08542493, ..., -0.55173333,\n",
       "         1.46191489, -0.83150225],\n",
       "       [ 0.51630861, -0.51630861, -1.08542493, ..., -0.55173333,\n",
       "         1.42262716, -0.83150225]])"
      ]
     },
     "execution_count": 73,
     "metadata": {},
     "output_type": "execute_result"
    }
   ],
   "source": [
    "previsores3_esc"
   ]
  },
  {
   "cell_type": "markdown",
   "metadata": {},
   "source": [
    "## Análise do Componentes Principais (PCA)"
   ]
  },
  {
   "cell_type": "code",
   "execution_count": 74,
   "metadata": {},
   "outputs": [
    {
     "name": "stdout",
     "output_type": "stream",
     "text": [
      "pacote importado com sucesso\n"
     ]
    }
   ],
   "source": [
    "from sklearn.decomposition import PCA\n",
    "\n",
    "print(\"pacote importado com sucesso\")"
   ]
  },
  {
   "cell_type": "code",
   "execution_count": 75,
   "metadata": {},
   "outputs": [],
   "source": [
    "pca = PCA(n_components=3)"
   ]
  },
  {
   "cell_type": "code",
   "execution_count": 76,
   "metadata": {},
   "outputs": [],
   "source": [
    "previsores_pca = pca.fit_transform(previsores2)"
   ]
  },
  {
   "cell_type": "code",
   "execution_count": 77,
   "metadata": {},
   "outputs": [
    {
     "data": {
      "text/plain": [
       "(917, 3)"
      ]
     },
     "execution_count": 77,
     "metadata": {},
     "output_type": "execute_result"
    }
   ],
   "source": [
    "previsores_pca.shape"
   ]
  },
  {
   "cell_type": "code",
   "execution_count": 78,
   "metadata": {},
   "outputs": [
    {
     "data": {
      "text/plain": [
       "0.9815348236774057"
      ]
     },
     "execution_count": 78,
     "metadata": {},
     "output_type": "execute_result"
    }
   ],
   "source": [
    "# razao das variáveis explicativas\n",
    "\n",
    "pca.explained_variance_ratio_.sum()"
   ]
  },
  {
   "cell_type": "markdown",
   "metadata": {},
   "source": [
    "# Kernel PCA \n",
    "Aplica-se também em dados linearmente não separáveis"
   ]
  },
  {
   "cell_type": "code",
   "execution_count": 79,
   "metadata": {},
   "outputs": [
    {
     "name": "stdout",
     "output_type": "stream",
     "text": [
      "Pacote importado com sucesso\n"
     ]
    }
   ],
   "source": [
    "from sklearn.decomposition import KernelPCA\n",
    "\n",
    "print(\"Pacote importado com sucesso\")"
   ]
  },
  {
   "cell_type": "code",
   "execution_count": 80,
   "metadata": {},
   "outputs": [],
   "source": [
    "kpca = KernelPCA(n_components=4,kernel='rbf')"
   ]
  },
  {
   "cell_type": "code",
   "execution_count": 81,
   "metadata": {},
   "outputs": [],
   "source": [
    "previsores_kernel = kpca.fit_transform(previsores2)"
   ]
  },
  {
   "cell_type": "code",
   "execution_count": 82,
   "metadata": {},
   "outputs": [
    {
     "data": {
      "text/plain": [
       "(917, 4)"
      ]
     },
     "execution_count": 82,
     "metadata": {},
     "output_type": "execute_result"
    }
   ],
   "source": [
    "previsores_kernel.shape"
   ]
  },
  {
   "cell_type": "code",
   "execution_count": 83,
   "metadata": {},
   "outputs": [
    {
     "data": {
      "text/plain": [
       "array([[-0.00249772, -0.00290225, -0.0027372 , -0.00191636],\n",
       "       [-0.00249877, -0.00290359, -0.00273854, -0.00191743],\n",
       "       [-0.00249785, -0.00290241, -0.00273736, -0.00191649],\n",
       "       ...,\n",
       "       [-0.00249774, -0.00290227, -0.00273723, -0.00191638],\n",
       "       [-0.00249793, -0.00290252, -0.00273748, -0.00191659],\n",
       "       [-0.00249772, -0.00290225, -0.0027372 , -0.00191637]])"
      ]
     },
     "execution_count": 83,
     "metadata": {},
     "output_type": "execute_result"
    }
   ],
   "source": [
    "previsores_kernel"
   ]
  },
  {
   "cell_type": "markdown",
   "metadata": {},
   "source": [
    "# Análise do Discrimante Linear (LDA: Linear Discriminant Analysis)"
   ]
  },
  {
   "cell_type": "code",
   "execution_count": 84,
   "metadata": {},
   "outputs": [],
   "source": [
    "from sklearn.discriminant_analysis import LinearDiscriminantAnalysis\n",
    "lda = LinearDiscriminantAnalysis(n_components=1) # número de classe da variável target -1"
   ]
  },
  {
   "cell_type": "code",
   "execution_count": 85,
   "metadata": {},
   "outputs": [],
   "source": [
    "previsores_lda  = lda.fit_transform(previsores2,alvo)"
   ]
  },
  {
   "cell_type": "code",
   "execution_count": 86,
   "metadata": {},
   "outputs": [
    {
     "data": {
      "text/plain": [
       "array([[-1.47297727],\n",
       "       [-1.41360735],\n",
       "       [-0.96705302],\n",
       "       [ 0.53331037],\n",
       "       [-1.45783427],\n",
       "       [-1.78559221],\n",
       "       [-2.28906835],\n",
       "       [-1.26844095],\n",
       "       [ 1.03044735],\n",
       "       [-1.8033219 ],\n",
       "       [-2.56103248],\n",
       "       [ 1.08833702],\n",
       "       [-1.4298088 ],\n",
       "       [ 1.02172609],\n",
       "       [-2.51881925],\n",
       "       [-0.75582909],\n",
       "       [-0.27447783],\n",
       "       [-2.33841952],\n",
       "       [ 0.50562225],\n",
       "       [ 0.03155735],\n",
       "       [-2.89530718],\n",
       "       [-0.23402029],\n",
       "       [-2.26833719],\n",
       "       [ 0.97019565],\n",
       "       [-1.70998121],\n",
       "       [-2.0730337 ],\n",
       "       [ 1.62722174],\n",
       "       [-0.96486408],\n",
       "       [-1.52502126],\n",
       "       [-1.33460621],\n",
       "       [-0.03948873],\n",
       "       [-1.44459749],\n",
       "       [ 0.63936919],\n",
       "       [ 0.34808635],\n",
       "       [-2.23945383],\n",
       "       [-1.48957548],\n",
       "       [ 2.4746182 ],\n",
       "       [-2.13691975],\n",
       "       [-1.54252555],\n",
       "       [ 0.30741381],\n",
       "       [-1.8748176 ],\n",
       "       [-0.26749988],\n",
       "       [-1.51713745],\n",
       "       [-1.79186716],\n",
       "       [ 1.00348547],\n",
       "       [ 0.64800053],\n",
       "       [-1.22524435],\n",
       "       [-1.47829185],\n",
       "       [-0.77636186],\n",
       "       [-0.12865852],\n",
       "       [ 1.34295208],\n",
       "       [ 0.65422291],\n",
       "       [-0.4557005 ],\n",
       "       [-2.15691729],\n",
       "       [ 0.25536539],\n",
       "       [-2.26417676],\n",
       "       [ 0.86836148],\n",
       "       [-0.60301353],\n",
       "       [-0.38277361],\n",
       "       [ 1.50907547],\n",
       "       [-1.50857567],\n",
       "       [-2.67081271],\n",
       "       [-0.93385381],\n",
       "       [ 1.15581054],\n",
       "       [-2.12436997],\n",
       "       [-2.02566299],\n",
       "       [-1.61128669],\n",
       "       [-1.7825921 ],\n",
       "       [ 2.05082548],\n",
       "       [-0.83570852],\n",
       "       [ 0.70693463],\n",
       "       [-1.27352923],\n",
       "       [-0.02482612],\n",
       "       [-1.55996385],\n",
       "       [ 1.31581706],\n",
       "       [-1.53819264],\n",
       "       [ 0.49380729],\n",
       "       [-1.95231331],\n",
       "       [-0.67889962],\n",
       "       [-0.16066905],\n",
       "       [-1.66499886],\n",
       "       [-1.30296599],\n",
       "       [ 0.45795738],\n",
       "       [-1.42756451],\n",
       "       [ 1.86472923],\n",
       "       [ 1.39491241],\n",
       "       [ 2.33294249],\n",
       "       [ 0.03204149],\n",
       "       [-1.12661004],\n",
       "       [ 1.21970316],\n",
       "       [-2.2425467 ],\n",
       "       [-0.8391131 ],\n",
       "       [-2.10401498],\n",
       "       [ 1.65426173],\n",
       "       [-2.93875944],\n",
       "       [ 1.3176681 ],\n",
       "       [-1.30501623],\n",
       "       [-1.28599933],\n",
       "       [-1.04351704],\n",
       "       [-1.29286266],\n",
       "       [ 1.3983015 ],\n",
       "       [-0.61376488],\n",
       "       [-0.04322651],\n",
       "       [ 1.86713147],\n",
       "       [ 0.12667388],\n",
       "       [-0.42526827],\n",
       "       [-1.42477203],\n",
       "       [-1.63348802],\n",
       "       [-0.96697796],\n",
       "       [-0.97872716],\n",
       "       [-0.71472611],\n",
       "       [ 1.87337251],\n",
       "       [ 0.71098493],\n",
       "       [-1.30594287],\n",
       "       [-2.42439448],\n",
       "       [-0.02367259],\n",
       "       [-0.15644551],\n",
       "       [ 1.30613953],\n",
       "       [-3.41405246],\n",
       "       [-1.57442636],\n",
       "       [-0.96084658],\n",
       "       [-2.30250912],\n",
       "       [-0.9303196 ],\n",
       "       [ 0.48767217],\n",
       "       [-1.23390101],\n",
       "       [-0.9434399 ],\n",
       "       [-2.67333379],\n",
       "       [-1.71885403],\n",
       "       [-1.31052999],\n",
       "       [ 0.1651487 ],\n",
       "       [-1.52484955],\n",
       "       [ 0.65120793],\n",
       "       [ 1.66167923],\n",
       "       [ 1.28137826],\n",
       "       [ 0.56657326],\n",
       "       [-0.87302219],\n",
       "       [-2.42171127],\n",
       "       [-1.05416952],\n",
       "       [ 0.95858464],\n",
       "       [ 1.25165012],\n",
       "       [ 1.85556412],\n",
       "       [ 1.5570952 ],\n",
       "       [ 1.30041712],\n",
       "       [-0.91367757],\n",
       "       [-0.81492644],\n",
       "       [-0.85458961],\n",
       "       [-1.48952001],\n",
       "       [-2.37524388],\n",
       "       [-1.50038603],\n",
       "       [ 2.44483595],\n",
       "       [-1.20312923],\n",
       "       [-1.08524172],\n",
       "       [-1.33407261],\n",
       "       [-0.7573623 ],\n",
       "       [-1.4166922 ],\n",
       "       [ 2.23120635],\n",
       "       [ 0.73115764],\n",
       "       [-0.84762309],\n",
       "       [ 1.54218584],\n",
       "       [-0.98547065],\n",
       "       [ 1.86137596],\n",
       "       [ 1.14317372],\n",
       "       [-1.43919738],\n",
       "       [-1.45331485],\n",
       "       [-1.99282263],\n",
       "       [-0.20427491],\n",
       "       [ 1.70211104],\n",
       "       [-1.05246642],\n",
       "       [-0.47205912],\n",
       "       [-1.75670659],\n",
       "       [-1.58128745],\n",
       "       [-2.05994677],\n",
       "       [-1.22032442],\n",
       "       [-1.92453514],\n",
       "       [ 1.32446452],\n",
       "       [ 1.26569907],\n",
       "       [ 0.69086695],\n",
       "       [-1.12114124],\n",
       "       [-1.86679774],\n",
       "       [-1.27290952],\n",
       "       [ 1.35716728],\n",
       "       [-1.31042056],\n",
       "       [ 1.62385683],\n",
       "       [ 0.93631205],\n",
       "       [-1.73165747],\n",
       "       [ 0.48765751],\n",
       "       [-0.88511655],\n",
       "       [ 1.62097012],\n",
       "       [ 0.60933153],\n",
       "       [ 1.40838981],\n",
       "       [-0.6241705 ],\n",
       "       [-1.05454657],\n",
       "       [-1.38434072],\n",
       "       [-1.47224495],\n",
       "       [-2.49687918],\n",
       "       [-2.48419036],\n",
       "       [ 0.44778238],\n",
       "       [-1.19164147],\n",
       "       [ 1.06848936],\n",
       "       [-1.08627342],\n",
       "       [-2.08200743],\n",
       "       [-1.73528777],\n",
       "       [-1.82633959],\n",
       "       [-2.35721403],\n",
       "       [-0.93253202],\n",
       "       [-0.14330776],\n",
       "       [-1.550762  ],\n",
       "       [-0.3753301 ],\n",
       "       [-1.92633663],\n",
       "       [ 0.13349137],\n",
       "       [ 1.04405064],\n",
       "       [-0.59160027],\n",
       "       [-0.49155109],\n",
       "       [-2.56681625],\n",
       "       [ 1.42069008],\n",
       "       [-3.16014054],\n",
       "       [-0.00455886],\n",
       "       [-1.57713237],\n",
       "       [-1.30484654],\n",
       "       [-1.60395028],\n",
       "       [ 0.29328685],\n",
       "       [ 0.31205856],\n",
       "       [-2.35955308],\n",
       "       [-2.02670304],\n",
       "       [-0.45131542],\n",
       "       [ 0.11734055],\n",
       "       [-1.6455011 ],\n",
       "       [ 0.98223348],\n",
       "       [-1.46223644],\n",
       "       [-2.23048631],\n",
       "       [-0.98729539],\n",
       "       [-1.83301464],\n",
       "       [-1.98424435],\n",
       "       [-0.94861876],\n",
       "       [-1.86629516],\n",
       "       [ 0.31541967],\n",
       "       [ 1.60871922],\n",
       "       [-0.80471512],\n",
       "       [ 1.72846954],\n",
       "       [ 1.62149828],\n",
       "       [-1.1304052 ],\n",
       "       [ 1.24436421],\n",
       "       [ 1.65274078],\n",
       "       [-1.86413969],\n",
       "       [ 1.38226014],\n",
       "       [-1.67398489],\n",
       "       [ 0.31003073],\n",
       "       [ 2.78593696],\n",
       "       [ 0.99935619],\n",
       "       [ 1.33828415],\n",
       "       [ 0.52894479],\n",
       "       [ 0.68866632],\n",
       "       [ 0.22487709],\n",
       "       [-0.95817247],\n",
       "       [ 1.62987478],\n",
       "       [-2.22487019],\n",
       "       [-1.75802244],\n",
       "       [-2.07990393],\n",
       "       [-2.1594062 ],\n",
       "       [-1.95224582],\n",
       "       [-0.66930706],\n",
       "       [-1.8128839 ],\n",
       "       [ 0.98546405],\n",
       "       [ 0.16168507],\n",
       "       [ 0.14853301],\n",
       "       [-1.31301352],\n",
       "       [ 1.3770381 ],\n",
       "       [-1.51803096],\n",
       "       [ 1.4563745 ],\n",
       "       [-1.11876647],\n",
       "       [-0.92490573],\n",
       "       [-2.46651771],\n",
       "       [ 1.45639102],\n",
       "       [-1.5122684 ],\n",
       "       [-2.21473145],\n",
       "       [-1.17162839],\n",
       "       [-0.44931342],\n",
       "       [ 1.26722129],\n",
       "       [ 0.59107024],\n",
       "       [-2.08610147],\n",
       "       [-1.43078248],\n",
       "       [ 0.61858106],\n",
       "       [-1.48987542],\n",
       "       [-1.99465406],\n",
       "       [-0.95323414],\n",
       "       [-2.31154558],\n",
       "       [-0.85639019],\n",
       "       [-1.23027055],\n",
       "       [-1.70856544],\n",
       "       [-1.79504883],\n",
       "       [-1.66405711],\n",
       "       [-1.77445463],\n",
       "       [-0.96810702],\n",
       "       [ 1.35624968],\n",
       "       [-1.26699755],\n",
       "       [ 1.13404434],\n",
       "       [ 1.68887454],\n",
       "       [ 0.89192537],\n",
       "       [ 1.19006114],\n",
       "       [ 0.06388196],\n",
       "       [ 0.95760723],\n",
       "       [-1.21884641],\n",
       "       [ 0.28940391],\n",
       "       [ 2.24447341],\n",
       "       [ 1.29036475],\n",
       "       [ 0.13814178],\n",
       "       [ 0.75544498],\n",
       "       [ 1.03554626],\n",
       "       [ 0.00765534],\n",
       "       [ 1.62368595],\n",
       "       [-0.5946977 ],\n",
       "       [ 0.18926704],\n",
       "       [-0.24907235],\n",
       "       [-0.40058775],\n",
       "       [ 2.15288514],\n",
       "       [ 0.05416492],\n",
       "       [ 0.1036372 ],\n",
       "       [ 1.09454096],\n",
       "       [ 1.86710518],\n",
       "       [ 0.38359443],\n",
       "       [ 0.33808944],\n",
       "       [ 1.00068387],\n",
       "       [-0.79683041],\n",
       "       [ 3.1508434 ],\n",
       "       [ 0.32359031],\n",
       "       [ 2.2450472 ],\n",
       "       [-1.65653801],\n",
       "       [ 0.96279735],\n",
       "       [ 2.11431285],\n",
       "       [ 2.86135322],\n",
       "       [-0.42807523],\n",
       "       [ 0.1395382 ],\n",
       "       [-2.23427119],\n",
       "       [-0.35057846],\n",
       "       [-0.50406329],\n",
       "       [-0.26098473],\n",
       "       [ 0.15728719],\n",
       "       [ 0.50679805],\n",
       "       [ 0.28929007],\n",
       "       [ 1.26798669],\n",
       "       [ 2.10919353],\n",
       "       [ 3.06350319],\n",
       "       [ 1.36605469],\n",
       "       [ 1.00314274],\n",
       "       [ 1.10758215],\n",
       "       [ 0.41357299],\n",
       "       [ 0.41803771],\n",
       "       [ 0.88372537],\n",
       "       [ 1.58852733],\n",
       "       [ 1.67572817],\n",
       "       [ 1.00061797],\n",
       "       [-0.11400685],\n",
       "       [ 1.99928015],\n",
       "       [ 1.40104225],\n",
       "       [-0.39382639],\n",
       "       [-0.65089248],\n",
       "       [ 1.2804095 ],\n",
       "       [ 0.14371283],\n",
       "       [ 0.07314985],\n",
       "       [-0.40659027],\n",
       "       [ 0.79831036],\n",
       "       [ 0.99424132],\n",
       "       [-0.2182558 ],\n",
       "       [ 0.1024341 ],\n",
       "       [-0.21792997],\n",
       "       [ 0.47020931],\n",
       "       [ 1.52241832],\n",
       "       [ 0.18877912],\n",
       "       [ 1.44844604],\n",
       "       [ 1.78583376],\n",
       "       [ 0.67614963],\n",
       "       [ 1.64114833],\n",
       "       [ 0.40163824],\n",
       "       [ 1.32530632],\n",
       "       [ 2.2162147 ],\n",
       "       [-1.9881817 ],\n",
       "       [ 0.46197067],\n",
       "       [ 1.33181571],\n",
       "       [ 1.96051671],\n",
       "       [-0.28514746],\n",
       "       [ 1.37649259],\n",
       "       [ 1.08787029],\n",
       "       [ 1.08736303],\n",
       "       [-0.90238368],\n",
       "       [ 0.05501476],\n",
       "       [ 1.26574074],\n",
       "       [ 1.12531647],\n",
       "       [ 1.13115354],\n",
       "       [ 0.65613811],\n",
       "       [ 1.07719685],\n",
       "       [ 0.79914271],\n",
       "       [ 1.38507027],\n",
       "       [ 0.47611231],\n",
       "       [ 1.72991047],\n",
       "       [ 2.32533712],\n",
       "       [ 0.63891572],\n",
       "       [-0.97855747],\n",
       "       [ 1.91371281],\n",
       "       [ 0.93813356],\n",
       "       [ 0.79181952],\n",
       "       [ 0.3146305 ],\n",
       "       [ 0.62785746],\n",
       "       [ 1.65929899],\n",
       "       [ 2.01090329],\n",
       "       [ 0.89555129],\n",
       "       [ 1.67397512],\n",
       "       [ 1.93416166],\n",
       "       [ 2.0845939 ],\n",
       "       [ 1.25079031],\n",
       "       [ 1.02445415],\n",
       "       [ 1.77828134],\n",
       "       [ 1.10971477],\n",
       "       [ 2.05845141],\n",
       "       [ 0.1083399 ],\n",
       "       [ 2.34145158],\n",
       "       [ 0.61917586],\n",
       "       [ 1.74217189],\n",
       "       [-0.87237704],\n",
       "       [ 2.13328918],\n",
       "       [ 0.25687311],\n",
       "       [ 1.44730953],\n",
       "       [-1.39893279],\n",
       "       [ 1.94266616],\n",
       "       [ 0.50405737],\n",
       "       [ 0.23699838],\n",
       "       [ 0.54644327],\n",
       "       [-1.30822157],\n",
       "       [ 1.28872242],\n",
       "       [ 1.19656229],\n",
       "       [ 0.59946667],\n",
       "       [ 1.69015361],\n",
       "       [-0.37168032],\n",
       "       [ 2.78615351],\n",
       "       [ 1.25380876],\n",
       "       [ 1.64138711],\n",
       "       [ 0.14859618],\n",
       "       [-0.47234942],\n",
       "       [ 1.54049408],\n",
       "       [ 0.43741118],\n",
       "       [-1.11936529],\n",
       "       [-1.38127202],\n",
       "       [ 1.24351547],\n",
       "       [ 1.84915996],\n",
       "       [ 1.60276065],\n",
       "       [ 1.09570752],\n",
       "       [ 0.52013034],\n",
       "       [ 1.29907866],\n",
       "       [ 0.57387893],\n",
       "       [ 2.12852626],\n",
       "       [ 1.68924668],\n",
       "       [ 1.301961  ],\n",
       "       [ 1.43634145],\n",
       "       [ 0.36982331],\n",
       "       [ 1.90183175],\n",
       "       [ 0.30243865],\n",
       "       [ 0.67736167],\n",
       "       [ 0.52774593],\n",
       "       [ 1.59852847],\n",
       "       [-0.74943586],\n",
       "       [ 2.14965361],\n",
       "       [ 1.43343158],\n",
       "       [ 2.3086103 ],\n",
       "       [-0.56642915],\n",
       "       [ 1.62520535],\n",
       "       [-1.81943187],\n",
       "       [ 0.67756253],\n",
       "       [-1.7695649 ],\n",
       "       [ 0.46772558],\n",
       "       [ 0.65473094],\n",
       "       [ 0.43884558],\n",
       "       [ 1.64801971],\n",
       "       [ 1.83418625],\n",
       "       [ 1.42731733],\n",
       "       [-0.99588277],\n",
       "       [ 1.86846878],\n",
       "       [-0.13256577],\n",
       "       [ 3.20503685],\n",
       "       [ 1.9742736 ],\n",
       "       [ 0.81704689],\n",
       "       [ 1.82467517],\n",
       "       [ 1.83727559],\n",
       "       [-0.50312585],\n",
       "       [ 2.46390553],\n",
       "       [ 1.42266861],\n",
       "       [ 1.53480843],\n",
       "       [-0.82601248],\n",
       "       [ 1.18348035],\n",
       "       [-1.6979588 ],\n",
       "       [ 1.39356202],\n",
       "       [ 0.73581795],\n",
       "       [ 1.27254184],\n",
       "       [-0.52560067],\n",
       "       [ 0.68131048],\n",
       "       [ 1.60038916],\n",
       "       [ 0.4502456 ],\n",
       "       [ 2.96219487],\n",
       "       [ 2.42379023],\n",
       "       [ 2.01343704],\n",
       "       [ 1.3194868 ],\n",
       "       [ 2.69980309],\n",
       "       [ 1.45316611],\n",
       "       [ 1.32014624],\n",
       "       [-0.14646919],\n",
       "       [ 3.36134718],\n",
       "       [ 1.10124266],\n",
       "       [ 1.8229923 ],\n",
       "       [-0.52844355],\n",
       "       [ 2.14218391],\n",
       "       [ 0.3612475 ],\n",
       "       [-0.64709104],\n",
       "       [ 2.47039177],\n",
       "       [-2.01519925],\n",
       "       [-0.02613638],\n",
       "       [-0.66480555],\n",
       "       [ 0.54396616],\n",
       "       [ 0.25725793],\n",
       "       [ 1.43380959],\n",
       "       [ 2.10369212],\n",
       "       [ 0.35806895],\n",
       "       [ 0.40184572],\n",
       "       [ 2.70910426],\n",
       "       [ 0.42373062],\n",
       "       [ 1.16096418],\n",
       "       [-1.00260561],\n",
       "       [-1.65832757],\n",
       "       [ 1.66679303],\n",
       "       [-0.93872855],\n",
       "       [ 0.30491454],\n",
       "       [ 1.52303744],\n",
       "       [ 1.10937883],\n",
       "       [ 2.27385138],\n",
       "       [ 1.0361609 ],\n",
       "       [ 1.29685312],\n",
       "       [ 2.36355103],\n",
       "       [ 1.26228272],\n",
       "       [ 1.2585278 ],\n",
       "       [ 3.55004738],\n",
       "       [ 2.08191829],\n",
       "       [-0.52493097],\n",
       "       [ 0.49662546],\n",
       "       [ 1.18452289],\n",
       "       [ 0.71022701],\n",
       "       [ 2.58338502],\n",
       "       [-0.23960695],\n",
       "       [-0.7904523 ],\n",
       "       [-0.17903891],\n",
       "       [ 1.28351519],\n",
       "       [-0.4128116 ],\n",
       "       [-1.149053  ],\n",
       "       [ 1.14941993],\n",
       "       [-1.0670796 ],\n",
       "       [ 0.85966694],\n",
       "       [ 1.12330776],\n",
       "       [-1.0876075 ],\n",
       "       [ 0.31763678],\n",
       "       [ 3.47228584],\n",
       "       [ 1.22916584],\n",
       "       [ 0.52129229],\n",
       "       [ 3.02724212],\n",
       "       [-1.57554087],\n",
       "       [-1.28483531],\n",
       "       [ 1.24657264],\n",
       "       [ 1.8054684 ],\n",
       "       [ 1.83109196],\n",
       "       [ 1.52345993],\n",
       "       [ 1.03899448],\n",
       "       [ 1.19373062],\n",
       "       [ 2.31252409],\n",
       "       [ 1.573519  ],\n",
       "       [ 2.3515015 ],\n",
       "       [ 2.02619492],\n",
       "       [ 1.03641919],\n",
       "       [ 1.24768979],\n",
       "       [ 2.13795128],\n",
       "       [ 1.98655531],\n",
       "       [ 1.52449686],\n",
       "       [ 1.81134466],\n",
       "       [ 2.54433382],\n",
       "       [ 2.33630302],\n",
       "       [ 1.68391717],\n",
       "       [-0.07200154],\n",
       "       [ 2.13432193],\n",
       "       [-1.1545702 ],\n",
       "       [ 2.11176255],\n",
       "       [ 0.91496576],\n",
       "       [ 1.37248845],\n",
       "       [-0.74280147],\n",
       "       [ 1.46045437],\n",
       "       [ 0.6691308 ],\n",
       "       [-1.14051808],\n",
       "       [-0.63441664],\n",
       "       [ 3.06533191],\n",
       "       [ 1.08730252],\n",
       "       [ 1.10541382],\n",
       "       [ 1.65649281],\n",
       "       [ 0.5773584 ],\n",
       "       [-1.58687157],\n",
       "       [ 2.27506925],\n",
       "       [ 1.41163617],\n",
       "       [ 1.36284382],\n",
       "       [ 0.65390639],\n",
       "       [ 0.68315574],\n",
       "       [ 2.68952107],\n",
       "       [-0.08466893],\n",
       "       [-0.37791689],\n",
       "       [ 2.45806342],\n",
       "       [ 2.00516362],\n",
       "       [ 0.87874892],\n",
       "       [ 0.32846032],\n",
       "       [ 0.0806349 ],\n",
       "       [-1.97350112],\n",
       "       [ 1.11831654],\n",
       "       [ 0.27762136],\n",
       "       [ 1.0008783 ],\n",
       "       [ 1.15460179],\n",
       "       [-0.58136427],\n",
       "       [-1.07755132],\n",
       "       [ 1.33231469],\n",
       "       [-0.81107814],\n",
       "       [-0.7401585 ],\n",
       "       [ 0.98281019],\n",
       "       [ 1.13530236],\n",
       "       [ 0.3332688 ],\n",
       "       [ 0.38963788],\n",
       "       [ 0.14447789],\n",
       "       [ 0.14868847],\n",
       "       [-1.93179234],\n",
       "       [-0.46641398],\n",
       "       [-1.58313548],\n",
       "       [-0.21202799],\n",
       "       [ 1.41422951],\n",
       "       [ 2.94792208],\n",
       "       [ 0.10426638],\n",
       "       [-1.45386495],\n",
       "       [ 1.55620898],\n",
       "       [-0.49926973],\n",
       "       [ 0.04294646],\n",
       "       [-0.95509893],\n",
       "       [-0.61265937],\n",
       "       [-2.29479146],\n",
       "       [-0.02276089],\n",
       "       [-2.29095735],\n",
       "       [-0.30181952],\n",
       "       [-1.37302395],\n",
       "       [-0.54424005],\n",
       "       [-0.22442409],\n",
       "       [-2.78737633],\n",
       "       [ 2.72970162],\n",
       "       [ 1.10140375],\n",
       "       [ 0.5063465 ],\n",
       "       [ 0.31329962],\n",
       "       [-1.64460263],\n",
       "       [-1.84136999],\n",
       "       [-1.23423329],\n",
       "       [-1.26033075],\n",
       "       [-1.74880707],\n",
       "       [-1.18229415],\n",
       "       [-0.80436748],\n",
       "       [ 0.54957092],\n",
       "       [-1.03874187],\n",
       "       [-1.48200374],\n",
       "       [-1.25601938],\n",
       "       [ 0.83504232],\n",
       "       [-0.09380739],\n",
       "       [ 1.33814187],\n",
       "       [-0.92223168],\n",
       "       [-1.22344097],\n",
       "       [-2.24293909],\n",
       "       [-1.22033797],\n",
       "       [-2.40410771],\n",
       "       [ 1.62703599],\n",
       "       [-1.36411001],\n",
       "       [ 0.19869353],\n",
       "       [ 0.49758419],\n",
       "       [-1.22687176],\n",
       "       [ 0.37716501],\n",
       "       [-1.91053206],\n",
       "       [-2.71563484],\n",
       "       [ 1.15922115],\n",
       "       [ 1.3547069 ],\n",
       "       [-0.40793628],\n",
       "       [-1.17838292],\n",
       "       [-1.48084206],\n",
       "       [-1.73521054],\n",
       "       [ 1.6104645 ],\n",
       "       [-0.75077928],\n",
       "       [-0.98173637],\n",
       "       [-0.84653896],\n",
       "       [-1.48220199],\n",
       "       [ 0.90186502],\n",
       "       [ 1.21347664],\n",
       "       [-2.89617668],\n",
       "       [-1.79211311],\n",
       "       [-1.3356734 ],\n",
       "       [ 0.82737115],\n",
       "       [ 0.99032875],\n",
       "       [ 0.41699303],\n",
       "       [-0.57963328],\n",
       "       [ 1.20734519],\n",
       "       [-2.1451677 ],\n",
       "       [-0.44821933],\n",
       "       [ 0.91373591],\n",
       "       [-2.16669077],\n",
       "       [ 0.74666642],\n",
       "       [-0.62344748],\n",
       "       [-1.57811889],\n",
       "       [ 1.58325016],\n",
       "       [ 1.09193541],\n",
       "       [-0.9177444 ],\n",
       "       [ 1.23211784],\n",
       "       [ 0.39008135],\n",
       "       [-0.91891988],\n",
       "       [-2.02170125],\n",
       "       [-1.98593211],\n",
       "       [-1.8065775 ],\n",
       "       [ 1.00468248],\n",
       "       [-1.76994383],\n",
       "       [ 1.33513105],\n",
       "       [ 0.50390027],\n",
       "       [ 0.07741209],\n",
       "       [ 0.23567449],\n",
       "       [-0.14672819],\n",
       "       [-0.30345337],\n",
       "       [-1.20104262],\n",
       "       [ 1.06751756],\n",
       "       [-1.43626325],\n",
       "       [-1.53075756],\n",
       "       [-1.78509281],\n",
       "       [-1.38963185],\n",
       "       [-1.14790879],\n",
       "       [-0.74113988],\n",
       "       [ 2.73196784],\n",
       "       [ 0.02847217],\n",
       "       [ 3.23874677],\n",
       "       [-0.35512335],\n",
       "       [ 1.73326062],\n",
       "       [ 1.62156389],\n",
       "       [-1.92244877],\n",
       "       [ 0.47627315],\n",
       "       [-2.54370655],\n",
       "       [ 1.6381938 ],\n",
       "       [-1.62199313],\n",
       "       [-1.25533589],\n",
       "       [ 0.70400916],\n",
       "       [ 0.30036755],\n",
       "       [ 0.06642152],\n",
       "       [-1.22727483],\n",
       "       [ 2.7251934 ],\n",
       "       [-1.42968888],\n",
       "       [ 0.29095888],\n",
       "       [-2.37851954],\n",
       "       [ 1.80432131],\n",
       "       [-2.50233817],\n",
       "       [-0.33157325],\n",
       "       [ 0.68803407],\n",
       "       [-0.99987545],\n",
       "       [-0.68445897],\n",
       "       [-0.89991351],\n",
       "       [-1.44024675],\n",
       "       [ 1.64639125],\n",
       "       [-1.01726181],\n",
       "       [ 1.19969785],\n",
       "       [-1.20803571],\n",
       "       [-1.94945798],\n",
       "       [-1.98932565],\n",
       "       [-1.30043812],\n",
       "       [-2.50571079],\n",
       "       [ 0.08285144],\n",
       "       [-2.29573024],\n",
       "       [-2.37823233],\n",
       "       [ 3.06899875],\n",
       "       [-1.3666765 ],\n",
       "       [-0.82671364],\n",
       "       [ 0.9184909 ],\n",
       "       [-0.07535019],\n",
       "       [ 0.34956372],\n",
       "       [-1.25083598],\n",
       "       [ 1.59014858],\n",
       "       [-1.14398153],\n",
       "       [-0.69213888],\n",
       "       [-1.75014385],\n",
       "       [ 1.15355634],\n",
       "       [-0.00838713],\n",
       "       [-0.07966998],\n",
       "       [ 0.01898824],\n",
       "       [-0.06252445],\n",
       "       [ 1.37689494],\n",
       "       [-0.79296142],\n",
       "       [-2.46599596],\n",
       "       [ 0.84688598],\n",
       "       [ 1.84698599],\n",
       "       [-0.06086432],\n",
       "       [ 0.85175381],\n",
       "       [-1.84295857],\n",
       "       [ 0.67693841],\n",
       "       [ 0.68280366],\n",
       "       [-1.17493682],\n",
       "       [-0.44108234],\n",
       "       [-1.10573122],\n",
       "       [-1.37690055],\n",
       "       [ 1.4949269 ],\n",
       "       [-0.21794342],\n",
       "       [-0.16817031],\n",
       "       [ 1.10783138],\n",
       "       [-0.73916671],\n",
       "       [ 2.51253683],\n",
       "       [-1.21973905],\n",
       "       [-0.30785644],\n",
       "       [-1.18902982],\n",
       "       [-0.84228414],\n",
       "       [-0.24744491],\n",
       "       [-1.28227147],\n",
       "       [-2.32760056],\n",
       "       [ 0.08039122],\n",
       "       [-1.28448873],\n",
       "       [-0.89210846],\n",
       "       [ 1.48223796],\n",
       "       [ 0.0093788 ],\n",
       "       [ 1.14352094],\n",
       "       [-0.25498238],\n",
       "       [-2.34577635],\n",
       "       [ 0.17222734],\n",
       "       [ 0.72919003],\n",
       "       [ 0.50719338],\n",
       "       [-0.86066056],\n",
       "       [ 0.32484783],\n",
       "       [-1.67557319],\n",
       "       [ 1.37303714],\n",
       "       [-1.93565301],\n",
       "       [-2.12308764],\n",
       "       [-2.45040633],\n",
       "       [-1.04170395],\n",
       "       [-0.51259589],\n",
       "       [-1.55343755],\n",
       "       [ 1.46771077],\n",
       "       [ 0.93254394],\n",
       "       [-1.60109671],\n",
       "       [ 1.2260175 ],\n",
       "       [-1.93545863],\n",
       "       [-0.31102129],\n",
       "       [-0.69282769],\n",
       "       [ 1.4302537 ],\n",
       "       [-1.87132154],\n",
       "       [-1.43289725],\n",
       "       [ 0.45432364],\n",
       "       [ 0.19715333],\n",
       "       [-1.20275518],\n",
       "       [-0.25232469],\n",
       "       [-0.24029426],\n",
       "       [ 1.44171531],\n",
       "       [-1.72746895],\n",
       "       [ 1.29698041],\n",
       "       [-1.68122955],\n",
       "       [-1.28974531],\n",
       "       [ 1.29932564],\n",
       "       [-1.85789146],\n",
       "       [-0.5042792 ],\n",
       "       [ 1.00896199],\n",
       "       [-1.96973984],\n",
       "       [ 0.2032225 ],\n",
       "       [-0.7186107 ],\n",
       "       [-2.0771769 ],\n",
       "       [-0.15417225],\n",
       "       [ 1.53689274],\n",
       "       [ 0.54133242],\n",
       "       [-1.65793142],\n",
       "       [-0.91581493],\n",
       "       [-1.46933905],\n",
       "       [-0.6983248 ],\n",
       "       [-1.76702569],\n",
       "       [ 1.11679298],\n",
       "       [ 1.35780969],\n",
       "       [-1.43421774],\n",
       "       [-0.85346494],\n",
       "       [-2.40254279],\n",
       "       [ 1.40583604],\n",
       "       [ 0.0851993 ],\n",
       "       [-1.32252353],\n",
       "       [ 0.63986776],\n",
       "       [-0.99202986],\n",
       "       [-1.50834481],\n",
       "       [-0.71086621],\n",
       "       [ 0.14914618],\n",
       "       [ 1.66797091],\n",
       "       [-2.16283999],\n",
       "       [-1.8170826 ],\n",
       "       [ 1.49998533],\n",
       "       [ 1.54121585],\n",
       "       [-1.96426485],\n",
       "       [-0.80859047],\n",
       "       [-1.22857051],\n",
       "       [-1.61597014],\n",
       "       [-1.29471864],\n",
       "       [-0.4607469 ],\n",
       "       [ 1.55100431],\n",
       "       [-1.90540791],\n",
       "       [ 0.4613423 ],\n",
       "       [-1.71335028],\n",
       "       [-0.93873984],\n",
       "       [ 2.04804177],\n",
       "       [ 1.32024901],\n",
       "       [-0.15770864],\n",
       "       [-1.34298905],\n",
       "       [ 0.5625252 ],\n",
       "       [-0.37654647],\n",
       "       [-1.78093261],\n",
       "       [ 2.11113324],\n",
       "       [ 0.62197504],\n",
       "       [ 0.14855117],\n",
       "       [-1.77738959],\n",
       "       [ 1.44035262],\n",
       "       [ 0.31842344],\n",
       "       [-0.74387089],\n",
       "       [ 1.52212946],\n",
       "       [ 1.1536229 ],\n",
       "       [-1.19989839],\n",
       "       [-2.0591881 ]])"
      ]
     },
     "execution_count": 86,
     "metadata": {},
     "output_type": "execute_result"
    }
   ],
   "source": [
    "previsores_lda"
   ]
  },
  {
   "cell_type": "markdown",
   "metadata": {},
   "source": [
    "## Salvando as variáveis (Atributos)"
   ]
  },
  {
   "cell_type": "code",
   "execution_count": 87,
   "metadata": {},
   "outputs": [
    {
     "name": "stdout",
     "output_type": "stream",
     "text": [
      "Pacote importado com sucesso\n"
     ]
    }
   ],
   "source": [
    "import pickle\n",
    "\n",
    "print(\"Pacote importado com sucesso\")"
   ]
  },
  {
   "cell_type": "code",
   "execution_count": 88,
   "metadata": {},
   "outputs": [],
   "source": [
    "# Criando o arquivo\n",
    "\n",
    "arq1 = open(\"heart.pkl\",'wb') # wb é para criar o arquivo"
   ]
  },
  {
   "cell_type": "code",
   "execution_count": 89,
   "metadata": {},
   "outputs": [],
   "source": [
    "# Salvando a variável no arquivo\n",
    "\n",
    "pickle.dump(alvo,arq1)"
   ]
  },
  {
   "cell_type": "code",
   "execution_count": 90,
   "metadata": {},
   "outputs": [],
   "source": [
    "# Fechando o arquivo\n",
    "\n",
    "arq1.close()"
   ]
  },
  {
   "cell_type": "code",
   "execution_count": 91,
   "metadata": {},
   "outputs": [],
   "source": [
    "# Lendo o arquivo\n",
    "\n",
    "arq1 = open('heart.pkl','rb')"
   ]
  },
  {
   "cell_type": "code",
   "execution_count": 92,
   "metadata": {},
   "outputs": [],
   "source": [
    "# Chamando a variável \n",
    "\n",
    "alvo = pickle.load(arq1)"
   ]
  },
  {
   "cell_type": "code",
   "execution_count": 93,
   "metadata": {},
   "outputs": [
    {
     "data": {
      "text/plain": [
       "array([0, 1, 0, 1, 0, 0, 0, 0, 1, 0, 0, 1, 0, 1, 0, 0, 1, 0, 1, 1, 0, 0,\n",
       "       0, 1, 0, 0, 0, 0, 0, 0, 1, 0, 1, 1, 0, 0, 1, 0, 0, 0, 0, 1, 0, 0,\n",
       "       1, 0, 0, 0, 0, 1, 1, 1, 0, 0, 0, 0, 1, 1, 0, 1, 0, 0, 0, 1, 0, 0,\n",
       "       0, 0, 1, 0, 1, 0, 1, 0, 1, 0, 1, 0, 0, 1, 0, 0, 1, 0, 1, 1, 1, 0,\n",
       "       1, 0, 0, 0, 0, 1, 0, 1, 0, 0, 0, 0, 1, 0, 1, 1, 1, 0, 0, 0, 0, 0,\n",
       "       0, 1, 0, 0, 0, 1, 1, 1, 0, 1, 1, 0, 0, 1, 0, 0, 0, 0, 0, 0, 0, 1,\n",
       "       1, 1, 0, 1, 0, 0, 1, 1, 1, 1, 1, 0, 1, 0, 0, 0, 0, 1, 0, 0, 0, 0,\n",
       "       0, 1, 1, 0, 1, 0, 1, 1, 0, 0, 0, 1, 1, 0, 0, 0, 0, 0, 0, 0, 1, 1,\n",
       "       1, 0, 0, 0, 1, 0, 1, 0, 0, 1, 0, 1, 0, 1, 0, 0, 0, 0, 0, 0, 0, 0,\n",
       "       1, 0, 0, 0, 0, 0, 0, 0, 0, 1, 0, 1, 1, 1, 0, 0, 1, 0, 1, 0, 0, 0,\n",
       "       1, 1, 0, 0, 0, 1, 0, 1, 0, 0, 0, 0, 0, 0, 0, 0, 1, 1, 1, 1, 0, 1,\n",
       "       1, 0, 1, 0, 1, 1, 1, 1, 1, 1, 0, 0, 1, 0, 0, 0, 0, 0, 0, 0, 1, 1,\n",
       "       1, 0, 1, 0, 1, 0, 0, 0, 1, 0, 0, 0, 1, 1, 0, 0, 0, 1, 0, 0, 0, 0,\n",
       "       0, 0, 0, 0, 0, 0, 0, 1, 1, 1, 1, 1, 1, 1, 1, 0, 1, 1, 1, 1, 1, 0,\n",
       "       1, 1, 0, 1, 1, 1, 0, 1, 1, 1, 1, 1, 1, 1, 1, 1, 1, 1, 0, 1, 1, 1,\n",
       "       1, 1, 0, 1, 1, 1, 0, 1, 1, 1, 1, 1, 1, 1, 1, 1, 1, 1, 1, 1, 1, 1,\n",
       "       1, 1, 1, 1, 1, 1, 1, 1, 1, 1, 1, 1, 0, 1, 1, 1, 1, 1, 1, 1, 1, 1,\n",
       "       1, 1, 1, 1, 1, 1, 1, 1, 1, 1, 1, 1, 1, 1, 1, 1, 1, 1, 1, 1, 1, 1,\n",
       "       1, 1, 1, 1, 1, 1, 1, 1, 1, 1, 1, 1, 1, 1, 1, 1, 1, 1, 1, 1, 1, 0,\n",
       "       1, 1, 0, 0, 1, 0, 1, 1, 0, 1, 1, 1, 1, 0, 1, 1, 0, 0, 1, 1, 1, 0,\n",
       "       1, 1, 1, 1, 1, 1, 1, 1, 1, 1, 1, 1, 0, 1, 0, 1, 1, 1, 0, 1, 1, 1,\n",
       "       0, 1, 0, 1, 0, 1, 0, 1, 1, 1, 1, 0, 1, 0, 1, 1, 1, 1, 1, 1, 1, 1,\n",
       "       1, 0, 1, 0, 1, 1, 1, 1, 1, 1, 1, 0, 1, 1, 1, 1, 1, 1, 0, 1, 1, 1,\n",
       "       0, 1, 1, 0, 1, 0, 1, 1, 0, 1, 1, 1, 1, 0, 1, 1, 1, 0, 0, 1, 0, 1,\n",
       "       1, 1, 1, 1, 1, 1, 1, 1, 1, 1, 0, 1, 1, 1, 1, 0, 0, 1, 1, 1, 0, 1,\n",
       "       0, 1, 1, 0, 1, 0, 1, 1, 1, 0, 0, 0, 1, 1, 1, 0, 1, 1, 1, 1, 1, 1,\n",
       "       1, 1, 1, 1, 1, 1, 1, 1, 1, 1, 0, 1, 1, 1, 0, 1, 1, 0, 0, 1, 1, 1,\n",
       "       1, 1, 0, 1, 1, 0, 1, 1, 1, 0, 0, 1, 1, 1, 1, 1, 0, 1, 0, 1, 1, 0,\n",
       "       1, 0, 0, 0, 1, 1, 1, 1, 0, 0, 0, 1, 0, 0, 1, 1, 0, 0, 1, 0, 0, 0,\n",
       "       0, 0, 0, 0, 1, 0, 1, 0, 0, 1, 1, 1, 1, 1, 0, 0, 1, 0, 0, 0, 1, 0,\n",
       "       1, 1, 1, 1, 1, 0, 0, 0, 0, 0, 1, 0, 1, 1, 0, 1, 0, 0, 0, 1, 0, 1,\n",
       "       0, 1, 1, 0, 0, 0, 0, 1, 0, 0, 0, 0, 1, 1, 1, 0, 0, 0, 0, 0, 0, 1,\n",
       "       0, 1, 1, 1, 1, 1, 0, 1, 0, 0, 0, 1, 0, 1, 1, 1, 0, 1, 1, 0, 1, 0,\n",
       "       1, 0, 0, 0, 1, 1, 0, 1, 1, 1, 1, 0, 0, 0, 1, 0, 0, 1, 1, 1, 0, 1,\n",
       "       0, 0, 0, 1, 0, 0, 1, 0, 1, 0, 1, 1, 1, 1, 1, 0, 0, 0, 0, 0, 0, 0,\n",
       "       1, 0, 0, 1, 1, 1, 0, 1, 0, 0, 0, 0, 0, 1, 0, 1, 1, 0, 0, 1, 1, 1,\n",
       "       1, 0, 0, 1, 1, 0, 0, 0, 1, 0, 0, 1, 0, 1, 0, 1, 0, 0, 0, 0, 0, 1,\n",
       "       0, 1, 1, 1, 1, 0, 0, 0, 1, 0, 1, 0, 0, 1, 0, 0, 0, 0, 0, 0, 1, 1,\n",
       "       0, 1, 0, 0, 1, 1, 0, 0, 1, 1, 0, 1, 0, 1, 0, 1, 0, 0, 1, 0, 0, 1,\n",
       "       0, 1, 1, 0, 1, 1, 1, 0, 1, 0, 0, 0, 0, 1, 1, 0, 0, 1, 1, 0, 1, 0,\n",
       "       0, 0, 0, 1, 0, 0, 1, 1, 1, 0, 0, 0, 1, 0, 1, 0, 1, 0, 1, 1, 1, 0,\n",
       "       0, 0, 1, 0, 1, 1, 1, 0, 1, 1, 1, 1, 1, 1, 0], dtype=int64)"
      ]
     },
     "execution_count": 93,
     "metadata": {},
     "output_type": "execute_result"
    }
   ],
   "source": [
    "alvo"
   ]
  },
  {
   "cell_type": "code",
   "execution_count": 94,
   "metadata": {},
   "outputs": [],
   "source": [
    "# \n",
    "arq6 = open(\"heart6.pkl\",'wb')\n",
    "pickle.dump(previsores3_esc,arq6)"
   ]
  },
  {
   "cell_type": "code",
   "execution_count": 95,
   "metadata": {},
   "outputs": [
    {
     "data": {
      "text/plain": [
       "array([[ 0.51630861, -0.51630861, -1.08542493, ..., -0.55173333,\n",
       "         1.38333943, -0.83150225],\n",
       "       [-1.9368261 ,  1.9368261 , -1.08542493, ..., -0.55173333,\n",
       "         0.75473573,  0.10625149],\n",
       "       [ 0.51630861, -0.51630861, -1.08542493, ..., -0.55173333,\n",
       "        -1.52395266, -0.83150225],\n",
       "       ...,\n",
       "       [ 0.51630861, -0.51630861,  0.92129817, ..., -0.55173333,\n",
       "        -0.85606123,  0.29380223],\n",
       "       [-1.9368261 ,  1.9368261 , -1.08542493, ..., -0.55173333,\n",
       "         1.46191489, -0.83150225],\n",
       "       [ 0.51630861, -0.51630861, -1.08542493, ..., -0.55173333,\n",
       "         1.42262716, -0.83150225]])"
      ]
     },
     "execution_count": 95,
     "metadata": {},
     "output_type": "execute_result"
    }
   ],
   "source": [
    "arq6 = open(\"heart6.pkl\",'rb')\n",
    "previsores = pickle.load(arq6)\n",
    "\n",
    "previsores"
   ]
  },
  {
   "cell_type": "markdown",
   "metadata": {},
   "source": [
    "## Base de Treino e Teste"
   ]
  },
  {
   "cell_type": "code",
   "execution_count": 96,
   "metadata": {},
   "outputs": [
    {
     "name": "stdout",
     "output_type": "stream",
     "text": [
      "pacote importado com sucesso\n"
     ]
    }
   ],
   "source": [
    "from sklearn.model_selection import train_test_split\n",
    "\n",
    "print(\"pacote importado com sucesso\")"
   ]
  },
  {
   "cell_type": "code",
   "execution_count": 227,
   "metadata": {},
   "outputs": [],
   "source": [
    "# Separando em treino e teste\n",
    "\n",
    "x_treino,x_teste,y_treino,y_teste = train_test_split(previsores3_esc,alvo,test_size=0.3,random_state=0) # Garantindo a mesma tomada de dados"
   ]
  },
  {
   "cell_type": "code",
   "execution_count": 98,
   "metadata": {},
   "outputs": [
    {
     "data": {
      "text/plain": [
       "(641, 20)"
      ]
     },
     "execution_count": 98,
     "metadata": {},
     "output_type": "execute_result"
    }
   ],
   "source": [
    "\n",
    "x_treino.shape"
   ]
  },
  {
   "cell_type": "code",
   "execution_count": 99,
   "metadata": {},
   "outputs": [
    {
     "data": {
      "text/plain": [
       "(276, 20)"
      ]
     },
     "execution_count": 99,
     "metadata": {},
     "output_type": "execute_result"
    }
   ],
   "source": [
    "x_teste.shape"
   ]
  },
  {
   "cell_type": "code",
   "execution_count": 100,
   "metadata": {},
   "outputs": [
    {
     "data": {
      "text/plain": [
       "(641,)"
      ]
     },
     "execution_count": 100,
     "metadata": {},
     "output_type": "execute_result"
    }
   ],
   "source": [
    "y_treino.shape"
   ]
  },
  {
   "cell_type": "code",
   "execution_count": 101,
   "metadata": {},
   "outputs": [
    {
     "data": {
      "text/plain": [
       "(276,)"
      ]
     },
     "execution_count": 101,
     "metadata": {},
     "output_type": "execute_result"
    }
   ],
   "source": [
    "y_teste.shape"
   ]
  },
  {
   "cell_type": "markdown",
   "metadata": {},
   "source": [
    "# NAIVE BAYES"
   ]
  },
  {
   "cell_type": "code",
   "execution_count": 102,
   "metadata": {},
   "outputs": [
    {
     "name": "stdout",
     "output_type": "stream",
     "text": [
      "pacote importado com sucesso\n"
     ]
    }
   ],
   "source": [
    "from sklearn.naive_bayes import GaussianNB\n",
    "print(\"pacote importado com sucesso\")"
   ]
  },
  {
   "cell_type": "code",
   "execution_count": 103,
   "metadata": {},
   "outputs": [
    {
     "data": {
      "text/plain": [
       "(641, 20)"
      ]
     },
     "execution_count": 103,
     "metadata": {},
     "output_type": "execute_result"
    }
   ],
   "source": [
    "x_treino.shape"
   ]
  },
  {
   "cell_type": "code",
   "execution_count": 104,
   "metadata": {},
   "outputs": [
    {
     "data": {
      "text/plain": [
       "(641,)"
      ]
     },
     "execution_count": 104,
     "metadata": {},
     "output_type": "execute_result"
    }
   ],
   "source": [
    "y_treino.shape"
   ]
  },
  {
   "cell_type": "code",
   "execution_count": 105,
   "metadata": {},
   "outputs": [
    {
     "data": {
      "text/html": [
       "<style>#sk-container-id-1 {color: black;background-color: white;}#sk-container-id-1 pre{padding: 0;}#sk-container-id-1 div.sk-toggleable {background-color: white;}#sk-container-id-1 label.sk-toggleable__label {cursor: pointer;display: block;width: 100%;margin-bottom: 0;padding: 0.3em;box-sizing: border-box;text-align: center;}#sk-container-id-1 label.sk-toggleable__label-arrow:before {content: \"▸\";float: left;margin-right: 0.25em;color: #696969;}#sk-container-id-1 label.sk-toggleable__label-arrow:hover:before {color: black;}#sk-container-id-1 div.sk-estimator:hover label.sk-toggleable__label-arrow:before {color: black;}#sk-container-id-1 div.sk-toggleable__content {max-height: 0;max-width: 0;overflow: hidden;text-align: left;background-color: #f0f8ff;}#sk-container-id-1 div.sk-toggleable__content pre {margin: 0.2em;color: black;border-radius: 0.25em;background-color: #f0f8ff;}#sk-container-id-1 input.sk-toggleable__control:checked~div.sk-toggleable__content {max-height: 200px;max-width: 100%;overflow: auto;}#sk-container-id-1 input.sk-toggleable__control:checked~label.sk-toggleable__label-arrow:before {content: \"▾\";}#sk-container-id-1 div.sk-estimator input.sk-toggleable__control:checked~label.sk-toggleable__label {background-color: #d4ebff;}#sk-container-id-1 div.sk-label input.sk-toggleable__control:checked~label.sk-toggleable__label {background-color: #d4ebff;}#sk-container-id-1 input.sk-hidden--visually {border: 0;clip: rect(1px 1px 1px 1px);clip: rect(1px, 1px, 1px, 1px);height: 1px;margin: -1px;overflow: hidden;padding: 0;position: absolute;width: 1px;}#sk-container-id-1 div.sk-estimator {font-family: monospace;background-color: #f0f8ff;border: 1px dotted black;border-radius: 0.25em;box-sizing: border-box;margin-bottom: 0.5em;}#sk-container-id-1 div.sk-estimator:hover {background-color: #d4ebff;}#sk-container-id-1 div.sk-parallel-item::after {content: \"\";width: 100%;border-bottom: 1px solid gray;flex-grow: 1;}#sk-container-id-1 div.sk-label:hover label.sk-toggleable__label {background-color: #d4ebff;}#sk-container-id-1 div.sk-serial::before {content: \"\";position: absolute;border-left: 1px solid gray;box-sizing: border-box;top: 0;bottom: 0;left: 50%;z-index: 0;}#sk-container-id-1 div.sk-serial {display: flex;flex-direction: column;align-items: center;background-color: white;padding-right: 0.2em;padding-left: 0.2em;position: relative;}#sk-container-id-1 div.sk-item {position: relative;z-index: 1;}#sk-container-id-1 div.sk-parallel {display: flex;align-items: stretch;justify-content: center;background-color: white;position: relative;}#sk-container-id-1 div.sk-item::before, #sk-container-id-1 div.sk-parallel-item::before {content: \"\";position: absolute;border-left: 1px solid gray;box-sizing: border-box;top: 0;bottom: 0;left: 50%;z-index: -1;}#sk-container-id-1 div.sk-parallel-item {display: flex;flex-direction: column;z-index: 1;position: relative;background-color: white;}#sk-container-id-1 div.sk-parallel-item:first-child::after {align-self: flex-end;width: 50%;}#sk-container-id-1 div.sk-parallel-item:last-child::after {align-self: flex-start;width: 50%;}#sk-container-id-1 div.sk-parallel-item:only-child::after {width: 0;}#sk-container-id-1 div.sk-dashed-wrapped {border: 1px dashed gray;margin: 0 0.4em 0.5em 0.4em;box-sizing: border-box;padding-bottom: 0.4em;background-color: white;}#sk-container-id-1 div.sk-label label {font-family: monospace;font-weight: bold;display: inline-block;line-height: 1.2em;}#sk-container-id-1 div.sk-label-container {text-align: center;}#sk-container-id-1 div.sk-container {/* jupyter's `normalize.less` sets `[hidden] { display: none; }` but bootstrap.min.css set `[hidden] { display: none !important; }` so we also need the `!important` here to be able to override the default hidden behavior on the sphinx rendered scikit-learn.org. See: https://github.com/scikit-learn/scikit-learn/issues/21755 */display: inline-block !important;position: relative;}#sk-container-id-1 div.sk-text-repr-fallback {display: none;}</style><div id=\"sk-container-id-1\" class=\"sk-top-container\"><div class=\"sk-text-repr-fallback\"><pre>GaussianNB()</pre><b>In a Jupyter environment, please rerun this cell to show the HTML representation or trust the notebook. <br />On GitHub, the HTML representation is unable to render, please try loading this page with nbviewer.org.</b></div><div class=\"sk-container\" hidden><div class=\"sk-item\"><div class=\"sk-estimator sk-toggleable\"><input class=\"sk-toggleable__control sk-hidden--visually\" id=\"sk-estimator-id-1\" type=\"checkbox\" checked><label for=\"sk-estimator-id-1\" class=\"sk-toggleable__label sk-toggleable__label-arrow\">GaussianNB</label><div class=\"sk-toggleable__content\"><pre>GaussianNB()</pre></div></div></div></div></div>"
      ],
      "text/plain": [
       "GaussianNB()"
      ]
     },
     "execution_count": 105,
     "metadata": {},
     "output_type": "execute_result"
    }
   ],
   "source": [
    "# Criando a instancia necessaria\n",
    "\n",
    "naive = GaussianNB()\n",
    "naive.fit(x_treino,y_treino)"
   ]
  },
  {
   "cell_type": "code",
   "execution_count": 106,
   "metadata": {},
   "outputs": [
    {
     "data": {
      "text/plain": [
       "array([1, 1, 1, 0, 0, 0, 1, 0, 0, 0, 1, 1, 1, 1, 0, 1, 1, 1, 1, 0, 1, 1,\n",
       "       1, 0, 0, 0, 1, 1, 0, 1, 1, 0, 0, 0, 1, 0, 0, 0, 1, 0, 0, 1, 1, 1,\n",
       "       1, 0, 0, 1, 0, 1, 1, 0, 0, 1, 1, 0, 0, 0, 0, 0, 1, 1, 1, 0, 1, 1,\n",
       "       1, 0, 1, 0, 1, 1, 0, 1, 1, 1, 1, 1, 1, 1, 1, 1, 0, 0, 1, 1, 1, 1,\n",
       "       1, 0, 1, 0, 0, 0, 0, 0, 1, 0, 0, 0, 0, 0, 1, 1, 0, 1, 1, 0, 0, 1,\n",
       "       0, 1, 1, 1, 1, 1, 1, 1, 1, 1, 1, 1, 1, 0, 1, 1, 0, 1, 0, 1, 0, 1,\n",
       "       1, 1, 0, 1, 1, 1, 1, 0, 0, 1, 0, 1, 0, 0, 1, 1, 1, 0, 0, 1, 1, 0,\n",
       "       1, 0, 1, 0, 1, 0, 1, 1, 1, 0, 1, 0, 1, 0, 1, 0, 1, 1, 0, 0, 1, 1,\n",
       "       1, 0, 0, 1, 1, 1, 0, 1, 1, 1, 0, 1, 1, 0, 1, 0, 1, 0, 1, 1, 0, 0,\n",
       "       1, 0, 1, 1, 0, 1, 1, 0, 0, 0, 1, 0, 1, 1, 0, 0, 0, 0, 1, 0, 1, 1,\n",
       "       1, 0, 0, 1, 1, 1, 0, 1, 0, 1, 0, 1, 1, 1, 0, 1, 1, 1, 0, 1, 1, 0,\n",
       "       1, 0, 0, 0, 0, 0, 1, 0, 1, 0, 1, 0, 0, 0, 1, 0, 0, 1, 0, 1, 1, 0,\n",
       "       0, 0, 0, 0, 1, 0, 0, 1, 1, 1, 1, 1], dtype=int64)"
      ]
     },
     "execution_count": 106,
     "metadata": {},
     "output_type": "execute_result"
    }
   ],
   "source": [
    "# Avaliação do algoritmo\n",
    "previsores_naive = naive.predict(x_teste)\n",
    "previsores_naive"
   ]
  },
  {
   "cell_type": "code",
   "execution_count": 107,
   "metadata": {},
   "outputs": [
    {
     "data": {
      "text/plain": [
       "array([1, 0, 1, 0, 0, 0, 0, 0, 0, 0, 1, 0, 1, 1, 0, 1, 1, 1, 1, 0, 1, 1,\n",
       "       1, 0, 0, 0, 1, 1, 0, 0, 1, 0, 0, 0, 1, 0, 1, 0, 1, 0, 0, 1, 1, 1,\n",
       "       1, 0, 0, 1, 1, 1, 1, 0, 0, 1, 1, 0, 0, 0, 1, 0, 1, 1, 1, 0, 1, 1,\n",
       "       1, 0, 1, 0, 1, 1, 1, 1, 1, 1, 1, 1, 1, 0, 0, 1, 0, 0, 1, 1, 0, 1,\n",
       "       1, 0, 1, 0, 0, 1, 1, 0, 1, 0, 0, 0, 0, 1, 1, 1, 0, 1, 0, 0, 0, 1,\n",
       "       0, 1, 1, 1, 0, 1, 1, 1, 1, 1, 1, 1, 1, 0, 0, 1, 0, 1, 0, 1, 0, 1,\n",
       "       0, 1, 0, 0, 0, 1, 1, 0, 1, 1, 0, 1, 0, 0, 1, 1, 1, 0, 1, 1, 0, 0,\n",
       "       0, 0, 1, 1, 1, 0, 1, 1, 1, 0, 1, 0, 1, 0, 1, 0, 1, 1, 0, 0, 1, 0,\n",
       "       0, 1, 0, 1, 1, 1, 0, 1, 1, 1, 0, 1, 1, 0, 0, 0, 1, 1, 1, 1, 1, 0,\n",
       "       1, 0, 1, 1, 0, 1, 1, 0, 0, 0, 1, 0, 1, 1, 0, 1, 0, 1, 1, 1, 1, 1,\n",
       "       1, 1, 0, 0, 0, 1, 0, 1, 1, 1, 0, 1, 0, 1, 1, 1, 1, 1, 0, 1, 1, 0,\n",
       "       1, 0, 1, 0, 0, 0, 1, 0, 1, 0, 1, 1, 0, 0, 1, 0, 0, 1, 0, 1, 1, 0,\n",
       "       0, 0, 0, 0, 1, 0, 0, 1, 1, 1, 1, 1], dtype=int64)"
      ]
     },
     "execution_count": 107,
     "metadata": {},
     "output_type": "execute_result"
    }
   ],
   "source": [
    "y_teste"
   ]
  },
  {
   "cell_type": "code",
   "execution_count": 108,
   "metadata": {},
   "outputs": [
    {
     "name": "stdout",
     "output_type": "stream",
     "text": [
      "pacotes importados com sucesso\n"
     ]
    }
   ],
   "source": [
    "from sklearn.metrics import accuracy_score,confusion_matrix,classification_report\n",
    "\n",
    "print('pacotes importados com sucesso')"
   ]
  },
  {
   "cell_type": "code",
   "execution_count": 109,
   "metadata": {},
   "outputs": [
    {
     "name": "stdout",
     "output_type": "stream",
     "text": [
      "Acuracia do modelo com dados escalonados e com dummie 0.8478260869565217\n"
     ]
    }
   ],
   "source": [
    "accuracy_score(y_teste,previsores_naive)\n",
    "\n",
    "print(f\"Acuracia do modelo com dados escalonados e com dummie {accuracy_score(y_teste,previsores_naive)}\")"
   ]
  },
  {
   "cell_type": "code",
   "execution_count": 110,
   "metadata": {},
   "outputs": [
    {
     "data": {
      "text/plain": [
       "array([[100,  21],\n",
       "       [ 21, 134]], dtype=int64)"
      ]
     },
     "execution_count": 110,
     "metadata": {},
     "output_type": "execute_result"
    }
   ],
   "source": [
    "# Matriz de confusão\n",
    "confusion_matrix(y_teste,previsores_naive)"
   ]
  },
  {
   "cell_type": "code",
   "execution_count": 111,
   "metadata": {},
   "outputs": [
    {
     "name": "stdout",
     "output_type": "stream",
     "text": [
      "              precision    recall  f1-score   support\n",
      "\n",
      "           0       0.83      0.83      0.83       121\n",
      "           1       0.86      0.86      0.86       155\n",
      "\n",
      "    accuracy                           0.85       276\n",
      "   macro avg       0.85      0.85      0.85       276\n",
      "weighted avg       0.85      0.85      0.85       276\n",
      "\n"
     ]
    }
   ],
   "source": [
    "print(classification_report(y_teste,previsores_naive))"
   ]
  },
  {
   "cell_type": "code",
   "execution_count": 112,
   "metadata": {},
   "outputs": [
    {
     "data": {
      "text/plain": [
       "array([1, 0, 1, 1, 1, 1, 0, 0, 0, 0, 1, 0, 1, 1, 1, 0, 0, 0, 0, 1, 0, 1,\n",
       "       1, 1, 1, 0, 0, 1, 0, 1, 1, 0, 1, 1, 0, 0, 1, 1, 0, 1, 0, 1, 0, 0,\n",
       "       1, 1, 0, 1, 1, 1, 0, 0, 1, 0, 1, 0, 1, 0, 1, 0, 0, 0, 0, 0, 1, 1,\n",
       "       0, 1, 1, 0, 1, 1, 1, 1, 0, 0, 1, 1, 1, 1, 1, 1, 1, 1, 0, 1, 1, 1,\n",
       "       1, 1, 0, 1, 0, 0, 1, 1, 1, 1, 1, 1, 1, 1, 0, 1, 1, 1, 1, 0, 0, 1,\n",
       "       0, 0, 1, 0, 1, 0, 1, 0, 1, 0, 0, 0, 0, 1, 0, 1, 0, 0, 1, 1, 1, 0,\n",
       "       1, 1, 0, 0, 1, 0, 1, 1, 0, 1, 1, 1, 1, 1, 1, 0, 0, 1, 1, 0, 1, 0,\n",
       "       1, 0, 1, 1, 1, 1, 1, 0, 0, 0, 0, 0, 1, 0, 0, 0, 0, 1, 1, 0, 1, 0,\n",
       "       0, 1, 1, 0, 0, 0, 0, 0, 0, 1, 1, 1, 1, 1, 0, 0, 1, 0, 0, 1, 1, 0,\n",
       "       0, 1, 0, 0, 0, 1, 1, 1, 1, 1, 1, 0, 0, 0, 1, 1, 1, 1, 1, 0, 0, 1,\n",
       "       1, 0, 0, 1, 1, 1, 1, 1, 1, 1, 0, 1, 0, 1, 1, 0, 1, 0, 1, 0, 1, 0,\n",
       "       1, 1, 0, 1, 1, 1, 1, 0, 1, 1, 0, 0, 0, 0, 0, 0, 0, 0, 0, 1, 1, 0,\n",
       "       1, 0, 1, 0, 1, 0, 1, 1, 0, 0, 0, 1, 1, 0, 0, 0, 1, 0, 0, 0, 1, 1,\n",
       "       0, 1, 1, 1, 1, 0, 1, 1, 0, 1, 0, 1, 0, 1, 1, 0, 0, 1, 0, 0, 1, 1,\n",
       "       1, 0, 1, 0, 1, 0, 1, 0, 1, 0, 1, 0, 1, 1, 1, 0, 0, 1, 1, 1, 1, 0,\n",
       "       0, 0, 1, 0, 0, 0, 1, 1, 0, 1, 1, 1, 1, 1, 1, 0, 1, 1, 0, 1, 0, 1,\n",
       "       0, 0, 0, 0, 0, 0, 1, 0, 0, 1, 0, 1, 1, 0, 0, 0, 0, 0, 1, 1, 0, 1,\n",
       "       0, 1, 1, 1, 0, 1, 1, 1, 0, 1, 0, 1, 0, 0, 0, 1, 0, 1, 1, 0, 1, 1,\n",
       "       0, 0, 0, 1, 1, 1, 1, 0, 1, 0, 1, 1, 1, 0, 0, 1, 0, 1, 1, 1, 0, 0,\n",
       "       0, 1, 1, 0, 0, 1, 1, 0, 1, 0, 0, 0, 0, 1, 1, 1, 1, 1, 1, 0, 1, 1,\n",
       "       0, 0, 1, 1, 1, 1, 0, 1, 0, 0, 1, 0, 0, 1, 1, 1, 0, 0, 0, 1, 0, 1,\n",
       "       1, 1, 1, 1, 1, 0, 1, 1, 1, 1, 1, 1, 0, 1, 1, 0, 0, 0, 1, 0, 0, 0,\n",
       "       0, 0, 1, 0, 1, 1, 0, 0, 0, 1, 1, 0, 0, 1, 1, 0, 1, 1, 0, 0, 1, 1,\n",
       "       1, 1, 0, 0, 1, 0, 1, 1, 0, 1, 0, 0, 1, 0, 1, 1, 1, 0, 0, 1, 1, 0,\n",
       "       1, 0, 1, 0, 1, 0, 1, 0, 1, 0, 1, 1, 0, 1, 1, 1, 1, 0, 0, 1, 1, 0,\n",
       "       0, 1, 1, 0, 1, 0, 1, 1, 1, 0, 1, 1, 0, 0, 0, 0, 1, 0, 0, 1, 0, 1,\n",
       "       1, 1, 0, 0, 1, 0, 0, 0, 0, 0, 0, 1, 1, 1, 1, 0, 1, 0, 0, 0, 0, 0,\n",
       "       0, 0, 1, 0, 0, 0, 0, 0, 0, 0, 1, 0, 1, 1, 0, 1, 1, 1, 1, 1, 0, 1,\n",
       "       1, 1, 0, 1, 1, 0, 1, 0, 1, 1, 1, 1, 0, 1, 1, 0, 0, 0, 1, 0, 1, 0,\n",
       "       0, 0, 1], dtype=int64)"
      ]
     },
     "execution_count": 112,
     "metadata": {},
     "output_type": "execute_result"
    }
   ],
   "source": [
    "# Analise dados de treino\n",
    "\n",
    "previsores_treino = naive.predict(x_treino)\n",
    "previsores_treino"
   ]
  },
  {
   "cell_type": "code",
   "execution_count": 113,
   "metadata": {},
   "outputs": [
    {
     "data": {
      "text/plain": [
       "0.8611544461778471"
      ]
     },
     "execution_count": 113,
     "metadata": {},
     "output_type": "execute_result"
    }
   ],
   "source": [
    "# Acuracia \n",
    "\n",
    "accuracy_score(y_treino,previsores_treino)"
   ]
  },
  {
   "cell_type": "markdown",
   "metadata": {},
   "source": [
    "# Validação Cruzada"
   ]
  },
  {
   "cell_type": "code",
   "execution_count": 114,
   "metadata": {},
   "outputs": [
    {
     "name": "stdout",
     "output_type": "stream",
     "text": [
      "pacote importados com sucesso\n"
     ]
    }
   ],
   "source": [
    "from sklearn.model_selection import KFold\n",
    "from sklearn.model_selection import cross_val_score\n",
    "\n",
    "print(\"pacote importados com sucesso\")"
   ]
  },
  {
   "cell_type": "code",
   "execution_count": 115,
   "metadata": {},
   "outputs": [],
   "source": [
    "# Seprando os dados em folds\n",
    "\n",
    "KFold = KFold(n_splits=30,shuffle=True,random_state=5) # Random state é para fixar "
   ]
  },
  {
   "cell_type": "code",
   "execution_count": 116,
   "metadata": {},
   "outputs": [
    {
     "data": {
      "text/plain": [
       "array([0.87096774, 0.87096774, 0.90322581, 0.80645161, 0.77419355,\n",
       "       0.90322581, 0.70967742, 0.87096774, 0.77419355, 0.87096774,\n",
       "       0.90322581, 0.77419355, 0.93548387, 0.90322581, 0.87096774,\n",
       "       0.87096774, 0.87096774, 0.93333333, 0.93333333, 0.9       ,\n",
       "       0.76666667, 0.83333333, 0.8       , 0.7       , 0.83333333,\n",
       "       0.93333333, 0.86666667, 0.9       , 0.86666667, 0.8       ])"
      ]
     },
     "execution_count": 116,
     "metadata": {},
     "output_type": "execute_result"
    }
   ],
   "source": [
    "# Criando o modelo\n",
    "\n",
    "modelo = GaussianNB()\n",
    "resultado = cross_val_score(modelo,previsores3_esc,alvo,cv=KFold)\n",
    "resultado # Resultado da acuracias, testando diferentes treinos e testes."
   ]
  },
  {
   "cell_type": "code",
   "execution_count": 117,
   "metadata": {},
   "outputs": [
    {
     "name": "stdout",
     "output_type": "stream",
     "text": [
      "Acurácia Média: 85.17%\n"
     ]
    }
   ],
   "source": [
    "print(\"Acurácia Média: %.2f%%\" % (resultado.mean() * 100.0))"
   ]
  },
  {
   "cell_type": "markdown",
   "metadata": {},
   "source": [
    "# Máquina de Vetore de Suporte (SVM)"
   ]
  },
  {
   "cell_type": "code",
   "execution_count": 118,
   "metadata": {},
   "outputs": [
    {
     "name": "stdout",
     "output_type": "stream",
     "text": [
      "pacotes importados com sucesso\n"
     ]
    }
   ],
   "source": [
    "from sklearn.svm import SVC\n",
    "print(\"pacotes importados com sucesso\")"
   ]
  },
  {
   "cell_type": "code",
   "execution_count": 119,
   "metadata": {},
   "outputs": [
    {
     "data": {
      "text/html": [
       "<style>#sk-container-id-2 {color: black;background-color: white;}#sk-container-id-2 pre{padding: 0;}#sk-container-id-2 div.sk-toggleable {background-color: white;}#sk-container-id-2 label.sk-toggleable__label {cursor: pointer;display: block;width: 100%;margin-bottom: 0;padding: 0.3em;box-sizing: border-box;text-align: center;}#sk-container-id-2 label.sk-toggleable__label-arrow:before {content: \"▸\";float: left;margin-right: 0.25em;color: #696969;}#sk-container-id-2 label.sk-toggleable__label-arrow:hover:before {color: black;}#sk-container-id-2 div.sk-estimator:hover label.sk-toggleable__label-arrow:before {color: black;}#sk-container-id-2 div.sk-toggleable__content {max-height: 0;max-width: 0;overflow: hidden;text-align: left;background-color: #f0f8ff;}#sk-container-id-2 div.sk-toggleable__content pre {margin: 0.2em;color: black;border-radius: 0.25em;background-color: #f0f8ff;}#sk-container-id-2 input.sk-toggleable__control:checked~div.sk-toggleable__content {max-height: 200px;max-width: 100%;overflow: auto;}#sk-container-id-2 input.sk-toggleable__control:checked~label.sk-toggleable__label-arrow:before {content: \"▾\";}#sk-container-id-2 div.sk-estimator input.sk-toggleable__control:checked~label.sk-toggleable__label {background-color: #d4ebff;}#sk-container-id-2 div.sk-label input.sk-toggleable__control:checked~label.sk-toggleable__label {background-color: #d4ebff;}#sk-container-id-2 input.sk-hidden--visually {border: 0;clip: rect(1px 1px 1px 1px);clip: rect(1px, 1px, 1px, 1px);height: 1px;margin: -1px;overflow: hidden;padding: 0;position: absolute;width: 1px;}#sk-container-id-2 div.sk-estimator {font-family: monospace;background-color: #f0f8ff;border: 1px dotted black;border-radius: 0.25em;box-sizing: border-box;margin-bottom: 0.5em;}#sk-container-id-2 div.sk-estimator:hover {background-color: #d4ebff;}#sk-container-id-2 div.sk-parallel-item::after {content: \"\";width: 100%;border-bottom: 1px solid gray;flex-grow: 1;}#sk-container-id-2 div.sk-label:hover label.sk-toggleable__label {background-color: #d4ebff;}#sk-container-id-2 div.sk-serial::before {content: \"\";position: absolute;border-left: 1px solid gray;box-sizing: border-box;top: 0;bottom: 0;left: 50%;z-index: 0;}#sk-container-id-2 div.sk-serial {display: flex;flex-direction: column;align-items: center;background-color: white;padding-right: 0.2em;padding-left: 0.2em;position: relative;}#sk-container-id-2 div.sk-item {position: relative;z-index: 1;}#sk-container-id-2 div.sk-parallel {display: flex;align-items: stretch;justify-content: center;background-color: white;position: relative;}#sk-container-id-2 div.sk-item::before, #sk-container-id-2 div.sk-parallel-item::before {content: \"\";position: absolute;border-left: 1px solid gray;box-sizing: border-box;top: 0;bottom: 0;left: 50%;z-index: -1;}#sk-container-id-2 div.sk-parallel-item {display: flex;flex-direction: column;z-index: 1;position: relative;background-color: white;}#sk-container-id-2 div.sk-parallel-item:first-child::after {align-self: flex-end;width: 50%;}#sk-container-id-2 div.sk-parallel-item:last-child::after {align-self: flex-start;width: 50%;}#sk-container-id-2 div.sk-parallel-item:only-child::after {width: 0;}#sk-container-id-2 div.sk-dashed-wrapped {border: 1px dashed gray;margin: 0 0.4em 0.5em 0.4em;box-sizing: border-box;padding-bottom: 0.4em;background-color: white;}#sk-container-id-2 div.sk-label label {font-family: monospace;font-weight: bold;display: inline-block;line-height: 1.2em;}#sk-container-id-2 div.sk-label-container {text-align: center;}#sk-container-id-2 div.sk-container {/* jupyter's `normalize.less` sets `[hidden] { display: none; }` but bootstrap.min.css set `[hidden] { display: none !important; }` so we also need the `!important` here to be able to override the default hidden behavior on the sphinx rendered scikit-learn.org. See: https://github.com/scikit-learn/scikit-learn/issues/21755 */display: inline-block !important;position: relative;}#sk-container-id-2 div.sk-text-repr-fallback {display: none;}</style><div id=\"sk-container-id-2\" class=\"sk-top-container\"><div class=\"sk-text-repr-fallback\"><pre>SVC(C=2, random_state=1)</pre><b>In a Jupyter environment, please rerun this cell to show the HTML representation or trust the notebook. <br />On GitHub, the HTML representation is unable to render, please try loading this page with nbviewer.org.</b></div><div class=\"sk-container\" hidden><div class=\"sk-item\"><div class=\"sk-estimator sk-toggleable\"><input class=\"sk-toggleable__control sk-hidden--visually\" id=\"sk-estimator-id-2\" type=\"checkbox\" checked><label for=\"sk-estimator-id-2\" class=\"sk-toggleable__label sk-toggleable__label-arrow\">SVC</label><div class=\"sk-toggleable__content\"><pre>SVC(C=2, random_state=1)</pre></div></div></div></div></div>"
      ],
      "text/plain": [
       "SVC(C=2, random_state=1)"
      ]
     },
     "execution_count": 119,
     "metadata": {},
     "output_type": "execute_result"
    }
   ],
   "source": [
    "svm = SVC(kernel='rbf',random_state=1,C=2)\n",
    "svm.fit(x_treino,y_treino)"
   ]
  },
  {
   "cell_type": "code",
   "execution_count": 120,
   "metadata": {},
   "outputs": [
    {
     "data": {
      "text/plain": [
       "array([1, 1, 1, 0, 0, 0, 1, 0, 0, 0, 1, 1, 1, 1, 0, 1, 1, 1, 1, 0, 1, 1,\n",
       "       1, 0, 0, 0, 1, 1, 1, 1, 1, 0, 0, 0, 1, 0, 0, 0, 1, 0, 0, 1, 1, 1,\n",
       "       1, 0, 0, 1, 0, 1, 1, 0, 0, 0, 1, 0, 0, 0, 0, 0, 1, 1, 1, 0, 1, 1,\n",
       "       1, 0, 1, 0, 1, 1, 0, 1, 1, 1, 1, 1, 1, 1, 1, 1, 0, 0, 1, 1, 1, 1,\n",
       "       1, 0, 1, 0, 0, 0, 1, 0, 1, 0, 0, 0, 0, 1, 1, 1, 0, 1, 0, 0, 0, 1,\n",
       "       1, 1, 1, 1, 0, 1, 1, 1, 1, 1, 1, 1, 1, 0, 1, 1, 0, 1, 0, 1, 0, 1,\n",
       "       1, 1, 0, 1, 0, 1, 1, 0, 1, 1, 0, 1, 0, 0, 1, 1, 1, 0, 1, 1, 0, 0,\n",
       "       1, 0, 1, 1, 1, 0, 1, 1, 1, 0, 1, 0, 1, 0, 1, 0, 1, 1, 0, 0, 1, 1,\n",
       "       1, 0, 0, 1, 1, 1, 0, 1, 1, 1, 0, 1, 1, 0, 1, 0, 1, 1, 1, 0, 0, 0,\n",
       "       1, 0, 1, 1, 0, 1, 1, 0, 0, 0, 1, 1, 1, 1, 0, 1, 0, 0, 1, 0, 1, 1,\n",
       "       1, 0, 0, 1, 1, 1, 0, 1, 0, 1, 0, 1, 1, 1, 0, 1, 1, 1, 0, 1, 1, 0,\n",
       "       1, 0, 0, 0, 0, 0, 1, 0, 1, 0, 1, 0, 0, 0, 1, 0, 0, 1, 0, 1, 1, 0,\n",
       "       1, 1, 0, 0, 1, 0, 0, 1, 1, 1, 1, 1], dtype=int64)"
      ]
     },
     "execution_count": 120,
     "metadata": {},
     "output_type": "execute_result"
    }
   ],
   "source": [
    "previsoes_svm = svm.predict(x_teste)\n",
    "previsoes_svm"
   ]
  },
  {
   "cell_type": "code",
   "execution_count": 121,
   "metadata": {},
   "outputs": [
    {
     "data": {
      "text/plain": [
       "array([1, 0, 1, 0, 0, 0, 0, 0, 0, 0, 1, 0, 1, 1, 0, 1, 1, 1, 1, 0, 1, 1,\n",
       "       1, 0, 0, 0, 1, 1, 0, 0, 1, 0, 0, 0, 1, 0, 1, 0, 1, 0, 0, 1, 1, 1,\n",
       "       1, 0, 0, 1, 1, 1, 1, 0, 0, 1, 1, 0, 0, 0, 1, 0, 1, 1, 1, 0, 1, 1,\n",
       "       1, 0, 1, 0, 1, 1, 1, 1, 1, 1, 1, 1, 1, 0, 0, 1, 0, 0, 1, 1, 0, 1,\n",
       "       1, 0, 1, 0, 0, 1, 1, 0, 1, 0, 0, 0, 0, 1, 1, 1, 0, 1, 0, 0, 0, 1,\n",
       "       0, 1, 1, 1, 0, 1, 1, 1, 1, 1, 1, 1, 1, 0, 0, 1, 0, 1, 0, 1, 0, 1,\n",
       "       0, 1, 0, 0, 0, 1, 1, 0, 1, 1, 0, 1, 0, 0, 1, 1, 1, 0, 1, 1, 0, 0,\n",
       "       0, 0, 1, 1, 1, 0, 1, 1, 1, 0, 1, 0, 1, 0, 1, 0, 1, 1, 0, 0, 1, 0,\n",
       "       0, 1, 0, 1, 1, 1, 0, 1, 1, 1, 0, 1, 1, 0, 0, 0, 1, 1, 1, 1, 1, 0,\n",
       "       1, 0, 1, 1, 0, 1, 1, 0, 0, 0, 1, 0, 1, 1, 0, 1, 0, 1, 1, 1, 1, 1,\n",
       "       1, 1, 0, 0, 0, 1, 0, 1, 1, 1, 0, 1, 0, 1, 1, 1, 1, 1, 0, 1, 1, 0,\n",
       "       1, 0, 1, 0, 0, 0, 1, 0, 1, 0, 1, 1, 0, 0, 1, 0, 0, 1, 0, 1, 1, 0,\n",
       "       0, 0, 0, 0, 1, 0, 0, 1, 1, 1, 1, 1], dtype=int64)"
      ]
     },
     "execution_count": 121,
     "metadata": {},
     "output_type": "execute_result"
    }
   ],
   "source": [
    "y_teste"
   ]
  },
  {
   "cell_type": "code",
   "execution_count": 122,
   "metadata": {},
   "outputs": [],
   "source": [
    "from sklearn.metrics import accuracy_score,confusion_matrix,classification_report"
   ]
  },
  {
   "cell_type": "code",
   "execution_count": 123,
   "metadata": {},
   "outputs": [
    {
     "name": "stdout",
     "output_type": "stream",
     "text": [
      "Acurácia: 86.23%\n"
     ]
    }
   ],
   "source": [
    "print(\"Acurácia: %.2f%%\" % (accuracy_score(y_teste, previsoes_svm) * 100.0))"
   ]
  },
  {
   "cell_type": "code",
   "execution_count": 124,
   "metadata": {},
   "outputs": [
    {
     "data": {
      "text/plain": [
       "array([[ 99,  22],\n",
       "       [ 16, 139]], dtype=int64)"
      ]
     },
     "execution_count": 124,
     "metadata": {},
     "output_type": "execute_result"
    }
   ],
   "source": [
    "confusion_matrix(y_teste, previsoes_svm)"
   ]
  },
  {
   "cell_type": "code",
   "execution_count": 125,
   "metadata": {},
   "outputs": [
    {
     "name": "stdout",
     "output_type": "stream",
     "text": [
      "              precision    recall  f1-score   support\n",
      "\n",
      "           0       0.86      0.82      0.84       121\n",
      "           1       0.86      0.90      0.88       155\n",
      "\n",
      "    accuracy                           0.86       276\n",
      "   macro avg       0.86      0.86      0.86       276\n",
      "weighted avg       0.86      0.86      0.86       276\n",
      "\n"
     ]
    }
   ],
   "source": [
    "print(classification_report(y_teste, previsoes_svm))"
   ]
  },
  {
   "cell_type": "markdown",
   "metadata": {},
   "source": [
    "# Análise da base de treino\n"
   ]
  },
  {
   "cell_type": "code",
   "execution_count": 126,
   "metadata": {},
   "outputs": [],
   "source": [
    "previsores_treino = svm.predict(x_treino)\n"
   ]
  },
  {
   "cell_type": "code",
   "execution_count": 127,
   "metadata": {},
   "outputs": [
    {
     "data": {
      "text/plain": [
       "0.9282371294851794"
      ]
     },
     "execution_count": 127,
     "metadata": {},
     "output_type": "execute_result"
    }
   ],
   "source": [
    "accuracy_score(y_treino, previsores_treino)"
   ]
  },
  {
   "cell_type": "markdown",
   "metadata": {},
   "source": [
    "# Validação Cruzada"
   ]
  },
  {
   "cell_type": "code",
   "execution_count": 128,
   "metadata": {},
   "outputs": [],
   "source": [
    "from sklearn.model_selection import KFold\n",
    "from sklearn.model_selection import cross_val_score"
   ]
  },
  {
   "cell_type": "code",
   "execution_count": 129,
   "metadata": {},
   "outputs": [],
   "source": [
    "KFold = KFold(n_splits=30,shuffle=True,random_state=5)"
   ]
  },
  {
   "cell_type": "code",
   "execution_count": 130,
   "metadata": {},
   "outputs": [
    {
     "name": "stdout",
     "output_type": "stream",
     "text": [
      "Acuracia do modelo 0.8572401433691755\n"
     ]
    }
   ],
   "source": [
    "modelo = SVC(kernel='rbf',random_state=1,C=2)\n",
    "resultado = cross_val_score(modelo,previsores3_esc,alvo,cv=KFold)\n",
    "\n",
    "print(f\"Acuracia do modelo {resultado.mean()}\")"
   ]
  },
  {
   "cell_type": "code",
   "execution_count": 131,
   "metadata": {},
   "outputs": [
    {
     "data": {
      "text/plain": [
       "array([0.96774194, 0.83870968, 0.87096774, 0.90322581, 0.83870968,\n",
       "       0.87096774, 0.70967742, 0.87096774, 0.80645161, 0.80645161,\n",
       "       0.87096774, 0.80645161, 0.96774194, 0.90322581, 0.80645161,\n",
       "       0.83870968, 0.80645161, 0.93333333, 0.86666667, 0.93333333,\n",
       "       0.83333333, 0.86666667, 0.86666667, 0.63333333, 0.83333333,\n",
       "       0.93333333, 0.9       , 0.86666667, 0.9       , 0.86666667])"
      ]
     },
     "execution_count": 131,
     "metadata": {},
     "output_type": "execute_result"
    }
   ],
   "source": [
    "resultado"
   ]
  },
  {
   "cell_type": "markdown",
   "metadata": {},
   "source": [
    "# Regressão Logistica"
   ]
  },
  {
   "cell_type": "code",
   "execution_count": 132,
   "metadata": {},
   "outputs": [],
   "source": [
    "from sklearn.linear_model import LogisticRegression"
   ]
  },
  {
   "cell_type": "code",
   "execution_count": 133,
   "metadata": {},
   "outputs": [
    {
     "data": {
      "text/html": [
       "<style>#sk-container-id-3 {color: black;background-color: white;}#sk-container-id-3 pre{padding: 0;}#sk-container-id-3 div.sk-toggleable {background-color: white;}#sk-container-id-3 label.sk-toggleable__label {cursor: pointer;display: block;width: 100%;margin-bottom: 0;padding: 0.3em;box-sizing: border-box;text-align: center;}#sk-container-id-3 label.sk-toggleable__label-arrow:before {content: \"▸\";float: left;margin-right: 0.25em;color: #696969;}#sk-container-id-3 label.sk-toggleable__label-arrow:hover:before {color: black;}#sk-container-id-3 div.sk-estimator:hover label.sk-toggleable__label-arrow:before {color: black;}#sk-container-id-3 div.sk-toggleable__content {max-height: 0;max-width: 0;overflow: hidden;text-align: left;background-color: #f0f8ff;}#sk-container-id-3 div.sk-toggleable__content pre {margin: 0.2em;color: black;border-radius: 0.25em;background-color: #f0f8ff;}#sk-container-id-3 input.sk-toggleable__control:checked~div.sk-toggleable__content {max-height: 200px;max-width: 100%;overflow: auto;}#sk-container-id-3 input.sk-toggleable__control:checked~label.sk-toggleable__label-arrow:before {content: \"▾\";}#sk-container-id-3 div.sk-estimator input.sk-toggleable__control:checked~label.sk-toggleable__label {background-color: #d4ebff;}#sk-container-id-3 div.sk-label input.sk-toggleable__control:checked~label.sk-toggleable__label {background-color: #d4ebff;}#sk-container-id-3 input.sk-hidden--visually {border: 0;clip: rect(1px 1px 1px 1px);clip: rect(1px, 1px, 1px, 1px);height: 1px;margin: -1px;overflow: hidden;padding: 0;position: absolute;width: 1px;}#sk-container-id-3 div.sk-estimator {font-family: monospace;background-color: #f0f8ff;border: 1px dotted black;border-radius: 0.25em;box-sizing: border-box;margin-bottom: 0.5em;}#sk-container-id-3 div.sk-estimator:hover {background-color: #d4ebff;}#sk-container-id-3 div.sk-parallel-item::after {content: \"\";width: 100%;border-bottom: 1px solid gray;flex-grow: 1;}#sk-container-id-3 div.sk-label:hover label.sk-toggleable__label {background-color: #d4ebff;}#sk-container-id-3 div.sk-serial::before {content: \"\";position: absolute;border-left: 1px solid gray;box-sizing: border-box;top: 0;bottom: 0;left: 50%;z-index: 0;}#sk-container-id-3 div.sk-serial {display: flex;flex-direction: column;align-items: center;background-color: white;padding-right: 0.2em;padding-left: 0.2em;position: relative;}#sk-container-id-3 div.sk-item {position: relative;z-index: 1;}#sk-container-id-3 div.sk-parallel {display: flex;align-items: stretch;justify-content: center;background-color: white;position: relative;}#sk-container-id-3 div.sk-item::before, #sk-container-id-3 div.sk-parallel-item::before {content: \"\";position: absolute;border-left: 1px solid gray;box-sizing: border-box;top: 0;bottom: 0;left: 50%;z-index: -1;}#sk-container-id-3 div.sk-parallel-item {display: flex;flex-direction: column;z-index: 1;position: relative;background-color: white;}#sk-container-id-3 div.sk-parallel-item:first-child::after {align-self: flex-end;width: 50%;}#sk-container-id-3 div.sk-parallel-item:last-child::after {align-self: flex-start;width: 50%;}#sk-container-id-3 div.sk-parallel-item:only-child::after {width: 0;}#sk-container-id-3 div.sk-dashed-wrapped {border: 1px dashed gray;margin: 0 0.4em 0.5em 0.4em;box-sizing: border-box;padding-bottom: 0.4em;background-color: white;}#sk-container-id-3 div.sk-label label {font-family: monospace;font-weight: bold;display: inline-block;line-height: 1.2em;}#sk-container-id-3 div.sk-label-container {text-align: center;}#sk-container-id-3 div.sk-container {/* jupyter's `normalize.less` sets `[hidden] { display: none; }` but bootstrap.min.css set `[hidden] { display: none !important; }` so we also need the `!important` here to be able to override the default hidden behavior on the sphinx rendered scikit-learn.org. See: https://github.com/scikit-learn/scikit-learn/issues/21755 */display: inline-block !important;position: relative;}#sk-container-id-3 div.sk-text-repr-fallback {display: none;}</style><div id=\"sk-container-id-3\" class=\"sk-top-container\"><div class=\"sk-text-repr-fallback\"><pre>LogisticRegression(C=1, max_iter=500, random_state=1)</pre><b>In a Jupyter environment, please rerun this cell to show the HTML representation or trust the notebook. <br />On GitHub, the HTML representation is unable to render, please try loading this page with nbviewer.org.</b></div><div class=\"sk-container\" hidden><div class=\"sk-item\"><div class=\"sk-estimator sk-toggleable\"><input class=\"sk-toggleable__control sk-hidden--visually\" id=\"sk-estimator-id-3\" type=\"checkbox\" checked><label for=\"sk-estimator-id-3\" class=\"sk-toggleable__label sk-toggleable__label-arrow\">LogisticRegression</label><div class=\"sk-toggleable__content\"><pre>LogisticRegression(C=1, max_iter=500, random_state=1)</pre></div></div></div></div></div>"
      ],
      "text/plain": [
       "LogisticRegression(C=1, max_iter=500, random_state=1)"
      ]
     },
     "execution_count": 133,
     "metadata": {},
     "output_type": "execute_result"
    }
   ],
   "source": [
    "logistica = LogisticRegression(random_state=1,max_iter=500,penalty=\"l2\",\n",
    "                               tol=0.0001,C=1,solver=\"lbfgs\"\n",
    "\n",
    ")\n",
    "\n",
    "logistica.fit(x_treino,y_treino)"
   ]
  },
  {
   "cell_type": "code",
   "execution_count": 134,
   "metadata": {},
   "outputs": [
    {
     "data": {
      "text/plain": [
       "array([0.27651292])"
      ]
     },
     "execution_count": 134,
     "metadata": {},
     "output_type": "execute_result"
    }
   ],
   "source": [
    "logistica.intercept_"
   ]
  },
  {
   "cell_type": "code",
   "execution_count": 135,
   "metadata": {},
   "outputs": [
    {
     "data": {
      "text/plain": [
       "array([[ 0.31429216, -0.31429216,  0.51145815, -0.41291678, -0.17911607,\n",
       "        -0.08746201,  0.05928251, -0.00197428, -0.05806686, -0.21969455,\n",
       "         0.21969455, -0.01971658,  0.60969113, -0.6055519 ,  0.1808035 ,\n",
       "        -0.00090394,  0.18908439,  0.43510469, -0.22824874,  0.29941155]])"
      ]
     },
     "execution_count": 135,
     "metadata": {},
     "output_type": "execute_result"
    }
   ],
   "source": [
    "logistica.coef_"
   ]
  },
  {
   "cell_type": "code",
   "execution_count": 136,
   "metadata": {},
   "outputs": [
    {
     "data": {
      "text/plain": [
       "array([1, 1, 1, 0, 0, 0, 0, 0, 0, 0, 1, 1, 1, 1, 0, 1, 1, 1, 1, 0, 1, 1,\n",
       "       1, 0, 0, 0, 1, 1, 1, 1, 1, 0, 0, 0, 1, 0, 0, 0, 1, 0, 0, 1, 1, 1,\n",
       "       1, 0, 0, 1, 0, 1, 1, 0, 0, 1, 1, 0, 0, 0, 0, 0, 1, 1, 1, 0, 1, 1,\n",
       "       1, 0, 1, 0, 1, 1, 0, 1, 1, 1, 1, 1, 1, 1, 1, 1, 0, 0, 1, 1, 1, 1,\n",
       "       1, 0, 1, 0, 0, 0, 1, 0, 1, 0, 0, 0, 0, 1, 1, 1, 0, 1, 0, 0, 0, 1,\n",
       "       1, 1, 1, 1, 0, 1, 0, 1, 1, 1, 1, 1, 1, 0, 1, 1, 0, 1, 0, 1, 0, 1,\n",
       "       1, 1, 0, 1, 1, 1, 1, 0, 0, 1, 0, 1, 0, 0, 1, 1, 0, 0, 0, 1, 1, 0,\n",
       "       1, 0, 1, 1, 1, 0, 1, 1, 1, 0, 1, 0, 1, 0, 1, 0, 1, 1, 0, 0, 1, 1,\n",
       "       1, 0, 0, 1, 1, 1, 0, 1, 1, 1, 0, 1, 1, 0, 0, 0, 1, 1, 1, 1, 0, 0,\n",
       "       1, 0, 1, 1, 0, 1, 1, 0, 0, 0, 1, 0, 1, 1, 0, 1, 0, 0, 1, 0, 1, 1,\n",
       "       1, 0, 0, 1, 1, 1, 0, 1, 0, 1, 0, 1, 1, 1, 0, 1, 1, 1, 0, 1, 1, 0,\n",
       "       1, 0, 0, 0, 0, 0, 1, 0, 1, 0, 1, 0, 0, 0, 1, 0, 0, 1, 0, 0, 1, 0,\n",
       "       0, 0, 0, 0, 1, 0, 0, 1, 1, 1, 1, 1], dtype=int64)"
      ]
     },
     "execution_count": 136,
     "metadata": {},
     "output_type": "execute_result"
    }
   ],
   "source": [
    "previsores_logistica = logistica.predict(x_teste)\n",
    "previsores_logistica"
   ]
  },
  {
   "cell_type": "code",
   "execution_count": 137,
   "metadata": {},
   "outputs": [
    {
     "name": "stdout",
     "output_type": "stream",
     "text": [
      "Acurácia: 86.23%\n"
     ]
    }
   ],
   "source": [
    "print(\"Acurácia: %.2f%%\" % (accuracy_score(y_teste, previsores_logistica) * 100.0))"
   ]
  },
  {
   "cell_type": "markdown",
   "metadata": {},
   "source": [
    "## Validação Cruzada"
   ]
  },
  {
   "cell_type": "code",
   "execution_count": 138,
   "metadata": {},
   "outputs": [],
   "source": [
    "from sklearn.model_selection import KFold"
   ]
  },
  {
   "cell_type": "code",
   "execution_count": 139,
   "metadata": {},
   "outputs": [],
   "source": [
    "kfold = KFold(n_splits = 30, shuffle=True, random_state = 5)"
   ]
  },
  {
   "cell_type": "code",
   "execution_count": 140,
   "metadata": {},
   "outputs": [
    {
     "data": {
      "text/plain": [
       "array([0.93548387, 0.83870968, 0.90322581, 0.77419355, 0.87096774,\n",
       "       0.90322581, 0.70967742, 0.87096774, 0.83870968, 0.87096774,\n",
       "       0.87096774, 0.80645161, 0.96774194, 0.83870968, 0.80645161,\n",
       "       0.90322581, 0.80645161, 0.96666667, 0.96666667, 0.86666667,\n",
       "       0.83333333, 0.86666667, 0.86666667, 0.7       , 0.83333333,\n",
       "       0.93333333, 0.9       , 0.83333333, 0.83333333, 0.83333333])"
      ]
     },
     "execution_count": 140,
     "metadata": {},
     "output_type": "execute_result"
    }
   ],
   "source": [
    "modelo = LogisticRegression(random_state=1, max_iter=600, penalty=\"l2\",\n",
    "                               tol=0.0001, C=1,solver=\"lbfgs\")\n",
    "resultado = cross_val_score(modelo, previsores3_esc, alvo, cv = kfold)\n",
    "resultado"
   ]
  },
  {
   "cell_type": "code",
   "execution_count": 141,
   "metadata": {},
   "outputs": [
    {
     "data": {
      "text/plain": [
       "0.8583154121863799"
      ]
     },
     "execution_count": 141,
     "metadata": {},
     "output_type": "execute_result"
    }
   ],
   "source": [
    "resultado.mean()"
   ]
  },
  {
   "cell_type": "markdown",
   "metadata": {},
   "source": [
    "# Aprendizado Baseada em Instâncias (KNN)"
   ]
  },
  {
   "cell_type": "code",
   "execution_count": 142,
   "metadata": {},
   "outputs": [
    {
     "name": "stdout",
     "output_type": "stream",
     "text": [
      "Pacotes importados com sucesso\n"
     ]
    }
   ],
   "source": [
    "from sklearn.neighbors import KNeighborsClassifier\n",
    "\n",
    "print(\"Pacotes importados com sucesso\")"
   ]
  },
  {
   "cell_type": "code",
   "execution_count": 143,
   "metadata": {},
   "outputs": [
    {
     "data": {
      "text/html": [
       "<style>#sk-container-id-4 {color: black;background-color: white;}#sk-container-id-4 pre{padding: 0;}#sk-container-id-4 div.sk-toggleable {background-color: white;}#sk-container-id-4 label.sk-toggleable__label {cursor: pointer;display: block;width: 100%;margin-bottom: 0;padding: 0.3em;box-sizing: border-box;text-align: center;}#sk-container-id-4 label.sk-toggleable__label-arrow:before {content: \"▸\";float: left;margin-right: 0.25em;color: #696969;}#sk-container-id-4 label.sk-toggleable__label-arrow:hover:before {color: black;}#sk-container-id-4 div.sk-estimator:hover label.sk-toggleable__label-arrow:before {color: black;}#sk-container-id-4 div.sk-toggleable__content {max-height: 0;max-width: 0;overflow: hidden;text-align: left;background-color: #f0f8ff;}#sk-container-id-4 div.sk-toggleable__content pre {margin: 0.2em;color: black;border-radius: 0.25em;background-color: #f0f8ff;}#sk-container-id-4 input.sk-toggleable__control:checked~div.sk-toggleable__content {max-height: 200px;max-width: 100%;overflow: auto;}#sk-container-id-4 input.sk-toggleable__control:checked~label.sk-toggleable__label-arrow:before {content: \"▾\";}#sk-container-id-4 div.sk-estimator input.sk-toggleable__control:checked~label.sk-toggleable__label {background-color: #d4ebff;}#sk-container-id-4 div.sk-label input.sk-toggleable__control:checked~label.sk-toggleable__label {background-color: #d4ebff;}#sk-container-id-4 input.sk-hidden--visually {border: 0;clip: rect(1px 1px 1px 1px);clip: rect(1px, 1px, 1px, 1px);height: 1px;margin: -1px;overflow: hidden;padding: 0;position: absolute;width: 1px;}#sk-container-id-4 div.sk-estimator {font-family: monospace;background-color: #f0f8ff;border: 1px dotted black;border-radius: 0.25em;box-sizing: border-box;margin-bottom: 0.5em;}#sk-container-id-4 div.sk-estimator:hover {background-color: #d4ebff;}#sk-container-id-4 div.sk-parallel-item::after {content: \"\";width: 100%;border-bottom: 1px solid gray;flex-grow: 1;}#sk-container-id-4 div.sk-label:hover label.sk-toggleable__label {background-color: #d4ebff;}#sk-container-id-4 div.sk-serial::before {content: \"\";position: absolute;border-left: 1px solid gray;box-sizing: border-box;top: 0;bottom: 0;left: 50%;z-index: 0;}#sk-container-id-4 div.sk-serial {display: flex;flex-direction: column;align-items: center;background-color: white;padding-right: 0.2em;padding-left: 0.2em;position: relative;}#sk-container-id-4 div.sk-item {position: relative;z-index: 1;}#sk-container-id-4 div.sk-parallel {display: flex;align-items: stretch;justify-content: center;background-color: white;position: relative;}#sk-container-id-4 div.sk-item::before, #sk-container-id-4 div.sk-parallel-item::before {content: \"\";position: absolute;border-left: 1px solid gray;box-sizing: border-box;top: 0;bottom: 0;left: 50%;z-index: -1;}#sk-container-id-4 div.sk-parallel-item {display: flex;flex-direction: column;z-index: 1;position: relative;background-color: white;}#sk-container-id-4 div.sk-parallel-item:first-child::after {align-self: flex-end;width: 50%;}#sk-container-id-4 div.sk-parallel-item:last-child::after {align-self: flex-start;width: 50%;}#sk-container-id-4 div.sk-parallel-item:only-child::after {width: 0;}#sk-container-id-4 div.sk-dashed-wrapped {border: 1px dashed gray;margin: 0 0.4em 0.5em 0.4em;box-sizing: border-box;padding-bottom: 0.4em;background-color: white;}#sk-container-id-4 div.sk-label label {font-family: monospace;font-weight: bold;display: inline-block;line-height: 1.2em;}#sk-container-id-4 div.sk-label-container {text-align: center;}#sk-container-id-4 div.sk-container {/* jupyter's `normalize.less` sets `[hidden] { display: none; }` but bootstrap.min.css set `[hidden] { display: none !important; }` so we also need the `!important` here to be able to override the default hidden behavior on the sphinx rendered scikit-learn.org. See: https://github.com/scikit-learn/scikit-learn/issues/21755 */display: inline-block !important;position: relative;}#sk-container-id-4 div.sk-text-repr-fallback {display: none;}</style><div id=\"sk-container-id-4\" class=\"sk-top-container\"><div class=\"sk-text-repr-fallback\"><pre>KNeighborsClassifier(n_neighbors=7, p=1)</pre><b>In a Jupyter environment, please rerun this cell to show the HTML representation or trust the notebook. <br />On GitHub, the HTML representation is unable to render, please try loading this page with nbviewer.org.</b></div><div class=\"sk-container\" hidden><div class=\"sk-item\"><div class=\"sk-estimator sk-toggleable\"><input class=\"sk-toggleable__control sk-hidden--visually\" id=\"sk-estimator-id-4\" type=\"checkbox\" checked><label for=\"sk-estimator-id-4\" class=\"sk-toggleable__label sk-toggleable__label-arrow\">KNeighborsClassifier</label><div class=\"sk-toggleable__content\"><pre>KNeighborsClassifier(n_neighbors=7, p=1)</pre></div></div></div></div></div>"
      ],
      "text/plain": [
       "KNeighborsClassifier(n_neighbors=7, p=1)"
      ]
     },
     "execution_count": 143,
     "metadata": {},
     "output_type": "execute_result"
    }
   ],
   "source": [
    "knn = KNeighborsClassifier(n_neighbors=7,metric=\"minkowski\",p=1)\n",
    "\n",
    "knn.fit(x_treino,y_treino)"
   ]
  },
  {
   "cell_type": "code",
   "execution_count": 144,
   "metadata": {},
   "outputs": [
    {
     "data": {
      "text/plain": [
       "array([1, 1, 1, 0, 0, 0, 1, 0, 0, 0, 1, 1, 1, 1, 0, 1, 1, 1, 1, 0, 1, 1,\n",
       "       1, 0, 0, 0, 1, 1, 1, 1, 1, 0, 0, 0, 1, 0, 0, 0, 1, 0, 0, 1, 1, 1,\n",
       "       1, 0, 0, 1, 0, 1, 1, 0, 0, 0, 1, 0, 0, 0, 0, 0, 1, 1, 1, 0, 1, 1,\n",
       "       1, 0, 1, 0, 1, 1, 0, 1, 1, 1, 1, 1, 1, 1, 1, 1, 0, 0, 1, 1, 1, 1,\n",
       "       1, 0, 1, 0, 0, 0, 1, 0, 1, 0, 0, 0, 0, 1, 1, 1, 0, 1, 0, 0, 0, 0,\n",
       "       1, 1, 1, 1, 0, 1, 1, 1, 1, 1, 1, 1, 1, 0, 1, 1, 0, 1, 0, 1, 0, 1,\n",
       "       1, 1, 0, 1, 0, 1, 1, 0, 1, 1, 0, 1, 1, 0, 1, 0, 1, 0, 1, 1, 0, 0,\n",
       "       1, 0, 1, 1, 1, 0, 1, 1, 1, 0, 1, 0, 1, 0, 1, 0, 1, 1, 0, 0, 1, 1,\n",
       "       1, 0, 0, 1, 1, 1, 0, 1, 1, 1, 0, 1, 1, 0, 1, 0, 1, 0, 1, 0, 0, 0,\n",
       "       1, 0, 1, 1, 0, 1, 1, 0, 0, 0, 1, 1, 1, 1, 0, 0, 0, 0, 1, 0, 1, 1,\n",
       "       1, 0, 0, 1, 1, 1, 0, 1, 0, 1, 0, 1, 1, 1, 0, 1, 1, 1, 0, 1, 1, 0,\n",
       "       1, 0, 0, 0, 0, 0, 1, 0, 1, 0, 1, 0, 0, 0, 1, 0, 0, 1, 0, 0, 1, 0,\n",
       "       1, 1, 0, 0, 1, 0, 0, 1, 1, 1, 1, 1], dtype=int64)"
      ]
     },
     "execution_count": 144,
     "metadata": {},
     "output_type": "execute_result"
    }
   ],
   "source": [
    "previsores_knn = knn.predict(x_teste)\n",
    "\n",
    "previsores_knn"
   ]
  },
  {
   "cell_type": "code",
   "execution_count": 145,
   "metadata": {},
   "outputs": [],
   "source": [
    "from sklearn.metrics import accuracy_score, confusion_matrix, classification_report"
   ]
  },
  {
   "cell_type": "code",
   "execution_count": 146,
   "metadata": {},
   "outputs": [
    {
     "name": "stdout",
     "output_type": "stream",
     "text": [
      "Acurácia do modelo 0.8405797101449275\n"
     ]
    }
   ],
   "source": [
    "print(f\"Acurácia do modelo {accuracy_score(y_teste,previsores_knn)}\")"
   ]
  },
  {
   "cell_type": "code",
   "execution_count": 147,
   "metadata": {},
   "outputs": [
    {
     "data": {
      "text/plain": [
       "array([[ 98,  23],\n",
       "       [ 21, 134]], dtype=int64)"
      ]
     },
     "execution_count": 147,
     "metadata": {},
     "output_type": "execute_result"
    }
   ],
   "source": [
    "confusion_matrix(y_teste,previsores_knn)"
   ]
  },
  {
   "cell_type": "code",
   "execution_count": 148,
   "metadata": {},
   "outputs": [
    {
     "name": "stdout",
     "output_type": "stream",
     "text": [
      "Acurácia do modelo 0.8405797101449275\n"
     ]
    }
   ],
   "source": [
    "# Analisando para ver se não tem um overfiting\n",
    "\n",
    "previsores_treino = knn.predict(x_treino)\n",
    "print(f\"Acurácia do modelo {accuracy_score(y_teste,previsores_knn)}\")\n"
   ]
  },
  {
   "cell_type": "markdown",
   "metadata": {},
   "source": [
    "# Validação Cruzada"
   ]
  },
  {
   "cell_type": "code",
   "execution_count": 149,
   "metadata": {},
   "outputs": [
    {
     "name": "stdout",
     "output_type": "stream",
     "text": [
      "pacotes importados com sucesso\n"
     ]
    }
   ],
   "source": [
    "from sklearn.model_selection import KFold\n",
    "from sklearn.model_selection import cross_val_score\n",
    "\n",
    "print(\"pacotes importados com sucesso\")"
   ]
  },
  {
   "cell_type": "code",
   "execution_count": 150,
   "metadata": {},
   "outputs": [],
   "source": [
    "# Separando os dados em folds\n",
    "\n",
    "k_fold = KFold(n_splits = 30, shuffle = True, random_state = 5)"
   ]
  },
  {
   "cell_type": "code",
   "execution_count": 151,
   "metadata": {},
   "outputs": [
    {
     "name": "stdout",
     "output_type": "stream",
     "text": [
      "Acurácia Média 0.8583512544802867\n"
     ]
    }
   ],
   "source": [
    "modelo = KNeighborsClassifier(n_neighbors=  7, metric='minkowski',p=1)\n",
    "resultado = cross_val_score(modelo, previsores3_esc,alvo,cv=kfold)\n",
    "\n",
    "print(f\"Acurácia Média {resultado.mean()}\")"
   ]
  },
  {
   "cell_type": "markdown",
   "metadata": {},
   "source": [
    "## Árvore de Decisão"
   ]
  },
  {
   "cell_type": "code",
   "execution_count": 152,
   "metadata": {},
   "outputs": [
    {
     "name": "stdout",
     "output_type": "stream",
     "text": [
      "pacotes importados com sucesso\n"
     ]
    }
   ],
   "source": [
    "from sklearn.tree import DecisionTreeClassifier\n",
    "\n",
    "print(\"pacotes importados com sucesso\")"
   ]
  },
  {
   "cell_type": "code",
   "execution_count": 153,
   "metadata": {},
   "outputs": [
    {
     "data": {
      "text/html": [
       "<style>#sk-container-id-5 {color: black;background-color: white;}#sk-container-id-5 pre{padding: 0;}#sk-container-id-5 div.sk-toggleable {background-color: white;}#sk-container-id-5 label.sk-toggleable__label {cursor: pointer;display: block;width: 100%;margin-bottom: 0;padding: 0.3em;box-sizing: border-box;text-align: center;}#sk-container-id-5 label.sk-toggleable__label-arrow:before {content: \"▸\";float: left;margin-right: 0.25em;color: #696969;}#sk-container-id-5 label.sk-toggleable__label-arrow:hover:before {color: black;}#sk-container-id-5 div.sk-estimator:hover label.sk-toggleable__label-arrow:before {color: black;}#sk-container-id-5 div.sk-toggleable__content {max-height: 0;max-width: 0;overflow: hidden;text-align: left;background-color: #f0f8ff;}#sk-container-id-5 div.sk-toggleable__content pre {margin: 0.2em;color: black;border-radius: 0.25em;background-color: #f0f8ff;}#sk-container-id-5 input.sk-toggleable__control:checked~div.sk-toggleable__content {max-height: 200px;max-width: 100%;overflow: auto;}#sk-container-id-5 input.sk-toggleable__control:checked~label.sk-toggleable__label-arrow:before {content: \"▾\";}#sk-container-id-5 div.sk-estimator input.sk-toggleable__control:checked~label.sk-toggleable__label {background-color: #d4ebff;}#sk-container-id-5 div.sk-label input.sk-toggleable__control:checked~label.sk-toggleable__label {background-color: #d4ebff;}#sk-container-id-5 input.sk-hidden--visually {border: 0;clip: rect(1px 1px 1px 1px);clip: rect(1px, 1px, 1px, 1px);height: 1px;margin: -1px;overflow: hidden;padding: 0;position: absolute;width: 1px;}#sk-container-id-5 div.sk-estimator {font-family: monospace;background-color: #f0f8ff;border: 1px dotted black;border-radius: 0.25em;box-sizing: border-box;margin-bottom: 0.5em;}#sk-container-id-5 div.sk-estimator:hover {background-color: #d4ebff;}#sk-container-id-5 div.sk-parallel-item::after {content: \"\";width: 100%;border-bottom: 1px solid gray;flex-grow: 1;}#sk-container-id-5 div.sk-label:hover label.sk-toggleable__label {background-color: #d4ebff;}#sk-container-id-5 div.sk-serial::before {content: \"\";position: absolute;border-left: 1px solid gray;box-sizing: border-box;top: 0;bottom: 0;left: 50%;z-index: 0;}#sk-container-id-5 div.sk-serial {display: flex;flex-direction: column;align-items: center;background-color: white;padding-right: 0.2em;padding-left: 0.2em;position: relative;}#sk-container-id-5 div.sk-item {position: relative;z-index: 1;}#sk-container-id-5 div.sk-parallel {display: flex;align-items: stretch;justify-content: center;background-color: white;position: relative;}#sk-container-id-5 div.sk-item::before, #sk-container-id-5 div.sk-parallel-item::before {content: \"\";position: absolute;border-left: 1px solid gray;box-sizing: border-box;top: 0;bottom: 0;left: 50%;z-index: -1;}#sk-container-id-5 div.sk-parallel-item {display: flex;flex-direction: column;z-index: 1;position: relative;background-color: white;}#sk-container-id-5 div.sk-parallel-item:first-child::after {align-self: flex-end;width: 50%;}#sk-container-id-5 div.sk-parallel-item:last-child::after {align-self: flex-start;width: 50%;}#sk-container-id-5 div.sk-parallel-item:only-child::after {width: 0;}#sk-container-id-5 div.sk-dashed-wrapped {border: 1px dashed gray;margin: 0 0.4em 0.5em 0.4em;box-sizing: border-box;padding-bottom: 0.4em;background-color: white;}#sk-container-id-5 div.sk-label label {font-family: monospace;font-weight: bold;display: inline-block;line-height: 1.2em;}#sk-container-id-5 div.sk-label-container {text-align: center;}#sk-container-id-5 div.sk-container {/* jupyter's `normalize.less` sets `[hidden] { display: none; }` but bootstrap.min.css set `[hidden] { display: none !important; }` so we also need the `!important` here to be able to override the default hidden behavior on the sphinx rendered scikit-learn.org. See: https://github.com/scikit-learn/scikit-learn/issues/21755 */display: inline-block !important;position: relative;}#sk-container-id-5 div.sk-text-repr-fallback {display: none;}</style><div id=\"sk-container-id-5\" class=\"sk-top-container\"><div class=\"sk-text-repr-fallback\"><pre>DecisionTreeClassifier(criterion=&#x27;entropy&#x27;, max_depth=3, random_state=0)</pre><b>In a Jupyter environment, please rerun this cell to show the HTML representation or trust the notebook. <br />On GitHub, the HTML representation is unable to render, please try loading this page with nbviewer.org.</b></div><div class=\"sk-container\" hidden><div class=\"sk-item\"><div class=\"sk-estimator sk-toggleable\"><input class=\"sk-toggleable__control sk-hidden--visually\" id=\"sk-estimator-id-5\" type=\"checkbox\" checked><label for=\"sk-estimator-id-5\" class=\"sk-toggleable__label sk-toggleable__label-arrow\">DecisionTreeClassifier</label><div class=\"sk-toggleable__content\"><pre>DecisionTreeClassifier(criterion=&#x27;entropy&#x27;, max_depth=3, random_state=0)</pre></div></div></div></div></div>"
      ],
      "text/plain": [
       "DecisionTreeClassifier(criterion='entropy', max_depth=3, random_state=0)"
      ]
     },
     "execution_count": 153,
     "metadata": {},
     "output_type": "execute_result"
    }
   ],
   "source": [
    "arvore = DecisionTreeClassifier(criterion=\"entropy\",random_state=0,max_depth=3)\n",
    "arvore.fit(x_treino,y_treino)"
   ]
  },
  {
   "cell_type": "code",
   "execution_count": 154,
   "metadata": {},
   "outputs": [
    {
     "data": {
      "text/plain": [
       "array([1, 1, 1, 0, 0, 0, 1, 0, 0, 0, 1, 1, 1, 1, 0, 1, 1, 1, 1, 0, 1, 1,\n",
       "       0, 0, 0, 0, 1, 1, 0, 1, 1, 0, 0, 0, 1, 0, 0, 0, 1, 0, 0, 1, 1, 1,\n",
       "       1, 0, 0, 1, 0, 1, 1, 0, 0, 0, 1, 0, 0, 0, 0, 0, 1, 1, 0, 0, 1, 1,\n",
       "       1, 0, 1, 0, 1, 1, 0, 1, 1, 1, 0, 1, 1, 1, 1, 1, 0, 0, 1, 1, 1, 1,\n",
       "       1, 0, 1, 0, 0, 0, 0, 0, 1, 0, 0, 0, 0, 1, 1, 1, 0, 1, 0, 0, 0, 0,\n",
       "       0, 1, 1, 1, 0, 1, 1, 1, 1, 1, 1, 1, 1, 0, 0, 1, 0, 1, 0, 1, 0, 1,\n",
       "       1, 1, 0, 0, 0, 1, 0, 0, 0, 1, 0, 1, 0, 0, 1, 0, 1, 0, 0, 1, 1, 0,\n",
       "       1, 0, 1, 0, 1, 0, 1, 0, 1, 0, 1, 0, 1, 0, 1, 0, 1, 0, 0, 0, 1, 1,\n",
       "       1, 0, 0, 1, 1, 1, 0, 1, 1, 1, 0, 1, 1, 0, 1, 0, 1, 0, 1, 0, 0, 0,\n",
       "       1, 0, 1, 1, 0, 1, 1, 0, 0, 0, 1, 0, 1, 1, 0, 0, 0, 0, 1, 0, 1, 1,\n",
       "       1, 1, 0, 1, 1, 1, 0, 1, 1, 1, 0, 1, 1, 1, 0, 1, 0, 1, 0, 1, 1, 0,\n",
       "       1, 0, 0, 0, 0, 0, 1, 0, 1, 0, 1, 0, 0, 0, 1, 0, 0, 1, 0, 1, 1, 0,\n",
       "       0, 0, 0, 0, 1, 0, 0, 1, 1, 1, 1, 1], dtype=int64)"
      ]
     },
     "execution_count": 154,
     "metadata": {},
     "output_type": "execute_result"
    }
   ],
   "source": [
    "previsoes_arvore = arvore.predict(x_teste)\n",
    "previsoes_arvore"
   ]
  },
  {
   "cell_type": "code",
   "execution_count": 155,
   "metadata": {},
   "outputs": [
    {
     "data": {
      "text/plain": [
       "array([1, 0, 1, 0, 0, 0, 0, 0, 0, 0, 1, 0, 1, 1, 0, 1, 1, 1, 1, 0, 1, 1,\n",
       "       1, 0, 0, 0, 1, 1, 0, 0, 1, 0, 0, 0, 1, 0, 1, 0, 1, 0, 0, 1, 1, 1,\n",
       "       1, 0, 0, 1, 1, 1, 1, 0, 0, 1, 1, 0, 0, 0, 1, 0, 1, 1, 1, 0, 1, 1,\n",
       "       1, 0, 1, 0, 1, 1, 1, 1, 1, 1, 1, 1, 1, 0, 0, 1, 0, 0, 1, 1, 0, 1,\n",
       "       1, 0, 1, 0, 0, 1, 1, 0, 1, 0, 0, 0, 0, 1, 1, 1, 0, 1, 0, 0, 0, 1,\n",
       "       0, 1, 1, 1, 0, 1, 1, 1, 1, 1, 1, 1, 1, 0, 0, 1, 0, 1, 0, 1, 0, 1,\n",
       "       0, 1, 0, 0, 0, 1, 1, 0, 1, 1, 0, 1, 0, 0, 1, 1, 1, 0, 1, 1, 0, 0,\n",
       "       0, 0, 1, 1, 1, 0, 1, 1, 1, 0, 1, 0, 1, 0, 1, 0, 1, 1, 0, 0, 1, 0,\n",
       "       0, 1, 0, 1, 1, 1, 0, 1, 1, 1, 0, 1, 1, 0, 0, 0, 1, 1, 1, 1, 1, 0,\n",
       "       1, 0, 1, 1, 0, 1, 1, 0, 0, 0, 1, 0, 1, 1, 0, 1, 0, 1, 1, 1, 1, 1,\n",
       "       1, 1, 0, 0, 0, 1, 0, 1, 1, 1, 0, 1, 0, 1, 1, 1, 1, 1, 0, 1, 1, 0,\n",
       "       1, 0, 1, 0, 0, 0, 1, 0, 1, 0, 1, 1, 0, 0, 1, 0, 0, 1, 0, 1, 1, 0,\n",
       "       0, 0, 0, 0, 1, 0, 0, 1, 1, 1, 1, 1], dtype=int64)"
      ]
     },
     "execution_count": 155,
     "metadata": {},
     "output_type": "execute_result"
    }
   ],
   "source": [
    "\n",
    "y_teste"
   ]
  },
  {
   "cell_type": "code",
   "execution_count": 156,
   "metadata": {},
   "outputs": [
    {
     "name": "stdout",
     "output_type": "stream",
     "text": [
      "pacotes importados com sucesso\n"
     ]
    }
   ],
   "source": [
    "from sklearn.metrics import accuracy_score,confusion_matrix,classification_report\n",
    "print(\"pacotes importados com sucesso\")"
   ]
  },
  {
   "cell_type": "code",
   "execution_count": 157,
   "metadata": {},
   "outputs": [
    {
     "name": "stdout",
     "output_type": "stream",
     "text": [
      "Acuracia do modelo 0.8369565217391305\n"
     ]
    }
   ],
   "source": [
    "print(f\"Acuracia do modelo {accuracy_score(y_teste,previsoes_arvore)}\")"
   ]
  },
  {
   "cell_type": "code",
   "execution_count": 158,
   "metadata": {},
   "outputs": [
    {
     "data": {
      "text/plain": [
       "array([[105,  16],\n",
       "       [ 29, 126]], dtype=int64)"
      ]
     },
     "execution_count": 158,
     "metadata": {},
     "output_type": "execute_result"
    }
   ],
   "source": [
    "confusion_matrix(y_teste,previsoes_arvore)"
   ]
  },
  {
   "cell_type": "code",
   "execution_count": 159,
   "metadata": {},
   "outputs": [
    {
     "name": "stdout",
     "output_type": "stream",
     "text": [
      "              precision    recall  f1-score   support\n",
      "\n",
      "           0       0.78      0.87      0.82       121\n",
      "           1       0.89      0.81      0.85       155\n",
      "\n",
      "    accuracy                           0.84       276\n",
      "   macro avg       0.84      0.84      0.84       276\n",
      "weighted avg       0.84      0.84      0.84       276\n",
      "\n"
     ]
    }
   ],
   "source": [
    "print(classification_report(y_teste,previsoes_arvore))"
   ]
  },
  {
   "cell_type": "code",
   "execution_count": 160,
   "metadata": {},
   "outputs": [
    {
     "data": {
      "text/plain": [
       "array([1, 0, 1, 1, 1, 0, 0, 0, 0, 0, 1, 0, 1, 1, 1, 0, 0, 0, 0, 1, 0, 1,\n",
       "       1, 1, 1, 0, 0, 1, 0, 1, 1, 0, 1, 1, 0, 0, 0, 1, 0, 1, 0, 1, 0, 0,\n",
       "       1, 1, 0, 1, 1, 1, 1, 0, 1, 0, 1, 0, 1, 0, 1, 0, 0, 0, 0, 0, 1, 1,\n",
       "       0, 1, 1, 0, 0, 1, 1, 1, 0, 0, 0, 1, 0, 1, 1, 1, 1, 1, 0, 1, 1, 1,\n",
       "       1, 1, 0, 0, 0, 0, 1, 1, 1, 1, 1, 1, 0, 0, 0, 1, 1, 1, 1, 0, 0, 1,\n",
       "       0, 0, 1, 0, 1, 0, 1, 0, 1, 0, 0, 0, 0, 1, 0, 1, 0, 0, 1, 1, 1, 0,\n",
       "       0, 1, 0, 0, 1, 0, 1, 1, 0, 1, 1, 1, 1, 1, 1, 0, 0, 1, 1, 0, 1, 0,\n",
       "       1, 0, 1, 1, 1, 0, 1, 0, 0, 0, 0, 0, 1, 0, 0, 0, 0, 1, 1, 0, 1, 1,\n",
       "       0, 1, 1, 0, 0, 0, 0, 0, 0, 1, 1, 1, 1, 0, 0, 0, 1, 0, 0, 1, 1, 1,\n",
       "       1, 1, 0, 0, 0, 1, 1, 0, 0, 1, 1, 0, 0, 0, 1, 1, 1, 1, 1, 0, 0, 1,\n",
       "       1, 0, 0, 1, 1, 0, 1, 1, 1, 1, 1, 1, 0, 1, 1, 0, 1, 0, 1, 0, 1, 0,\n",
       "       1, 1, 1, 0, 1, 1, 1, 1, 1, 1, 0, 0, 0, 0, 0, 0, 0, 0, 0, 0, 1, 0,\n",
       "       1, 0, 1, 0, 1, 0, 1, 1, 0, 0, 0, 1, 1, 0, 0, 0, 1, 0, 0, 0, 1, 1,\n",
       "       0, 0, 1, 1, 1, 0, 1, 1, 1, 1, 0, 0, 0, 1, 1, 0, 0, 1, 0, 0, 1, 1,\n",
       "       1, 0, 1, 0, 0, 0, 1, 0, 1, 0, 1, 0, 1, 1, 1, 1, 0, 1, 1, 1, 1, 0,\n",
       "       0, 0, 1, 0, 0, 0, 1, 1, 0, 1, 1, 1, 1, 1, 1, 1, 1, 1, 0, 1, 0, 1,\n",
       "       0, 0, 0, 1, 0, 0, 1, 1, 0, 0, 0, 1, 1, 0, 0, 0, 0, 0, 1, 1, 0, 1,\n",
       "       0, 1, 1, 1, 0, 0, 1, 1, 0, 1, 0, 1, 0, 0, 0, 1, 0, 0, 1, 0, 1, 1,\n",
       "       0, 0, 1, 1, 1, 1, 1, 0, 1, 0, 1, 1, 1, 0, 0, 1, 0, 1, 1, 1, 0, 0,\n",
       "       0, 1, 1, 0, 0, 1, 1, 0, 0, 1, 0, 0, 0, 1, 1, 0, 1, 1, 1, 0, 1, 1,\n",
       "       0, 0, 1, 1, 0, 1, 0, 1, 0, 0, 1, 0, 1, 1, 1, 1, 0, 0, 1, 1, 0, 1,\n",
       "       1, 1, 1, 1, 1, 0, 1, 0, 1, 1, 1, 1, 0, 1, 1, 0, 0, 0, 1, 0, 0, 0,\n",
       "       0, 0, 1, 0, 1, 1, 1, 0, 0, 1, 1, 0, 1, 1, 1, 0, 1, 1, 0, 0, 1, 1,\n",
       "       1, 1, 0, 0, 1, 1, 0, 1, 0, 1, 0, 0, 0, 0, 1, 1, 0, 1, 0, 1, 1, 0,\n",
       "       1, 0, 1, 0, 1, 0, 1, 0, 0, 0, 1, 1, 0, 1, 1, 0, 1, 0, 0, 1, 1, 0,\n",
       "       0, 0, 1, 0, 1, 0, 1, 1, 1, 0, 1, 1, 1, 0, 0, 0, 1, 0, 0, 1, 0, 1,\n",
       "       1, 1, 0, 0, 1, 0, 0, 1, 0, 1, 0, 1, 1, 1, 1, 0, 1, 0, 0, 0, 0, 0,\n",
       "       0, 0, 0, 0, 0, 1, 0, 0, 0, 0, 1, 0, 1, 1, 0, 1, 1, 1, 1, 1, 0, 1,\n",
       "       1, 1, 0, 1, 1, 0, 1, 0, 1, 1, 0, 1, 0, 1, 1, 0, 0, 1, 1, 0, 1, 0,\n",
       "       1, 0, 1], dtype=int64)"
      ]
     },
     "execution_count": 160,
     "metadata": {},
     "output_type": "execute_result"
    }
   ],
   "source": [
    "# Análise dados de treino\n",
    "\n",
    "previsores_treino = arvore.predict(x_treino)\n",
    "previsores_treino"
   ]
  },
  {
   "cell_type": "code",
   "execution_count": 161,
   "metadata": {},
   "outputs": [
    {
     "data": {
      "text/plain": [
       "0.8517940717628705"
      ]
     },
     "execution_count": 161,
     "metadata": {},
     "output_type": "execute_result"
    }
   ],
   "source": [
    "accuracy_score(y_treino,previsores_treino)"
   ]
  },
  {
   "cell_type": "code",
   "execution_count": 162,
   "metadata": {},
   "outputs": [
    {
     "name": "stdout",
     "output_type": "stream",
     "text": [
      "pacotes importados com sucessp\n"
     ]
    }
   ],
   "source": [
    "# Validação Cruzada\n",
    "\n",
    "from sklearn.model_selection import KFold\n",
    "from sklearn.model_selection import cross_val_score \n",
    "\n",
    "print(\"pacotes importados com sucessp\")"
   ]
  },
  {
   "cell_type": "code",
   "execution_count": 163,
   "metadata": {},
   "outputs": [],
   "source": [
    "# Separando os dados em folds\n",
    "\n",
    "kfold = KFold(n_splits=30,shuffle=True,random_state=5)"
   ]
  },
  {
   "cell_type": "code",
   "execution_count": 164,
   "metadata": {},
   "outputs": [],
   "source": [
    "# Criando o modelo \n",
    "modelo = DecisionTreeClassifier(criterion='entropy',random_state=0,max_depth=3)\n",
    "resultado = cross_val_score(modelo,previsores3_esc,alvo,cv=kfold)\n"
   ]
  },
  {
   "cell_type": "code",
   "execution_count": 165,
   "metadata": {},
   "outputs": [
    {
     "name": "stdout",
     "output_type": "stream",
     "text": [
      "Acurácia Média 0.8331541218637992\n"
     ]
    }
   ],
   "source": [
    "# Usando a média e o desvio padrão das acuracias\n",
    "\n",
    "\n",
    "print(f\"Acurácia Média {resultado.mean()}\")"
   ]
  },
  {
   "cell_type": "markdown",
   "metadata": {},
   "source": [
    "# RANDOM FOREST"
   ]
  },
  {
   "cell_type": "code",
   "execution_count": 166,
   "metadata": {},
   "outputs": [
    {
     "name": "stdout",
     "output_type": "stream",
     "text": [
      "Pacotes importados\n"
     ]
    }
   ],
   "source": [
    "from sklearn.ensemble import RandomForestClassifier\n",
    "print(\"Pacotes importados\")"
   ]
  },
  {
   "cell_type": "code",
   "execution_count": 167,
   "metadata": {},
   "outputs": [
    {
     "data": {
      "text/html": [
       "<style>#sk-container-id-6 {color: black;background-color: white;}#sk-container-id-6 pre{padding: 0;}#sk-container-id-6 div.sk-toggleable {background-color: white;}#sk-container-id-6 label.sk-toggleable__label {cursor: pointer;display: block;width: 100%;margin-bottom: 0;padding: 0.3em;box-sizing: border-box;text-align: center;}#sk-container-id-6 label.sk-toggleable__label-arrow:before {content: \"▸\";float: left;margin-right: 0.25em;color: #696969;}#sk-container-id-6 label.sk-toggleable__label-arrow:hover:before {color: black;}#sk-container-id-6 div.sk-estimator:hover label.sk-toggleable__label-arrow:before {color: black;}#sk-container-id-6 div.sk-toggleable__content {max-height: 0;max-width: 0;overflow: hidden;text-align: left;background-color: #f0f8ff;}#sk-container-id-6 div.sk-toggleable__content pre {margin: 0.2em;color: black;border-radius: 0.25em;background-color: #f0f8ff;}#sk-container-id-6 input.sk-toggleable__control:checked~div.sk-toggleable__content {max-height: 200px;max-width: 100%;overflow: auto;}#sk-container-id-6 input.sk-toggleable__control:checked~label.sk-toggleable__label-arrow:before {content: \"▾\";}#sk-container-id-6 div.sk-estimator input.sk-toggleable__control:checked~label.sk-toggleable__label {background-color: #d4ebff;}#sk-container-id-6 div.sk-label input.sk-toggleable__control:checked~label.sk-toggleable__label {background-color: #d4ebff;}#sk-container-id-6 input.sk-hidden--visually {border: 0;clip: rect(1px 1px 1px 1px);clip: rect(1px, 1px, 1px, 1px);height: 1px;margin: -1px;overflow: hidden;padding: 0;position: absolute;width: 1px;}#sk-container-id-6 div.sk-estimator {font-family: monospace;background-color: #f0f8ff;border: 1px dotted black;border-radius: 0.25em;box-sizing: border-box;margin-bottom: 0.5em;}#sk-container-id-6 div.sk-estimator:hover {background-color: #d4ebff;}#sk-container-id-6 div.sk-parallel-item::after {content: \"\";width: 100%;border-bottom: 1px solid gray;flex-grow: 1;}#sk-container-id-6 div.sk-label:hover label.sk-toggleable__label {background-color: #d4ebff;}#sk-container-id-6 div.sk-serial::before {content: \"\";position: absolute;border-left: 1px solid gray;box-sizing: border-box;top: 0;bottom: 0;left: 50%;z-index: 0;}#sk-container-id-6 div.sk-serial {display: flex;flex-direction: column;align-items: center;background-color: white;padding-right: 0.2em;padding-left: 0.2em;position: relative;}#sk-container-id-6 div.sk-item {position: relative;z-index: 1;}#sk-container-id-6 div.sk-parallel {display: flex;align-items: stretch;justify-content: center;background-color: white;position: relative;}#sk-container-id-6 div.sk-item::before, #sk-container-id-6 div.sk-parallel-item::before {content: \"\";position: absolute;border-left: 1px solid gray;box-sizing: border-box;top: 0;bottom: 0;left: 50%;z-index: -1;}#sk-container-id-6 div.sk-parallel-item {display: flex;flex-direction: column;z-index: 1;position: relative;background-color: white;}#sk-container-id-6 div.sk-parallel-item:first-child::after {align-self: flex-end;width: 50%;}#sk-container-id-6 div.sk-parallel-item:last-child::after {align-self: flex-start;width: 50%;}#sk-container-id-6 div.sk-parallel-item:only-child::after {width: 0;}#sk-container-id-6 div.sk-dashed-wrapped {border: 1px dashed gray;margin: 0 0.4em 0.5em 0.4em;box-sizing: border-box;padding-bottom: 0.4em;background-color: white;}#sk-container-id-6 div.sk-label label {font-family: monospace;font-weight: bold;display: inline-block;line-height: 1.2em;}#sk-container-id-6 div.sk-label-container {text-align: center;}#sk-container-id-6 div.sk-container {/* jupyter's `normalize.less` sets `[hidden] { display: none; }` but bootstrap.min.css set `[hidden] { display: none !important; }` so we also need the `!important` here to be able to override the default hidden behavior on the sphinx rendered scikit-learn.org. See: https://github.com/scikit-learn/scikit-learn/issues/21755 */display: inline-block !important;position: relative;}#sk-container-id-6 div.sk-text-repr-fallback {display: none;}</style><div id=\"sk-container-id-6\" class=\"sk-top-container\"><div class=\"sk-text-repr-fallback\"><pre>RandomForestClassifier(criterion=&#x27;entropy&#x27;, max_depth=4, n_estimators=150,\n",
       "                       random_state=0)</pre><b>In a Jupyter environment, please rerun this cell to show the HTML representation or trust the notebook. <br />On GitHub, the HTML representation is unable to render, please try loading this page with nbviewer.org.</b></div><div class=\"sk-container\" hidden><div class=\"sk-item\"><div class=\"sk-estimator sk-toggleable\"><input class=\"sk-toggleable__control sk-hidden--visually\" id=\"sk-estimator-id-6\" type=\"checkbox\" checked><label for=\"sk-estimator-id-6\" class=\"sk-toggleable__label sk-toggleable__label-arrow\">RandomForestClassifier</label><div class=\"sk-toggleable__content\"><pre>RandomForestClassifier(criterion=&#x27;entropy&#x27;, max_depth=4, n_estimators=150,\n",
       "                       random_state=0)</pre></div></div></div></div></div>"
      ],
      "text/plain": [
       "RandomForestClassifier(criterion='entropy', max_depth=4, n_estimators=150,\n",
       "                       random_state=0)"
      ]
     },
     "execution_count": 167,
     "metadata": {},
     "output_type": "execute_result"
    }
   ],
   "source": [
    "random = RandomForestClassifier(n_estimators=150, criterion='entropy', random_state = 0, max_depth=4)\n",
    "random.fit(x_treino, y_treino)"
   ]
  },
  {
   "cell_type": "code",
   "execution_count": 168,
   "metadata": {},
   "outputs": [
    {
     "data": {
      "text/plain": [
       "array([1, 1, 1, 0, 0, 0, 0, 0, 0, 0, 1, 1, 1, 1, 0, 1, 1, 1, 1, 0, 1, 1,\n",
       "       0, 0, 0, 0, 1, 1, 1, 1, 1, 0, 0, 0, 1, 0, 0, 0, 1, 0, 0, 1, 1, 1,\n",
       "       1, 0, 0, 1, 0, 1, 1, 0, 0, 0, 1, 0, 0, 0, 0, 0, 1, 1, 1, 0, 1, 1,\n",
       "       1, 0, 1, 0, 1, 1, 0, 1, 1, 1, 0, 1, 1, 1, 1, 1, 0, 0, 1, 1, 1, 1,\n",
       "       1, 0, 1, 0, 0, 0, 0, 0, 1, 0, 0, 0, 0, 1, 1, 1, 0, 1, 0, 0, 0, 0,\n",
       "       0, 1, 1, 1, 0, 1, 0, 1, 1, 1, 1, 1, 1, 0, 1, 1, 0, 1, 0, 1, 0, 1,\n",
       "       1, 1, 0, 1, 1, 1, 1, 0, 0, 1, 0, 1, 1, 0, 1, 0, 1, 0, 0, 1, 1, 0,\n",
       "       1, 0, 1, 1, 1, 0, 1, 1, 1, 0, 1, 0, 1, 0, 1, 0, 1, 1, 0, 0, 1, 1,\n",
       "       1, 0, 0, 1, 1, 1, 0, 1, 1, 1, 0, 1, 1, 0, 1, 0, 1, 0, 1, 0, 0, 0,\n",
       "       1, 0, 1, 1, 0, 1, 1, 0, 0, 0, 1, 0, 1, 1, 0, 0, 0, 0, 1, 0, 1, 1,\n",
       "       1, 0, 0, 1, 1, 1, 0, 1, 0, 1, 0, 1, 1, 1, 0, 1, 1, 1, 0, 1, 1, 0,\n",
       "       1, 0, 0, 0, 0, 0, 1, 0, 1, 0, 1, 0, 0, 0, 1, 0, 0, 1, 0, 1, 1, 0,\n",
       "       0, 0, 0, 0, 1, 0, 0, 1, 1, 1, 1, 1], dtype=int64)"
      ]
     },
     "execution_count": 168,
     "metadata": {},
     "output_type": "execute_result"
    }
   ],
   "source": [
    "previsores_random = random.predict(x_teste)\n",
    "\n",
    "previsores_random"
   ]
  },
  {
   "cell_type": "code",
   "execution_count": 169,
   "metadata": {},
   "outputs": [
    {
     "data": {
      "text/plain": [
       "array([1, 0, 1, 0, 0, 0, 0, 0, 0, 0, 1, 0, 1, 1, 0, 1, 1, 1, 1, 0, 1, 1,\n",
       "       1, 0, 0, 0, 1, 1, 0, 0, 1, 0, 0, 0, 1, 0, 1, 0, 1, 0, 0, 1, 1, 1,\n",
       "       1, 0, 0, 1, 1, 1, 1, 0, 0, 1, 1, 0, 0, 0, 1, 0, 1, 1, 1, 0, 1, 1,\n",
       "       1, 0, 1, 0, 1, 1, 1, 1, 1, 1, 1, 1, 1, 0, 0, 1, 0, 0, 1, 1, 0, 1,\n",
       "       1, 0, 1, 0, 0, 1, 1, 0, 1, 0, 0, 0, 0, 1, 1, 1, 0, 1, 0, 0, 0, 1,\n",
       "       0, 1, 1, 1, 0, 1, 1, 1, 1, 1, 1, 1, 1, 0, 0, 1, 0, 1, 0, 1, 0, 1,\n",
       "       0, 1, 0, 0, 0, 1, 1, 0, 1, 1, 0, 1, 0, 0, 1, 1, 1, 0, 1, 1, 0, 0,\n",
       "       0, 0, 1, 1, 1, 0, 1, 1, 1, 0, 1, 0, 1, 0, 1, 0, 1, 1, 0, 0, 1, 0,\n",
       "       0, 1, 0, 1, 1, 1, 0, 1, 1, 1, 0, 1, 1, 0, 0, 0, 1, 1, 1, 1, 1, 0,\n",
       "       1, 0, 1, 1, 0, 1, 1, 0, 0, 0, 1, 0, 1, 1, 0, 1, 0, 1, 1, 1, 1, 1,\n",
       "       1, 1, 0, 0, 0, 1, 0, 1, 1, 1, 0, 1, 0, 1, 1, 1, 1, 1, 0, 1, 1, 0,\n",
       "       1, 0, 1, 0, 0, 0, 1, 0, 1, 0, 1, 1, 0, 0, 1, 0, 0, 1, 0, 1, 1, 0,\n",
       "       0, 0, 0, 0, 1, 0, 0, 1, 1, 1, 1, 1], dtype=int64)"
      ]
     },
     "execution_count": 169,
     "metadata": {},
     "output_type": "execute_result"
    }
   ],
   "source": [
    "y_teste"
   ]
  },
  {
   "cell_type": "code",
   "execution_count": 170,
   "metadata": {},
   "outputs": [
    {
     "name": "stdout",
     "output_type": "stream",
     "text": [
      "Acuracia do modelo 0.8333333333333334\n"
     ]
    }
   ],
   "source": [
    "# Printando a acuracia\n",
    "\n",
    "print(f\"Acuracia do modelo {accuracy_score(y_teste,previsores_random)}\")"
   ]
  },
  {
   "cell_type": "code",
   "execution_count": 171,
   "metadata": {},
   "outputs": [
    {
     "data": {
      "text/plain": [
       "0.8814352574102964"
      ]
     },
     "execution_count": 171,
     "metadata": {},
     "output_type": "execute_result"
    }
   ],
   "source": [
    "# Analise da base de treino\n",
    "\n",
    "previsoes_treino = random.predict(x_treino)\n",
    "accuracy_score(y_treino,previsoes_treino)"
   ]
  },
  {
   "cell_type": "markdown",
   "metadata": {},
   "source": [
    "## Validação Cruzada"
   ]
  },
  {
   "cell_type": "code",
   "execution_count": 172,
   "metadata": {},
   "outputs": [],
   "source": [
    "kfold = KFold(n_splits = 30, shuffle = True, random_state = 5)"
   ]
  },
  {
   "cell_type": "code",
   "execution_count": 173,
   "metadata": {},
   "outputs": [
    {
     "name": "stdout",
     "output_type": "stream",
     "text": [
      "Acurácia Média 0.8615770609318996\n"
     ]
    }
   ],
   "source": [
    "# criando o modelo\n",
    "modelo = RandomForestClassifier(n_estimators = 150, criterion = 'entropy',random_state = 0, max_depth = 4)\n",
    "resultado = cross_val_score(modelo, previsores, alvo, cv = kfold)\n",
    "\n",
    "print(f\"Acurácia Média {resultado.mean()}\")"
   ]
  },
  {
   "cell_type": "markdown",
   "metadata": {},
   "source": [
    "# XGBOOST"
   ]
  },
  {
   "cell_type": "code",
   "execution_count": 174,
   "metadata": {},
   "outputs": [
    {
     "name": "stdout",
     "output_type": "stream",
     "text": [
      "Pacote Importado com sucesso\n"
     ]
    }
   ],
   "source": [
    "from xgboost import XGBClassifier\n",
    "\n",
    "print(\"Pacote Importado com sucesso\")"
   ]
  },
  {
   "cell_type": "code",
   "execution_count": 175,
   "metadata": {},
   "outputs": [
    {
     "data": {
      "text/html": [
       "<style>#sk-container-id-7 {color: black;background-color: white;}#sk-container-id-7 pre{padding: 0;}#sk-container-id-7 div.sk-toggleable {background-color: white;}#sk-container-id-7 label.sk-toggleable__label {cursor: pointer;display: block;width: 100%;margin-bottom: 0;padding: 0.3em;box-sizing: border-box;text-align: center;}#sk-container-id-7 label.sk-toggleable__label-arrow:before {content: \"▸\";float: left;margin-right: 0.25em;color: #696969;}#sk-container-id-7 label.sk-toggleable__label-arrow:hover:before {color: black;}#sk-container-id-7 div.sk-estimator:hover label.sk-toggleable__label-arrow:before {color: black;}#sk-container-id-7 div.sk-toggleable__content {max-height: 0;max-width: 0;overflow: hidden;text-align: left;background-color: #f0f8ff;}#sk-container-id-7 div.sk-toggleable__content pre {margin: 0.2em;color: black;border-radius: 0.25em;background-color: #f0f8ff;}#sk-container-id-7 input.sk-toggleable__control:checked~div.sk-toggleable__content {max-height: 200px;max-width: 100%;overflow: auto;}#sk-container-id-7 input.sk-toggleable__control:checked~label.sk-toggleable__label-arrow:before {content: \"▾\";}#sk-container-id-7 div.sk-estimator input.sk-toggleable__control:checked~label.sk-toggleable__label {background-color: #d4ebff;}#sk-container-id-7 div.sk-label input.sk-toggleable__control:checked~label.sk-toggleable__label {background-color: #d4ebff;}#sk-container-id-7 input.sk-hidden--visually {border: 0;clip: rect(1px 1px 1px 1px);clip: rect(1px, 1px, 1px, 1px);height: 1px;margin: -1px;overflow: hidden;padding: 0;position: absolute;width: 1px;}#sk-container-id-7 div.sk-estimator {font-family: monospace;background-color: #f0f8ff;border: 1px dotted black;border-radius: 0.25em;box-sizing: border-box;margin-bottom: 0.5em;}#sk-container-id-7 div.sk-estimator:hover {background-color: #d4ebff;}#sk-container-id-7 div.sk-parallel-item::after {content: \"\";width: 100%;border-bottom: 1px solid gray;flex-grow: 1;}#sk-container-id-7 div.sk-label:hover label.sk-toggleable__label {background-color: #d4ebff;}#sk-container-id-7 div.sk-serial::before {content: \"\";position: absolute;border-left: 1px solid gray;box-sizing: border-box;top: 0;bottom: 0;left: 50%;z-index: 0;}#sk-container-id-7 div.sk-serial {display: flex;flex-direction: column;align-items: center;background-color: white;padding-right: 0.2em;padding-left: 0.2em;position: relative;}#sk-container-id-7 div.sk-item {position: relative;z-index: 1;}#sk-container-id-7 div.sk-parallel {display: flex;align-items: stretch;justify-content: center;background-color: white;position: relative;}#sk-container-id-7 div.sk-item::before, #sk-container-id-7 div.sk-parallel-item::before {content: \"\";position: absolute;border-left: 1px solid gray;box-sizing: border-box;top: 0;bottom: 0;left: 50%;z-index: -1;}#sk-container-id-7 div.sk-parallel-item {display: flex;flex-direction: column;z-index: 1;position: relative;background-color: white;}#sk-container-id-7 div.sk-parallel-item:first-child::after {align-self: flex-end;width: 50%;}#sk-container-id-7 div.sk-parallel-item:last-child::after {align-self: flex-start;width: 50%;}#sk-container-id-7 div.sk-parallel-item:only-child::after {width: 0;}#sk-container-id-7 div.sk-dashed-wrapped {border: 1px dashed gray;margin: 0 0.4em 0.5em 0.4em;box-sizing: border-box;padding-bottom: 0.4em;background-color: white;}#sk-container-id-7 div.sk-label label {font-family: monospace;font-weight: bold;display: inline-block;line-height: 1.2em;}#sk-container-id-7 div.sk-label-container {text-align: center;}#sk-container-id-7 div.sk-container {/* jupyter's `normalize.less` sets `[hidden] { display: none; }` but bootstrap.min.css set `[hidden] { display: none !important; }` so we also need the `!important` here to be able to override the default hidden behavior on the sphinx rendered scikit-learn.org. See: https://github.com/scikit-learn/scikit-learn/issues/21755 */display: inline-block !important;position: relative;}#sk-container-id-7 div.sk-text-repr-fallback {display: none;}</style><div id=\"sk-container-id-7\" class=\"sk-top-container\"><div class=\"sk-text-repr-fallback\"><pre>XGBClassifier(base_score=None, booster=None, callbacks=None,\n",
       "              colsample_bylevel=None, colsample_bynode=None,\n",
       "              colsample_bytree=None, device=None, early_stopping_rounds=None,\n",
       "              enable_categorical=False, eval_metric=None, feature_types=None,\n",
       "              gamma=None, grow_policy=None, importance_type=None,\n",
       "              interaction_constraints=None, learning_rate=0.05, max_bin=None,\n",
       "              max_cat_threshold=None, max_cat_to_onehot=None,\n",
       "              max_delta_step=None, max_depth=2, max_leaves=None,\n",
       "              min_child_weight=None, missing=nan, monotone_constraints=None,\n",
       "              multi_strategy=None, n_estimators=250, n_jobs=None,\n",
       "              num_parallel_tree=None, random_state=3, ...)</pre><b>In a Jupyter environment, please rerun this cell to show the HTML representation or trust the notebook. <br />On GitHub, the HTML representation is unable to render, please try loading this page with nbviewer.org.</b></div><div class=\"sk-container\" hidden><div class=\"sk-item\"><div class=\"sk-estimator sk-toggleable\"><input class=\"sk-toggleable__control sk-hidden--visually\" id=\"sk-estimator-id-7\" type=\"checkbox\" checked><label for=\"sk-estimator-id-7\" class=\"sk-toggleable__label sk-toggleable__label-arrow\">XGBClassifier</label><div class=\"sk-toggleable__content\"><pre>XGBClassifier(base_score=None, booster=None, callbacks=None,\n",
       "              colsample_bylevel=None, colsample_bynode=None,\n",
       "              colsample_bytree=None, device=None, early_stopping_rounds=None,\n",
       "              enable_categorical=False, eval_metric=None, feature_types=None,\n",
       "              gamma=None, grow_policy=None, importance_type=None,\n",
       "              interaction_constraints=None, learning_rate=0.05, max_bin=None,\n",
       "              max_cat_threshold=None, max_cat_to_onehot=None,\n",
       "              max_delta_step=None, max_depth=2, max_leaves=None,\n",
       "              min_child_weight=None, missing=nan, monotone_constraints=None,\n",
       "              multi_strategy=None, n_estimators=250, n_jobs=None,\n",
       "              num_parallel_tree=None, random_state=3, ...)</pre></div></div></div></div></div>"
      ],
      "text/plain": [
       "XGBClassifier(base_score=None, booster=None, callbacks=None,\n",
       "              colsample_bylevel=None, colsample_bynode=None,\n",
       "              colsample_bytree=None, device=None, early_stopping_rounds=None,\n",
       "              enable_categorical=False, eval_metric=None, feature_types=None,\n",
       "              gamma=None, grow_policy=None, importance_type=None,\n",
       "              interaction_constraints=None, learning_rate=0.05, max_bin=None,\n",
       "              max_cat_threshold=None, max_cat_to_onehot=None,\n",
       "              max_delta_step=None, max_depth=2, max_leaves=None,\n",
       "              min_child_weight=None, missing=nan, monotone_constraints=None,\n",
       "              multi_strategy=None, n_estimators=250, n_jobs=None,\n",
       "              num_parallel_tree=None, random_state=3, ...)"
      ]
     },
     "execution_count": 175,
     "metadata": {},
     "output_type": "execute_result"
    }
   ],
   "source": [
    "xg = XGBClassifier(max_depth = 2 , learning_rate = 0.05,n_estimators = 250, objective='binary:logistic',random_state = 3)\n",
    "xg.fit(x_treino,y_treino)"
   ]
  },
  {
   "cell_type": "code",
   "execution_count": 176,
   "metadata": {},
   "outputs": [
    {
     "data": {
      "text/plain": [
       "array([1, 1, 1, 0, 0, 0, 1, 0, 0, 0, 1, 1, 1, 1, 0, 1, 1, 1, 1, 0, 1, 1,\n",
       "       1, 0, 0, 0, 1, 1, 1, 1, 1, 0, 0, 0, 1, 0, 0, 0, 1, 0, 0, 1, 1, 1,\n",
       "       1, 0, 0, 1, 0, 1, 1, 0, 0, 0, 1, 0, 0, 0, 1, 0, 1, 1, 1, 0, 1, 1,\n",
       "       1, 0, 1, 0, 1, 1, 0, 1, 1, 1, 1, 1, 1, 1, 1, 1, 0, 0, 1, 1, 1, 1,\n",
       "       1, 0, 1, 0, 0, 0, 1, 0, 1, 0, 0, 0, 0, 1, 1, 1, 0, 1, 0, 0, 0, 1,\n",
       "       0, 1, 1, 1, 0, 1, 0, 1, 1, 1, 1, 1, 1, 0, 1, 1, 0, 1, 0, 1, 0, 1,\n",
       "       1, 1, 0, 0, 1, 1, 1, 0, 0, 1, 0, 1, 1, 0, 1, 1, 1, 0, 0, 1, 1, 0,\n",
       "       1, 0, 1, 1, 1, 0, 1, 1, 1, 0, 1, 0, 1, 0, 1, 0, 1, 1, 0, 0, 1, 0,\n",
       "       1, 0, 0, 1, 1, 1, 0, 1, 1, 1, 0, 1, 1, 0, 1, 0, 1, 0, 1, 1, 0, 0,\n",
       "       1, 0, 1, 1, 0, 1, 1, 0, 0, 0, 1, 0, 1, 1, 0, 1, 0, 0, 1, 0, 1, 1,\n",
       "       1, 0, 0, 0, 1, 1, 0, 1, 0, 1, 0, 1, 1, 1, 0, 1, 1, 1, 0, 1, 1, 0,\n",
       "       1, 0, 0, 0, 0, 0, 1, 0, 1, 0, 1, 1, 0, 0, 1, 0, 0, 1, 0, 0, 1, 0,\n",
       "       1, 0, 0, 0, 1, 0, 0, 1, 1, 1, 1, 1])"
      ]
     },
     "execution_count": 176,
     "metadata": {},
     "output_type": "execute_result"
    }
   ],
   "source": [
    "previsoes_xg = xg.predict(x_teste)\n",
    "previsoes_xg"
   ]
  },
  {
   "cell_type": "code",
   "execution_count": 177,
   "metadata": {},
   "outputs": [
    {
     "name": "stdout",
     "output_type": "stream",
     "text": [
      "Acuracia do modelo 0.8659420289855072\n"
     ]
    }
   ],
   "source": [
    "print(f\"Acuracia do modelo {accuracy_score(y_teste,previsoes_xg)}\")"
   ]
  },
  {
   "cell_type": "code",
   "execution_count": 178,
   "metadata": {},
   "outputs": [
    {
     "data": {
      "text/plain": [
       "array([[102,  19],\n",
       "       [ 18, 137]], dtype=int64)"
      ]
     },
     "execution_count": 178,
     "metadata": {},
     "output_type": "execute_result"
    }
   ],
   "source": [
    "confusion_matrix(y_teste,previsoes_xg)"
   ]
  },
  {
   "cell_type": "code",
   "execution_count": 179,
   "metadata": {},
   "outputs": [
    {
     "name": "stdout",
     "output_type": "stream",
     "text": [
      "acuracia do modelo 0.9157566302652106\n"
     ]
    }
   ],
   "source": [
    "# Análise dados de treino\n",
    "\n",
    "previsoes_treino = xg.predict(x_treino)\n",
    "print(f\"acuracia do modelo {accuracy_score(y_treino,previsoes_treino)}\")"
   ]
  },
  {
   "cell_type": "markdown",
   "metadata": {},
   "source": [
    "# Validação Cruzada"
   ]
  },
  {
   "cell_type": "code",
   "execution_count": 180,
   "metadata": {},
   "outputs": [],
   "source": [
    "kfold = KFold(n_splits = 30, shuffle=True, random_state = 5)"
   ]
  },
  {
   "cell_type": "code",
   "execution_count": 181,
   "metadata": {},
   "outputs": [
    {
     "name": "stdout",
     "output_type": "stream",
     "text": [
      "Acurácia Média: 86.59%\n"
     ]
    }
   ],
   "source": [
    "modelo = XGBClassifier(max_depth=2, learning_rate=0.05, n_estimators=250, objective='binary:logistic', random_state=3)\n",
    "resultado = cross_val_score(modelo, previsores3_esc, alvo, cv = kfold)\n",
    "\n",
    "# Usamos a média e o desvio padrão\n",
    "print(\"Acurácia Média: %.2f%%\" % (resultado.mean() * 100.0))"
   ]
  },
  {
   "cell_type": "markdown",
   "metadata": {},
   "source": [
    "# LIGHTGBM"
   ]
  },
  {
   "cell_type": "code",
   "execution_count": 182,
   "metadata": {},
   "outputs": [
    {
     "name": "stdout",
     "output_type": "stream",
     "text": [
      "pacote importado com sucesso\n"
     ]
    }
   ],
   "source": [
    "import lightgbm as lgb\n",
    "\n",
    "print(\"pacote importado com sucesso\")"
   ]
  },
  {
   "cell_type": "code",
   "execution_count": 183,
   "metadata": {},
   "outputs": [],
   "source": [
    "# dataset para treino\n",
    "\n",
    "dataset = lgb.Dataset(x_treino,label=y_treino)"
   ]
  },
  {
   "cell_type": "code",
   "execution_count": 184,
   "metadata": {},
   "outputs": [],
   "source": [
    "# Definindo os parâmetros\n",
    "\n",
    "parametros = {'num_leaves':250, # número de folhas\n",
    "              'objective':'binary', # classificação Binária\n",
    "              'max_depth':2,\n",
    "              'learning_rate':.05,\n",
    "              'max_bin':100}"
   ]
  },
  {
   "cell_type": "code",
   "execution_count": 185,
   "metadata": {},
   "outputs": [
    {
     "name": "stdout",
     "output_type": "stream",
     "text": [
      "[LightGBM] [Info] Number of positive: 352, number of negative: 289\n",
      "[LightGBM] [Info] Auto-choosing row-wise multi-threading, the overhead of testing was 0.001102 seconds.\n",
      "You can set `force_row_wise=true` to remove the overhead.\n",
      "And if memory is not enough, you can set `force_col_wise=true`.\n",
      "[LightGBM] [Info] Total Bins 354\n",
      "[LightGBM] [Info] Number of data points in the train set: 641, number of used features: 20\n",
      "[LightGBM] [Info] [binary:BoostFromScore]: pavg=0.549142 -> initscore=0.197204\n",
      "[LightGBM] [Info] Start training from score 0.197204\n",
      "[LightGBM] [Warning] No further splits with positive gain, best gain: -inf\n",
      "[LightGBM] [Warning] No further splits with positive gain, best gain: -inf\n",
      "[LightGBM] [Warning] No further splits with positive gain, best gain: -inf\n",
      "[LightGBM] [Warning] No further splits with positive gain, best gain: -inf\n",
      "[LightGBM] [Warning] No further splits with positive gain, best gain: -inf\n",
      "[LightGBM] [Warning] No further splits with positive gain, best gain: -inf\n",
      "[LightGBM] [Warning] No further splits with positive gain, best gain: -inf\n"
     ]
    }
   ],
   "source": [
    "lgbm = lgb.train(parametros,dataset,num_boost_round=200)"
   ]
  },
  {
   "cell_type": "code",
   "execution_count": 186,
   "metadata": {},
   "outputs": [
    {
     "data": {
      "text/plain": [
       "array([0.93614545, 0.85832512, 0.98255723, 0.02436942, 0.09276327,\n",
       "       0.36412815, 0.54896299, 0.01682813, 0.04434537, 0.0879599 ,\n",
       "       0.9206853 , 0.89711724, 0.98312702, 0.95686473, 0.47096119,\n",
       "       0.93816244, 0.53635702, 0.95486824, 0.90660545, 0.11803257,\n",
       "       0.89600549, 0.94042082, 0.74900622, 0.21658569, 0.04299053,\n",
       "       0.01600587, 0.95723224, 0.98182644, 0.65648427, 0.65898736,\n",
       "       0.96088236, 0.02865458, 0.0644965 , 0.04926662, 0.7598069 ,\n",
       "       0.09526635, 0.1567374 , 0.02726449, 0.64044845, 0.00637011,\n",
       "       0.02118085, 0.91652478, 0.95118214, 0.943963  , 0.96584485,\n",
       "       0.06747582, 0.00875619, 0.92929928, 0.30425848, 0.96876058,\n",
       "       0.94553465, 0.09741564, 0.04614126, 0.32595414, 0.97551117,\n",
       "       0.1372376 , 0.05818367, 0.092522  , 0.57368521, 0.07508021,\n",
       "       0.96628239, 0.9434294 , 0.58964469, 0.15070551, 0.97230956,\n",
       "       0.61657667, 0.97369684, 0.38593761, 0.9295618 , 0.10706718,\n",
       "       0.92576877, 0.9218378 , 0.3317662 , 0.97693682, 0.95644073,\n",
       "       0.87540263, 0.80607826, 0.98227024, 0.93834086, 0.88581239,\n",
       "       0.91380274, 0.88425438, 0.11490372, 0.11252214, 0.85979748,\n",
       "       0.87077525, 0.93013389, 0.97030513, 0.92939244, 0.15775067,\n",
       "       0.91579966, 0.34183974, 0.01604705, 0.22148168, 0.6357459 ,\n",
       "       0.08433889, 0.92705785, 0.04346753, 0.07295732, 0.13130159,\n",
       "       0.18506396, 0.74039607, 0.98193629, 0.94938377, 0.11239467,\n",
       "       0.94277937, 0.15279209, 0.02539838, 0.15263715, 0.74639605,\n",
       "       0.25397924, 0.97117039, 0.9728902 , 0.9563023 , 0.18152606,\n",
       "       0.96458975, 0.47117368, 0.96349207, 0.96747026, 0.87488853,\n",
       "       0.95899857, 0.99112708, 0.98301235, 0.0767345 , 0.56631384,\n",
       "       0.69348745, 0.18600029, 0.73706968, 0.02582338, 0.96529092,\n",
       "       0.37438321, 0.98877889, 0.82429373, 0.76232515, 0.20328739,\n",
       "       0.40223242, 0.59635673, 0.96612713, 0.81232095, 0.03702333,\n",
       "       0.27312889, 0.94690268, 0.02258896, 0.93054086, 0.6361699 ,\n",
       "       0.03128723, 0.9520924 , 0.63265647, 0.55412115, 0.11941868,\n",
       "       0.32577347, 0.94205113, 0.58301614, 0.05411757, 0.95132838,\n",
       "       0.02876126, 0.83149176, 0.72117358, 0.8487402 , 0.01930159,\n",
       "       0.97946078, 0.67912749, 0.97199836, 0.43507637, 0.94553465,\n",
       "       0.09180914, 0.88465266, 0.00872621, 0.93502656, 0.31830007,\n",
       "       0.75902132, 0.79279949, 0.01623642, 0.15263715, 0.86421819,\n",
       "       0.38889975, 0.65800727, 0.22756663, 0.16801423, 0.6502086 ,\n",
       "       0.97693682, 0.89017713, 0.09821391, 0.96060426, 0.97316479,\n",
       "       0.94754996, 0.06831931, 0.90424696, 0.95049963, 0.09544506,\n",
       "       0.58992606, 0.10668149, 0.96951461, 0.45851293, 0.91928205,\n",
       "       0.6816865 , 0.19395602, 0.0185778 , 0.86074805, 0.03562236,\n",
       "       0.97307756, 0.87712824, 0.22428538, 0.98256463, 0.97824927,\n",
       "       0.27843677, 0.01887777, 0.03046829, 0.9757987 , 0.24074379,\n",
       "       0.87646792, 0.97700472, 0.00573126, 0.59451756, 0.08466256,\n",
       "       0.05150682, 0.93370038, 0.05436051, 0.80456715, 0.76477811,\n",
       "       0.90473414, 0.09842129, 0.45827762, 0.49445563, 0.89606173,\n",
       "       0.86297235, 0.04499811, 0.95063504, 0.27834872, 0.85845227,\n",
       "       0.02086471, 0.96431591, 0.69534196, 0.93486773, 0.04840788,\n",
       "       0.9156397 , 0.77956693, 0.81797992, 0.02063975, 0.94400858,\n",
       "       0.98212424, 0.00875619, 0.92053709, 0.09862454, 0.11679185,\n",
       "       0.04870171, 0.14349448, 0.25774865, 0.95991265, 0.03796697,\n",
       "       0.97492039, 0.02275958, 0.70694127, 0.42371158, 0.0093978 ,\n",
       "       0.10474209, 0.98224306, 0.0822571 , 0.05590548, 0.95325683,\n",
       "       0.05063913, 0.4183321 , 0.52741537, 0.04456217, 0.56143736,\n",
       "       0.39661816, 0.02005112, 0.06154814, 0.93528144, 0.03535773,\n",
       "       0.01394883, 0.9618107 , 0.97741754, 0.96790178, 0.82926142,\n",
       "       0.95814477])"
      ]
     },
     "execution_count": 186,
     "metadata": {},
     "output_type": "execute_result"
    }
   ],
   "source": [
    "previsoes_lgbm = lgbm.predict(x_teste)\n",
    "previsoes_lgbm"
   ]
  },
  {
   "cell_type": "code",
   "execution_count": 187,
   "metadata": {},
   "outputs": [
    {
     "data": {
      "text/plain": [
       "(276,)"
      ]
     },
     "execution_count": 187,
     "metadata": {},
     "output_type": "execute_result"
    }
   ],
   "source": [
    "previsoes_lgbm.shape"
   ]
  },
  {
   "cell_type": "code",
   "execution_count": 188,
   "metadata": {},
   "outputs": [],
   "source": [
    "for i in range(0,276):\n",
    "    if previsoes_lgbm[i]>= .5:\n",
    "        previsoes_lgbm[i] = 1\n",
    "    else:\n",
    "        previsoes_lgbm[i]=0"
   ]
  },
  {
   "cell_type": "code",
   "execution_count": 189,
   "metadata": {},
   "outputs": [
    {
     "data": {
      "text/plain": [
       "array([1., 1., 1., 0., 0., 0., 1., 0., 0., 0., 1., 1., 1., 1., 0., 1., 1.,\n",
       "       1., 1., 0., 1., 1., 1., 0., 0., 0., 1., 1., 1., 1., 1., 0., 0., 0.,\n",
       "       1., 0., 0., 0., 1., 0., 0., 1., 1., 1., 1., 0., 0., 1., 0., 1., 1.,\n",
       "       0., 0., 0., 1., 0., 0., 0., 1., 0., 1., 1., 1., 0., 1., 1., 1., 0.,\n",
       "       1., 0., 1., 1., 0., 1., 1., 1., 1., 1., 1., 1., 1., 1., 0., 0., 1.,\n",
       "       1., 1., 1., 1., 0., 1., 0., 0., 0., 1., 0., 1., 0., 0., 0., 0., 1.,\n",
       "       1., 1., 0., 1., 0., 0., 0., 1., 0., 1., 1., 1., 0., 1., 0., 1., 1.,\n",
       "       1., 1., 1., 1., 0., 1., 1., 0., 1., 0., 1., 0., 1., 1., 1., 0., 0.,\n",
       "       1., 1., 1., 0., 0., 1., 0., 1., 1., 0., 1., 1., 1., 0., 0., 1., 1.,\n",
       "       0., 1., 0., 1., 1., 1., 0., 1., 1., 1., 0., 1., 0., 1., 0., 1., 0.,\n",
       "       1., 1., 0., 0., 1., 0., 1., 0., 0., 1., 1., 1., 0., 1., 1., 1., 0.,\n",
       "       1., 1., 0., 1., 0., 1., 0., 1., 1., 0., 0., 1., 0., 1., 1., 0., 1.,\n",
       "       1., 0., 0., 0., 1., 0., 1., 1., 0., 1., 0., 0., 1., 0., 1., 1., 1.,\n",
       "       0., 0., 0., 1., 1., 0., 1., 0., 1., 0., 1., 1., 1., 0., 1., 1., 1.,\n",
       "       0., 1., 1., 0., 1., 0., 0., 0., 0., 0., 1., 0., 1., 0., 1., 0., 0.,\n",
       "       0., 1., 0., 0., 1., 0., 0., 1., 0., 1., 0., 0., 0., 1., 0., 0., 1.,\n",
       "       1., 1., 1., 1.])"
      ]
     },
     "execution_count": 189,
     "metadata": {},
     "output_type": "execute_result"
    }
   ],
   "source": [
    "previsoes_lgbm"
   ]
  },
  {
   "cell_type": "code",
   "execution_count": 190,
   "metadata": {},
   "outputs": [
    {
     "name": "stdout",
     "output_type": "stream",
     "text": [
      "Acuracia do modelo 0.8623188405797102\n"
     ]
    }
   ],
   "source": [
    "print(f\"Acuracia do modelo {accuracy_score(y_teste,previsoes_lgbm)}\")"
   ]
  },
  {
   "cell_type": "code",
   "execution_count": 191,
   "metadata": {},
   "outputs": [
    {
     "data": {
      "text/plain": [
       "array([[254,  35],\n",
       "       [ 19, 333]], dtype=int64)"
      ]
     },
     "execution_count": 191,
     "metadata": {},
     "output_type": "execute_result"
    }
   ],
   "source": [
    "confusion_matrix(y_treino,previsoes_treino)"
   ]
  },
  {
   "cell_type": "markdown",
   "metadata": {},
   "source": [
    "# Análise dados de treino\n"
   ]
  },
  {
   "cell_type": "code",
   "execution_count": 192,
   "metadata": {},
   "outputs": [
    {
     "data": {
      "text/plain": [
       "array([0.93555592, 0.41149489, 0.95938909, 0.90840622, 0.81419097,\n",
       "       0.72294682, 0.09091685, 0.01099466, 0.07971243, 0.04298552,\n",
       "       0.92272712, 0.02233321, 0.82533076, 0.74159721, 0.90687898,\n",
       "       0.00891821, 0.0129788 , 0.15344868, 0.26983534, 0.95686473,\n",
       "       0.18808666, 0.6616002 , 0.90757645, 0.87210017, 0.79119281,\n",
       "       0.05603458, 0.13750775, 0.89757168, 0.66543311, 0.93384446,\n",
       "       0.97233722, 0.00469197, 0.92789678, 0.96221459, 0.02472421,\n",
       "       0.24880963, 0.81249603, 0.63720499, 0.0152278 , 0.88523416,\n",
       "       0.05616709, 0.95425705, 0.04697779, 0.09754491, 0.95856411,\n",
       "       0.9724972 , 0.0569401 , 0.94863624, 0.96596761, 0.82880271,\n",
       "       0.4112749 , 0.09291008, 0.82817423, 0.20882493, 0.97239363,\n",
       "       0.40178822, 0.90698033, 0.03020169, 0.88684862, 0.0454233 ,\n",
       "       0.01678508, 0.02712241, 0.63197055, 0.01089804, 0.93414195,\n",
       "       0.84479152, 0.04261825, 0.68725315, 0.9889338 , 0.00518835,\n",
       "       0.51232274, 0.93208752, 0.96174984, 0.97383419, 0.02185362,\n",
       "       0.01809132, 0.68670612, 0.97693682, 0.7609936 , 0.96114045,\n",
       "       0.65640035, 0.96978607, 0.97552849, 0.97778401, 0.11450966,\n",
       "       0.94319004, 0.93250854, 0.51583366, 0.96568164, 0.9798522 ,\n",
       "       0.08403181, 0.5150768 , 0.05940224, 0.11641225, 0.93716154,\n",
       "       0.8093127 , 0.77445202, 0.87527511, 0.93332868, 0.97215098,\n",
       "       0.73996721, 0.82092192, 0.16295968, 0.62916565, 0.94552303,\n",
       "       0.93059143, 0.89608365, 0.08324506, 0.54563808, 0.95782854,\n",
       "       0.01393218, 0.1156908 , 0.94403758, 0.14412441, 0.88145355,\n",
       "       0.08471193, 0.90423807, 0.02637349, 0.71119044, 0.25951624,\n",
       "       0.08063538, 0.01646765, 0.00501177, 0.72894071, 0.25643601,\n",
       "       0.9889338 , 0.50476767, 0.03290353, 0.90491107, 0.87149908,\n",
       "       0.93505195, 0.02026022, 0.53374371, 0.71879351, 0.01158755,\n",
       "       0.30068458, 0.52817532, 0.00546987, 0.87206962, 0.61908468,\n",
       "       0.01724692, 0.92768549, 0.6454861 , 0.9373933 , 0.90473854,\n",
       "       0.92636727, 0.30571623, 0.16262649, 0.31891739, 0.9736793 ,\n",
       "       0.96288898, 0.13892947, 0.89154391, 0.03916894, 0.95889455,\n",
       "       0.00436283, 0.66965197, 0.97131398, 0.72796964, 0.29187363,\n",
       "       0.95332923, 0.43350555, 0.04619844, 0.03129738, 0.67209194,\n",
       "       0.34551518, 0.91255822, 0.17774293, 0.04619844, 0.03756187,\n",
       "       0.04776833, 0.88026741, 0.7314334 , 0.01726363, 0.93136746,\n",
       "       0.23178831, 0.04256318, 0.95000901, 0.84295524, 0.01099294,\n",
       "       0.05247067, 0.02616981, 0.05690209, 0.2461915 , 0.03504289,\n",
       "       0.9563023 , 0.9670868 , 0.86019691, 0.97518311, 0.85290318,\n",
       "       0.016791  , 0.23426233, 0.89545562, 0.18625494, 0.06472069,\n",
       "       0.68491495, 0.80864362, 0.5233445 , 0.79616222, 0.92618325,\n",
       "       0.19409501, 0.2465412 , 0.01678586, 0.84473024, 0.68057685,\n",
       "       0.66589649, 0.65573491, 0.88257961, 0.33508918, 0.11573627,\n",
       "       0.83248049, 0.161755  , 0.96922936, 0.98013476, 0.86935224,\n",
       "       0.63208719, 0.86998187, 0.219205  , 0.07581301, 0.93362121,\n",
       "       0.85570328, 0.37585076, 0.14765504, 0.87814462, 0.64111543,\n",
       "       0.58259353, 0.93096589, 0.67031906, 0.75962982, 0.90988873,\n",
       "       0.94036685, 0.95252424, 0.14903392, 0.97233722, 0.90896422,\n",
       "       0.02653568, 0.89545562, 0.06391136, 0.95808124, 0.02288966,\n",
       "       0.97641467, 0.04200672, 0.81053475, 0.84894316, 0.44262601,\n",
       "       0.71100396, 0.64157188, 0.93465455, 0.96791356, 0.87716762,\n",
       "       0.62038473, 0.9477121 , 0.0046603 , 0.01785018, 0.03504289,\n",
       "       0.03129738, 0.0250761 , 0.03511129, 0.20865228, 0.11563721,\n",
       "       0.44271434, 0.21548678, 0.98877889, 0.44632095, 0.94679455,\n",
       "       0.27202802, 0.97778401, 0.55303242, 0.95343728, 0.15133223,\n",
       "       0.92643767, 0.9647124 , 0.06400848, 0.31380772, 0.07292941,\n",
       "       0.94208459, 0.88541632, 0.30569461, 0.0342147 , 0.04108094,\n",
       "       0.94408499, 0.15393755, 0.01469866, 0.0129788 , 0.87129912,\n",
       "       0.89188269, 0.65470066, 0.86955435, 0.94228914, 0.94726139,\n",
       "       0.84213577, 0.0092763 , 0.97117559, 0.97250517, 0.27755651,\n",
       "       0.68515297, 0.05077073, 0.6223075 , 0.07281664, 0.97337755,\n",
       "       0.9133724 , 0.08814868, 0.01930972, 0.84276527, 0.01979422,\n",
       "       0.54354882, 0.65387404, 0.79826909, 0.95433257, 0.05112558,\n",
       "       0.94679455, 0.01532518, 0.725896  , 0.25114551, 0.97534171,\n",
       "       0.01881096, 0.87673833, 0.64989578, 0.84842829, 0.24826793,\n",
       "       0.80698079, 0.85574704, 0.96540574, 0.85663481, 0.4071251 ,\n",
       "       0.98849854, 0.90399353, 0.93123758, 0.70130719, 0.12854394,\n",
       "       0.06737185, 0.04687099, 0.96226157, 0.1033576 , 0.00690561,\n",
       "       0.09230233, 0.90400584, 0.97402045, 0.08677474, 0.89705934,\n",
       "       0.92133768, 0.85597731, 0.94369109, 0.96563479, 0.97136034,\n",
       "       0.25915046, 0.9568115 , 0.89215275, 0.02492238, 0.86231692,\n",
       "       0.15771358, 0.98425704, 0.07563029, 0.053574  , 0.0584309 ,\n",
       "       0.74558827, 0.01852544, 0.70450026, 0.90909349, 0.87713411,\n",
       "       0.23976792, 0.72649712, 0.15726261, 0.91464675, 0.89646921,\n",
       "       0.06123169, 0.0129788 , 0.01588976, 0.01623642, 0.01131417,\n",
       "       0.90524392, 0.75285438, 0.36415312, 0.8768349 , 0.20486373,\n",
       "       0.97811103, 0.90644464, 0.93036395, 0.38325939, 0.73918493,\n",
       "       0.97167102, 0.93471059, 0.00424531, 0.95637374, 0.05341619,\n",
       "       0.97932054, 0.2162134 , 0.08412509, 0.62135646, 0.93303961,\n",
       "       0.01600587, 0.43519944, 0.81530769, 0.78089093, 0.8491262 ,\n",
       "       0.94859875, 0.05004851, 0.09707186, 0.37020383, 0.92316458,\n",
       "       0.94973377, 0.98682767, 0.82887939, 0.04477291, 0.96714539,\n",
       "       0.57078308, 0.92638248, 0.85897662, 0.53974822, 0.08398442,\n",
       "       0.41564421, 0.51281389, 0.04267088, 0.85467008, 0.8969433 ,\n",
       "       0.86917417, 0.02620798, 0.31455061, 0.19109793, 0.92777087,\n",
       "       0.94806895, 0.33926215, 0.06854871, 0.91579966, 0.90998362,\n",
       "       0.40178822, 0.71756534, 0.52772403, 0.02501148, 0.02870927,\n",
       "       0.03129738, 0.92333545, 0.97445568, 0.44165256, 0.96361117,\n",
       "       0.98405795, 0.96106463, 0.80771676, 0.96540574, 0.9130267 ,\n",
       "       0.07117057, 0.29539758, 0.92556357, 0.96266302, 0.27641579,\n",
       "       0.96609783, 0.01299618, 0.94406989, 0.12511381, 0.02354944,\n",
       "       0.86863568, 0.053574  , 0.9008601 , 0.95524726, 0.8600297 ,\n",
       "       0.86738455, 0.03504289, 0.03294863, 0.10572893, 0.92265014,\n",
       "       0.0454233 , 0.93731938, 0.71388733, 0.80177589, 0.81014055,\n",
       "       0.92966727, 0.94661704, 0.13264276, 0.95144873, 0.28331608,\n",
       "       0.80149852, 0.95049963, 0.97481431, 0.91286129, 0.52536339,\n",
       "       0.95965493, 0.94878162, 0.20124835, 0.03323629, 0.01772995,\n",
       "       0.76619119, 0.23001508, 0.10947987, 0.16466231, 0.02144826,\n",
       "       0.09774681, 0.91993417, 0.06673475, 0.97641467, 0.72748199,\n",
       "       0.23872868, 0.11316442, 0.0639749 , 0.95118861, 0.86494738,\n",
       "       0.15869392, 0.33291866, 0.97253142, 0.89704516, 0.07618757,\n",
       "       0.98003449, 0.97957452, 0.01367721, 0.21721921, 0.81381737,\n",
       "       0.96143281, 0.93968349, 0.85993218, 0.01710709, 0.03482414,\n",
       "       0.87646792, 0.79097747, 0.61297041, 0.96240094, 0.19372199,\n",
       "       0.95495302, 0.06815028, 0.07198134, 0.87673372, 0.06873925,\n",
       "       0.89094982, 0.61488161, 0.82663679, 0.81218058, 0.03873753,\n",
       "       0.97025346, 0.91912351, 0.05289154, 0.87929123, 0.12634221,\n",
       "       0.86244543, 0.01869649, 0.9407559 , 0.06085453, 0.93960114,\n",
       "       0.05121937, 0.79395716, 0.05396533, 0.97127908, 0.68354616,\n",
       "       0.01338701, 0.95049963, 0.83979099, 0.84049515, 0.91464359,\n",
       "       0.21689981, 0.18377719, 0.92053709, 0.90191691, 0.0932148 ,\n",
       "       0.0182134 , 0.66478518, 0.97570513, 0.00751877, 0.93513429,\n",
       "       0.11599484, 0.84847075, 0.94151992, 0.78509301, 0.32024616,\n",
       "       0.87920037, 0.96061223, 0.57891076, 0.63746946, 0.03043034,\n",
       "       0.70639976, 0.98312702, 0.03824447, 0.57496413, 0.9720147 ,\n",
       "       0.06396226, 0.93170044, 0.9563023 , 0.90282848, 0.05241582,\n",
       "       0.354193  , 0.96242095, 0.13185986, 0.0161485 , 0.40358129,\n",
       "       0.01255288, 0.51118975, 0.03819371, 0.71446995, 0.97194943,\n",
       "       0.98649923, 0.73139543, 0.07996143, 0.94238268, 0.07077392,\n",
       "       0.2855169 , 0.20166793, 0.01953473, 0.40392573, 0.12563541,\n",
       "       0.03510196, 0.82909009, 0.01484924, 0.11340622, 0.4884466 ,\n",
       "       0.0197651 , 0.09040668, 0.0454233 , 0.07450537, 0.93956614,\n",
       "       0.21081184, 0.57269609, 0.90979785, 0.51194765, 0.67769069,\n",
       "       0.94724958, 0.89232387, 0.81633719, 0.96054338, 0.05250246,\n",
       "       0.84145798, 0.97230458, 0.9475029 , 0.21705397, 0.9293495 ,\n",
       "       0.92272712, 0.25626135, 0.79485072, 0.77323551, 0.94416227,\n",
       "       0.92605659, 0.78355386, 0.87227612, 0.28374842, 0.8725298 ,\n",
       "       0.86152922, 0.12951694, 0.03854956, 0.92553468, 0.92384039,\n",
       "       0.08920873, 0.95868105, 0.05614066, 0.38553933, 0.03543053,\n",
       "       0.9449363 ])"
      ]
     },
     "execution_count": 192,
     "metadata": {},
     "output_type": "execute_result"
    }
   ],
   "source": [
    "previsoes_treino = lgbm.predict(x_treino)\n",
    "\n",
    "previsoes_treino"
   ]
  },
  {
   "cell_type": "code",
   "execution_count": 193,
   "metadata": {},
   "outputs": [
    {
     "data": {
      "text/plain": [
       "(641,)"
      ]
     },
     "execution_count": 193,
     "metadata": {},
     "output_type": "execute_result"
    }
   ],
   "source": [
    "previsoes_treino.shape"
   ]
  },
  {
   "cell_type": "code",
   "execution_count": 194,
   "metadata": {},
   "outputs": [],
   "source": [
    "for i in range(0,641):\n",
    "    if previsoes_treino[i]>= .5:\n",
    "        previsoes_treino[i] =1 \n",
    "    else:\n",
    "        previsoes_treino[i]= 0"
   ]
  },
  {
   "cell_type": "code",
   "execution_count": 195,
   "metadata": {},
   "outputs": [
    {
     "name": "stdout",
     "output_type": "stream",
     "text": [
      "Acuracia treino 0.9126365054602185\n"
     ]
    }
   ],
   "source": [
    "print(f\"Acuracia treino {accuracy_score(y_treino,previsoes_treino)}\")"
   ]
  },
  {
   "cell_type": "code",
   "execution_count": 196,
   "metadata": {},
   "outputs": [
    {
     "name": "stdout",
     "output_type": "stream",
     "text": [
      "Pacotes importados com sucesso\n"
     ]
    }
   ],
   "source": [
    "# Validação Cruzada\n",
    "\n",
    "from sklearn.model_selection import KFold\n",
    "from sklearn.model_selection import cross_val_score\n",
    "\n",
    "print(\"Pacotes importados com sucesso\")"
   ]
  },
  {
   "cell_type": "code",
   "execution_count": 199,
   "metadata": {},
   "outputs": [],
   "source": [
    "# Separando os dados em filds\n",
    "\n",
    "kfold = KFold(n_splits = 30, shuffle=True, random_state = 5)"
   ]
  },
  {
   "cell_type": "code",
   "execution_count": 200,
   "metadata": {},
   "outputs": [
    {
     "name": "stdout",
     "output_type": "stream",
     "text": [
      "[LightGBM] [Info] Number of positive: 489, number of negative: 397\n",
      "[LightGBM] [Info] Auto-choosing row-wise multi-threading, the overhead of testing was 0.000151 seconds.\n",
      "You can set `force_row_wise=true` to remove the overhead.\n",
      "And if memory is not enough, you can set `force_col_wise=true`.\n",
      "[LightGBM] [Info] Total Bins 368\n",
      "[LightGBM] [Info] Number of data points in the train set: 886, number of used features: 20\n",
      "[LightGBM] [Info] [binary:BoostFromScore]: pavg=0.551919 -> initscore=0.208426\n",
      "[LightGBM] [Info] Start training from score 0.208426\n",
      "[LightGBM] [Info] Number of positive: 490, number of negative: 396\n",
      "[LightGBM] [Info] Auto-choosing row-wise multi-threading, the overhead of testing was 0.000111 seconds.\n",
      "You can set `force_row_wise=true` to remove the overhead.\n",
      "And if memory is not enough, you can set `force_col_wise=true`.\n",
      "[LightGBM] [Info] Total Bins 370\n",
      "[LightGBM] [Info] Number of data points in the train set: 886, number of used features: 20\n",
      "[LightGBM] [Info] [binary:BoostFromScore]: pavg=0.553047 -> initscore=0.212991\n",
      "[LightGBM] [Info] Start training from score 0.212991\n",
      "[LightGBM] [Info] Number of positive: 486, number of negative: 400\n",
      "[LightGBM] [Info] Auto-choosing row-wise multi-threading, the overhead of testing was 0.000134 seconds.\n",
      "You can set `force_row_wise=true` to remove the overhead.\n",
      "And if memory is not enough, you can set `force_col_wise=true`.\n",
      "[LightGBM] [Info] Total Bins 367\n",
      "[LightGBM] [Info] Number of data points in the train set: 886, number of used features: 20\n",
      "[LightGBM] [Info] [binary:BoostFromScore]: pavg=0.548533 -> initscore=0.194744\n",
      "[LightGBM] [Info] Start training from score 0.194744\n",
      "[LightGBM] [Info] Number of positive: 487, number of negative: 399\n",
      "[LightGBM] [Info] Auto-choosing row-wise multi-threading, the overhead of testing was 0.000112 seconds.\n",
      "You can set `force_row_wise=true` to remove the overhead.\n",
      "And if memory is not enough, you can set `force_col_wise=true`.\n",
      "[LightGBM] [Info] Total Bins 370\n",
      "[LightGBM] [Info] Number of data points in the train set: 886, number of used features: 20\n",
      "[LightGBM] [Info] [binary:BoostFromScore]: pavg=0.549661 -> initscore=0.199303\n",
      "[LightGBM] [Info] Start training from score 0.199303\n",
      "[LightGBM] [Info] Number of positive: 490, number of negative: 396\n",
      "[LightGBM] [Info] Auto-choosing row-wise multi-threading, the overhead of testing was 0.000156 seconds.\n",
      "You can set `force_row_wise=true` to remove the overhead.\n",
      "And if memory is not enough, you can set `force_col_wise=true`.\n",
      "[LightGBM] [Info] Total Bins 369\n",
      "[LightGBM] [Info] Number of data points in the train set: 886, number of used features: 20\n",
      "[LightGBM] [Info] [binary:BoostFromScore]: pavg=0.553047 -> initscore=0.212991\n",
      "[LightGBM] [Info] Start training from score 0.212991\n",
      "[LightGBM] [Info] Number of positive: 489, number of negative: 397\n",
      "[LightGBM] [Info] Auto-choosing row-wise multi-threading, the overhead of testing was 0.000120 seconds.\n",
      "You can set `force_row_wise=true` to remove the overhead.\n",
      "And if memory is not enough, you can set `force_col_wise=true`.\n",
      "[LightGBM] [Info] Total Bins 370\n",
      "[LightGBM] [Info] Number of data points in the train set: 886, number of used features: 20\n",
      "[LightGBM] [Info] [binary:BoostFromScore]: pavg=0.551919 -> initscore=0.208426\n",
      "[LightGBM] [Info] Start training from score 0.208426\n",
      "[LightGBM] [Info] Number of positive: 490, number of negative: 396\n",
      "[LightGBM] [Info] Auto-choosing row-wise multi-threading, the overhead of testing was 0.000160 seconds.\n",
      "You can set `force_row_wise=true` to remove the overhead.\n",
      "And if memory is not enough, you can set `force_col_wise=true`.\n",
      "[LightGBM] [Info] Total Bins 368\n",
      "[LightGBM] [Info] Number of data points in the train set: 886, number of used features: 20\n",
      "[LightGBM] [Info] [binary:BoostFromScore]: pavg=0.553047 -> initscore=0.212991\n",
      "[LightGBM] [Info] Start training from score 0.212991\n",
      "[LightGBM] [Info] Number of positive: 491, number of negative: 395\n",
      "[LightGBM] [Info] Auto-choosing row-wise multi-threading, the overhead of testing was 0.000116 seconds.\n",
      "You can set `force_row_wise=true` to remove the overhead.\n",
      "And if memory is not enough, you can set `force_col_wise=true`.\n",
      "[LightGBM] [Info] Total Bins 370\n",
      "[LightGBM] [Info] Number of data points in the train set: 886, number of used features: 20\n",
      "[LightGBM] [Info] [binary:BoostFromScore]: pavg=0.554176 -> initscore=0.217558\n",
      "[LightGBM] [Info] Start training from score 0.217558\n",
      "[LightGBM] [Info] Number of positive: 491, number of negative: 395\n",
      "[LightGBM] [Info] Auto-choosing row-wise multi-threading, the overhead of testing was 0.000157 seconds.\n",
      "You can set `force_row_wise=true` to remove the overhead.\n",
      "And if memory is not enough, you can set `force_col_wise=true`.\n",
      "[LightGBM] [Info] Total Bins 369\n",
      "[LightGBM] [Info] Number of data points in the train set: 886, number of used features: 20\n",
      "[LightGBM] [Info] [binary:BoostFromScore]: pavg=0.554176 -> initscore=0.217558\n",
      "[LightGBM] [Info] Start training from score 0.217558\n",
      "[LightGBM] [Info] Number of positive: 490, number of negative: 396\n",
      "[LightGBM] [Info] Auto-choosing row-wise multi-threading, the overhead of testing was 0.000116 seconds.\n",
      "You can set `force_row_wise=true` to remove the overhead.\n",
      "And if memory is not enough, you can set `force_col_wise=true`.\n",
      "[LightGBM] [Info] Total Bins 370\n",
      "[LightGBM] [Info] Number of data points in the train set: 886, number of used features: 20\n",
      "[LightGBM] [Info] [binary:BoostFromScore]: pavg=0.553047 -> initscore=0.212991\n",
      "[LightGBM] [Info] Start training from score 0.212991\n",
      "[LightGBM] [Info] Number of positive: 492, number of negative: 394\n",
      "[LightGBM] [Info] Auto-choosing row-wise multi-threading, the overhead of testing was 0.000128 seconds.\n",
      "You can set `force_row_wise=true` to remove the overhead.\n",
      "And if memory is not enough, you can set `force_col_wise=true`.\n",
      "[LightGBM] [Info] Total Bins 370\n",
      "[LightGBM] [Info] Number of data points in the train set: 886, number of used features: 20\n",
      "[LightGBM] [Info] [binary:BoostFromScore]: pavg=0.555305 -> initscore=0.222128\n",
      "[LightGBM] [Info] Start training from score 0.222128\n",
      "[LightGBM] [Info] Number of positive: 484, number of negative: 402\n",
      "[LightGBM] [Info] Auto-choosing row-wise multi-threading, the overhead of testing was 0.000106 seconds.\n",
      "You can set `force_row_wise=true` to remove the overhead.\n",
      "And if memory is not enough, you can set `force_col_wise=true`.\n",
      "[LightGBM] [Info] Total Bins 368\n",
      "[LightGBM] [Info] Number of data points in the train set: 886, number of used features: 20\n",
      "[LightGBM] [Info] [binary:BoostFromScore]: pavg=0.546275 -> initscore=0.185633\n",
      "[LightGBM] [Info] Start training from score 0.185633\n",
      "[LightGBM] [Info] Number of positive: 489, number of negative: 397\n",
      "[LightGBM] [Info] Auto-choosing row-wise multi-threading, the overhead of testing was 0.000114 seconds.\n",
      "You can set `force_row_wise=true` to remove the overhead.\n",
      "And if memory is not enough, you can set `force_col_wise=true`.\n",
      "[LightGBM] [Info] Total Bins 369\n",
      "[LightGBM] [Info] Number of data points in the train set: 886, number of used features: 20\n",
      "[LightGBM] [Info] [binary:BoostFromScore]: pavg=0.551919 -> initscore=0.208426\n",
      "[LightGBM] [Info] Start training from score 0.208426\n",
      "[LightGBM] [Info] Number of positive: 489, number of negative: 397\n",
      "[LightGBM] [Info] Auto-choosing row-wise multi-threading, the overhead of testing was 0.000140 seconds.\n",
      "You can set `force_row_wise=true` to remove the overhead.\n",
      "And if memory is not enough, you can set `force_col_wise=true`.\n",
      "[LightGBM] [Info] Total Bins 371\n",
      "[LightGBM] [Info] Number of data points in the train set: 886, number of used features: 20\n",
      "[LightGBM] [Info] [binary:BoostFromScore]: pavg=0.551919 -> initscore=0.208426\n",
      "[LightGBM] [Info] Start training from score 0.208426\n",
      "[LightGBM] [Info] Number of positive: 494, number of negative: 392\n",
      "[LightGBM] [Info] Auto-choosing row-wise multi-threading, the overhead of testing was 0.000153 seconds.\n",
      "You can set `force_row_wise=true` to remove the overhead.\n",
      "And if memory is not enough, you can set `force_col_wise=true`.\n",
      "[LightGBM] [Info] Total Bins 368\n",
      "[LightGBM] [Info] Number of data points in the train set: 886, number of used features: 20\n",
      "[LightGBM] [Info] [binary:BoostFromScore]: pavg=0.557562 -> initscore=0.231274\n",
      "[LightGBM] [Info] Start training from score 0.231274\n",
      "[LightGBM] [Info] Number of positive: 488, number of negative: 398\n",
      "[LightGBM] [Info] Auto-choosing row-wise multi-threading, the overhead of testing was 0.000116 seconds.\n",
      "You can set `force_row_wise=true` to remove the overhead.\n",
      "And if memory is not enough, you can set `force_col_wise=true`.\n",
      "[LightGBM] [Info] Total Bins 370\n",
      "[LightGBM] [Info] Number of data points in the train set: 886, number of used features: 20\n",
      "[LightGBM] [Info] [binary:BoostFromScore]: pavg=0.550790 -> initscore=0.203863\n",
      "[LightGBM] [Info] Start training from score 0.203863\n",
      "[LightGBM] [Info] Number of positive: 489, number of negative: 397\n",
      "[LightGBM] [Info] Auto-choosing row-wise multi-threading, the overhead of testing was 0.000118 seconds.\n",
      "You can set `force_row_wise=true` to remove the overhead.\n",
      "And if memory is not enough, you can set `force_col_wise=true`.\n",
      "[LightGBM] [Info] Total Bins 370\n",
      "[LightGBM] [Info] Number of data points in the train set: 886, number of used features: 20\n",
      "[LightGBM] [Info] [binary:BoostFromScore]: pavg=0.551919 -> initscore=0.208426\n",
      "[LightGBM] [Info] Start training from score 0.208426\n",
      "[LightGBM] [Info] Number of positive: 488, number of negative: 399\n",
      "[LightGBM] [Info] Auto-choosing row-wise multi-threading, the overhead of testing was 0.000114 seconds.\n",
      "You can set `force_row_wise=true` to remove the overhead.\n",
      "And if memory is not enough, you can set `force_col_wise=true`.\n",
      "[LightGBM] [Info] Total Bins 370\n",
      "[LightGBM] [Info] Number of data points in the train set: 887, number of used features: 20\n",
      "[LightGBM] [Info] [binary:BoostFromScore]: pavg=0.550169 -> initscore=0.201354\n",
      "[LightGBM] [Info] Start training from score 0.201354\n",
      "[LightGBM] [Info] Number of positive: 490, number of negative: 397\n",
      "[LightGBM] [Info] Auto-choosing row-wise multi-threading, the overhead of testing was 0.000139 seconds.\n",
      "You can set `force_row_wise=true` to remove the overhead.\n",
      "And if memory is not enough, you can set `force_col_wise=true`.\n",
      "[LightGBM] [Info] Total Bins 367\n",
      "[LightGBM] [Info] Number of data points in the train set: 887, number of used features: 20\n",
      "[LightGBM] [Info] [binary:BoostFromScore]: pavg=0.552424 -> initscore=0.210469\n",
      "[LightGBM] [Info] Start training from score 0.210469\n",
      "[LightGBM] [Info] Number of positive: 490, number of negative: 397\n",
      "[LightGBM] [Info] Auto-choosing row-wise multi-threading, the overhead of testing was 0.000133 seconds.\n",
      "You can set `force_row_wise=true` to remove the overhead.\n",
      "And if memory is not enough, you can set `force_col_wise=true`.\n",
      "[LightGBM] [Info] Total Bins 369\n",
      "[LightGBM] [Info] Number of data points in the train set: 887, number of used features: 20\n",
      "[LightGBM] [Info] [binary:BoostFromScore]: pavg=0.552424 -> initscore=0.210469\n",
      "[LightGBM] [Info] Start training from score 0.210469\n",
      "[LightGBM] [Info] Number of positive: 491, number of negative: 396\n",
      "[LightGBM] [Info] Auto-choosing row-wise multi-threading, the overhead of testing was 0.000130 seconds.\n",
      "You can set `force_row_wise=true` to remove the overhead.\n",
      "And if memory is not enough, you can set `force_col_wise=true`.\n",
      "[LightGBM] [Info] Total Bins 368\n",
      "[LightGBM] [Info] Number of data points in the train set: 887, number of used features: 20\n",
      "[LightGBM] [Info] [binary:BoostFromScore]: pavg=0.553551 -> initscore=0.215030\n",
      "[LightGBM] [Info] Start training from score 0.215030\n",
      "[LightGBM] [Info] Number of positive: 491, number of negative: 396\n",
      "[LightGBM] [Info] Auto-choosing row-wise multi-threading, the overhead of testing was 0.000112 seconds.\n",
      "You can set `force_row_wise=true` to remove the overhead.\n",
      "And if memory is not enough, you can set `force_col_wise=true`.\n",
      "[LightGBM] [Info] Total Bins 369\n",
      "[LightGBM] [Info] Number of data points in the train set: 887, number of used features: 20\n",
      "[LightGBM] [Info] [binary:BoostFromScore]: pavg=0.553551 -> initscore=0.215030\n",
      "[LightGBM] [Info] Start training from score 0.215030\n",
      "[LightGBM] [Info] Number of positive: 493, number of negative: 394\n",
      "[LightGBM] [Info] Auto-choosing row-wise multi-threading, the overhead of testing was 0.000135 seconds.\n",
      "You can set `force_row_wise=true` to remove the overhead.\n",
      "And if memory is not enough, you can set `force_col_wise=true`.\n",
      "[LightGBM] [Info] Total Bins 370\n",
      "[LightGBM] [Info] Number of data points in the train set: 887, number of used features: 20\n",
      "[LightGBM] [Info] [binary:BoostFromScore]: pavg=0.555806 -> initscore=0.224158\n",
      "[LightGBM] [Info] Start training from score 0.224158\n",
      "[LightGBM] [Info] Number of positive: 494, number of negative: 393\n",
      "[LightGBM] [Info] Auto-choosing row-wise multi-threading, the overhead of testing was 0.000110 seconds.\n",
      "You can set `force_row_wise=true` to remove the overhead.\n",
      "And if memory is not enough, you can set `force_col_wise=true`.\n",
      "[LightGBM] [Info] Total Bins 371\n",
      "[LightGBM] [Info] Number of data points in the train set: 887, number of used features: 20\n",
      "[LightGBM] [Info] [binary:BoostFromScore]: pavg=0.556933 -> initscore=0.228726\n",
      "[LightGBM] [Info] Start training from score 0.228726\n",
      "[LightGBM] [Info] Number of positive: 493, number of negative: 394\n",
      "[LightGBM] [Info] Auto-choosing row-wise multi-threading, the overhead of testing was 0.000124 seconds.\n",
      "You can set `force_row_wise=true` to remove the overhead.\n",
      "And if memory is not enough, you can set `force_col_wise=true`.\n",
      "[LightGBM] [Info] Total Bins 369\n",
      "[LightGBM] [Info] Number of data points in the train set: 887, number of used features: 20\n",
      "[LightGBM] [Info] [binary:BoostFromScore]: pavg=0.555806 -> initscore=0.224158\n",
      "[LightGBM] [Info] Start training from score 0.224158\n",
      "[LightGBM] [Info] Number of positive: 487, number of negative: 400\n",
      "[LightGBM] [Info] Auto-choosing row-wise multi-threading, the overhead of testing was 0.000116 seconds.\n",
      "You can set `force_row_wise=true` to remove the overhead.\n",
      "And if memory is not enough, you can set `force_col_wise=true`.\n",
      "[LightGBM] [Info] Total Bins 370\n",
      "[LightGBM] [Info] Number of data points in the train set: 887, number of used features: 20\n",
      "[LightGBM] [Info] [binary:BoostFromScore]: pavg=0.549042 -> initscore=0.196800\n",
      "[LightGBM] [Info] Start training from score 0.196800\n",
      "[LightGBM] [Info] Number of positive: 489, number of negative: 398\n",
      "[LightGBM] [Info] Auto-choosing row-wise multi-threading, the overhead of testing was 0.000137 seconds.\n",
      "You can set `force_row_wise=true` to remove the overhead.\n",
      "And if memory is not enough, you can set `force_col_wise=true`.\n",
      "[LightGBM] [Info] Total Bins 368\n",
      "[LightGBM] [Info] Number of data points in the train set: 887, number of used features: 20\n",
      "[LightGBM] [Info] [binary:BoostFromScore]: pavg=0.551297 -> initscore=0.205910\n",
      "[LightGBM] [Info] Start training from score 0.205910\n",
      "[LightGBM] [Info] Number of positive: 492, number of negative: 395\n",
      "[LightGBM] [Info] Auto-choosing row-wise multi-threading, the overhead of testing was 0.000130 seconds.\n",
      "You can set `force_row_wise=true` to remove the overhead.\n",
      "And if memory is not enough, you can set `force_col_wise=true`.\n",
      "[LightGBM] [Info] Total Bins 371\n",
      "[LightGBM] [Info] Number of data points in the train set: 887, number of used features: 20\n",
      "[LightGBM] [Info] [binary:BoostFromScore]: pavg=0.554679 -> initscore=0.219593\n",
      "[LightGBM] [Info] Start training from score 0.219593\n",
      "[LightGBM] [Info] Number of positive: 493, number of negative: 394\n",
      "[LightGBM] [Info] Auto-choosing row-wise multi-threading, the overhead of testing was 0.000115 seconds.\n",
      "You can set `force_row_wise=true` to remove the overhead.\n",
      "And if memory is not enough, you can set `force_col_wise=true`.\n",
      "[LightGBM] [Info] Total Bins 368\n",
      "[LightGBM] [Info] Number of data points in the train set: 887, number of used features: 20\n",
      "[LightGBM] [Info] [binary:BoostFromScore]: pavg=0.555806 -> initscore=0.224158\n",
      "[LightGBM] [Info] Start training from score 0.224158\n",
      "[LightGBM] [Info] Number of positive: 494, number of negative: 393\n",
      "[LightGBM] [Info] Auto-choosing row-wise multi-threading, the overhead of testing was 0.000098 seconds.\n",
      "You can set `force_row_wise=true` to remove the overhead.\n",
      "And if memory is not enough, you can set `force_col_wise=true`.\n",
      "[LightGBM] [Info] Total Bins 369\n",
      "[LightGBM] [Info] Number of data points in the train set: 887, number of used features: 20\n",
      "[LightGBM] [Info] [binary:BoostFromScore]: pavg=0.556933 -> initscore=0.228726\n",
      "[LightGBM] [Info] Start training from score 0.228726\n",
      "Acurácia Média 0.86584229390681\n"
     ]
    }
   ],
   "source": [
    "modelo = lgb.LGBMClassifier(num_leaves=250,objective='binary',\n",
    "                            max_depth=2,learning_rate=.05,max_bin=100)\n",
    "\n",
    "resultado = cross_val_score(modelo,previsores3_esc,alvo,cv=kfold)\n",
    "\n",
    "print(f\"Acurácia Média {resultado.mean()}\")"
   ]
  },
  {
   "cell_type": "markdown",
   "metadata": {},
   "source": [
    "# CATBOOST"
   ]
  },
  {
   "cell_type": "markdown",
   "metadata": {},
   "source": [
    "Não precisa realizar a transformação das variáveis categoricas, serve para realizar regresão"
   ]
  },
  {
   "cell_type": "code",
   "execution_count": 202,
   "metadata": {},
   "outputs": [
    {
     "name": "stdout",
     "output_type": "stream",
     "text": [
      "pacote importado com sucesso\n"
     ]
    }
   ],
   "source": [
    "# Importando o catboost\n",
    "\n",
    "from catboost import CatBoostClassifier\n",
    "\n",
    "print(\"pacote importado com sucesso\")"
   ]
  },
  {
   "cell_type": "code",
   "execution_count": 204,
   "metadata": {},
   "outputs": [],
   "source": [
    "previsores4 = df.iloc[:,0:11]"
   ]
  },
  {
   "cell_type": "code",
   "execution_count": 205,
   "metadata": {},
   "outputs": [
    {
     "data": {
      "text/html": [
       "<div>\n",
       "<style scoped>\n",
       "    .dataframe tbody tr th:only-of-type {\n",
       "        vertical-align: middle;\n",
       "    }\n",
       "\n",
       "    .dataframe tbody tr th {\n",
       "        vertical-align: top;\n",
       "    }\n",
       "\n",
       "    .dataframe thead th {\n",
       "        text-align: right;\n",
       "    }\n",
       "</style>\n",
       "<table border=\"1\" class=\"dataframe\">\n",
       "  <thead>\n",
       "    <tr style=\"text-align: right;\">\n",
       "      <th></th>\n",
       "      <th>Age</th>\n",
       "      <th>Sex</th>\n",
       "      <th>ChestPainType</th>\n",
       "      <th>RestingBP</th>\n",
       "      <th>Cholesterol</th>\n",
       "      <th>FastingBS</th>\n",
       "      <th>RestingECG</th>\n",
       "      <th>MaxHR</th>\n",
       "      <th>ExerciseAngina</th>\n",
       "      <th>Oldpeak</th>\n",
       "      <th>ST_Slope</th>\n",
       "    </tr>\n",
       "  </thead>\n",
       "  <tbody>\n",
       "    <tr>\n",
       "      <th>0</th>\n",
       "      <td>40</td>\n",
       "      <td>M</td>\n",
       "      <td>ATA</td>\n",
       "      <td>140</td>\n",
       "      <td>289.0</td>\n",
       "      <td>0</td>\n",
       "      <td>Normal</td>\n",
       "      <td>172</td>\n",
       "      <td>N</td>\n",
       "      <td>0.0</td>\n",
       "      <td>Up</td>\n",
       "    </tr>\n",
       "    <tr>\n",
       "      <th>1</th>\n",
       "      <td>49</td>\n",
       "      <td>F</td>\n",
       "      <td>NAP</td>\n",
       "      <td>160</td>\n",
       "      <td>180.0</td>\n",
       "      <td>0</td>\n",
       "      <td>Normal</td>\n",
       "      <td>156</td>\n",
       "      <td>N</td>\n",
       "      <td>1.0</td>\n",
       "      <td>Flat</td>\n",
       "    </tr>\n",
       "    <tr>\n",
       "      <th>2</th>\n",
       "      <td>37</td>\n",
       "      <td>M</td>\n",
       "      <td>ATA</td>\n",
       "      <td>130</td>\n",
       "      <td>283.0</td>\n",
       "      <td>0</td>\n",
       "      <td>ST</td>\n",
       "      <td>98</td>\n",
       "      <td>N</td>\n",
       "      <td>0.0</td>\n",
       "      <td>Up</td>\n",
       "    </tr>\n",
       "    <tr>\n",
       "      <th>3</th>\n",
       "      <td>48</td>\n",
       "      <td>F</td>\n",
       "      <td>ASY</td>\n",
       "      <td>138</td>\n",
       "      <td>214.0</td>\n",
       "      <td>0</td>\n",
       "      <td>Normal</td>\n",
       "      <td>108</td>\n",
       "      <td>Y</td>\n",
       "      <td>1.5</td>\n",
       "      <td>Flat</td>\n",
       "    </tr>\n",
       "    <tr>\n",
       "      <th>4</th>\n",
       "      <td>54</td>\n",
       "      <td>M</td>\n",
       "      <td>NAP</td>\n",
       "      <td>150</td>\n",
       "      <td>195.0</td>\n",
       "      <td>0</td>\n",
       "      <td>Normal</td>\n",
       "      <td>122</td>\n",
       "      <td>N</td>\n",
       "      <td>0.0</td>\n",
       "      <td>Up</td>\n",
       "    </tr>\n",
       "  </tbody>\n",
       "</table>\n",
       "</div>"
      ],
      "text/plain": [
       "   Age Sex ChestPainType  RestingBP  Cholesterol  FastingBS RestingECG  MaxHR  \\\n",
       "0   40   M           ATA        140        289.0          0     Normal    172   \n",
       "1   49   F           NAP        160        180.0          0     Normal    156   \n",
       "2   37   M           ATA        130        283.0          0         ST     98   \n",
       "3   48   F           ASY        138        214.0          0     Normal    108   \n",
       "4   54   M           NAP        150        195.0          0     Normal    122   \n",
       "\n",
       "  ExerciseAngina  Oldpeak ST_Slope  \n",
       "0              N      0.0       Up  \n",
       "1              N      1.0     Flat  \n",
       "2              N      0.0       Up  \n",
       "3              Y      1.5     Flat  \n",
       "4              N      0.0       Up  "
      ]
     },
     "execution_count": 205,
     "metadata": {},
     "output_type": "execute_result"
    }
   ],
   "source": [
    "previsores4.head()"
   ]
  },
  {
   "cell_type": "code",
   "execution_count": 206,
   "metadata": {},
   "outputs": [],
   "source": [
    "alvo4 = df.iloc[:,11]"
   ]
  },
  {
   "cell_type": "code",
   "execution_count": 207,
   "metadata": {},
   "outputs": [
    {
     "name": "stdout",
     "output_type": "stream",
     "text": [
      "pacotes importados com sucesso\n"
     ]
    }
   ],
   "source": [
    "from sklearn.model_selection import train_test_split\n",
    "\n",
    "print(\"pacotes importados com sucesso\")"
   ]
  },
  {
   "cell_type": "code",
   "execution_count": 208,
   "metadata": {},
   "outputs": [],
   "source": [
    "x_treino,x_teste,y_treino,y_teste = train_test_split(previsores4,alvo4,test_size=0.3, random_state=0)"
   ]
  },
  {
   "cell_type": "code",
   "execution_count": 210,
   "metadata": {},
   "outputs": [
    {
     "data": {
      "text/plain": [
       "(276, 11)"
      ]
     },
     "execution_count": 210,
     "metadata": {},
     "output_type": "execute_result"
    }
   ],
   "source": [
    "x_treino.shape\n",
    "x_teste.shape"
   ]
  },
  {
   "cell_type": "code",
   "execution_count": 211,
   "metadata": {},
   "outputs": [],
   "source": [
    "categoricas = ['Sex','ChestPainType', 'RestingECG', 'ExerciseAngina', 'ST_Slope']"
   ]
  },
  {
   "cell_type": "code",
   "execution_count": 212,
   "metadata": {},
   "outputs": [],
   "source": [
    "catboost = CatBoostClassifier(task_type='CPU',iterations=100,learning_rate=0.1,depth=8,random_state=5,eval_metric=\"Accuracy\"\n",
    "\n",
    ")"
   ]
  },
  {
   "cell_type": "code",
   "execution_count": 214,
   "metadata": {},
   "outputs": [
    {
     "name": "stdout",
     "output_type": "stream",
     "text": [
      "0:\tlearn: 0.8861154\ttest: 0.7789855\tbest: 0.7789855 (0)\ttotal: 258ms\tremaining: 25.6s\n",
      "1:\tlearn: 0.8689548\ttest: 0.7934783\tbest: 0.7934783 (1)\ttotal: 332ms\tremaining: 16.3s\n",
      "2:\tlearn: 0.8471139\ttest: 0.7971014\tbest: 0.7971014 (2)\ttotal: 375ms\tremaining: 12.1s\n",
      "3:\tlearn: 0.8549142\ttest: 0.8043478\tbest: 0.8043478 (3)\ttotal: 438ms\tremaining: 10.5s\n",
      "4:\tlearn: 0.8517941\ttest: 0.8043478\tbest: 0.8043478 (3)\ttotal: 501ms\tremaining: 9.52s\n",
      "5:\tlearn: 0.8486739\ttest: 0.8043478\tbest: 0.8043478 (3)\ttotal: 557ms\tremaining: 8.73s\n",
      "6:\tlearn: 0.8580343\ttest: 0.8115942\tbest: 0.8115942 (6)\ttotal: 603ms\tremaining: 8.01s\n",
      "7:\tlearn: 0.8642746\ttest: 0.8043478\tbest: 0.8115942 (6)\ttotal: 650ms\tremaining: 7.48s\n",
      "8:\tlearn: 0.8533541\ttest: 0.8043478\tbest: 0.8115942 (6)\ttotal: 692ms\tremaining: 6.99s\n",
      "9:\tlearn: 0.8611544\ttest: 0.8115942\tbest: 0.8115942 (6)\ttotal: 728ms\tremaining: 6.55s\n",
      "10:\tlearn: 0.8642746\ttest: 0.8079710\tbest: 0.8115942 (6)\ttotal: 767ms\tremaining: 6.2s\n",
      "11:\tlearn: 0.8658346\ttest: 0.8043478\tbest: 0.8115942 (6)\ttotal: 801ms\tremaining: 5.88s\n",
      "12:\tlearn: 0.8689548\ttest: 0.8043478\tbest: 0.8115942 (6)\ttotal: 838ms\tremaining: 5.61s\n",
      "13:\tlearn: 0.8611544\ttest: 0.8007246\tbest: 0.8115942 (6)\ttotal: 848ms\tremaining: 5.21s\n",
      "14:\tlearn: 0.8611544\ttest: 0.8007246\tbest: 0.8115942 (6)\ttotal: 904ms\tremaining: 5.12s\n",
      "15:\tlearn: 0.8658346\ttest: 0.7971014\tbest: 0.8115942 (6)\ttotal: 952ms\tremaining: 5s\n",
      "16:\tlearn: 0.8673947\ttest: 0.7971014\tbest: 0.8115942 (6)\ttotal: 1.01s\tremaining: 4.94s\n",
      "17:\tlearn: 0.8689548\ttest: 0.8007246\tbest: 0.8115942 (6)\ttotal: 1.07s\tremaining: 4.88s\n",
      "18:\tlearn: 0.8720749\ttest: 0.8007246\tbest: 0.8115942 (6)\ttotal: 1.12s\tremaining: 4.79s\n",
      "19:\tlearn: 0.8767551\ttest: 0.8007246\tbest: 0.8115942 (6)\ttotal: 1.17s\tremaining: 4.7s\n",
      "20:\tlearn: 0.8767551\ttest: 0.8079710\tbest: 0.8115942 (6)\ttotal: 1.23s\tremaining: 4.63s\n",
      "21:\tlearn: 0.8798752\ttest: 0.8079710\tbest: 0.8115942 (6)\ttotal: 1.28s\tremaining: 4.55s\n",
      "22:\tlearn: 0.8814353\ttest: 0.8079710\tbest: 0.8115942 (6)\ttotal: 1.33s\tremaining: 4.45s\n",
      "23:\tlearn: 0.8814353\ttest: 0.8079710\tbest: 0.8115942 (6)\ttotal: 1.39s\tremaining: 4.39s\n",
      "24:\tlearn: 0.8814353\ttest: 0.8079710\tbest: 0.8115942 (6)\ttotal: 1.45s\tremaining: 4.36s\n",
      "25:\tlearn: 0.8829953\ttest: 0.8115942\tbest: 0.8115942 (6)\ttotal: 1.49s\tremaining: 4.25s\n",
      "26:\tlearn: 0.8845554\ttest: 0.8152174\tbest: 0.8152174 (26)\ttotal: 1.54s\tremaining: 4.17s\n",
      "27:\tlearn: 0.8829953\ttest: 0.8152174\tbest: 0.8152174 (26)\ttotal: 1.58s\tremaining: 4.05s\n",
      "28:\tlearn: 0.8861154\ttest: 0.8115942\tbest: 0.8152174 (26)\ttotal: 1.63s\tremaining: 4s\n",
      "29:\tlearn: 0.8939158\ttest: 0.8115942\tbest: 0.8152174 (26)\ttotal: 1.69s\tremaining: 3.94s\n",
      "30:\tlearn: 0.8954758\ttest: 0.8115942\tbest: 0.8152174 (26)\ttotal: 1.74s\tremaining: 3.88s\n",
      "31:\tlearn: 0.8954758\ttest: 0.8152174\tbest: 0.8152174 (26)\ttotal: 1.79s\tremaining: 3.8s\n",
      "32:\tlearn: 0.8970359\ttest: 0.8115942\tbest: 0.8152174 (26)\ttotal: 1.86s\tremaining: 3.78s\n",
      "33:\tlearn: 0.9001560\ttest: 0.8152174\tbest: 0.8152174 (26)\ttotal: 1.91s\tremaining: 3.7s\n",
      "34:\tlearn: 0.9048362\ttest: 0.8188406\tbest: 0.8188406 (34)\ttotal: 1.96s\tremaining: 3.63s\n",
      "35:\tlearn: 0.9095164\ttest: 0.8297101\tbest: 0.8297101 (35)\ttotal: 2s\tremaining: 3.56s\n",
      "36:\tlearn: 0.9110764\ttest: 0.8224638\tbest: 0.8297101 (35)\ttotal: 2.04s\tremaining: 3.48s\n",
      "37:\tlearn: 0.9157566\ttest: 0.8260870\tbest: 0.8297101 (35)\ttotal: 2.08s\tremaining: 3.38s\n",
      "38:\tlearn: 0.9157566\ttest: 0.8333333\tbest: 0.8333333 (38)\ttotal: 2.09s\tremaining: 3.27s\n",
      "39:\tlearn: 0.9173167\ttest: 0.8333333\tbest: 0.8333333 (38)\ttotal: 2.14s\tremaining: 3.2s\n",
      "40:\tlearn: 0.9141966\ttest: 0.8369565\tbest: 0.8369565 (40)\ttotal: 2.16s\tremaining: 3.1s\n",
      "41:\tlearn: 0.9141966\ttest: 0.8405797\tbest: 0.8405797 (41)\ttotal: 2.2s\tremaining: 3.04s\n",
      "42:\tlearn: 0.9173167\ttest: 0.8442029\tbest: 0.8442029 (42)\ttotal: 2.27s\tremaining: 3s\n",
      "43:\tlearn: 0.9173167\ttest: 0.8514493\tbest: 0.8514493 (43)\ttotal: 2.34s\tremaining: 2.98s\n",
      "44:\tlearn: 0.9173167\ttest: 0.8478261\tbest: 0.8514493 (43)\ttotal: 2.39s\tremaining: 2.92s\n",
      "45:\tlearn: 0.9188768\ttest: 0.8478261\tbest: 0.8514493 (43)\ttotal: 2.44s\tremaining: 2.87s\n",
      "46:\tlearn: 0.9204368\ttest: 0.8514493\tbest: 0.8514493 (43)\ttotal: 2.5s\tremaining: 2.82s\n",
      "47:\tlearn: 0.9204368\ttest: 0.8550725\tbest: 0.8550725 (47)\ttotal: 2.56s\tremaining: 2.77s\n",
      "48:\tlearn: 0.9219969\ttest: 0.8623188\tbest: 0.8623188 (48)\ttotal: 2.62s\tremaining: 2.73s\n",
      "49:\tlearn: 0.9188768\ttest: 0.8623188\tbest: 0.8623188 (48)\ttotal: 2.69s\tremaining: 2.69s\n",
      "50:\tlearn: 0.9204368\ttest: 0.8659420\tbest: 0.8659420 (50)\ttotal: 2.75s\tremaining: 2.64s\n",
      "51:\tlearn: 0.9235569\ttest: 0.8659420\tbest: 0.8659420 (50)\ttotal: 2.78s\tremaining: 2.56s\n",
      "52:\tlearn: 0.9235569\ttest: 0.8659420\tbest: 0.8659420 (50)\ttotal: 2.79s\tremaining: 2.48s\n",
      "53:\tlearn: 0.9251170\ttest: 0.8659420\tbest: 0.8659420 (50)\ttotal: 2.84s\tremaining: 2.42s\n",
      "54:\tlearn: 0.9235569\ttest: 0.8695652\tbest: 0.8695652 (54)\ttotal: 2.89s\tremaining: 2.36s\n",
      "55:\tlearn: 0.9204368\ttest: 0.8695652\tbest: 0.8695652 (54)\ttotal: 2.92s\tremaining: 2.29s\n",
      "56:\tlearn: 0.9219969\ttest: 0.8695652\tbest: 0.8695652 (54)\ttotal: 2.98s\tremaining: 2.24s\n",
      "57:\tlearn: 0.9251170\ttest: 0.8695652\tbest: 0.8695652 (54)\ttotal: 3.04s\tremaining: 2.2s\n",
      "58:\tlearn: 0.9266771\ttest: 0.8695652\tbest: 0.8695652 (54)\ttotal: 3.1s\tremaining: 2.16s\n",
      "59:\tlearn: 0.9282371\ttest: 0.8695652\tbest: 0.8695652 (54)\ttotal: 3.17s\tremaining: 2.11s\n",
      "60:\tlearn: 0.9282371\ttest: 0.8695652\tbest: 0.8695652 (54)\ttotal: 3.22s\tremaining: 2.06s\n",
      "61:\tlearn: 0.9282371\ttest: 0.8695652\tbest: 0.8695652 (54)\ttotal: 3.27s\tremaining: 2.01s\n",
      "62:\tlearn: 0.9251170\ttest: 0.8695652\tbest: 0.8695652 (54)\ttotal: 3.33s\tremaining: 1.96s\n",
      "63:\tlearn: 0.9251170\ttest: 0.8695652\tbest: 0.8695652 (54)\ttotal: 3.4s\tremaining: 1.91s\n",
      "64:\tlearn: 0.9251170\ttest: 0.8695652\tbest: 0.8695652 (54)\ttotal: 3.42s\tremaining: 1.84s\n",
      "65:\tlearn: 0.9251170\ttest: 0.8695652\tbest: 0.8695652 (54)\ttotal: 3.47s\tremaining: 1.79s\n",
      "66:\tlearn: 0.9251170\ttest: 0.8695652\tbest: 0.8695652 (54)\ttotal: 3.53s\tremaining: 1.74s\n",
      "67:\tlearn: 0.9266771\ttest: 0.8695652\tbest: 0.8695652 (54)\ttotal: 3.56s\tremaining: 1.68s\n",
      "68:\tlearn: 0.9266771\ttest: 0.8695652\tbest: 0.8695652 (54)\ttotal: 3.58s\tremaining: 1.61s\n",
      "69:\tlearn: 0.9266771\ttest: 0.8695652\tbest: 0.8695652 (54)\ttotal: 3.61s\tremaining: 1.55s\n",
      "70:\tlearn: 0.9266771\ttest: 0.8695652\tbest: 0.8695652 (54)\ttotal: 3.67s\tremaining: 1.5s\n",
      "71:\tlearn: 0.9266771\ttest: 0.8695652\tbest: 0.8695652 (54)\ttotal: 3.71s\tremaining: 1.44s\n",
      "72:\tlearn: 0.9266771\ttest: 0.8695652\tbest: 0.8695652 (54)\ttotal: 3.74s\tremaining: 1.38s\n",
      "73:\tlearn: 0.9251170\ttest: 0.8695652\tbest: 0.8695652 (54)\ttotal: 3.8s\tremaining: 1.34s\n",
      "74:\tlearn: 0.9251170\ttest: 0.8695652\tbest: 0.8695652 (54)\ttotal: 3.84s\tremaining: 1.28s\n",
      "75:\tlearn: 0.9266771\ttest: 0.8695652\tbest: 0.8695652 (54)\ttotal: 3.87s\tremaining: 1.22s\n",
      "76:\tlearn: 0.9266771\ttest: 0.8695652\tbest: 0.8695652 (54)\ttotal: 3.92s\tremaining: 1.17s\n",
      "77:\tlearn: 0.9266771\ttest: 0.8695652\tbest: 0.8695652 (54)\ttotal: 3.96s\tremaining: 1.11s\n",
      "78:\tlearn: 0.9266771\ttest: 0.8659420\tbest: 0.8695652 (54)\ttotal: 4s\tremaining: 1.06s\n",
      "79:\tlearn: 0.9266771\ttest: 0.8659420\tbest: 0.8695652 (54)\ttotal: 4.02s\tremaining: 1s\n",
      "80:\tlearn: 0.9266771\ttest: 0.8659420\tbest: 0.8695652 (54)\ttotal: 4.05s\tremaining: 951ms\n",
      "81:\tlearn: 0.9266771\ttest: 0.8659420\tbest: 0.8695652 (54)\ttotal: 4.11s\tremaining: 902ms\n",
      "82:\tlearn: 0.9266771\ttest: 0.8659420\tbest: 0.8695652 (54)\ttotal: 4.2s\tremaining: 861ms\n",
      "83:\tlearn: 0.9266771\ttest: 0.8659420\tbest: 0.8695652 (54)\ttotal: 4.26s\tremaining: 812ms\n",
      "84:\tlearn: 0.9297972\ttest: 0.8659420\tbest: 0.8695652 (54)\ttotal: 4.31s\tremaining: 761ms\n",
      "85:\tlearn: 0.9297972\ttest: 0.8659420\tbest: 0.8695652 (54)\ttotal: 4.35s\tremaining: 708ms\n",
      "86:\tlearn: 0.9282371\ttest: 0.8659420\tbest: 0.8695652 (54)\ttotal: 4.39s\tremaining: 656ms\n",
      "87:\tlearn: 0.9282371\ttest: 0.8659420\tbest: 0.8695652 (54)\ttotal: 4.46s\tremaining: 608ms\n",
      "88:\tlearn: 0.9282371\ttest: 0.8659420\tbest: 0.8695652 (54)\ttotal: 4.52s\tremaining: 558ms\n",
      "89:\tlearn: 0.9282371\ttest: 0.8659420\tbest: 0.8695652 (54)\ttotal: 4.54s\tremaining: 505ms\n",
      "90:\tlearn: 0.9282371\ttest: 0.8659420\tbest: 0.8695652 (54)\ttotal: 4.6s\tremaining: 455ms\n",
      "91:\tlearn: 0.9282371\ttest: 0.8659420\tbest: 0.8695652 (54)\ttotal: 4.66s\tremaining: 405ms\n",
      "92:\tlearn: 0.9282371\ttest: 0.8659420\tbest: 0.8695652 (54)\ttotal: 4.71s\tremaining: 355ms\n",
      "93:\tlearn: 0.9282371\ttest: 0.8659420\tbest: 0.8695652 (54)\ttotal: 4.77s\tremaining: 304ms\n",
      "94:\tlearn: 0.9282371\ttest: 0.8659420\tbest: 0.8695652 (54)\ttotal: 4.81s\tremaining: 253ms\n",
      "95:\tlearn: 0.9282371\ttest: 0.8659420\tbest: 0.8695652 (54)\ttotal: 4.85s\tremaining: 202ms\n",
      "96:\tlearn: 0.9282371\ttest: 0.8659420\tbest: 0.8695652 (54)\ttotal: 4.89s\tremaining: 151ms\n",
      "97:\tlearn: 0.9282371\ttest: 0.8659420\tbest: 0.8695652 (54)\ttotal: 4.94s\tremaining: 101ms\n",
      "98:\tlearn: 0.9282371\ttest: 0.8659420\tbest: 0.8695652 (54)\ttotal: 4.99s\tremaining: 50.4ms\n",
      "99:\tlearn: 0.9297972\ttest: 0.8659420\tbest: 0.8695652 (54)\ttotal: 5.05s\tremaining: 0us\n",
      "\n",
      "bestTest = 0.8695652174\n",
      "bestIteration = 54\n",
      "\n",
      "Shrink model to first 55 iterations.\n"
     ]
    },
    {
     "data": {
      "text/plain": [
       "<catboost.core.CatBoostClassifier at 0x21e9ccffe20>"
      ]
     },
     "execution_count": 214,
     "metadata": {},
     "output_type": "execute_result"
    }
   ],
   "source": [
    "catboost.fit(x_treino,y_treino,cat_features=categoricas,plot=False,eval_set=(x_teste,y_teste))"
   ]
  },
  {
   "cell_type": "code",
   "execution_count": 215,
   "metadata": {},
   "outputs": [
    {
     "data": {
      "text/plain": [
       "array([1, 1, 1, 0, 0, 0, 0, 0, 0, 0, 1, 1, 1, 1, 0, 1, 1, 1, 1, 0, 1, 1,\n",
       "       1, 0, 0, 0, 1, 1, 1, 1, 1, 0, 0, 0, 1, 0, 0, 0, 1, 0, 0, 1, 1, 1,\n",
       "       1, 0, 0, 1, 0, 1, 1, 0, 0, 0, 1, 0, 0, 0, 1, 0, 1, 1, 1, 0, 1, 1,\n",
       "       1, 0, 1, 0, 1, 1, 0, 1, 1, 1, 1, 1, 1, 1, 1, 1, 0, 0, 1, 1, 1, 1,\n",
       "       1, 0, 1, 0, 0, 0, 1, 0, 1, 0, 0, 0, 0, 1, 1, 1, 0, 1, 0, 0, 0, 1,\n",
       "       0, 1, 1, 1, 0, 1, 0, 1, 1, 1, 1, 1, 1, 0, 1, 1, 0, 1, 0, 1, 0, 1,\n",
       "       1, 1, 0, 1, 1, 1, 1, 0, 0, 1, 0, 1, 0, 0, 1, 1, 1, 0, 0, 1, 1, 0,\n",
       "       1, 0, 1, 1, 1, 0, 1, 1, 1, 0, 1, 0, 1, 0, 1, 0, 1, 1, 0, 0, 1, 0,\n",
       "       1, 0, 0, 1, 1, 1, 0, 1, 1, 1, 0, 1, 1, 0, 1, 0, 1, 1, 1, 1, 0, 0,\n",
       "       1, 0, 1, 1, 0, 1, 1, 0, 0, 0, 1, 0, 1, 1, 0, 1, 0, 0, 1, 0, 1, 1,\n",
       "       1, 0, 0, 1, 1, 1, 0, 1, 0, 1, 0, 1, 1, 1, 0, 1, 1, 1, 0, 1, 1, 0,\n",
       "       1, 0, 0, 0, 0, 0, 1, 0, 1, 0, 1, 0, 0, 0, 1, 0, 0, 1, 0, 1, 0, 0,\n",
       "       0, 0, 0, 0, 1, 0, 0, 1, 1, 1, 1, 1], dtype=int64)"
      ]
     },
     "execution_count": 215,
     "metadata": {},
     "output_type": "execute_result"
    }
   ],
   "source": [
    "previsoes_cat = catboost.predict(x_teste)\n",
    "previsoes_cat"
   ]
  },
  {
   "cell_type": "code",
   "execution_count": 216,
   "metadata": {},
   "outputs": [
    {
     "name": "stdout",
     "output_type": "stream",
     "text": [
      "Acuracia do modelo 0.8695652173913043\n"
     ]
    }
   ],
   "source": [
    "print(f\"Acuracia do modelo {accuracy_score(y_teste,previsoes_cat)}\")"
   ]
  },
  {
   "cell_type": "code",
   "execution_count": 217,
   "metadata": {},
   "outputs": [
    {
     "data": {
      "text/plain": [
       "array([1, 0, 1, 1, 1, 1, 0, 0, 0, 0, 1, 0, 1, 1, 1, 0, 0, 0, 0, 1, 0, 1,\n",
       "       1, 1, 1, 0, 0, 1, 1, 1, 1, 0, 1, 1, 0, 0, 1, 1, 0, 1, 0, 1, 0, 0,\n",
       "       1, 1, 0, 1, 1, 1, 1, 0, 1, 0, 1, 0, 1, 0, 1, 0, 0, 0, 0, 0, 1, 1,\n",
       "       0, 0, 1, 0, 1, 1, 1, 1, 0, 0, 1, 1, 1, 1, 1, 1, 1, 1, 0, 1, 1, 1,\n",
       "       1, 1, 0, 1, 0, 0, 1, 1, 1, 1, 1, 1, 1, 1, 0, 1, 1, 1, 1, 0, 1, 1,\n",
       "       0, 0, 1, 0, 1, 0, 1, 0, 1, 0, 0, 0, 0, 1, 0, 1, 0, 0, 1, 1, 1, 0,\n",
       "       1, 1, 0, 1, 1, 0, 1, 1, 0, 1, 1, 1, 1, 1, 0, 0, 0, 1, 1, 0, 1, 0,\n",
       "       1, 0, 1, 1, 1, 0, 1, 0, 0, 0, 1, 0, 1, 0, 0, 0, 0, 1, 1, 0, 1, 0,\n",
       "       0, 1, 1, 0, 0, 0, 0, 0, 0, 1, 1, 1, 1, 1, 0, 0, 1, 0, 0, 1, 1, 1,\n",
       "       1, 1, 0, 0, 0, 1, 1, 0, 1, 1, 1, 0, 1, 0, 1, 1, 1, 0, 1, 0, 0, 1,\n",
       "       1, 0, 0, 1, 1, 1, 1, 1, 1, 1, 1, 1, 0, 1, 1, 0, 1, 0, 1, 0, 1, 0,\n",
       "       1, 1, 0, 1, 1, 1, 1, 1, 0, 1, 0, 0, 0, 0, 0, 0, 0, 0, 1, 0, 1, 0,\n",
       "       1, 0, 1, 0, 1, 0, 1, 1, 0, 0, 0, 1, 1, 0, 0, 0, 1, 0, 0, 0, 1, 1,\n",
       "       1, 1, 1, 1, 1, 0, 1, 1, 0, 1, 0, 1, 0, 1, 1, 0, 0, 1, 0, 0, 1, 1,\n",
       "       1, 0, 1, 0, 1, 0, 1, 0, 1, 1, 1, 0, 1, 1, 1, 1, 0, 1, 1, 1, 1, 0,\n",
       "       0, 0, 1, 0, 0, 0, 1, 1, 0, 1, 1, 1, 1, 1, 1, 0, 1, 1, 0, 1, 0, 1,\n",
       "       0, 0, 0, 1, 0, 1, 1, 1, 0, 1, 0, 1, 1, 0, 0, 0, 0, 0, 1, 1, 0, 1,\n",
       "       0, 1, 1, 1, 0, 1, 1, 1, 0, 1, 0, 1, 0, 0, 1, 1, 0, 0, 1, 1, 1, 1,\n",
       "       0, 0, 0, 1, 1, 1, 1, 0, 1, 1, 1, 1, 1, 0, 0, 1, 0, 1, 1, 1, 0, 0,\n",
       "       0, 1, 1, 0, 0, 1, 1, 0, 1, 1, 0, 0, 0, 1, 1, 0, 1, 1, 1, 1, 1, 1,\n",
       "       0, 0, 1, 1, 0, 1, 0, 1, 0, 0, 1, 0, 1, 1, 1, 1, 0, 0, 0, 1, 0, 1,\n",
       "       1, 1, 1, 1, 1, 0, 1, 0, 1, 1, 1, 1, 1, 1, 1, 0, 0, 0, 1, 0, 0, 0,\n",
       "       0, 0, 1, 0, 1, 1, 0, 0, 0, 1, 1, 0, 1, 1, 1, 0, 1, 1, 0, 0, 1, 1,\n",
       "       1, 1, 0, 0, 1, 1, 1, 1, 0, 1, 0, 0, 1, 0, 1, 1, 1, 1, 0, 1, 1, 0,\n",
       "       1, 0, 1, 0, 1, 0, 1, 0, 1, 0, 1, 1, 0, 1, 1, 1, 1, 0, 0, 1, 1, 0,\n",
       "       0, 1, 1, 0, 1, 0, 1, 1, 1, 0, 1, 1, 0, 1, 0, 1, 1, 0, 0, 1, 0, 1,\n",
       "       1, 1, 0, 0, 1, 0, 0, 0, 0, 1, 0, 1, 1, 1, 1, 0, 1, 0, 0, 0, 0, 0,\n",
       "       0, 0, 1, 0, 0, 1, 0, 0, 0, 0, 1, 0, 1, 1, 0, 1, 1, 1, 1, 1, 0, 1,\n",
       "       1, 1, 0, 1, 1, 0, 1, 1, 1, 1, 1, 1, 0, 1, 1, 0, 0, 1, 1, 0, 1, 0,\n",
       "       0, 0, 1], dtype=int64)"
      ]
     },
     "execution_count": 217,
     "metadata": {},
     "output_type": "execute_result"
    }
   ],
   "source": [
    "previsoes_treino = catboost.predict(x_treino)\n",
    "previsoes_treino"
   ]
  },
  {
   "cell_type": "code",
   "execution_count": 218,
   "metadata": {},
   "outputs": [
    {
     "data": {
      "text/plain": [
       "0.9173166926677067"
      ]
     },
     "execution_count": 218,
     "metadata": {},
     "output_type": "execute_result"
    }
   ],
   "source": [
    "accuracy_score(y_treino,previsoes_treino)"
   ]
  },
  {
   "cell_type": "code",
   "execution_count": 219,
   "metadata": {},
   "outputs": [
    {
     "name": "stdout",
     "output_type": "stream",
     "text": [
      "0:\tlearn: 0.8645598\ttotal: 32.3ms\tremaining: 3.19s\n",
      "1:\tlearn: 0.8905192\ttotal: 42.3ms\tremaining: 2.07s\n",
      "2:\tlearn: 0.8984199\ttotal: 54.9ms\tremaining: 1.77s\n",
      "3:\tlearn: 0.9097065\ttotal: 60.3ms\tremaining: 1.45s\n",
      "4:\tlearn: 0.9130926\ttotal: 70.8ms\tremaining: 1.34s\n",
      "5:\tlearn: 0.9130926\ttotal: 77.7ms\tremaining: 1.22s\n",
      "6:\tlearn: 0.9176072\ttotal: 83.9ms\tremaining: 1.11s\n",
      "7:\tlearn: 0.9277652\ttotal: 90ms\tremaining: 1.03s\n",
      "8:\tlearn: 0.9300226\ttotal: 98.9ms\tremaining: 1000ms\n",
      "9:\tlearn: 0.9300226\ttotal: 105ms\tremaining: 942ms\n",
      "10:\tlearn: 0.9311512\ttotal: 111ms\tremaining: 895ms\n",
      "11:\tlearn: 0.9288939\ttotal: 153ms\tremaining: 1.12s\n",
      "12:\tlearn: 0.9311512\ttotal: 165ms\tremaining: 1.1s\n",
      "13:\tlearn: 0.9356659\ttotal: 172ms\tremaining: 1.06s\n",
      "14:\tlearn: 0.9345372\ttotal: 186ms\tremaining: 1.06s\n",
      "15:\tlearn: 0.9345372\ttotal: 199ms\tremaining: 1.05s\n",
      "16:\tlearn: 0.9379233\ttotal: 210ms\tremaining: 1.02s\n",
      "17:\tlearn: 0.9379233\ttotal: 219ms\tremaining: 998ms\n",
      "18:\tlearn: 0.9390519\ttotal: 225ms\tremaining: 958ms\n",
      "19:\tlearn: 0.9401806\ttotal: 237ms\tremaining: 948ms\n",
      "20:\tlearn: 0.9413093\ttotal: 242ms\tremaining: 911ms\n",
      "21:\tlearn: 0.9424379\ttotal: 249ms\tremaining: 884ms\n",
      "22:\tlearn: 0.9401806\ttotal: 252ms\tremaining: 845ms\n",
      "23:\tlearn: 0.9413093\ttotal: 257ms\tremaining: 813ms\n",
      "24:\tlearn: 0.9435666\ttotal: 266ms\tremaining: 798ms\n",
      "25:\tlearn: 0.9480813\ttotal: 272ms\tremaining: 775ms\n",
      "26:\tlearn: 0.9537246\ttotal: 285ms\tremaining: 770ms\n",
      "27:\tlearn: 0.9525959\ttotal: 292ms\tremaining: 750ms\n",
      "28:\tlearn: 0.9537246\ttotal: 301ms\tremaining: 736ms\n",
      "29:\tlearn: 0.9537246\ttotal: 304ms\tremaining: 708ms\n",
      "30:\tlearn: 0.9571106\ttotal: 310ms\tremaining: 691ms\n",
      "31:\tlearn: 0.9571106\ttotal: 322ms\tremaining: 683ms\n",
      "32:\tlearn: 0.9571106\ttotal: 329ms\tremaining: 669ms\n",
      "33:\tlearn: 0.9571106\ttotal: 334ms\tremaining: 649ms\n",
      "34:\tlearn: 0.9582393\ttotal: 339ms\tremaining: 629ms\n",
      "35:\tlearn: 0.9616253\ttotal: 346ms\tremaining: 616ms\n",
      "36:\tlearn: 0.9616253\ttotal: 351ms\tremaining: 598ms\n",
      "37:\tlearn: 0.9604966\ttotal: 355ms\tremaining: 580ms\n",
      "38:\tlearn: 0.9627540\ttotal: 361ms\tremaining: 565ms\n",
      "39:\tlearn: 0.9650113\ttotal: 366ms\tremaining: 549ms\n",
      "40:\tlearn: 0.9650113\ttotal: 370ms\tremaining: 532ms\n",
      "41:\tlearn: 0.9650113\ttotal: 375ms\tremaining: 518ms\n",
      "42:\tlearn: 0.9627540\ttotal: 378ms\tremaining: 501ms\n",
      "43:\tlearn: 0.9661400\ttotal: 383ms\tremaining: 487ms\n",
      "44:\tlearn: 0.9661400\ttotal: 389ms\tremaining: 475ms\n",
      "45:\tlearn: 0.9661400\ttotal: 396ms\tremaining: 464ms\n",
      "46:\tlearn: 0.9672686\ttotal: 404ms\tremaining: 455ms\n",
      "47:\tlearn: 0.9695260\ttotal: 413ms\tremaining: 448ms\n",
      "48:\tlearn: 0.9706546\ttotal: 418ms\tremaining: 436ms\n",
      "49:\tlearn: 0.9706546\ttotal: 423ms\tremaining: 423ms\n",
      "50:\tlearn: 0.9717833\ttotal: 429ms\tremaining: 412ms\n",
      "51:\tlearn: 0.9717833\ttotal: 433ms\tremaining: 400ms\n",
      "52:\tlearn: 0.9729120\ttotal: 438ms\tremaining: 388ms\n",
      "53:\tlearn: 0.9717833\ttotal: 443ms\tremaining: 377ms\n",
      "54:\tlearn: 0.9717833\ttotal: 447ms\tremaining: 366ms\n",
      "55:\tlearn: 0.9717833\ttotal: 452ms\tremaining: 355ms\n",
      "56:\tlearn: 0.9762980\ttotal: 457ms\tremaining: 345ms\n",
      "57:\tlearn: 0.9751693\ttotal: 461ms\tremaining: 334ms\n",
      "58:\tlearn: 0.9762980\ttotal: 466ms\tremaining: 324ms\n",
      "59:\tlearn: 0.9774266\ttotal: 473ms\tremaining: 315ms\n",
      "60:\tlearn: 0.9774266\ttotal: 478ms\tremaining: 305ms\n",
      "61:\tlearn: 0.9785553\ttotal: 482ms\tremaining: 296ms\n",
      "62:\tlearn: 0.9785553\ttotal: 489ms\tremaining: 287ms\n",
      "63:\tlearn: 0.9785553\ttotal: 494ms\tremaining: 278ms\n",
      "64:\tlearn: 0.9785553\ttotal: 496ms\tremaining: 267ms\n",
      "65:\tlearn: 0.9785553\ttotal: 501ms\tremaining: 258ms\n",
      "66:\tlearn: 0.9785553\ttotal: 508ms\tremaining: 250ms\n",
      "67:\tlearn: 0.9785553\ttotal: 512ms\tremaining: 241ms\n",
      "68:\tlearn: 0.9785553\ttotal: 516ms\tremaining: 232ms\n",
      "69:\tlearn: 0.9796840\ttotal: 521ms\tremaining: 223ms\n",
      "70:\tlearn: 0.9808126\ttotal: 525ms\tremaining: 214ms\n",
      "71:\tlearn: 0.9808126\ttotal: 529ms\tremaining: 206ms\n",
      "72:\tlearn: 0.9808126\ttotal: 534ms\tremaining: 198ms\n",
      "73:\tlearn: 0.9808126\ttotal: 539ms\tremaining: 189ms\n",
      "74:\tlearn: 0.9808126\ttotal: 543ms\tremaining: 181ms\n",
      "75:\tlearn: 0.9808126\ttotal: 546ms\tremaining: 173ms\n",
      "76:\tlearn: 0.9808126\ttotal: 552ms\tremaining: 165ms\n",
      "77:\tlearn: 0.9819413\ttotal: 556ms\tremaining: 157ms\n",
      "78:\tlearn: 0.9819413\ttotal: 560ms\tremaining: 149ms\n",
      "79:\tlearn: 0.9819413\ttotal: 564ms\tremaining: 141ms\n",
      "80:\tlearn: 0.9830700\ttotal: 569ms\tremaining: 133ms\n",
      "81:\tlearn: 0.9830700\ttotal: 573ms\tremaining: 126ms\n",
      "82:\tlearn: 0.9830700\ttotal: 576ms\tremaining: 118ms\n",
      "83:\tlearn: 0.9830700\ttotal: 580ms\tremaining: 110ms\n",
      "84:\tlearn: 0.9841986\ttotal: 585ms\tremaining: 103ms\n",
      "85:\tlearn: 0.9841986\ttotal: 588ms\tremaining: 95.8ms\n",
      "86:\tlearn: 0.9841986\ttotal: 592ms\tremaining: 88.4ms\n",
      "87:\tlearn: 0.9841986\ttotal: 595ms\tremaining: 81.2ms\n",
      "88:\tlearn: 0.9841986\ttotal: 600ms\tremaining: 74.2ms\n",
      "89:\tlearn: 0.9853273\ttotal: 604ms\tremaining: 67.1ms\n",
      "90:\tlearn: 0.9853273\ttotal: 607ms\tremaining: 60ms\n",
      "91:\tlearn: 0.9864560\ttotal: 611ms\tremaining: 53.1ms\n",
      "92:\tlearn: 0.9864560\ttotal: 615ms\tremaining: 46.3ms\n",
      "93:\tlearn: 0.9864560\ttotal: 620ms\tremaining: 39.6ms\n",
      "94:\tlearn: 0.9875847\ttotal: 624ms\tremaining: 32.8ms\n",
      "95:\tlearn: 0.9875847\ttotal: 627ms\tremaining: 26.1ms\n",
      "96:\tlearn: 0.9875847\ttotal: 632ms\tremaining: 19.5ms\n",
      "97:\tlearn: 0.9875847\ttotal: 635ms\tremaining: 13ms\n",
      "98:\tlearn: 0.9875847\ttotal: 639ms\tremaining: 6.46ms\n",
      "99:\tlearn: 0.9875847\ttotal: 643ms\tremaining: 0us\n",
      "0:\tlearn: 0.8781038\ttotal: 5.27ms\tremaining: 522ms\n",
      "1:\tlearn: 0.8984199\ttotal: 10.6ms\tremaining: 517ms\n",
      "2:\tlearn: 0.9006772\ttotal: 15.3ms\tremaining: 496ms\n",
      "3:\tlearn: 0.9130926\ttotal: 19.3ms\tremaining: 463ms\n",
      "4:\tlearn: 0.9097065\ttotal: 23.6ms\tremaining: 449ms\n",
      "5:\tlearn: 0.9119639\ttotal: 28.7ms\tremaining: 450ms\n",
      "6:\tlearn: 0.9198646\ttotal: 32.5ms\tremaining: 431ms\n",
      "7:\tlearn: 0.9232506\ttotal: 37ms\tremaining: 425ms\n",
      "8:\tlearn: 0.9255079\ttotal: 41.6ms\tremaining: 421ms\n",
      "9:\tlearn: 0.9300226\ttotal: 45.8ms\tremaining: 412ms\n",
      "10:\tlearn: 0.9311512\ttotal: 49.8ms\tremaining: 403ms\n",
      "11:\tlearn: 0.9266366\ttotal: 53.6ms\tremaining: 393ms\n",
      "12:\tlearn: 0.9334086\ttotal: 57.8ms\tremaining: 387ms\n",
      "13:\tlearn: 0.9345372\ttotal: 62.3ms\tremaining: 383ms\n",
      "14:\tlearn: 0.9345372\ttotal: 66.1ms\tremaining: 374ms\n",
      "15:\tlearn: 0.9356659\ttotal: 69.8ms\tremaining: 367ms\n",
      "16:\tlearn: 0.9390519\ttotal: 74.2ms\tremaining: 362ms\n",
      "17:\tlearn: 0.9401806\ttotal: 79.3ms\tremaining: 361ms\n",
      "18:\tlearn: 0.9435666\ttotal: 84ms\tremaining: 358ms\n",
      "19:\tlearn: 0.9435666\ttotal: 88ms\tremaining: 352ms\n",
      "20:\tlearn: 0.9424379\ttotal: 90.2ms\tremaining: 339ms\n",
      "21:\tlearn: 0.9435666\ttotal: 94.2ms\tremaining: 334ms\n",
      "22:\tlearn: 0.9458239\ttotal: 97.8ms\tremaining: 327ms\n",
      "23:\tlearn: 0.9446953\ttotal: 103ms\tremaining: 325ms\n",
      "24:\tlearn: 0.9480813\ttotal: 110ms\tremaining: 329ms\n",
      "25:\tlearn: 0.9480813\ttotal: 114ms\tremaining: 326ms\n",
      "26:\tlearn: 0.9480813\ttotal: 121ms\tremaining: 327ms\n",
      "27:\tlearn: 0.9537246\ttotal: 126ms\tremaining: 324ms\n",
      "28:\tlearn: 0.9559819\ttotal: 130ms\tremaining: 319ms\n",
      "29:\tlearn: 0.9559819\ttotal: 136ms\tremaining: 317ms\n",
      "30:\tlearn: 0.9582393\ttotal: 141ms\tremaining: 313ms\n",
      "31:\tlearn: 0.9593679\ttotal: 145ms\tremaining: 309ms\n",
      "32:\tlearn: 0.9616253\ttotal: 150ms\tremaining: 304ms\n",
      "33:\tlearn: 0.9616253\ttotal: 156ms\tremaining: 302ms\n",
      "34:\tlearn: 0.9616253\ttotal: 160ms\tremaining: 298ms\n",
      "35:\tlearn: 0.9616253\ttotal: 164ms\tremaining: 292ms\n",
      "36:\tlearn: 0.9627540\ttotal: 171ms\tremaining: 291ms\n",
      "37:\tlearn: 0.9661400\ttotal: 176ms\tremaining: 287ms\n",
      "38:\tlearn: 0.9661400\ttotal: 180ms\tremaining: 282ms\n",
      "39:\tlearn: 0.9661400\ttotal: 182ms\tremaining: 274ms\n",
      "40:\tlearn: 0.9706546\ttotal: 192ms\tremaining: 276ms\n",
      "41:\tlearn: 0.9729120\ttotal: 196ms\tremaining: 270ms\n",
      "42:\tlearn: 0.9740406\ttotal: 200ms\tremaining: 265ms\n",
      "43:\tlearn: 0.9740406\ttotal: 205ms\tremaining: 260ms\n",
      "44:\tlearn: 0.9751693\ttotal: 209ms\tremaining: 256ms\n",
      "45:\tlearn: 0.9740406\ttotal: 212ms\tremaining: 249ms\n",
      "46:\tlearn: 0.9751693\ttotal: 219ms\tremaining: 247ms\n",
      "47:\tlearn: 0.9751693\ttotal: 229ms\tremaining: 248ms\n",
      "48:\tlearn: 0.9751693\ttotal: 237ms\tremaining: 247ms\n",
      "49:\tlearn: 0.9751693\ttotal: 239ms\tremaining: 239ms\n",
      "50:\tlearn: 0.9751693\ttotal: 243ms\tremaining: 234ms\n",
      "51:\tlearn: 0.9762980\ttotal: 249ms\tremaining: 229ms\n",
      "52:\tlearn: 0.9751693\ttotal: 255ms\tremaining: 226ms\n",
      "53:\tlearn: 0.9774266\ttotal: 260ms\tremaining: 222ms\n",
      "54:\tlearn: 0.9762980\ttotal: 266ms\tremaining: 218ms\n",
      "55:\tlearn: 0.9785553\ttotal: 271ms\tremaining: 213ms\n",
      "56:\tlearn: 0.9830700\ttotal: 275ms\tremaining: 208ms\n",
      "57:\tlearn: 0.9819413\ttotal: 279ms\tremaining: 202ms\n",
      "58:\tlearn: 0.9830700\ttotal: 285ms\tremaining: 198ms\n",
      "59:\tlearn: 0.9830700\ttotal: 289ms\tremaining: 192ms\n",
      "60:\tlearn: 0.9830700\ttotal: 293ms\tremaining: 187ms\n",
      "61:\tlearn: 0.9819413\ttotal: 297ms\tremaining: 182ms\n",
      "62:\tlearn: 0.9819413\ttotal: 300ms\tremaining: 176ms\n",
      "63:\tlearn: 0.9830700\ttotal: 304ms\tremaining: 171ms\n",
      "64:\tlearn: 0.9830700\ttotal: 307ms\tremaining: 166ms\n",
      "65:\tlearn: 0.9819413\ttotal: 312ms\tremaining: 161ms\n",
      "66:\tlearn: 0.9819413\ttotal: 317ms\tremaining: 156ms\n",
      "67:\tlearn: 0.9819413\ttotal: 321ms\tremaining: 151ms\n",
      "68:\tlearn: 0.9830700\ttotal: 324ms\tremaining: 146ms\n",
      "69:\tlearn: 0.9841986\ttotal: 329ms\tremaining: 141ms\n",
      "70:\tlearn: 0.9841986\ttotal: 333ms\tremaining: 136ms\n",
      "71:\tlearn: 0.9853273\ttotal: 337ms\tremaining: 131ms\n",
      "72:\tlearn: 0.9853273\ttotal: 341ms\tremaining: 126ms\n",
      "73:\tlearn: 0.9853273\ttotal: 347ms\tremaining: 122ms\n",
      "74:\tlearn: 0.9853273\ttotal: 351ms\tremaining: 117ms\n",
      "75:\tlearn: 0.9875847\ttotal: 355ms\tremaining: 112ms\n",
      "76:\tlearn: 0.9875847\ttotal: 358ms\tremaining: 107ms\n",
      "77:\tlearn: 0.9875847\ttotal: 382ms\tremaining: 108ms\n",
      "78:\tlearn: 0.9875847\ttotal: 392ms\tremaining: 104ms\n",
      "79:\tlearn: 0.9875847\ttotal: 399ms\tremaining: 99.8ms\n",
      "80:\tlearn: 0.9875847\ttotal: 405ms\tremaining: 95ms\n",
      "81:\tlearn: 0.9875847\ttotal: 412ms\tremaining: 90.4ms\n",
      "82:\tlearn: 0.9875847\ttotal: 416ms\tremaining: 85.3ms\n",
      "83:\tlearn: 0.9875847\ttotal: 420ms\tremaining: 80.1ms\n",
      "84:\tlearn: 0.9864560\ttotal: 425ms\tremaining: 75ms\n",
      "85:\tlearn: 0.9864560\ttotal: 430ms\tremaining: 70ms\n",
      "86:\tlearn: 0.9864560\ttotal: 434ms\tremaining: 64.9ms\n",
      "87:\tlearn: 0.9875847\ttotal: 440ms\tremaining: 60ms\n",
      "88:\tlearn: 0.9887133\ttotal: 447ms\tremaining: 55.2ms\n",
      "89:\tlearn: 0.9887133\ttotal: 449ms\tremaining: 49.9ms\n",
      "90:\tlearn: 0.9887133\ttotal: 455ms\tremaining: 45ms\n",
      "91:\tlearn: 0.9887133\ttotal: 464ms\tremaining: 40.3ms\n",
      "92:\tlearn: 0.9898420\ttotal: 474ms\tremaining: 35.7ms\n",
      "93:\tlearn: 0.9909707\ttotal: 482ms\tremaining: 30.7ms\n",
      "94:\tlearn: 0.9909707\ttotal: 492ms\tremaining: 25.9ms\n",
      "95:\tlearn: 0.9909707\ttotal: 499ms\tremaining: 20.8ms\n",
      "96:\tlearn: 0.9909707\ttotal: 510ms\tremaining: 15.8ms\n",
      "97:\tlearn: 0.9909707\ttotal: 516ms\tremaining: 10.5ms\n",
      "98:\tlearn: 0.9909707\ttotal: 526ms\tremaining: 5.32ms\n",
      "99:\tlearn: 0.9932280\ttotal: 538ms\tremaining: 0us\n",
      "0:\tlearn: 0.8826185\ttotal: 10.9ms\tremaining: 1.08s\n",
      "1:\tlearn: 0.9051919\ttotal: 17.5ms\tremaining: 858ms\n",
      "2:\tlearn: 0.9130926\ttotal: 32.9ms\tremaining: 1.06s\n",
      "3:\tlearn: 0.9108352\ttotal: 43.9ms\tremaining: 1.05s\n",
      "4:\tlearn: 0.9164786\ttotal: 49.8ms\tremaining: 946ms\n",
      "5:\tlearn: 0.9164786\ttotal: 61.9ms\tremaining: 970ms\n",
      "6:\tlearn: 0.9187359\ttotal: 72.8ms\tremaining: 967ms\n",
      "7:\tlearn: 0.9232506\ttotal: 80.3ms\tremaining: 924ms\n",
      "8:\tlearn: 0.9198646\ttotal: 90.2ms\tremaining: 912ms\n",
      "9:\tlearn: 0.9209932\ttotal: 96.6ms\tremaining: 869ms\n",
      "10:\tlearn: 0.9232506\ttotal: 104ms\tremaining: 838ms\n",
      "11:\tlearn: 0.9243792\ttotal: 109ms\tremaining: 802ms\n",
      "12:\tlearn: 0.9277652\ttotal: 115ms\tremaining: 772ms\n",
      "13:\tlearn: 0.9288939\ttotal: 125ms\tremaining: 767ms\n",
      "14:\tlearn: 0.9345372\ttotal: 132ms\tremaining: 750ms\n",
      "15:\tlearn: 0.9356659\ttotal: 140ms\tremaining: 736ms\n",
      "16:\tlearn: 0.9367946\ttotal: 145ms\tremaining: 708ms\n",
      "17:\tlearn: 0.9345372\ttotal: 153ms\tremaining: 695ms\n",
      "18:\tlearn: 0.9356659\ttotal: 159ms\tremaining: 676ms\n",
      "19:\tlearn: 0.9413093\ttotal: 167ms\tremaining: 669ms\n",
      "20:\tlearn: 0.9424379\ttotal: 171ms\tremaining: 644ms\n",
      "21:\tlearn: 0.9458239\ttotal: 178ms\tremaining: 630ms\n",
      "22:\tlearn: 0.9469526\ttotal: 190ms\tremaining: 636ms\n",
      "23:\tlearn: 0.9469526\ttotal: 197ms\tremaining: 625ms\n",
      "24:\tlearn: 0.9469526\ttotal: 204ms\tremaining: 611ms\n",
      "25:\tlearn: 0.9469526\ttotal: 209ms\tremaining: 594ms\n",
      "26:\tlearn: 0.9492099\ttotal: 216ms\tremaining: 584ms\n",
      "27:\tlearn: 0.9503386\ttotal: 222ms\tremaining: 571ms\n",
      "28:\tlearn: 0.9492099\ttotal: 227ms\tremaining: 555ms\n",
      "29:\tlearn: 0.9503386\ttotal: 236ms\tremaining: 551ms\n",
      "30:\tlearn: 0.9514673\ttotal: 242ms\tremaining: 538ms\n",
      "31:\tlearn: 0.9525959\ttotal: 249ms\tremaining: 530ms\n",
      "32:\tlearn: 0.9559819\ttotal: 254ms\tremaining: 516ms\n",
      "33:\tlearn: 0.9571106\ttotal: 259ms\tremaining: 504ms\n",
      "34:\tlearn: 0.9582393\ttotal: 265ms\tremaining: 492ms\n",
      "35:\tlearn: 0.9604966\ttotal: 269ms\tremaining: 479ms\n",
      "36:\tlearn: 0.9627540\ttotal: 274ms\tremaining: 466ms\n",
      "37:\tlearn: 0.9638826\ttotal: 294ms\tremaining: 480ms\n",
      "38:\tlearn: 0.9627540\ttotal: 301ms\tremaining: 470ms\n",
      "39:\tlearn: 0.9650113\ttotal: 306ms\tremaining: 459ms\n",
      "40:\tlearn: 0.9650113\ttotal: 313ms\tremaining: 451ms\n",
      "41:\tlearn: 0.9672686\ttotal: 318ms\tremaining: 439ms\n",
      "42:\tlearn: 0.9683973\ttotal: 322ms\tremaining: 427ms\n",
      "43:\tlearn: 0.9706546\ttotal: 329ms\tremaining: 418ms\n",
      "44:\tlearn: 0.9695260\ttotal: 335ms\tremaining: 409ms\n",
      "45:\tlearn: 0.9706546\ttotal: 339ms\tremaining: 398ms\n",
      "46:\tlearn: 0.9695260\ttotal: 346ms\tremaining: 390ms\n",
      "47:\tlearn: 0.9695260\ttotal: 350ms\tremaining: 379ms\n",
      "48:\tlearn: 0.9717833\ttotal: 354ms\tremaining: 369ms\n",
      "49:\tlearn: 0.9729120\ttotal: 360ms\tremaining: 360ms\n",
      "50:\tlearn: 0.9706546\ttotal: 363ms\tremaining: 349ms\n",
      "51:\tlearn: 0.9740406\ttotal: 367ms\tremaining: 339ms\n",
      "52:\tlearn: 0.9740406\ttotal: 371ms\tremaining: 329ms\n",
      "53:\tlearn: 0.9740406\ttotal: 375ms\tremaining: 320ms\n",
      "54:\tlearn: 0.9751693\ttotal: 379ms\tremaining: 310ms\n",
      "55:\tlearn: 0.9740406\ttotal: 383ms\tremaining: 301ms\n",
      "56:\tlearn: 0.9751693\ttotal: 387ms\tremaining: 292ms\n",
      "57:\tlearn: 0.9751693\ttotal: 393ms\tremaining: 284ms\n",
      "58:\tlearn: 0.9751693\ttotal: 396ms\tremaining: 275ms\n",
      "59:\tlearn: 0.9751693\ttotal: 401ms\tremaining: 267ms\n",
      "60:\tlearn: 0.9762980\ttotal: 404ms\tremaining: 258ms\n",
      "61:\tlearn: 0.9762980\ttotal: 409ms\tremaining: 251ms\n",
      "62:\tlearn: 0.9785553\ttotal: 415ms\tremaining: 243ms\n",
      "63:\tlearn: 0.9785553\ttotal: 418ms\tremaining: 235ms\n",
      "64:\tlearn: 0.9785553\ttotal: 423ms\tremaining: 228ms\n",
      "65:\tlearn: 0.9796840\ttotal: 427ms\tremaining: 220ms\n",
      "66:\tlearn: 0.9808126\ttotal: 432ms\tremaining: 213ms\n",
      "67:\tlearn: 0.9808126\ttotal: 435ms\tremaining: 205ms\n",
      "68:\tlearn: 0.9808126\ttotal: 441ms\tremaining: 198ms\n",
      "69:\tlearn: 0.9808126\ttotal: 445ms\tremaining: 191ms\n",
      "70:\tlearn: 0.9808126\ttotal: 448ms\tremaining: 183ms\n",
      "71:\tlearn: 0.9808126\ttotal: 452ms\tremaining: 176ms\n",
      "72:\tlearn: 0.9808126\ttotal: 457ms\tremaining: 169ms\n",
      "73:\tlearn: 0.9808126\ttotal: 461ms\tremaining: 162ms\n",
      "74:\tlearn: 0.9808126\ttotal: 464ms\tremaining: 155ms\n",
      "75:\tlearn: 0.9819413\ttotal: 467ms\tremaining: 148ms\n",
      "76:\tlearn: 0.9819413\ttotal: 475ms\tremaining: 142ms\n",
      "77:\tlearn: 0.9830700\ttotal: 479ms\tremaining: 135ms\n",
      "78:\tlearn: 0.9830700\ttotal: 487ms\tremaining: 129ms\n",
      "79:\tlearn: 0.9830700\ttotal: 493ms\tremaining: 123ms\n",
      "80:\tlearn: 0.9830700\ttotal: 497ms\tremaining: 117ms\n",
      "81:\tlearn: 0.9841986\ttotal: 504ms\tremaining: 111ms\n",
      "82:\tlearn: 0.9841986\ttotal: 509ms\tremaining: 104ms\n",
      "83:\tlearn: 0.9841986\ttotal: 513ms\tremaining: 97.7ms\n",
      "84:\tlearn: 0.9853273\ttotal: 519ms\tremaining: 91.6ms\n",
      "85:\tlearn: 0.9853273\ttotal: 521ms\tremaining: 84.7ms\n",
      "86:\tlearn: 0.9853273\ttotal: 525ms\tremaining: 78.4ms\n",
      "87:\tlearn: 0.9853273\ttotal: 528ms\tremaining: 72ms\n",
      "88:\tlearn: 0.9875847\ttotal: 532ms\tremaining: 65.7ms\n",
      "89:\tlearn: 0.9887133\ttotal: 537ms\tremaining: 59.7ms\n",
      "90:\tlearn: 0.9898420\ttotal: 541ms\tremaining: 53.5ms\n",
      "91:\tlearn: 0.9909707\ttotal: 544ms\tremaining: 47.3ms\n",
      "92:\tlearn: 0.9920993\ttotal: 548ms\tremaining: 41.2ms\n",
      "93:\tlearn: 0.9920993\ttotal: 552ms\tremaining: 35.2ms\n",
      "94:\tlearn: 0.9920993\ttotal: 556ms\tremaining: 29.3ms\n",
      "95:\tlearn: 0.9920993\ttotal: 559ms\tremaining: 23.3ms\n",
      "96:\tlearn: 0.9932280\ttotal: 563ms\tremaining: 17.4ms\n",
      "97:\tlearn: 0.9954853\ttotal: 568ms\tremaining: 11.6ms\n",
      "98:\tlearn: 0.9954853\ttotal: 572ms\tremaining: 5.78ms\n",
      "99:\tlearn: 0.9954853\ttotal: 576ms\tremaining: 0us\n",
      "0:\tlearn: 0.8814898\ttotal: 5.9ms\tremaining: 584ms\n",
      "1:\tlearn: 0.8972912\ttotal: 9.93ms\tremaining: 487ms\n",
      "2:\tlearn: 0.9029345\ttotal: 17.9ms\tremaining: 580ms\n",
      "3:\tlearn: 0.9063205\ttotal: 23.4ms\tremaining: 562ms\n",
      "4:\tlearn: 0.9085779\ttotal: 27.8ms\tremaining: 528ms\n",
      "5:\tlearn: 0.9187359\ttotal: 32.5ms\tremaining: 509ms\n",
      "6:\tlearn: 0.9232506\ttotal: 36.8ms\tremaining: 489ms\n",
      "7:\tlearn: 0.9255079\ttotal: 40.9ms\tremaining: 470ms\n",
      "8:\tlearn: 0.9255079\ttotal: 44.7ms\tremaining: 452ms\n",
      "9:\tlearn: 0.9243792\ttotal: 49.7ms\tremaining: 448ms\n",
      "10:\tlearn: 0.9266366\ttotal: 53.4ms\tremaining: 432ms\n",
      "11:\tlearn: 0.9277652\ttotal: 57ms\tremaining: 418ms\n",
      "12:\tlearn: 0.9266366\ttotal: 60.7ms\tremaining: 406ms\n",
      "13:\tlearn: 0.9266366\ttotal: 66.1ms\tremaining: 406ms\n",
      "14:\tlearn: 0.9356659\ttotal: 69.7ms\tremaining: 395ms\n",
      "15:\tlearn: 0.9322799\ttotal: 73.6ms\tremaining: 386ms\n",
      "16:\tlearn: 0.9356659\ttotal: 77.3ms\tremaining: 377ms\n",
      "17:\tlearn: 0.9356659\ttotal: 83.1ms\tremaining: 379ms\n",
      "18:\tlearn: 0.9424379\ttotal: 86.9ms\tremaining: 371ms\n",
      "19:\tlearn: 0.9446953\ttotal: 90.7ms\tremaining: 363ms\n",
      "20:\tlearn: 0.9424379\ttotal: 94.7ms\tremaining: 356ms\n",
      "21:\tlearn: 0.9446953\ttotal: 99.1ms\tremaining: 351ms\n",
      "22:\tlearn: 0.9413093\ttotal: 103ms\tremaining: 344ms\n",
      "23:\tlearn: 0.9435666\ttotal: 106ms\tremaining: 336ms\n",
      "24:\tlearn: 0.9446953\ttotal: 109ms\tremaining: 328ms\n",
      "25:\tlearn: 0.9435666\ttotal: 111ms\tremaining: 316ms\n",
      "26:\tlearn: 0.9469526\ttotal: 116ms\tremaining: 313ms\n",
      "27:\tlearn: 0.9469526\ttotal: 120ms\tremaining: 308ms\n",
      "28:\tlearn: 0.9503386\ttotal: 123ms\tremaining: 302ms\n",
      "29:\tlearn: 0.9492099\ttotal: 128ms\tremaining: 298ms\n",
      "30:\tlearn: 0.9503386\ttotal: 131ms\tremaining: 293ms\n",
      "31:\tlearn: 0.9503386\ttotal: 135ms\tremaining: 287ms\n",
      "32:\tlearn: 0.9514673\ttotal: 139ms\tremaining: 281ms\n",
      "33:\tlearn: 0.9559819\ttotal: 143ms\tremaining: 278ms\n",
      "34:\tlearn: 0.9559819\ttotal: 147ms\tremaining: 274ms\n",
      "35:\tlearn: 0.9571106\ttotal: 151ms\tremaining: 268ms\n",
      "36:\tlearn: 0.9604966\ttotal: 154ms\tremaining: 263ms\n",
      "37:\tlearn: 0.9616253\ttotal: 158ms\tremaining: 258ms\n",
      "38:\tlearn: 0.9616253\ttotal: 163ms\tremaining: 254ms\n",
      "39:\tlearn: 0.9616253\ttotal: 166ms\tremaining: 249ms\n",
      "40:\tlearn: 0.9627540\ttotal: 170ms\tremaining: 245ms\n",
      "41:\tlearn: 0.9616253\ttotal: 174ms\tremaining: 240ms\n",
      "42:\tlearn: 0.9672686\ttotal: 179ms\tremaining: 237ms\n",
      "43:\tlearn: 0.9672686\ttotal: 182ms\tremaining: 232ms\n",
      "44:\tlearn: 0.9683973\ttotal: 185ms\tremaining: 227ms\n",
      "45:\tlearn: 0.9683973\ttotal: 190ms\tremaining: 223ms\n",
      "46:\tlearn: 0.9695260\ttotal: 194ms\tremaining: 219ms\n",
      "47:\tlearn: 0.9717833\ttotal: 198ms\tremaining: 215ms\n",
      "48:\tlearn: 0.9706546\ttotal: 202ms\tremaining: 210ms\n",
      "49:\tlearn: 0.9729120\ttotal: 207ms\tremaining: 207ms\n",
      "50:\tlearn: 0.9729120\ttotal: 212ms\tremaining: 204ms\n",
      "51:\tlearn: 0.9729120\ttotal: 216ms\tremaining: 200ms\n",
      "52:\tlearn: 0.9729120\ttotal: 220ms\tremaining: 195ms\n",
      "53:\tlearn: 0.9751693\ttotal: 226ms\tremaining: 192ms\n",
      "54:\tlearn: 0.9774266\ttotal: 230ms\tremaining: 188ms\n",
      "55:\tlearn: 0.9774266\ttotal: 234ms\tremaining: 184ms\n",
      "56:\tlearn: 0.9796840\ttotal: 237ms\tremaining: 179ms\n",
      "57:\tlearn: 0.9796840\ttotal: 242ms\tremaining: 175ms\n",
      "58:\tlearn: 0.9785553\ttotal: 246ms\tremaining: 171ms\n",
      "59:\tlearn: 0.9796840\ttotal: 250ms\tremaining: 167ms\n",
      "60:\tlearn: 0.9796840\ttotal: 254ms\tremaining: 163ms\n",
      "61:\tlearn: 0.9796840\ttotal: 259ms\tremaining: 159ms\n",
      "62:\tlearn: 0.9796840\ttotal: 262ms\tremaining: 154ms\n",
      "63:\tlearn: 0.9819413\ttotal: 266ms\tremaining: 149ms\n",
      "64:\tlearn: 0.9819413\ttotal: 269ms\tremaining: 145ms\n",
      "65:\tlearn: 0.9808126\ttotal: 274ms\tremaining: 141ms\n",
      "66:\tlearn: 0.9819413\ttotal: 278ms\tremaining: 137ms\n",
      "67:\tlearn: 0.9841986\ttotal: 281ms\tremaining: 132ms\n",
      "68:\tlearn: 0.9841986\ttotal: 286ms\tremaining: 129ms\n",
      "69:\tlearn: 0.9841986\ttotal: 292ms\tremaining: 125ms\n",
      "70:\tlearn: 0.9841986\ttotal: 295ms\tremaining: 121ms\n",
      "71:\tlearn: 0.9853273\ttotal: 299ms\tremaining: 116ms\n",
      "72:\tlearn: 0.9864560\ttotal: 304ms\tremaining: 112ms\n",
      "73:\tlearn: 0.9875847\ttotal: 308ms\tremaining: 108ms\n",
      "74:\tlearn: 0.9887133\ttotal: 311ms\tremaining: 104ms\n",
      "75:\tlearn: 0.9887133\ttotal: 315ms\tremaining: 99.5ms\n",
      "76:\tlearn: 0.9887133\ttotal: 320ms\tremaining: 95.5ms\n",
      "77:\tlearn: 0.9887133\ttotal: 324ms\tremaining: 91.4ms\n",
      "78:\tlearn: 0.9887133\ttotal: 328ms\tremaining: 87.1ms\n",
      "79:\tlearn: 0.9887133\ttotal: 331ms\tremaining: 82.8ms\n",
      "80:\tlearn: 0.9887133\ttotal: 336ms\tremaining: 78.8ms\n",
      "81:\tlearn: 0.9887133\ttotal: 340ms\tremaining: 74.6ms\n",
      "82:\tlearn: 0.9887133\ttotal: 344ms\tremaining: 70.5ms\n",
      "83:\tlearn: 0.9887133\ttotal: 348ms\tremaining: 66.2ms\n",
      "84:\tlearn: 0.9887133\ttotal: 353ms\tremaining: 62.3ms\n",
      "85:\tlearn: 0.9887133\ttotal: 357ms\tremaining: 58.1ms\n",
      "86:\tlearn: 0.9887133\ttotal: 361ms\tremaining: 53.9ms\n",
      "87:\tlearn: 0.9887133\ttotal: 365ms\tremaining: 49.7ms\n",
      "88:\tlearn: 0.9898420\ttotal: 370ms\tremaining: 45.7ms\n",
      "89:\tlearn: 0.9898420\ttotal: 374ms\tremaining: 41.5ms\n",
      "90:\tlearn: 0.9909707\ttotal: 377ms\tremaining: 37.3ms\n",
      "91:\tlearn: 0.9920993\ttotal: 381ms\tremaining: 33.1ms\n",
      "92:\tlearn: 0.9909707\ttotal: 385ms\tremaining: 29ms\n",
      "93:\tlearn: 0.9920993\ttotal: 389ms\tremaining: 24.8ms\n",
      "94:\tlearn: 0.9920993\ttotal: 392ms\tremaining: 20.6ms\n",
      "95:\tlearn: 0.9920993\ttotal: 395ms\tremaining: 16.5ms\n",
      "96:\tlearn: 0.9932280\ttotal: 402ms\tremaining: 12.4ms\n",
      "97:\tlearn: 0.9932280\ttotal: 405ms\tremaining: 8.27ms\n",
      "98:\tlearn: 0.9932280\ttotal: 411ms\tremaining: 4.15ms\n",
      "99:\tlearn: 0.9932280\ttotal: 416ms\tremaining: 0us\n",
      "0:\tlearn: 0.8781038\ttotal: 9.21ms\tremaining: 912ms\n",
      "1:\tlearn: 0.8984199\ttotal: 13.3ms\tremaining: 654ms\n",
      "2:\tlearn: 0.9097065\ttotal: 18.4ms\tremaining: 595ms\n",
      "3:\tlearn: 0.9119639\ttotal: 25ms\tremaining: 600ms\n",
      "4:\tlearn: 0.9187359\ttotal: 29.3ms\tremaining: 556ms\n",
      "5:\tlearn: 0.9209932\ttotal: 33.1ms\tremaining: 519ms\n",
      "6:\tlearn: 0.9277652\ttotal: 38.6ms\tremaining: 513ms\n",
      "7:\tlearn: 0.9266366\ttotal: 42.7ms\tremaining: 491ms\n",
      "8:\tlearn: 0.9288939\ttotal: 46.8ms\tremaining: 473ms\n",
      "9:\tlearn: 0.9345372\ttotal: 51.2ms\tremaining: 461ms\n",
      "10:\tlearn: 0.9345372\ttotal: 56ms\tremaining: 453ms\n",
      "11:\tlearn: 0.9334086\ttotal: 59.8ms\tremaining: 438ms\n",
      "12:\tlearn: 0.9334086\ttotal: 63.4ms\tremaining: 425ms\n",
      "13:\tlearn: 0.9334086\ttotal: 67.5ms\tremaining: 415ms\n",
      "14:\tlearn: 0.9379233\ttotal: 72.1ms\tremaining: 408ms\n",
      "15:\tlearn: 0.9390519\ttotal: 75.7ms\tremaining: 397ms\n",
      "16:\tlearn: 0.9390519\ttotal: 79.1ms\tremaining: 386ms\n",
      "17:\tlearn: 0.9401806\ttotal: 83.1ms\tremaining: 379ms\n",
      "18:\tlearn: 0.9401806\ttotal: 87.7ms\tremaining: 374ms\n",
      "19:\tlearn: 0.9435666\ttotal: 91.6ms\tremaining: 366ms\n",
      "20:\tlearn: 0.9435666\ttotal: 93.5ms\tremaining: 352ms\n",
      "21:\tlearn: 0.9469526\ttotal: 97.6ms\tremaining: 346ms\n",
      "22:\tlearn: 0.9458239\ttotal: 103ms\tremaining: 344ms\n",
      "23:\tlearn: 0.9492099\ttotal: 109ms\tremaining: 345ms\n",
      "24:\tlearn: 0.9492099\ttotal: 112ms\tremaining: 337ms\n",
      "25:\tlearn: 0.9492099\ttotal: 117ms\tremaining: 334ms\n",
      "26:\tlearn: 0.9480813\ttotal: 121ms\tremaining: 328ms\n",
      "27:\tlearn: 0.9480813\ttotal: 125ms\tremaining: 321ms\n",
      "28:\tlearn: 0.9480813\ttotal: 128ms\tremaining: 314ms\n",
      "29:\tlearn: 0.9492099\ttotal: 133ms\tremaining: 309ms\n",
      "30:\tlearn: 0.9503386\ttotal: 137ms\tremaining: 304ms\n",
      "31:\tlearn: 0.9492099\ttotal: 140ms\tremaining: 298ms\n",
      "32:\tlearn: 0.9548533\ttotal: 144ms\tremaining: 292ms\n",
      "33:\tlearn: 0.9548533\ttotal: 147ms\tremaining: 286ms\n",
      "34:\tlearn: 0.9593679\ttotal: 152ms\tremaining: 282ms\n",
      "35:\tlearn: 0.9616253\ttotal: 155ms\tremaining: 276ms\n",
      "36:\tlearn: 0.9604966\ttotal: 159ms\tremaining: 270ms\n",
      "37:\tlearn: 0.9627540\ttotal: 162ms\tremaining: 264ms\n",
      "38:\tlearn: 0.9627540\ttotal: 167ms\tremaining: 262ms\n",
      "39:\tlearn: 0.9627540\ttotal: 173ms\tremaining: 259ms\n",
      "40:\tlearn: 0.9650113\ttotal: 177ms\tremaining: 254ms\n",
      "41:\tlearn: 0.9638826\ttotal: 181ms\tremaining: 250ms\n",
      "42:\tlearn: 0.9650113\ttotal: 186ms\tremaining: 246ms\n",
      "43:\tlearn: 0.9695260\ttotal: 189ms\tremaining: 241ms\n",
      "44:\tlearn: 0.9717833\ttotal: 193ms\tremaining: 236ms\n",
      "45:\tlearn: 0.9740406\ttotal: 199ms\tremaining: 233ms\n",
      "46:\tlearn: 0.9717833\ttotal: 202ms\tremaining: 228ms\n",
      "47:\tlearn: 0.9717833\ttotal: 206ms\tremaining: 223ms\n",
      "48:\tlearn: 0.9740406\ttotal: 210ms\tremaining: 218ms\n",
      "49:\tlearn: 0.9751693\ttotal: 215ms\tremaining: 215ms\n",
      "50:\tlearn: 0.9762980\ttotal: 219ms\tremaining: 210ms\n",
      "51:\tlearn: 0.9762980\ttotal: 222ms\tremaining: 205ms\n",
      "52:\tlearn: 0.9774266\ttotal: 226ms\tremaining: 200ms\n",
      "53:\tlearn: 0.9785553\ttotal: 231ms\tremaining: 197ms\n",
      "54:\tlearn: 0.9796840\ttotal: 235ms\tremaining: 192ms\n",
      "55:\tlearn: 0.9796840\ttotal: 238ms\tremaining: 187ms\n",
      "56:\tlearn: 0.9808126\ttotal: 241ms\tremaining: 182ms\n",
      "57:\tlearn: 0.9808126\ttotal: 247ms\tremaining: 179ms\n",
      "58:\tlearn: 0.9808126\ttotal: 250ms\tremaining: 174ms\n",
      "59:\tlearn: 0.9796840\ttotal: 253ms\tremaining: 169ms\n",
      "60:\tlearn: 0.9796840\ttotal: 257ms\tremaining: 164ms\n",
      "61:\tlearn: 0.9808126\ttotal: 261ms\tremaining: 160ms\n",
      "62:\tlearn: 0.9808126\ttotal: 266ms\tremaining: 156ms\n",
      "63:\tlearn: 0.9819413\ttotal: 271ms\tremaining: 152ms\n",
      "64:\tlearn: 0.9830700\ttotal: 276ms\tremaining: 148ms\n",
      "65:\tlearn: 0.9830700\ttotal: 281ms\tremaining: 145ms\n",
      "66:\tlearn: 0.9841986\ttotal: 285ms\tremaining: 140ms\n",
      "67:\tlearn: 0.9853273\ttotal: 290ms\tremaining: 137ms\n",
      "68:\tlearn: 0.9853273\ttotal: 298ms\tremaining: 134ms\n",
      "69:\tlearn: 0.9864560\ttotal: 308ms\tremaining: 132ms\n",
      "70:\tlearn: 0.9853273\ttotal: 316ms\tremaining: 129ms\n",
      "71:\tlearn: 0.9853273\ttotal: 325ms\tremaining: 127ms\n",
      "72:\tlearn: 0.9864560\ttotal: 331ms\tremaining: 122ms\n",
      "73:\tlearn: 0.9864560\ttotal: 337ms\tremaining: 119ms\n",
      "74:\tlearn: 0.9864560\ttotal: 347ms\tremaining: 116ms\n",
      "75:\tlearn: 0.9887133\ttotal: 353ms\tremaining: 112ms\n",
      "76:\tlearn: 0.9887133\ttotal: 364ms\tremaining: 109ms\n",
      "77:\tlearn: 0.9887133\ttotal: 369ms\tremaining: 104ms\n",
      "78:\tlearn: 0.9887133\ttotal: 384ms\tremaining: 102ms\n",
      "79:\tlearn: 0.9887133\ttotal: 391ms\tremaining: 97.8ms\n",
      "80:\tlearn: 0.9887133\ttotal: 407ms\tremaining: 95.5ms\n",
      "81:\tlearn: 0.9887133\ttotal: 413ms\tremaining: 90.7ms\n",
      "82:\tlearn: 0.9887133\ttotal: 419ms\tremaining: 85.7ms\n",
      "83:\tlearn: 0.9887133\ttotal: 424ms\tremaining: 80.8ms\n",
      "84:\tlearn: 0.9887133\ttotal: 429ms\tremaining: 75.6ms\n",
      "85:\tlearn: 0.9898420\ttotal: 433ms\tremaining: 70.5ms\n",
      "86:\tlearn: 0.9909707\ttotal: 440ms\tremaining: 65.7ms\n",
      "87:\tlearn: 0.9909707\ttotal: 448ms\tremaining: 61.2ms\n",
      "88:\tlearn: 0.9909707\ttotal: 464ms\tremaining: 57.3ms\n",
      "89:\tlearn: 0.9909707\ttotal: 473ms\tremaining: 52.5ms\n",
      "90:\tlearn: 0.9909707\ttotal: 480ms\tremaining: 47.4ms\n",
      "91:\tlearn: 0.9909707\ttotal: 491ms\tremaining: 42.7ms\n",
      "92:\tlearn: 0.9898420\ttotal: 505ms\tremaining: 38ms\n",
      "93:\tlearn: 0.9909707\ttotal: 510ms\tremaining: 32.6ms\n",
      "94:\tlearn: 0.9909707\ttotal: 517ms\tremaining: 27.2ms\n",
      "95:\tlearn: 0.9920993\ttotal: 525ms\tremaining: 21.9ms\n",
      "96:\tlearn: 0.9920993\ttotal: 530ms\tremaining: 16.4ms\n",
      "97:\tlearn: 0.9943567\ttotal: 541ms\tremaining: 11ms\n",
      "98:\tlearn: 0.9943567\ttotal: 551ms\tremaining: 5.56ms\n",
      "99:\tlearn: 0.9954853\ttotal: 560ms\tremaining: 0us\n",
      "0:\tlearn: 0.8769752\ttotal: 8.79ms\tremaining: 870ms\n",
      "1:\tlearn: 0.8972912\ttotal: 14.1ms\tremaining: 692ms\n",
      "2:\tlearn: 0.9074492\ttotal: 18.6ms\tremaining: 603ms\n",
      "3:\tlearn: 0.9142212\ttotal: 26.1ms\tremaining: 626ms\n",
      "4:\tlearn: 0.9176072\ttotal: 30.9ms\tremaining: 586ms\n",
      "5:\tlearn: 0.9153499\ttotal: 35.5ms\tremaining: 556ms\n",
      "6:\tlearn: 0.9187359\ttotal: 41.8ms\tremaining: 556ms\n",
      "7:\tlearn: 0.9232506\ttotal: 46.7ms\tremaining: 537ms\n",
      "8:\tlearn: 0.9221219\ttotal: 51.7ms\tremaining: 522ms\n",
      "9:\tlearn: 0.9255079\ttotal: 59.1ms\tremaining: 532ms\n",
      "10:\tlearn: 0.9243792\ttotal: 63.8ms\tremaining: 516ms\n",
      "11:\tlearn: 0.9311512\ttotal: 68.2ms\tremaining: 500ms\n",
      "12:\tlearn: 0.9345372\ttotal: 74.8ms\tremaining: 500ms\n",
      "13:\tlearn: 0.9401806\ttotal: 80.5ms\tremaining: 494ms\n",
      "14:\tlearn: 0.9367946\ttotal: 85.9ms\tremaining: 487ms\n",
      "15:\tlearn: 0.9345372\ttotal: 93ms\tremaining: 488ms\n",
      "16:\tlearn: 0.9390519\ttotal: 97.5ms\tremaining: 476ms\n",
      "17:\tlearn: 0.9379233\ttotal: 104ms\tremaining: 476ms\n",
      "18:\tlearn: 0.9401806\ttotal: 110ms\tremaining: 469ms\n",
      "19:\tlearn: 0.9390519\ttotal: 113ms\tremaining: 452ms\n",
      "20:\tlearn: 0.9367946\ttotal: 115ms\tremaining: 434ms\n",
      "21:\tlearn: 0.9390519\ttotal: 123ms\tremaining: 435ms\n",
      "22:\tlearn: 0.9446953\ttotal: 127ms\tremaining: 426ms\n",
      "23:\tlearn: 0.9446953\ttotal: 131ms\tremaining: 416ms\n",
      "24:\tlearn: 0.9458239\ttotal: 138ms\tremaining: 413ms\n",
      "25:\tlearn: 0.9480813\ttotal: 143ms\tremaining: 407ms\n",
      "26:\tlearn: 0.9503386\ttotal: 148ms\tremaining: 401ms\n",
      "27:\tlearn: 0.9525959\ttotal: 155ms\tremaining: 400ms\n",
      "28:\tlearn: 0.9514673\ttotal: 160ms\tremaining: 392ms\n",
      "29:\tlearn: 0.9503386\ttotal: 164ms\tremaining: 383ms\n",
      "30:\tlearn: 0.9503386\ttotal: 171ms\tremaining: 380ms\n",
      "31:\tlearn: 0.9559819\ttotal: 175ms\tremaining: 372ms\n",
      "32:\tlearn: 0.9559819\ttotal: 179ms\tremaining: 364ms\n",
      "33:\tlearn: 0.9559819\ttotal: 184ms\tremaining: 357ms\n",
      "34:\tlearn: 0.9559819\ttotal: 189ms\tremaining: 351ms\n",
      "35:\tlearn: 0.9582393\ttotal: 193ms\tremaining: 343ms\n",
      "36:\tlearn: 0.9582393\ttotal: 197ms\tremaining: 335ms\n",
      "37:\tlearn: 0.9582393\ttotal: 199ms\tremaining: 324ms\n",
      "38:\tlearn: 0.9604966\ttotal: 203ms\tremaining: 318ms\n",
      "39:\tlearn: 0.9604966\ttotal: 208ms\tremaining: 311ms\n",
      "40:\tlearn: 0.9616253\ttotal: 211ms\tremaining: 304ms\n",
      "41:\tlearn: 0.9627540\ttotal: 217ms\tremaining: 300ms\n",
      "42:\tlearn: 0.9627540\ttotal: 221ms\tremaining: 294ms\n",
      "43:\tlearn: 0.9638826\ttotal: 225ms\tremaining: 286ms\n",
      "44:\tlearn: 0.9638826\ttotal: 228ms\tremaining: 279ms\n",
      "45:\tlearn: 0.9650113\ttotal: 234ms\tremaining: 275ms\n",
      "46:\tlearn: 0.9650113\ttotal: 238ms\tremaining: 268ms\n",
      "47:\tlearn: 0.9661400\ttotal: 244ms\tremaining: 264ms\n",
      "48:\tlearn: 0.9672686\ttotal: 250ms\tremaining: 260ms\n",
      "49:\tlearn: 0.9672686\ttotal: 252ms\tremaining: 252ms\n",
      "50:\tlearn: 0.9683973\ttotal: 256ms\tremaining: 246ms\n",
      "51:\tlearn: 0.9683973\ttotal: 259ms\tremaining: 239ms\n",
      "52:\tlearn: 0.9717833\ttotal: 264ms\tremaining: 234ms\n",
      "53:\tlearn: 0.9695260\ttotal: 268ms\tremaining: 228ms\n",
      "54:\tlearn: 0.9695260\ttotal: 272ms\tremaining: 222ms\n",
      "55:\tlearn: 0.9706546\ttotal: 275ms\tremaining: 216ms\n",
      "56:\tlearn: 0.9740406\ttotal: 280ms\tremaining: 212ms\n",
      "57:\tlearn: 0.9740406\ttotal: 285ms\tremaining: 206ms\n",
      "58:\tlearn: 0.9751693\ttotal: 288ms\tremaining: 200ms\n",
      "59:\tlearn: 0.9751693\ttotal: 292ms\tremaining: 195ms\n",
      "60:\tlearn: 0.9774266\ttotal: 299ms\tremaining: 191ms\n",
      "61:\tlearn: 0.9774266\ttotal: 303ms\tremaining: 186ms\n",
      "62:\tlearn: 0.9785553\ttotal: 308ms\tremaining: 181ms\n",
      "63:\tlearn: 0.9785553\ttotal: 314ms\tremaining: 177ms\n",
      "64:\tlearn: 0.9785553\ttotal: 320ms\tremaining: 173ms\n",
      "65:\tlearn: 0.9785553\ttotal: 329ms\tremaining: 169ms\n",
      "66:\tlearn: 0.9785553\ttotal: 334ms\tremaining: 165ms\n",
      "67:\tlearn: 0.9785553\ttotal: 339ms\tremaining: 159ms\n",
      "68:\tlearn: 0.9796840\ttotal: 347ms\tremaining: 156ms\n",
      "69:\tlearn: 0.9796840\ttotal: 353ms\tremaining: 151ms\n",
      "70:\tlearn: 0.9808126\ttotal: 358ms\tremaining: 146ms\n",
      "71:\tlearn: 0.9819413\ttotal: 366ms\tremaining: 142ms\n",
      "72:\tlearn: 0.9819413\ttotal: 371ms\tremaining: 137ms\n",
      "73:\tlearn: 0.9819413\ttotal: 377ms\tremaining: 132ms\n",
      "74:\tlearn: 0.9841986\ttotal: 384ms\tremaining: 128ms\n",
      "75:\tlearn: 0.9830700\ttotal: 390ms\tremaining: 123ms\n",
      "76:\tlearn: 0.9830700\ttotal: 397ms\tremaining: 119ms\n",
      "77:\tlearn: 0.9841986\ttotal: 403ms\tremaining: 114ms\n",
      "78:\tlearn: 0.9841986\ttotal: 411ms\tremaining: 109ms\n",
      "79:\tlearn: 0.9841986\ttotal: 416ms\tremaining: 104ms\n",
      "80:\tlearn: 0.9841986\ttotal: 422ms\tremaining: 99.1ms\n",
      "81:\tlearn: 0.9841986\ttotal: 429ms\tremaining: 94.2ms\n",
      "82:\tlearn: 0.9853273\ttotal: 435ms\tremaining: 89.1ms\n",
      "83:\tlearn: 0.9853273\ttotal: 441ms\tremaining: 84ms\n",
      "84:\tlearn: 0.9853273\ttotal: 448ms\tremaining: 79.1ms\n",
      "85:\tlearn: 0.9853273\ttotal: 454ms\tremaining: 73.8ms\n",
      "86:\tlearn: 0.9853273\ttotal: 461ms\tremaining: 68.8ms\n",
      "87:\tlearn: 0.9853273\ttotal: 466ms\tremaining: 63.5ms\n",
      "88:\tlearn: 0.9853273\ttotal: 471ms\tremaining: 58.3ms\n",
      "89:\tlearn: 0.9864560\ttotal: 477ms\tremaining: 53ms\n",
      "90:\tlearn: 0.9864560\ttotal: 483ms\tremaining: 47.8ms\n",
      "91:\tlearn: 0.9864560\ttotal: 489ms\tremaining: 42.5ms\n",
      "92:\tlearn: 0.9864560\ttotal: 495ms\tremaining: 37.3ms\n",
      "93:\tlearn: 0.9864560\ttotal: 499ms\tremaining: 31.8ms\n",
      "94:\tlearn: 0.9875847\ttotal: 505ms\tremaining: 26.6ms\n",
      "95:\tlearn: 0.9875847\ttotal: 509ms\tremaining: 21.2ms\n",
      "96:\tlearn: 0.9887133\ttotal: 512ms\tremaining: 15.8ms\n",
      "97:\tlearn: 0.9887133\ttotal: 517ms\tremaining: 10.5ms\n",
      "98:\tlearn: 0.9887133\ttotal: 522ms\tremaining: 5.27ms\n",
      "99:\tlearn: 0.9887133\ttotal: 526ms\tremaining: 0us\n",
      "0:\tlearn: 0.8679458\ttotal: 27.6ms\tremaining: 2.73s\n",
      "1:\tlearn: 0.8927765\ttotal: 37.2ms\tremaining: 1.82s\n",
      "2:\tlearn: 0.9085779\ttotal: 47.5ms\tremaining: 1.53s\n",
      "3:\tlearn: 0.9074492\ttotal: 70.7ms\tremaining: 1.7s\n",
      "4:\tlearn: 0.9097065\ttotal: 81.5ms\tremaining: 1.55s\n",
      "5:\tlearn: 0.9198646\ttotal: 92.9ms\tremaining: 1.45s\n",
      "6:\tlearn: 0.9232506\ttotal: 98.9ms\tremaining: 1.31s\n",
      "7:\tlearn: 0.9232506\ttotal: 104ms\tremaining: 1.2s\n",
      "8:\tlearn: 0.9266366\ttotal: 108ms\tremaining: 1.09s\n",
      "9:\tlearn: 0.9322799\ttotal: 112ms\tremaining: 1.01s\n",
      "10:\tlearn: 0.9277652\ttotal: 117ms\tremaining: 944ms\n",
      "11:\tlearn: 0.9322799\ttotal: 120ms\tremaining: 881ms\n",
      "12:\tlearn: 0.9334086\ttotal: 124ms\tremaining: 827ms\n",
      "13:\tlearn: 0.9345372\ttotal: 127ms\tremaining: 779ms\n",
      "14:\tlearn: 0.9345372\ttotal: 132ms\tremaining: 745ms\n",
      "15:\tlearn: 0.9356659\ttotal: 136ms\tremaining: 712ms\n",
      "16:\tlearn: 0.9401806\ttotal: 139ms\tremaining: 680ms\n",
      "17:\tlearn: 0.9446953\ttotal: 142ms\tremaining: 649ms\n",
      "18:\tlearn: 0.9458239\ttotal: 147ms\tremaining: 626ms\n",
      "19:\tlearn: 0.9492099\ttotal: 150ms\tremaining: 601ms\n",
      "20:\tlearn: 0.9480813\ttotal: 155ms\tremaining: 583ms\n",
      "21:\tlearn: 0.9480813\ttotal: 158ms\tremaining: 561ms\n",
      "22:\tlearn: 0.9503386\ttotal: 160ms\tremaining: 536ms\n",
      "23:\tlearn: 0.9492099\ttotal: 165ms\tremaining: 523ms\n",
      "24:\tlearn: 0.9503386\ttotal: 168ms\tremaining: 505ms\n",
      "25:\tlearn: 0.9514673\ttotal: 172ms\tremaining: 488ms\n",
      "26:\tlearn: 0.9514673\ttotal: 175ms\tremaining: 473ms\n",
      "27:\tlearn: 0.9514673\ttotal: 180ms\tremaining: 462ms\n",
      "28:\tlearn: 0.9525959\ttotal: 184ms\tremaining: 450ms\n",
      "29:\tlearn: 0.9559819\ttotal: 188ms\tremaining: 439ms\n",
      "30:\tlearn: 0.9548533\ttotal: 192ms\tremaining: 427ms\n",
      "31:\tlearn: 0.9582393\ttotal: 197ms\tremaining: 418ms\n",
      "32:\tlearn: 0.9559819\ttotal: 200ms\tremaining: 407ms\n",
      "33:\tlearn: 0.9571106\ttotal: 203ms\tremaining: 395ms\n",
      "34:\tlearn: 0.9582393\ttotal: 207ms\tremaining: 385ms\n",
      "35:\tlearn: 0.9627540\ttotal: 212ms\tremaining: 376ms\n",
      "36:\tlearn: 0.9650113\ttotal: 215ms\tremaining: 366ms\n",
      "37:\tlearn: 0.9661400\ttotal: 219ms\tremaining: 357ms\n",
      "38:\tlearn: 0.9650113\ttotal: 222ms\tremaining: 347ms\n",
      "39:\tlearn: 0.9638826\ttotal: 226ms\tremaining: 339ms\n",
      "40:\tlearn: 0.9638826\ttotal: 230ms\tremaining: 331ms\n",
      "41:\tlearn: 0.9706546\ttotal: 233ms\tremaining: 322ms\n",
      "42:\tlearn: 0.9717833\ttotal: 236ms\tremaining: 313ms\n",
      "43:\tlearn: 0.9717833\ttotal: 240ms\tremaining: 305ms\n",
      "44:\tlearn: 0.9717833\ttotal: 246ms\tremaining: 300ms\n",
      "45:\tlearn: 0.9717833\ttotal: 249ms\tremaining: 293ms\n",
      "46:\tlearn: 0.9740406\ttotal: 253ms\tremaining: 285ms\n",
      "47:\tlearn: 0.9740406\ttotal: 256ms\tremaining: 278ms\n",
      "48:\tlearn: 0.9762980\ttotal: 261ms\tremaining: 272ms\n",
      "49:\tlearn: 0.9751693\ttotal: 264ms\tremaining: 264ms\n",
      "50:\tlearn: 0.9751693\ttotal: 267ms\tremaining: 257ms\n",
      "51:\tlearn: 0.9762980\ttotal: 271ms\tremaining: 250ms\n",
      "52:\tlearn: 0.9751693\ttotal: 275ms\tremaining: 244ms\n",
      "53:\tlearn: 0.9762980\ttotal: 278ms\tremaining: 237ms\n",
      "54:\tlearn: 0.9762980\ttotal: 281ms\tremaining: 230ms\n",
      "55:\tlearn: 0.9785553\ttotal: 285ms\tremaining: 224ms\n",
      "56:\tlearn: 0.9785553\ttotal: 289ms\tremaining: 218ms\n",
      "57:\tlearn: 0.9796840\ttotal: 294ms\tremaining: 213ms\n",
      "58:\tlearn: 0.9796840\ttotal: 300ms\tremaining: 208ms\n",
      "59:\tlearn: 0.9796840\ttotal: 304ms\tremaining: 203ms\n",
      "60:\tlearn: 0.9796840\ttotal: 309ms\tremaining: 197ms\n",
      "61:\tlearn: 0.9808126\ttotal: 313ms\tremaining: 192ms\n",
      "62:\tlearn: 0.9808126\ttotal: 316ms\tremaining: 185ms\n",
      "63:\tlearn: 0.9808126\ttotal: 317ms\tremaining: 178ms\n",
      "64:\tlearn: 0.9808126\ttotal: 320ms\tremaining: 172ms\n",
      "65:\tlearn: 0.9808126\ttotal: 325ms\tremaining: 168ms\n",
      "66:\tlearn: 0.9830700\ttotal: 329ms\tremaining: 162ms\n",
      "67:\tlearn: 0.9830700\ttotal: 332ms\tremaining: 156ms\n",
      "68:\tlearn: 0.9830700\ttotal: 336ms\tremaining: 151ms\n",
      "69:\tlearn: 0.9830700\ttotal: 340ms\tremaining: 146ms\n",
      "70:\tlearn: 0.9841986\ttotal: 344ms\tremaining: 141ms\n",
      "71:\tlearn: 0.9841986\ttotal: 347ms\tremaining: 135ms\n",
      "72:\tlearn: 0.9841986\ttotal: 351ms\tremaining: 130ms\n",
      "73:\tlearn: 0.9853273\ttotal: 355ms\tremaining: 125ms\n",
      "74:\tlearn: 0.9853273\ttotal: 359ms\tremaining: 120ms\n",
      "75:\tlearn: 0.9875847\ttotal: 362ms\tremaining: 114ms\n",
      "76:\tlearn: 0.9875847\ttotal: 365ms\tremaining: 109ms\n",
      "77:\tlearn: 0.9864560\ttotal: 369ms\tremaining: 104ms\n",
      "78:\tlearn: 0.9864560\ttotal: 373ms\tremaining: 99.3ms\n",
      "79:\tlearn: 0.9864560\ttotal: 377ms\tremaining: 94.3ms\n",
      "80:\tlearn: 0.9864560\ttotal: 381ms\tremaining: 89.3ms\n",
      "81:\tlearn: 0.9864560\ttotal: 387ms\tremaining: 85ms\n",
      "82:\tlearn: 0.9864560\ttotal: 394ms\tremaining: 80.8ms\n",
      "83:\tlearn: 0.9864560\ttotal: 399ms\tremaining: 76ms\n",
      "84:\tlearn: 0.9864560\ttotal: 406ms\tremaining: 71.6ms\n",
      "85:\tlearn: 0.9864560\ttotal: 410ms\tremaining: 66.8ms\n",
      "86:\tlearn: 0.9875847\ttotal: 415ms\tremaining: 62ms\n",
      "87:\tlearn: 0.9887133\ttotal: 421ms\tremaining: 57.5ms\n",
      "88:\tlearn: 0.9887133\ttotal: 425ms\tremaining: 52.5ms\n",
      "89:\tlearn: 0.9887133\ttotal: 429ms\tremaining: 47.6ms\n",
      "90:\tlearn: 0.9887133\ttotal: 433ms\tremaining: 42.9ms\n",
      "91:\tlearn: 0.9887133\ttotal: 438ms\tremaining: 38.1ms\n",
      "92:\tlearn: 0.9898420\ttotal: 442ms\tremaining: 33.3ms\n",
      "93:\tlearn: 0.9898420\ttotal: 445ms\tremaining: 28.4ms\n",
      "94:\tlearn: 0.9898420\ttotal: 447ms\tremaining: 23.5ms\n",
      "95:\tlearn: 0.9898420\ttotal: 453ms\tremaining: 18.9ms\n",
      "96:\tlearn: 0.9909707\ttotal: 457ms\tremaining: 14.1ms\n",
      "97:\tlearn: 0.9909707\ttotal: 460ms\tremaining: 9.39ms\n",
      "98:\tlearn: 0.9909707\ttotal: 463ms\tremaining: 4.68ms\n",
      "99:\tlearn: 0.9909707\ttotal: 469ms\tremaining: 0us\n",
      "0:\tlearn: 0.8814898\ttotal: 18.3ms\tremaining: 1.81s\n",
      "1:\tlearn: 0.9063205\ttotal: 30.4ms\tremaining: 1.49s\n",
      "2:\tlearn: 0.9097065\ttotal: 41.6ms\tremaining: 1.34s\n",
      "3:\tlearn: 0.9176072\ttotal: 51.9ms\tremaining: 1.24s\n",
      "4:\tlearn: 0.9153499\ttotal: 66.6ms\tremaining: 1.26s\n",
      "5:\tlearn: 0.9243792\ttotal: 81.9ms\tremaining: 1.28s\n",
      "6:\tlearn: 0.9266366\ttotal: 94.8ms\tremaining: 1.26s\n",
      "7:\tlearn: 0.9255079\ttotal: 101ms\tremaining: 1.16s\n",
      "8:\tlearn: 0.9255079\ttotal: 107ms\tremaining: 1.08s\n",
      "9:\tlearn: 0.9243792\ttotal: 111ms\tremaining: 1s\n",
      "10:\tlearn: 0.9277652\ttotal: 115ms\tremaining: 934ms\n",
      "11:\tlearn: 0.9277652\ttotal: 119ms\tremaining: 873ms\n",
      "12:\tlearn: 0.9277652\ttotal: 125ms\tremaining: 840ms\n",
      "13:\tlearn: 0.9322799\ttotal: 129ms\tremaining: 795ms\n",
      "14:\tlearn: 0.9367946\ttotal: 133ms\tremaining: 753ms\n",
      "15:\tlearn: 0.9334086\ttotal: 138ms\tremaining: 724ms\n",
      "16:\tlearn: 0.9367946\ttotal: 142ms\tremaining: 692ms\n",
      "17:\tlearn: 0.9379233\ttotal: 145ms\tremaining: 662ms\n",
      "18:\tlearn: 0.9413093\ttotal: 149ms\tremaining: 636ms\n",
      "19:\tlearn: 0.9424379\ttotal: 154ms\tremaining: 617ms\n",
      "20:\tlearn: 0.9413093\ttotal: 156ms\tremaining: 587ms\n",
      "21:\tlearn: 0.9401806\ttotal: 160ms\tremaining: 567ms\n",
      "22:\tlearn: 0.9424379\ttotal: 164ms\tremaining: 547ms\n",
      "23:\tlearn: 0.9458239\ttotal: 167ms\tremaining: 529ms\n",
      "24:\tlearn: 0.9469526\ttotal: 171ms\tremaining: 513ms\n",
      "25:\tlearn: 0.9458239\ttotal: 175ms\tremaining: 497ms\n",
      "26:\tlearn: 0.9480813\ttotal: 178ms\tremaining: 481ms\n",
      "27:\tlearn: 0.9492099\ttotal: 182ms\tremaining: 467ms\n",
      "28:\tlearn: 0.9503386\ttotal: 188ms\tremaining: 461ms\n",
      "29:\tlearn: 0.9537246\ttotal: 193ms\tremaining: 451ms\n",
      "30:\tlearn: 0.9537246\ttotal: 198ms\tremaining: 440ms\n",
      "31:\tlearn: 0.9548533\ttotal: 204ms\tremaining: 433ms\n",
      "32:\tlearn: 0.9559819\ttotal: 208ms\tremaining: 423ms\n",
      "33:\tlearn: 0.9537246\ttotal: 213ms\tremaining: 414ms\n",
      "34:\tlearn: 0.9559819\ttotal: 221ms\tremaining: 410ms\n",
      "35:\tlearn: 0.9593679\ttotal: 225ms\tremaining: 400ms\n",
      "36:\tlearn: 0.9593679\ttotal: 230ms\tremaining: 392ms\n",
      "37:\tlearn: 0.9627540\ttotal: 236ms\tremaining: 385ms\n",
      "38:\tlearn: 0.9627540\ttotal: 240ms\tremaining: 375ms\n",
      "39:\tlearn: 0.9638826\ttotal: 243ms\tremaining: 364ms\n",
      "40:\tlearn: 0.9650113\ttotal: 248ms\tremaining: 357ms\n",
      "41:\tlearn: 0.9661400\ttotal: 253ms\tremaining: 350ms\n",
      "42:\tlearn: 0.9661400\ttotal: 257ms\tremaining: 340ms\n",
      "43:\tlearn: 0.9683973\ttotal: 261ms\tremaining: 333ms\n",
      "44:\tlearn: 0.9706546\ttotal: 267ms\tremaining: 326ms\n",
      "45:\tlearn: 0.9706546\ttotal: 271ms\tremaining: 318ms\n",
      "46:\tlearn: 0.9717833\ttotal: 275ms\tremaining: 310ms\n",
      "47:\tlearn: 0.9729120\ttotal: 278ms\tremaining: 301ms\n",
      "48:\tlearn: 0.9729120\ttotal: 285ms\tremaining: 296ms\n",
      "49:\tlearn: 0.9729120\ttotal: 288ms\tremaining: 288ms\n",
      "50:\tlearn: 0.9751693\ttotal: 292ms\tremaining: 280ms\n",
      "51:\tlearn: 0.9751693\ttotal: 296ms\tremaining: 273ms\n",
      "52:\tlearn: 0.9751693\ttotal: 301ms\tremaining: 267ms\n",
      "53:\tlearn: 0.9762980\ttotal: 304ms\tremaining: 259ms\n",
      "54:\tlearn: 0.9774266\ttotal: 308ms\tremaining: 252ms\n",
      "55:\tlearn: 0.9785553\ttotal: 311ms\tremaining: 244ms\n",
      "56:\tlearn: 0.9808126\ttotal: 318ms\tremaining: 240ms\n",
      "57:\tlearn: 0.9808126\ttotal: 322ms\tremaining: 233ms\n",
      "58:\tlearn: 0.9808126\ttotal: 326ms\tremaining: 227ms\n",
      "59:\tlearn: 0.9830700\ttotal: 336ms\tremaining: 224ms\n",
      "60:\tlearn: 0.9830700\ttotal: 341ms\tremaining: 218ms\n",
      "61:\tlearn: 0.9830700\ttotal: 353ms\tremaining: 216ms\n",
      "62:\tlearn: 0.9830700\ttotal: 358ms\tremaining: 210ms\n",
      "63:\tlearn: 0.9830700\ttotal: 365ms\tremaining: 205ms\n",
      "64:\tlearn: 0.9830700\ttotal: 371ms\tremaining: 200ms\n",
      "65:\tlearn: 0.9830700\ttotal: 381ms\tremaining: 196ms\n",
      "66:\tlearn: 0.9830700\ttotal: 387ms\tremaining: 191ms\n",
      "67:\tlearn: 0.9853273\ttotal: 396ms\tremaining: 186ms\n",
      "68:\tlearn: 0.9864560\ttotal: 403ms\tremaining: 181ms\n",
      "69:\tlearn: 0.9875847\ttotal: 413ms\tremaining: 177ms\n",
      "70:\tlearn: 0.9898420\ttotal: 419ms\tremaining: 171ms\n",
      "71:\tlearn: 0.9898420\ttotal: 426ms\tremaining: 166ms\n",
      "72:\tlearn: 0.9898420\ttotal: 438ms\tremaining: 162ms\n",
      "73:\tlearn: 0.9898420\ttotal: 448ms\tremaining: 157ms\n",
      "74:\tlearn: 0.9898420\ttotal: 454ms\tremaining: 151ms\n",
      "75:\tlearn: 0.9909707\ttotal: 464ms\tremaining: 147ms\n",
      "76:\tlearn: 0.9898420\ttotal: 542ms\tremaining: 162ms\n",
      "77:\tlearn: 0.9909707\ttotal: 548ms\tremaining: 155ms\n",
      "78:\tlearn: 0.9909707\ttotal: 562ms\tremaining: 149ms\n",
      "79:\tlearn: 0.9909707\ttotal: 578ms\tremaining: 144ms\n",
      "80:\tlearn: 0.9909707\ttotal: 584ms\tremaining: 137ms\n",
      "81:\tlearn: 0.9909707\ttotal: 589ms\tremaining: 129ms\n",
      "82:\tlearn: 0.9909707\ttotal: 595ms\tremaining: 122ms\n",
      "83:\tlearn: 0.9920993\ttotal: 600ms\tremaining: 114ms\n",
      "84:\tlearn: 0.9920993\ttotal: 605ms\tremaining: 107ms\n",
      "85:\tlearn: 0.9920993\ttotal: 611ms\tremaining: 99.5ms\n",
      "86:\tlearn: 0.9920993\ttotal: 617ms\tremaining: 92.1ms\n",
      "87:\tlearn: 0.9920993\ttotal: 624ms\tremaining: 85.1ms\n",
      "88:\tlearn: 0.9932280\ttotal: 631ms\tremaining: 77.9ms\n",
      "89:\tlearn: 0.9932280\ttotal: 638ms\tremaining: 70.9ms\n",
      "90:\tlearn: 0.9932280\ttotal: 648ms\tremaining: 64.1ms\n",
      "91:\tlearn: 0.9932280\ttotal: 659ms\tremaining: 57.3ms\n",
      "92:\tlearn: 0.9932280\ttotal: 665ms\tremaining: 50.1ms\n",
      "93:\tlearn: 0.9932280\ttotal: 674ms\tremaining: 43ms\n",
      "94:\tlearn: 0.9954853\ttotal: 681ms\tremaining: 35.8ms\n",
      "95:\tlearn: 0.9954853\ttotal: 690ms\tremaining: 28.7ms\n",
      "96:\tlearn: 0.9954853\ttotal: 696ms\tremaining: 21.5ms\n",
      "97:\tlearn: 0.9966140\ttotal: 702ms\tremaining: 14.3ms\n",
      "98:\tlearn: 0.9966140\ttotal: 707ms\tremaining: 7.14ms\n",
      "99:\tlearn: 0.9977427\ttotal: 712ms\tremaining: 0us\n",
      "0:\tlearn: 0.8668172\ttotal: 7.49ms\tremaining: 741ms\n",
      "1:\tlearn: 0.8961625\ttotal: 13.4ms\tremaining: 659ms\n",
      "2:\tlearn: 0.8972912\ttotal: 18ms\tremaining: 582ms\n",
      "3:\tlearn: 0.9142212\ttotal: 24.1ms\tremaining: 579ms\n",
      "4:\tlearn: 0.9221219\ttotal: 29.6ms\tremaining: 563ms\n",
      "5:\tlearn: 0.9209932\ttotal: 34.3ms\tremaining: 537ms\n",
      "6:\tlearn: 0.9209932\ttotal: 39.7ms\tremaining: 528ms\n",
      "7:\tlearn: 0.9266366\ttotal: 44.3ms\tremaining: 510ms\n",
      "8:\tlearn: 0.9266366\ttotal: 49.4ms\tremaining: 500ms\n",
      "9:\tlearn: 0.9266366\ttotal: 54.8ms\tremaining: 493ms\n",
      "10:\tlearn: 0.9277652\ttotal: 59.2ms\tremaining: 479ms\n",
      "11:\tlearn: 0.9322799\ttotal: 63.5ms\tremaining: 465ms\n",
      "12:\tlearn: 0.9311512\ttotal: 67.8ms\tremaining: 454ms\n",
      "13:\tlearn: 0.9367946\ttotal: 75.2ms\tremaining: 462ms\n",
      "14:\tlearn: 0.9322799\ttotal: 80.1ms\tremaining: 454ms\n",
      "15:\tlearn: 0.9345372\ttotal: 84.3ms\tremaining: 442ms\n",
      "16:\tlearn: 0.9345372\ttotal: 89.5ms\tremaining: 437ms\n",
      "17:\tlearn: 0.9356659\ttotal: 94ms\tremaining: 428ms\n",
      "18:\tlearn: 0.9401806\ttotal: 99.4ms\tremaining: 424ms\n",
      "19:\tlearn: 0.9390519\ttotal: 106ms\tremaining: 425ms\n",
      "20:\tlearn: 0.9446953\ttotal: 111ms\tremaining: 417ms\n",
      "21:\tlearn: 0.9469526\ttotal: 115ms\tremaining: 407ms\n",
      "22:\tlearn: 0.9458239\ttotal: 120ms\tremaining: 403ms\n",
      "23:\tlearn: 0.9435666\ttotal: 124ms\tremaining: 394ms\n",
      "24:\tlearn: 0.9469526\ttotal: 128ms\tremaining: 385ms\n",
      "25:\tlearn: 0.9492099\ttotal: 130ms\tremaining: 369ms\n",
      "26:\tlearn: 0.9480813\ttotal: 134ms\tremaining: 362ms\n",
      "27:\tlearn: 0.9492099\ttotal: 138ms\tremaining: 356ms\n",
      "28:\tlearn: 0.9503386\ttotal: 142ms\tremaining: 347ms\n",
      "29:\tlearn: 0.9514673\ttotal: 145ms\tremaining: 339ms\n",
      "30:\tlearn: 0.9514673\ttotal: 150ms\tremaining: 334ms\n",
      "31:\tlearn: 0.9525959\ttotal: 154ms\tremaining: 326ms\n",
      "32:\tlearn: 0.9537246\ttotal: 156ms\tremaining: 317ms\n",
      "33:\tlearn: 0.9537246\ttotal: 159ms\tremaining: 309ms\n",
      "34:\tlearn: 0.9559819\ttotal: 163ms\tremaining: 302ms\n",
      "35:\tlearn: 0.9582393\ttotal: 168ms\tremaining: 298ms\n",
      "36:\tlearn: 0.9582393\ttotal: 171ms\tremaining: 292ms\n",
      "37:\tlearn: 0.9604966\ttotal: 175ms\tremaining: 286ms\n",
      "38:\tlearn: 0.9650113\ttotal: 179ms\tremaining: 279ms\n",
      "39:\tlearn: 0.9650113\ttotal: 183ms\tremaining: 275ms\n",
      "40:\tlearn: 0.9672686\ttotal: 188ms\tremaining: 270ms\n",
      "41:\tlearn: 0.9683973\ttotal: 192ms\tremaining: 265ms\n",
      "42:\tlearn: 0.9683973\ttotal: 194ms\tremaining: 257ms\n",
      "43:\tlearn: 0.9706546\ttotal: 200ms\tremaining: 255ms\n",
      "44:\tlearn: 0.9717833\ttotal: 205ms\tremaining: 250ms\n",
      "45:\tlearn: 0.9729120\ttotal: 209ms\tremaining: 245ms\n",
      "46:\tlearn: 0.9729120\ttotal: 214ms\tremaining: 242ms\n",
      "47:\tlearn: 0.9729120\ttotal: 219ms\tremaining: 237ms\n",
      "48:\tlearn: 0.9740406\ttotal: 223ms\tremaining: 232ms\n",
      "49:\tlearn: 0.9740406\ttotal: 228ms\tremaining: 228ms\n",
      "50:\tlearn: 0.9751693\ttotal: 234ms\tremaining: 225ms\n",
      "51:\tlearn: 0.9762980\ttotal: 238ms\tremaining: 220ms\n",
      "52:\tlearn: 0.9762980\ttotal: 242ms\tremaining: 214ms\n",
      "53:\tlearn: 0.9785553\ttotal: 248ms\tremaining: 211ms\n",
      "54:\tlearn: 0.9774266\ttotal: 251ms\tremaining: 206ms\n",
      "55:\tlearn: 0.9808126\ttotal: 255ms\tremaining: 200ms\n",
      "56:\tlearn: 0.9819413\ttotal: 259ms\tremaining: 195ms\n",
      "57:\tlearn: 0.9819413\ttotal: 265ms\tremaining: 192ms\n",
      "58:\tlearn: 0.9808126\ttotal: 269ms\tremaining: 187ms\n",
      "59:\tlearn: 0.9808126\ttotal: 273ms\tremaining: 182ms\n",
      "60:\tlearn: 0.9819413\ttotal: 277ms\tremaining: 177ms\n",
      "61:\tlearn: 0.9819413\ttotal: 282ms\tremaining: 173ms\n",
      "62:\tlearn: 0.9819413\ttotal: 287ms\tremaining: 169ms\n",
      "63:\tlearn: 0.9841986\ttotal: 292ms\tremaining: 165ms\n",
      "64:\tlearn: 0.9841986\ttotal: 298ms\tremaining: 160ms\n",
      "65:\tlearn: 0.9841986\ttotal: 302ms\tremaining: 156ms\n",
      "66:\tlearn: 0.9841986\ttotal: 308ms\tremaining: 152ms\n",
      "67:\tlearn: 0.9853273\ttotal: 313ms\tremaining: 147ms\n",
      "68:\tlearn: 0.9864560\ttotal: 319ms\tremaining: 143ms\n",
      "69:\tlearn: 0.9864560\ttotal: 324ms\tremaining: 139ms\n",
      "70:\tlearn: 0.9864560\ttotal: 329ms\tremaining: 134ms\n",
      "71:\tlearn: 0.9864560\ttotal: 333ms\tremaining: 129ms\n",
      "72:\tlearn: 0.9875847\ttotal: 337ms\tremaining: 124ms\n",
      "73:\tlearn: 0.9875847\ttotal: 342ms\tremaining: 120ms\n",
      "74:\tlearn: 0.9875847\ttotal: 346ms\tremaining: 115ms\n",
      "75:\tlearn: 0.9875847\ttotal: 350ms\tremaining: 111ms\n",
      "76:\tlearn: 0.9875847\ttotal: 353ms\tremaining: 106ms\n",
      "77:\tlearn: 0.9875847\ttotal: 361ms\tremaining: 102ms\n",
      "78:\tlearn: 0.9875847\ttotal: 365ms\tremaining: 97.2ms\n",
      "79:\tlearn: 0.9898420\ttotal: 370ms\tremaining: 92.4ms\n",
      "80:\tlearn: 0.9898420\ttotal: 377ms\tremaining: 88.5ms\n",
      "81:\tlearn: 0.9898420\ttotal: 382ms\tremaining: 83.8ms\n",
      "82:\tlearn: 0.9898420\ttotal: 386ms\tremaining: 79.1ms\n",
      "83:\tlearn: 0.9898420\ttotal: 393ms\tremaining: 74.8ms\n",
      "84:\tlearn: 0.9898420\ttotal: 396ms\tremaining: 69.9ms\n",
      "85:\tlearn: 0.9898420\ttotal: 400ms\tremaining: 65.1ms\n",
      "86:\tlearn: 0.9898420\ttotal: 406ms\tremaining: 60.7ms\n",
      "87:\tlearn: 0.9898420\ttotal: 410ms\tremaining: 55.9ms\n",
      "88:\tlearn: 0.9909707\ttotal: 414ms\tremaining: 51.2ms\n",
      "89:\tlearn: 0.9898420\ttotal: 419ms\tremaining: 46.5ms\n",
      "90:\tlearn: 0.9909707\ttotal: 425ms\tremaining: 42.1ms\n",
      "91:\tlearn: 0.9909707\ttotal: 430ms\tremaining: 37.4ms\n",
      "92:\tlearn: 0.9909707\ttotal: 434ms\tremaining: 32.7ms\n",
      "93:\tlearn: 0.9920993\ttotal: 442ms\tremaining: 28.2ms\n",
      "94:\tlearn: 0.9909707\ttotal: 446ms\tremaining: 23.5ms\n",
      "95:\tlearn: 0.9909707\ttotal: 449ms\tremaining: 18.7ms\n",
      "96:\tlearn: 0.9909707\ttotal: 454ms\tremaining: 14ms\n",
      "97:\tlearn: 0.9909707\ttotal: 459ms\tremaining: 9.36ms\n",
      "98:\tlearn: 0.9920993\ttotal: 463ms\tremaining: 4.67ms\n",
      "99:\tlearn: 0.9920993\ttotal: 467ms\tremaining: 0us\n",
      "0:\tlearn: 0.8634312\ttotal: 6.63ms\tremaining: 656ms\n",
      "1:\tlearn: 0.8882619\ttotal: 14.7ms\tremaining: 721ms\n",
      "2:\tlearn: 0.9018059\ttotal: 18.8ms\tremaining: 608ms\n",
      "3:\tlearn: 0.9142212\ttotal: 22.9ms\tremaining: 550ms\n",
      "4:\tlearn: 0.9108352\ttotal: 29.5ms\tremaining: 561ms\n",
      "5:\tlearn: 0.9153499\ttotal: 38.6ms\tremaining: 604ms\n",
      "6:\tlearn: 0.9209932\ttotal: 63.4ms\tremaining: 842ms\n",
      "7:\tlearn: 0.9209932\ttotal: 67.6ms\tremaining: 777ms\n",
      "8:\tlearn: 0.9255079\ttotal: 73.7ms\tremaining: 745ms\n",
      "9:\tlearn: 0.9255079\ttotal: 85.4ms\tremaining: 768ms\n",
      "10:\tlearn: 0.9277652\ttotal: 90.7ms\tremaining: 734ms\n",
      "11:\tlearn: 0.9277652\ttotal: 129ms\tremaining: 946ms\n",
      "12:\tlearn: 0.9311512\ttotal: 134ms\tremaining: 896ms\n",
      "13:\tlearn: 0.9311512\ttotal: 145ms\tremaining: 891ms\n",
      "14:\tlearn: 0.9367946\ttotal: 149ms\tremaining: 847ms\n",
      "15:\tlearn: 0.9356659\ttotal: 154ms\tremaining: 806ms\n",
      "16:\tlearn: 0.9356659\ttotal: 157ms\tremaining: 769ms\n",
      "17:\tlearn: 0.9356659\ttotal: 163ms\tremaining: 741ms\n",
      "18:\tlearn: 0.9390519\ttotal: 192ms\tremaining: 817ms\n",
      "19:\tlearn: 0.9390519\ttotal: 200ms\tremaining: 801ms\n",
      "20:\tlearn: 0.9379233\ttotal: 202ms\tremaining: 759ms\n",
      "21:\tlearn: 0.9401806\ttotal: 205ms\tremaining: 728ms\n",
      "22:\tlearn: 0.9424379\ttotal: 210ms\tremaining: 703ms\n",
      "23:\tlearn: 0.9458239\ttotal: 213ms\tremaining: 676ms\n",
      "24:\tlearn: 0.9469526\ttotal: 217ms\tremaining: 650ms\n",
      "25:\tlearn: 0.9480813\ttotal: 220ms\tremaining: 627ms\n",
      "26:\tlearn: 0.9503386\ttotal: 223ms\tremaining: 603ms\n",
      "27:\tlearn: 0.9525959\ttotal: 228ms\tremaining: 586ms\n",
      "28:\tlearn: 0.9525959\ttotal: 232ms\tremaining: 567ms\n",
      "29:\tlearn: 0.9537246\ttotal: 236ms\tremaining: 551ms\n",
      "30:\tlearn: 0.9537246\ttotal: 240ms\tremaining: 534ms\n",
      "31:\tlearn: 0.9537246\ttotal: 245ms\tremaining: 520ms\n",
      "32:\tlearn: 0.9593679\ttotal: 249ms\tremaining: 505ms\n",
      "33:\tlearn: 0.9593679\ttotal: 252ms\tremaining: 490ms\n",
      "34:\tlearn: 0.9616253\ttotal: 258ms\tremaining: 478ms\n",
      "35:\tlearn: 0.9627540\ttotal: 261ms\tremaining: 464ms\n",
      "36:\tlearn: 0.9638826\ttotal: 265ms\tremaining: 451ms\n",
      "37:\tlearn: 0.9672686\ttotal: 268ms\tremaining: 438ms\n",
      "38:\tlearn: 0.9650113\ttotal: 274ms\tremaining: 428ms\n",
      "39:\tlearn: 0.9672686\ttotal: 278ms\tremaining: 416ms\n",
      "40:\tlearn: 0.9683973\ttotal: 281ms\tremaining: 404ms\n",
      "41:\tlearn: 0.9695260\ttotal: 284ms\tremaining: 393ms\n",
      "42:\tlearn: 0.9706546\ttotal: 290ms\tremaining: 384ms\n",
      "43:\tlearn: 0.9706546\ttotal: 293ms\tremaining: 373ms\n",
      "44:\tlearn: 0.9729120\ttotal: 296ms\tremaining: 362ms\n",
      "45:\tlearn: 0.9729120\ttotal: 300ms\tremaining: 352ms\n",
      "46:\tlearn: 0.9729120\ttotal: 303ms\tremaining: 342ms\n",
      "47:\tlearn: 0.9740406\ttotal: 307ms\tremaining: 332ms\n",
      "48:\tlearn: 0.9740406\ttotal: 310ms\tremaining: 323ms\n",
      "49:\tlearn: 0.9740406\ttotal: 313ms\tremaining: 313ms\n",
      "50:\tlearn: 0.9740406\ttotal: 317ms\tremaining: 304ms\n",
      "51:\tlearn: 0.9751693\ttotal: 322ms\tremaining: 297ms\n",
      "52:\tlearn: 0.9751693\ttotal: 326ms\tremaining: 289ms\n",
      "53:\tlearn: 0.9751693\ttotal: 329ms\tremaining: 281ms\n",
      "54:\tlearn: 0.9762980\ttotal: 333ms\tremaining: 272ms\n",
      "55:\tlearn: 0.9774266\ttotal: 338ms\tremaining: 265ms\n",
      "56:\tlearn: 0.9774266\ttotal: 339ms\tremaining: 256ms\n",
      "57:\tlearn: 0.9785553\ttotal: 342ms\tremaining: 248ms\n",
      "58:\tlearn: 0.9785553\ttotal: 346ms\tremaining: 240ms\n",
      "59:\tlearn: 0.9785553\ttotal: 350ms\tremaining: 233ms\n",
      "60:\tlearn: 0.9785553\ttotal: 355ms\tremaining: 227ms\n",
      "61:\tlearn: 0.9819413\ttotal: 359ms\tremaining: 220ms\n",
      "62:\tlearn: 0.9819413\ttotal: 362ms\tremaining: 213ms\n",
      "63:\tlearn: 0.9819413\ttotal: 367ms\tremaining: 207ms\n",
      "64:\tlearn: 0.9796840\ttotal: 371ms\tremaining: 200ms\n",
      "65:\tlearn: 0.9796840\ttotal: 375ms\tremaining: 193ms\n",
      "66:\tlearn: 0.9808126\ttotal: 379ms\tremaining: 187ms\n",
      "67:\tlearn: 0.9841986\ttotal: 383ms\tremaining: 180ms\n",
      "68:\tlearn: 0.9853273\ttotal: 387ms\tremaining: 174ms\n",
      "69:\tlearn: 0.9853273\ttotal: 391ms\tremaining: 167ms\n",
      "70:\tlearn: 0.9853273\ttotal: 394ms\tremaining: 161ms\n",
      "71:\tlearn: 0.9853273\ttotal: 398ms\tremaining: 155ms\n",
      "72:\tlearn: 0.9853273\ttotal: 402ms\tremaining: 149ms\n",
      "73:\tlearn: 0.9853273\ttotal: 405ms\tremaining: 142ms\n",
      "74:\tlearn: 0.9853273\ttotal: 408ms\tremaining: 136ms\n",
      "75:\tlearn: 0.9864560\ttotal: 412ms\tremaining: 130ms\n",
      "76:\tlearn: 0.9864560\ttotal: 420ms\tremaining: 125ms\n",
      "77:\tlearn: 0.9864560\ttotal: 424ms\tremaining: 119ms\n",
      "78:\tlearn: 0.9864560\ttotal: 427ms\tremaining: 114ms\n",
      "79:\tlearn: 0.9864560\ttotal: 432ms\tremaining: 108ms\n",
      "80:\tlearn: 0.9864560\ttotal: 435ms\tremaining: 102ms\n",
      "81:\tlearn: 0.9864560\ttotal: 439ms\tremaining: 96.3ms\n",
      "82:\tlearn: 0.9864560\ttotal: 443ms\tremaining: 90.6ms\n",
      "83:\tlearn: 0.9864560\ttotal: 447ms\tremaining: 85.2ms\n",
      "84:\tlearn: 0.9864560\ttotal: 452ms\tremaining: 79.7ms\n",
      "85:\tlearn: 0.9864560\ttotal: 455ms\tremaining: 74.1ms\n",
      "86:\tlearn: 0.9864560\ttotal: 459ms\tremaining: 68.7ms\n",
      "87:\tlearn: 0.9864560\ttotal: 462ms\tremaining: 63ms\n",
      "88:\tlearn: 0.9864560\ttotal: 465ms\tremaining: 57.5ms\n",
      "89:\tlearn: 0.9864560\ttotal: 469ms\tremaining: 52.2ms\n",
      "90:\tlearn: 0.9864560\ttotal: 473ms\tremaining: 46.8ms\n",
      "91:\tlearn: 0.9864560\ttotal: 477ms\tremaining: 41.5ms\n",
      "92:\tlearn: 0.9864560\ttotal: 484ms\tremaining: 36.4ms\n",
      "93:\tlearn: 0.9875847\ttotal: 487ms\tremaining: 31.1ms\n",
      "94:\tlearn: 0.9875847\ttotal: 492ms\tremaining: 25.9ms\n",
      "95:\tlearn: 0.9875847\ttotal: 498ms\tremaining: 20.7ms\n",
      "96:\tlearn: 0.9875847\ttotal: 501ms\tremaining: 15.5ms\n",
      "97:\tlearn: 0.9887133\ttotal: 505ms\tremaining: 10.3ms\n",
      "98:\tlearn: 0.9887133\ttotal: 509ms\tremaining: 5.14ms\n",
      "99:\tlearn: 0.9887133\ttotal: 515ms\tremaining: 0us\n",
      "0:\tlearn: 0.8792325\ttotal: 9.24ms\tremaining: 915ms\n",
      "1:\tlearn: 0.8984199\ttotal: 14.3ms\tremaining: 698ms\n",
      "2:\tlearn: 0.9018059\ttotal: 22.3ms\tremaining: 720ms\n",
      "3:\tlearn: 0.9108352\ttotal: 27.9ms\tremaining: 668ms\n",
      "4:\tlearn: 0.9187359\ttotal: 32ms\tremaining: 607ms\n",
      "5:\tlearn: 0.9153499\ttotal: 38.3ms\tremaining: 600ms\n",
      "6:\tlearn: 0.9187359\ttotal: 42.6ms\tremaining: 565ms\n",
      "7:\tlearn: 0.9221219\ttotal: 46.6ms\tremaining: 536ms\n",
      "8:\tlearn: 0.9255079\ttotal: 52.4ms\tremaining: 530ms\n",
      "9:\tlearn: 0.9266366\ttotal: 56.5ms\tremaining: 509ms\n",
      "10:\tlearn: 0.9266366\ttotal: 60.6ms\tremaining: 491ms\n",
      "11:\tlearn: 0.9277652\ttotal: 67.3ms\tremaining: 494ms\n",
      "12:\tlearn: 0.9300226\ttotal: 72.5ms\tremaining: 485ms\n",
      "13:\tlearn: 0.9300226\ttotal: 81.4ms\tremaining: 500ms\n",
      "14:\tlearn: 0.9300226\ttotal: 91.3ms\tremaining: 517ms\n",
      "15:\tlearn: 0.9322799\ttotal: 99.5ms\tremaining: 522ms\n",
      "16:\tlearn: 0.9356659\ttotal: 120ms\tremaining: 585ms\n",
      "17:\tlearn: 0.9367946\ttotal: 134ms\tremaining: 611ms\n",
      "18:\tlearn: 0.9356659\ttotal: 141ms\tremaining: 603ms\n",
      "19:\tlearn: 0.9379233\ttotal: 157ms\tremaining: 627ms\n",
      "20:\tlearn: 0.9379233\ttotal: 165ms\tremaining: 619ms\n",
      "21:\tlearn: 0.9401806\ttotal: 180ms\tremaining: 638ms\n",
      "22:\tlearn: 0.9390519\ttotal: 189ms\tremaining: 631ms\n",
      "23:\tlearn: 0.9401806\ttotal: 199ms\tremaining: 632ms\n",
      "24:\tlearn: 0.9424379\ttotal: 206ms\tremaining: 617ms\n",
      "25:\tlearn: 0.9424379\ttotal: 215ms\tremaining: 611ms\n",
      "26:\tlearn: 0.9424379\ttotal: 220ms\tremaining: 596ms\n",
      "27:\tlearn: 0.9435666\ttotal: 228ms\tremaining: 587ms\n",
      "28:\tlearn: 0.9458239\ttotal: 236ms\tremaining: 578ms\n",
      "29:\tlearn: 0.9458239\ttotal: 243ms\tremaining: 567ms\n",
      "30:\tlearn: 0.9492099\ttotal: 250ms\tremaining: 556ms\n",
      "31:\tlearn: 0.9525959\ttotal: 255ms\tremaining: 543ms\n",
      "32:\tlearn: 0.9537246\ttotal: 263ms\tremaining: 534ms\n",
      "33:\tlearn: 0.9593679\ttotal: 269ms\tremaining: 522ms\n",
      "34:\tlearn: 0.9593679\ttotal: 278ms\tremaining: 517ms\n",
      "35:\tlearn: 0.9604966\ttotal: 284ms\tremaining: 506ms\n",
      "36:\tlearn: 0.9616253\ttotal: 294ms\tremaining: 501ms\n",
      "37:\tlearn: 0.9627540\ttotal: 300ms\tremaining: 489ms\n",
      "38:\tlearn: 0.9650113\ttotal: 305ms\tremaining: 477ms\n",
      "39:\tlearn: 0.9650113\ttotal: 313ms\tremaining: 469ms\n",
      "40:\tlearn: 0.9650113\ttotal: 319ms\tremaining: 459ms\n",
      "41:\tlearn: 0.9661400\ttotal: 327ms\tremaining: 452ms\n",
      "42:\tlearn: 0.9683973\ttotal: 332ms\tremaining: 440ms\n",
      "43:\tlearn: 0.9717833\ttotal: 340ms\tremaining: 433ms\n",
      "44:\tlearn: 0.9751693\ttotal: 348ms\tremaining: 425ms\n",
      "45:\tlearn: 0.9751693\ttotal: 353ms\tremaining: 414ms\n",
      "46:\tlearn: 0.9751693\ttotal: 361ms\tremaining: 407ms\n",
      "47:\tlearn: 0.9751693\ttotal: 367ms\tremaining: 397ms\n",
      "48:\tlearn: 0.9740406\ttotal: 374ms\tremaining: 389ms\n",
      "49:\tlearn: 0.9740406\ttotal: 379ms\tremaining: 379ms\n",
      "50:\tlearn: 0.9740406\ttotal: 384ms\tremaining: 369ms\n",
      "51:\tlearn: 0.9751693\ttotal: 391ms\tremaining: 361ms\n",
      "52:\tlearn: 0.9751693\ttotal: 396ms\tremaining: 351ms\n",
      "53:\tlearn: 0.9762980\ttotal: 401ms\tremaining: 341ms\n",
      "54:\tlearn: 0.9774266\ttotal: 408ms\tremaining: 334ms\n",
      "55:\tlearn: 0.9774266\ttotal: 412ms\tremaining: 324ms\n",
      "56:\tlearn: 0.9774266\ttotal: 418ms\tremaining: 315ms\n",
      "57:\tlearn: 0.9774266\ttotal: 427ms\tremaining: 309ms\n",
      "58:\tlearn: 0.9785553\ttotal: 432ms\tremaining: 300ms\n",
      "59:\tlearn: 0.9774266\ttotal: 437ms\tremaining: 291ms\n",
      "60:\tlearn: 0.9774266\ttotal: 443ms\tremaining: 283ms\n",
      "61:\tlearn: 0.9774266\ttotal: 448ms\tremaining: 274ms\n",
      "62:\tlearn: 0.9785553\ttotal: 454ms\tremaining: 267ms\n",
      "63:\tlearn: 0.9796840\ttotal: 459ms\tremaining: 258ms\n",
      "64:\tlearn: 0.9796840\ttotal: 463ms\tremaining: 249ms\n",
      "65:\tlearn: 0.9808126\ttotal: 468ms\tremaining: 241ms\n",
      "66:\tlearn: 0.9819413\ttotal: 474ms\tremaining: 233ms\n",
      "67:\tlearn: 0.9841986\ttotal: 478ms\tremaining: 225ms\n",
      "68:\tlearn: 0.9830700\ttotal: 482ms\tremaining: 217ms\n",
      "69:\tlearn: 0.9841986\ttotal: 488ms\tremaining: 209ms\n",
      "70:\tlearn: 0.9841986\ttotal: 492ms\tremaining: 201ms\n",
      "71:\tlearn: 0.9841986\ttotal: 497ms\tremaining: 193ms\n",
      "72:\tlearn: 0.9841986\ttotal: 502ms\tremaining: 186ms\n",
      "73:\tlearn: 0.9853273\ttotal: 506ms\tremaining: 178ms\n",
      "74:\tlearn: 0.9853273\ttotal: 510ms\tremaining: 170ms\n",
      "75:\tlearn: 0.9853273\ttotal: 513ms\tremaining: 162ms\n",
      "76:\tlearn: 0.9853273\ttotal: 519ms\tremaining: 155ms\n",
      "77:\tlearn: 0.9853273\ttotal: 522ms\tremaining: 147ms\n",
      "78:\tlearn: 0.9853273\ttotal: 526ms\tremaining: 140ms\n",
      "79:\tlearn: 0.9853273\ttotal: 529ms\tremaining: 132ms\n",
      "80:\tlearn: 0.9853273\ttotal: 535ms\tremaining: 125ms\n",
      "81:\tlearn: 0.9864560\ttotal: 539ms\tremaining: 118ms\n",
      "82:\tlearn: 0.9864560\ttotal: 543ms\tremaining: 111ms\n",
      "83:\tlearn: 0.9864560\ttotal: 547ms\tremaining: 104ms\n",
      "84:\tlearn: 0.9864560\ttotal: 559ms\tremaining: 98.6ms\n",
      "85:\tlearn: 0.9864560\ttotal: 563ms\tremaining: 91.6ms\n",
      "86:\tlearn: 0.9864560\ttotal: 568ms\tremaining: 84.9ms\n",
      "87:\tlearn: 0.9864560\ttotal: 572ms\tremaining: 77.9ms\n",
      "88:\tlearn: 0.9864560\ttotal: 575ms\tremaining: 71.1ms\n",
      "89:\tlearn: 0.9875847\ttotal: 579ms\tremaining: 64.3ms\n",
      "90:\tlearn: 0.9875847\ttotal: 583ms\tremaining: 57.7ms\n",
      "91:\tlearn: 0.9875847\ttotal: 587ms\tremaining: 51ms\n",
      "92:\tlearn: 0.9887133\ttotal: 590ms\tremaining: 44.4ms\n",
      "93:\tlearn: 0.9898420\ttotal: 594ms\tremaining: 37.9ms\n",
      "94:\tlearn: 0.9898420\ttotal: 600ms\tremaining: 31.6ms\n",
      "95:\tlearn: 0.9909707\ttotal: 603ms\tremaining: 25.1ms\n",
      "96:\tlearn: 0.9909707\ttotal: 607ms\tremaining: 18.8ms\n",
      "97:\tlearn: 0.9920993\ttotal: 611ms\tremaining: 12.5ms\n",
      "98:\tlearn: 0.9920993\ttotal: 615ms\tremaining: 6.21ms\n",
      "99:\tlearn: 0.9932280\ttotal: 619ms\tremaining: 0us\n",
      "0:\tlearn: 0.8792325\ttotal: 21.3ms\tremaining: 2.11s\n",
      "1:\tlearn: 0.8984199\ttotal: 31.4ms\tremaining: 1.54s\n",
      "2:\tlearn: 0.9119639\ttotal: 38.7ms\tremaining: 1.25s\n",
      "3:\tlearn: 0.9164786\ttotal: 48.1ms\tremaining: 1.16s\n",
      "4:\tlearn: 0.9187359\ttotal: 54.1ms\tremaining: 1.03s\n",
      "5:\tlearn: 0.9130926\ttotal: 61.1ms\tremaining: 958ms\n",
      "6:\tlearn: 0.9187359\ttotal: 66.5ms\tremaining: 883ms\n",
      "7:\tlearn: 0.9243792\ttotal: 72.1ms\tremaining: 829ms\n",
      "8:\tlearn: 0.9266366\ttotal: 78.7ms\tremaining: 795ms\n",
      "9:\tlearn: 0.9311512\ttotal: 83.4ms\tremaining: 750ms\n",
      "10:\tlearn: 0.9322799\ttotal: 89.2ms\tremaining: 722ms\n",
      "11:\tlearn: 0.9334086\ttotal: 94.8ms\tremaining: 695ms\n",
      "12:\tlearn: 0.9356659\ttotal: 99.1ms\tremaining: 663ms\n",
      "13:\tlearn: 0.9401806\ttotal: 104ms\tremaining: 641ms\n",
      "14:\tlearn: 0.9401806\ttotal: 110ms\tremaining: 621ms\n",
      "15:\tlearn: 0.9379233\ttotal: 113ms\tremaining: 595ms\n",
      "16:\tlearn: 0.9424379\ttotal: 117ms\tremaining: 572ms\n",
      "17:\tlearn: 0.9424379\ttotal: 119ms\tremaining: 541ms\n",
      "18:\tlearn: 0.9435666\ttotal: 124ms\tremaining: 528ms\n",
      "19:\tlearn: 0.9435666\ttotal: 128ms\tremaining: 512ms\n",
      "20:\tlearn: 0.9480813\ttotal: 132ms\tremaining: 496ms\n",
      "21:\tlearn: 0.9480813\ttotal: 136ms\tremaining: 482ms\n",
      "22:\tlearn: 0.9469526\ttotal: 140ms\tremaining: 470ms\n",
      "23:\tlearn: 0.9503386\ttotal: 145ms\tremaining: 458ms\n",
      "24:\tlearn: 0.9492099\ttotal: 148ms\tremaining: 445ms\n",
      "25:\tlearn: 0.9503386\ttotal: 153ms\tremaining: 434ms\n",
      "26:\tlearn: 0.9525959\ttotal: 157ms\tremaining: 424ms\n",
      "27:\tlearn: 0.9559819\ttotal: 160ms\tremaining: 413ms\n",
      "28:\tlearn: 0.9571106\ttotal: 164ms\tremaining: 402ms\n",
      "29:\tlearn: 0.9571106\ttotal: 169ms\tremaining: 394ms\n",
      "30:\tlearn: 0.9593679\ttotal: 174ms\tremaining: 388ms\n",
      "31:\tlearn: 0.9593679\ttotal: 179ms\tremaining: 380ms\n",
      "32:\tlearn: 0.9604966\ttotal: 184ms\tremaining: 373ms\n",
      "33:\tlearn: 0.9604966\ttotal: 189ms\tremaining: 366ms\n",
      "34:\tlearn: 0.9616253\ttotal: 192ms\tremaining: 357ms\n",
      "35:\tlearn: 0.9627540\ttotal: 196ms\tremaining: 348ms\n",
      "36:\tlearn: 0.9627540\ttotal: 200ms\tremaining: 340ms\n",
      "37:\tlearn: 0.9627540\ttotal: 202ms\tremaining: 330ms\n",
      "38:\tlearn: 0.9627540\ttotal: 206ms\tremaining: 322ms\n",
      "39:\tlearn: 0.9627540\ttotal: 209ms\tremaining: 314ms\n",
      "40:\tlearn: 0.9672686\ttotal: 213ms\tremaining: 306ms\n",
      "41:\tlearn: 0.9672686\ttotal: 218ms\tremaining: 301ms\n",
      "42:\tlearn: 0.9672686\ttotal: 221ms\tremaining: 293ms\n",
      "43:\tlearn: 0.9672686\ttotal: 225ms\tremaining: 286ms\n",
      "44:\tlearn: 0.9672686\ttotal: 228ms\tremaining: 279ms\n",
      "45:\tlearn: 0.9683973\ttotal: 233ms\tremaining: 274ms\n",
      "46:\tlearn: 0.9695260\ttotal: 238ms\tremaining: 268ms\n",
      "47:\tlearn: 0.9683973\ttotal: 243ms\tremaining: 263ms\n",
      "48:\tlearn: 0.9706546\ttotal: 247ms\tremaining: 257ms\n",
      "49:\tlearn: 0.9706546\ttotal: 251ms\tremaining: 251ms\n",
      "50:\tlearn: 0.9706546\ttotal: 253ms\tremaining: 243ms\n",
      "51:\tlearn: 0.9706546\ttotal: 257ms\tremaining: 237ms\n",
      "52:\tlearn: 0.9729120\ttotal: 261ms\tremaining: 231ms\n",
      "53:\tlearn: 0.9740406\ttotal: 267ms\tremaining: 227ms\n",
      "54:\tlearn: 0.9751693\ttotal: 270ms\tremaining: 221ms\n",
      "55:\tlearn: 0.9751693\ttotal: 274ms\tremaining: 215ms\n",
      "56:\tlearn: 0.9751693\ttotal: 276ms\tremaining: 208ms\n",
      "57:\tlearn: 0.9751693\ttotal: 281ms\tremaining: 203ms\n",
      "58:\tlearn: 0.9740406\ttotal: 285ms\tremaining: 198ms\n",
      "59:\tlearn: 0.9751693\ttotal: 289ms\tremaining: 193ms\n",
      "60:\tlearn: 0.9762980\ttotal: 293ms\tremaining: 187ms\n",
      "61:\tlearn: 0.9762980\ttotal: 298ms\tremaining: 183ms\n",
      "62:\tlearn: 0.9762980\ttotal: 302ms\tremaining: 177ms\n",
      "63:\tlearn: 0.9762980\ttotal: 306ms\tremaining: 172ms\n",
      "64:\tlearn: 0.9762980\ttotal: 310ms\tremaining: 167ms\n",
      "65:\tlearn: 0.9774266\ttotal: 314ms\tremaining: 162ms\n",
      "66:\tlearn: 0.9774266\ttotal: 319ms\tremaining: 157ms\n",
      "67:\tlearn: 0.9785553\ttotal: 324ms\tremaining: 152ms\n",
      "68:\tlearn: 0.9796840\ttotal: 328ms\tremaining: 147ms\n",
      "69:\tlearn: 0.9796840\ttotal: 332ms\tremaining: 142ms\n",
      "70:\tlearn: 0.9808126\ttotal: 336ms\tremaining: 137ms\n",
      "71:\tlearn: 0.9830700\ttotal: 340ms\tremaining: 132ms\n",
      "72:\tlearn: 0.9841986\ttotal: 344ms\tremaining: 127ms\n",
      "73:\tlearn: 0.9841986\ttotal: 348ms\tremaining: 122ms\n",
      "74:\tlearn: 0.9841986\ttotal: 352ms\tremaining: 117ms\n",
      "75:\tlearn: 0.9841986\ttotal: 356ms\tremaining: 112ms\n",
      "76:\tlearn: 0.9853273\ttotal: 361ms\tremaining: 108ms\n",
      "77:\tlearn: 0.9841986\ttotal: 365ms\tremaining: 103ms\n",
      "78:\tlearn: 0.9853273\ttotal: 368ms\tremaining: 97.9ms\n",
      "79:\tlearn: 0.9853273\ttotal: 372ms\tremaining: 93ms\n",
      "80:\tlearn: 0.9853273\ttotal: 377ms\tremaining: 88.4ms\n",
      "81:\tlearn: 0.9864560\ttotal: 381ms\tremaining: 83.6ms\n",
      "82:\tlearn: 0.9864560\ttotal: 385ms\tremaining: 78.9ms\n",
      "83:\tlearn: 0.9864560\ttotal: 389ms\tremaining: 74.1ms\n",
      "84:\tlearn: 0.9864560\ttotal: 395ms\tremaining: 69.7ms\n",
      "85:\tlearn: 0.9864560\ttotal: 399ms\tremaining: 65ms\n",
      "86:\tlearn: 0.9875847\ttotal: 403ms\tremaining: 60.2ms\n",
      "87:\tlearn: 0.9875847\ttotal: 407ms\tremaining: 55.5ms\n",
      "88:\tlearn: 0.9875847\ttotal: 411ms\tremaining: 50.8ms\n",
      "89:\tlearn: 0.9875847\ttotal: 415ms\tremaining: 46.2ms\n",
      "90:\tlearn: 0.9875847\ttotal: 420ms\tremaining: 41.5ms\n",
      "91:\tlearn: 0.9887133\ttotal: 426ms\tremaining: 37ms\n",
      "92:\tlearn: 0.9887133\ttotal: 430ms\tremaining: 32.3ms\n",
      "93:\tlearn: 0.9898420\ttotal: 433ms\tremaining: 27.6ms\n",
      "94:\tlearn: 0.9909707\ttotal: 438ms\tremaining: 23ms\n",
      "95:\tlearn: 0.9909707\ttotal: 443ms\tremaining: 18.5ms\n",
      "96:\tlearn: 0.9932280\ttotal: 448ms\tremaining: 13.9ms\n",
      "97:\tlearn: 0.9932280\ttotal: 452ms\tremaining: 9.23ms\n",
      "98:\tlearn: 0.9932280\ttotal: 456ms\tremaining: 4.61ms\n",
      "99:\tlearn: 0.9932280\ttotal: 461ms\tremaining: 0us\n",
      "0:\tlearn: 0.8769752\ttotal: 7.13ms\tremaining: 706ms\n",
      "1:\tlearn: 0.8939052\ttotal: 11.7ms\tremaining: 573ms\n",
      "2:\tlearn: 0.9029345\ttotal: 15.8ms\tremaining: 511ms\n",
      "3:\tlearn: 0.9097065\ttotal: 20.7ms\tremaining: 496ms\n",
      "4:\tlearn: 0.9198646\ttotal: 24.5ms\tremaining: 465ms\n",
      "5:\tlearn: 0.9176072\ttotal: 27.9ms\tremaining: 437ms\n",
      "6:\tlearn: 0.9209932\ttotal: 31.7ms\tremaining: 422ms\n",
      "7:\tlearn: 0.9255079\ttotal: 37.2ms\tremaining: 428ms\n",
      "8:\tlearn: 0.9311512\ttotal: 40.9ms\tremaining: 413ms\n",
      "9:\tlearn: 0.9322799\ttotal: 44.6ms\tremaining: 401ms\n",
      "10:\tlearn: 0.9345372\ttotal: 48.2ms\tremaining: 390ms\n",
      "11:\tlearn: 0.9345372\ttotal: 59.8ms\tremaining: 438ms\n",
      "12:\tlearn: 0.9334086\ttotal: 63.8ms\tremaining: 427ms\n",
      "13:\tlearn: 0.9379233\ttotal: 70.3ms\tremaining: 432ms\n",
      "14:\tlearn: 0.9379233\ttotal: 74.1ms\tremaining: 420ms\n",
      "15:\tlearn: 0.9379233\ttotal: 78.1ms\tremaining: 410ms\n",
      "16:\tlearn: 0.9390519\ttotal: 82.9ms\tremaining: 405ms\n",
      "17:\tlearn: 0.9356659\ttotal: 87.1ms\tremaining: 397ms\n",
      "18:\tlearn: 0.9379233\ttotal: 91.1ms\tremaining: 388ms\n",
      "19:\tlearn: 0.9390519\ttotal: 95ms\tremaining: 380ms\n",
      "20:\tlearn: 0.9401806\ttotal: 96.6ms\tremaining: 363ms\n",
      "21:\tlearn: 0.9413093\ttotal: 102ms\tremaining: 361ms\n",
      "22:\tlearn: 0.9413093\ttotal: 106ms\tremaining: 356ms\n",
      "23:\tlearn: 0.9424379\ttotal: 110ms\tremaining: 349ms\n",
      "24:\tlearn: 0.9446953\ttotal: 114ms\tremaining: 341ms\n",
      "25:\tlearn: 0.9435666\ttotal: 118ms\tremaining: 336ms\n",
      "26:\tlearn: 0.9480813\ttotal: 122ms\tremaining: 330ms\n",
      "27:\tlearn: 0.9469526\ttotal: 126ms\tremaining: 325ms\n",
      "28:\tlearn: 0.9480813\ttotal: 132ms\tremaining: 323ms\n",
      "29:\tlearn: 0.9492099\ttotal: 137ms\tremaining: 320ms\n",
      "30:\tlearn: 0.9525959\ttotal: 141ms\tremaining: 314ms\n",
      "31:\tlearn: 0.9537246\ttotal: 146ms\tremaining: 310ms\n",
      "32:\tlearn: 0.9548533\ttotal: 150ms\tremaining: 305ms\n",
      "33:\tlearn: 0.9582393\ttotal: 154ms\tremaining: 299ms\n",
      "34:\tlearn: 0.9627540\ttotal: 158ms\tremaining: 293ms\n",
      "35:\tlearn: 0.9638826\ttotal: 162ms\tremaining: 288ms\n",
      "36:\tlearn: 0.9661400\ttotal: 167ms\tremaining: 284ms\n",
      "37:\tlearn: 0.9650113\ttotal: 170ms\tremaining: 278ms\n",
      "38:\tlearn: 0.9638826\ttotal: 174ms\tremaining: 272ms\n",
      "39:\tlearn: 0.9661400\ttotal: 179ms\tremaining: 269ms\n",
      "40:\tlearn: 0.9661400\ttotal: 183ms\tremaining: 264ms\n",
      "41:\tlearn: 0.9672686\ttotal: 188ms\tremaining: 259ms\n",
      "42:\tlearn: 0.9695260\ttotal: 191ms\tremaining: 254ms\n",
      "43:\tlearn: 0.9717833\ttotal: 198ms\tremaining: 252ms\n",
      "44:\tlearn: 0.9729120\ttotal: 201ms\tremaining: 246ms\n",
      "45:\tlearn: 0.9706546\ttotal: 206ms\tremaining: 241ms\n",
      "46:\tlearn: 0.9717833\ttotal: 210ms\tremaining: 237ms\n",
      "47:\tlearn: 0.9717833\ttotal: 214ms\tremaining: 232ms\n",
      "48:\tlearn: 0.9729120\ttotal: 218ms\tremaining: 227ms\n",
      "49:\tlearn: 0.9717833\ttotal: 222ms\tremaining: 222ms\n",
      "50:\tlearn: 0.9717833\ttotal: 227ms\tremaining: 219ms\n",
      "51:\tlearn: 0.9729120\ttotal: 232ms\tremaining: 214ms\n",
      "52:\tlearn: 0.9729120\ttotal: 235ms\tremaining: 209ms\n",
      "53:\tlearn: 0.9729120\ttotal: 239ms\tremaining: 204ms\n",
      "54:\tlearn: 0.9740406\ttotal: 245ms\tremaining: 200ms\n",
      "55:\tlearn: 0.9774266\ttotal: 248ms\tremaining: 195ms\n",
      "56:\tlearn: 0.9774266\ttotal: 252ms\tremaining: 190ms\n",
      "57:\tlearn: 0.9762980\ttotal: 255ms\tremaining: 185ms\n",
      "58:\tlearn: 0.9774266\ttotal: 260ms\tremaining: 181ms\n",
      "59:\tlearn: 0.9774266\ttotal: 264ms\tremaining: 176ms\n",
      "60:\tlearn: 0.9785553\ttotal: 267ms\tremaining: 171ms\n",
      "61:\tlearn: 0.9796840\ttotal: 270ms\tremaining: 166ms\n",
      "62:\tlearn: 0.9785553\ttotal: 275ms\tremaining: 162ms\n",
      "63:\tlearn: 0.9785553\ttotal: 279ms\tremaining: 157ms\n",
      "64:\tlearn: 0.9808126\ttotal: 283ms\tremaining: 152ms\n",
      "65:\tlearn: 0.9808126\ttotal: 286ms\tremaining: 148ms\n",
      "66:\tlearn: 0.9808126\ttotal: 291ms\tremaining: 143ms\n",
      "67:\tlearn: 0.9808126\ttotal: 295ms\tremaining: 139ms\n",
      "68:\tlearn: 0.9819413\ttotal: 299ms\tremaining: 134ms\n",
      "69:\tlearn: 0.9841986\ttotal: 302ms\tremaining: 130ms\n",
      "70:\tlearn: 0.9841986\ttotal: 307ms\tremaining: 125ms\n",
      "71:\tlearn: 0.9841986\ttotal: 311ms\tremaining: 121ms\n",
      "72:\tlearn: 0.9841986\ttotal: 315ms\tremaining: 116ms\n",
      "73:\tlearn: 0.9841986\ttotal: 319ms\tremaining: 112ms\n",
      "74:\tlearn: 0.9841986\ttotal: 324ms\tremaining: 108ms\n",
      "75:\tlearn: 0.9853273\ttotal: 329ms\tremaining: 104ms\n",
      "76:\tlearn: 0.9875847\ttotal: 332ms\tremaining: 99.3ms\n",
      "77:\tlearn: 0.9864560\ttotal: 336ms\tremaining: 94.7ms\n",
      "78:\tlearn: 0.9864560\ttotal: 342ms\tremaining: 90.8ms\n",
      "79:\tlearn: 0.9864560\ttotal: 345ms\tremaining: 86.3ms\n",
      "80:\tlearn: 0.9875847\ttotal: 349ms\tremaining: 81.9ms\n",
      "81:\tlearn: 0.9887133\ttotal: 353ms\tremaining: 77.5ms\n",
      "82:\tlearn: 0.9898420\ttotal: 359ms\tremaining: 73.5ms\n",
      "83:\tlearn: 0.9898420\ttotal: 363ms\tremaining: 69.1ms\n",
      "84:\tlearn: 0.9898420\ttotal: 366ms\tremaining: 64.6ms\n",
      "85:\tlearn: 0.9909707\ttotal: 371ms\tremaining: 60.4ms\n",
      "86:\tlearn: 0.9909707\ttotal: 376ms\tremaining: 56.1ms\n",
      "87:\tlearn: 0.9909707\ttotal: 379ms\tremaining: 51.7ms\n",
      "88:\tlearn: 0.9920993\ttotal: 383ms\tremaining: 47.4ms\n",
      "89:\tlearn: 0.9920993\ttotal: 389ms\tremaining: 43.2ms\n",
      "90:\tlearn: 0.9943567\ttotal: 393ms\tremaining: 38.8ms\n",
      "91:\tlearn: 0.9943567\ttotal: 395ms\tremaining: 34.4ms\n",
      "92:\tlearn: 0.9943567\ttotal: 400ms\tremaining: 30.1ms\n",
      "93:\tlearn: 0.9943567\ttotal: 408ms\tremaining: 26.1ms\n",
      "94:\tlearn: 0.9954853\ttotal: 414ms\tremaining: 21.8ms\n",
      "95:\tlearn: 0.9954853\ttotal: 418ms\tremaining: 17.4ms\n",
      "96:\tlearn: 0.9954853\ttotal: 423ms\tremaining: 13.1ms\n",
      "97:\tlearn: 0.9966140\ttotal: 428ms\tremaining: 8.72ms\n",
      "98:\tlearn: 0.9966140\ttotal: 432ms\tremaining: 4.36ms\n",
      "99:\tlearn: 0.9966140\ttotal: 438ms\tremaining: 0us\n",
      "0:\tlearn: 0.8837472\ttotal: 8.9ms\tremaining: 881ms\n",
      "1:\tlearn: 0.9006772\ttotal: 16.6ms\tremaining: 815ms\n",
      "2:\tlearn: 0.9119639\ttotal: 24.6ms\tremaining: 795ms\n",
      "3:\tlearn: 0.9097065\ttotal: 32.7ms\tremaining: 784ms\n",
      "4:\tlearn: 0.9153499\ttotal: 44.9ms\tremaining: 854ms\n",
      "5:\tlearn: 0.9176072\ttotal: 50.1ms\tremaining: 785ms\n",
      "6:\tlearn: 0.9187359\ttotal: 60.6ms\tremaining: 806ms\n",
      "7:\tlearn: 0.9255079\ttotal: 68.2ms\tremaining: 785ms\n",
      "8:\tlearn: 0.9221219\ttotal: 106ms\tremaining: 1.07s\n",
      "9:\tlearn: 0.9243792\ttotal: 109ms\tremaining: 984ms\n",
      "10:\tlearn: 0.9288939\ttotal: 118ms\tremaining: 957ms\n",
      "11:\tlearn: 0.9300226\ttotal: 131ms\tremaining: 962ms\n",
      "12:\tlearn: 0.9334086\ttotal: 143ms\tremaining: 956ms\n",
      "13:\tlearn: 0.9367946\ttotal: 150ms\tremaining: 922ms\n",
      "14:\tlearn: 0.9379233\ttotal: 159ms\tremaining: 899ms\n",
      "15:\tlearn: 0.9390519\ttotal: 165ms\tremaining: 866ms\n",
      "16:\tlearn: 0.9379233\ttotal: 173ms\tremaining: 846ms\n",
      "17:\tlearn: 0.9401806\ttotal: 178ms\tremaining: 813ms\n",
      "18:\tlearn: 0.9401806\ttotal: 184ms\tremaining: 785ms\n",
      "19:\tlearn: 0.9458239\ttotal: 191ms\tremaining: 765ms\n",
      "20:\tlearn: 0.9469526\ttotal: 196ms\tremaining: 738ms\n",
      "21:\tlearn: 0.9503386\ttotal: 205ms\tremaining: 728ms\n",
      "22:\tlearn: 0.9503386\ttotal: 211ms\tremaining: 706ms\n",
      "23:\tlearn: 0.9537246\ttotal: 216ms\tremaining: 683ms\n",
      "24:\tlearn: 0.9525959\ttotal: 220ms\tremaining: 659ms\n",
      "25:\tlearn: 0.9525959\ttotal: 225ms\tremaining: 640ms\n",
      "26:\tlearn: 0.9537246\ttotal: 230ms\tremaining: 622ms\n",
      "27:\tlearn: 0.9537246\ttotal: 237ms\tremaining: 610ms\n",
      "28:\tlearn: 0.9525959\ttotal: 242ms\tremaining: 592ms\n",
      "29:\tlearn: 0.9548533\ttotal: 246ms\tremaining: 575ms\n",
      "30:\tlearn: 0.9548533\ttotal: 250ms\tremaining: 557ms\n",
      "31:\tlearn: 0.9559819\ttotal: 255ms\tremaining: 543ms\n",
      "32:\tlearn: 0.9571106\ttotal: 261ms\tremaining: 529ms\n",
      "33:\tlearn: 0.9582393\ttotal: 266ms\tremaining: 517ms\n",
      "34:\tlearn: 0.9604966\ttotal: 274ms\tremaining: 510ms\n",
      "35:\tlearn: 0.9604966\ttotal: 279ms\tremaining: 496ms\n",
      "36:\tlearn: 0.9616253\ttotal: 286ms\tremaining: 488ms\n",
      "37:\tlearn: 0.9650113\ttotal: 292ms\tremaining: 476ms\n",
      "38:\tlearn: 0.9672686\ttotal: 299ms\tremaining: 468ms\n",
      "39:\tlearn: 0.9683973\ttotal: 305ms\tremaining: 457ms\n",
      "40:\tlearn: 0.9672686\ttotal: 309ms\tremaining: 445ms\n",
      "41:\tlearn: 0.9695260\ttotal: 316ms\tremaining: 436ms\n",
      "42:\tlearn: 0.9706546\ttotal: 320ms\tremaining: 425ms\n",
      "43:\tlearn: 0.9706546\ttotal: 326ms\tremaining: 415ms\n",
      "44:\tlearn: 0.9729120\ttotal: 333ms\tremaining: 407ms\n",
      "45:\tlearn: 0.9717833\ttotal: 338ms\tremaining: 397ms\n",
      "46:\tlearn: 0.9729120\ttotal: 341ms\tremaining: 385ms\n",
      "47:\tlearn: 0.9729120\ttotal: 349ms\tremaining: 378ms\n",
      "48:\tlearn: 0.9751693\ttotal: 353ms\tremaining: 368ms\n",
      "49:\tlearn: 0.9751693\ttotal: 359ms\tremaining: 359ms\n",
      "50:\tlearn: 0.9751693\ttotal: 366ms\tremaining: 352ms\n",
      "51:\tlearn: 0.9751693\ttotal: 371ms\tremaining: 342ms\n",
      "52:\tlearn: 0.9762980\ttotal: 376ms\tremaining: 333ms\n",
      "53:\tlearn: 0.9774266\ttotal: 382ms\tremaining: 325ms\n",
      "54:\tlearn: 0.9774266\ttotal: 387ms\tremaining: 316ms\n",
      "55:\tlearn: 0.9785553\ttotal: 393ms\tremaining: 309ms\n",
      "56:\tlearn: 0.9785553\ttotal: 401ms\tremaining: 303ms\n",
      "57:\tlearn: 0.9785553\ttotal: 408ms\tremaining: 295ms\n",
      "58:\tlearn: 0.9785553\ttotal: 413ms\tremaining: 287ms\n",
      "59:\tlearn: 0.9785553\ttotal: 418ms\tremaining: 278ms\n",
      "60:\tlearn: 0.9785553\ttotal: 422ms\tremaining: 270ms\n",
      "61:\tlearn: 0.9796840\ttotal: 429ms\tremaining: 263ms\n",
      "62:\tlearn: 0.9808126\ttotal: 433ms\tremaining: 254ms\n",
      "63:\tlearn: 0.9841986\ttotal: 438ms\tremaining: 246ms\n",
      "64:\tlearn: 0.9864560\ttotal: 444ms\tremaining: 239ms\n",
      "65:\tlearn: 0.9864560\ttotal: 448ms\tremaining: 231ms\n",
      "66:\tlearn: 0.9864560\ttotal: 453ms\tremaining: 223ms\n",
      "67:\tlearn: 0.9864560\ttotal: 460ms\tremaining: 216ms\n",
      "68:\tlearn: 0.9864560\ttotal: 464ms\tremaining: 208ms\n",
      "69:\tlearn: 0.9864560\ttotal: 469ms\tremaining: 201ms\n",
      "70:\tlearn: 0.9864560\ttotal: 474ms\tremaining: 194ms\n",
      "71:\tlearn: 0.9875847\ttotal: 480ms\tremaining: 187ms\n",
      "72:\tlearn: 0.9875847\ttotal: 484ms\tremaining: 179ms\n",
      "73:\tlearn: 0.9887133\ttotal: 487ms\tremaining: 171ms\n",
      "74:\tlearn: 0.9887133\ttotal: 493ms\tremaining: 164ms\n",
      "75:\tlearn: 0.9887133\ttotal: 496ms\tremaining: 157ms\n",
      "76:\tlearn: 0.9898420\ttotal: 500ms\tremaining: 149ms\n",
      "77:\tlearn: 0.9898420\ttotal: 503ms\tremaining: 142ms\n",
      "78:\tlearn: 0.9898420\ttotal: 508ms\tremaining: 135ms\n",
      "79:\tlearn: 0.9898420\ttotal: 511ms\tremaining: 128ms\n",
      "80:\tlearn: 0.9898420\ttotal: 515ms\tremaining: 121ms\n",
      "81:\tlearn: 0.9898420\ttotal: 519ms\tremaining: 114ms\n",
      "82:\tlearn: 0.9898420\ttotal: 523ms\tremaining: 107ms\n",
      "83:\tlearn: 0.9898420\ttotal: 527ms\tremaining: 100ms\n",
      "84:\tlearn: 0.9898420\ttotal: 530ms\tremaining: 93.6ms\n",
      "85:\tlearn: 0.9898420\ttotal: 533ms\tremaining: 86.8ms\n",
      "86:\tlearn: 0.9898420\ttotal: 539ms\tremaining: 80.6ms\n",
      "87:\tlearn: 0.9909707\ttotal: 543ms\tremaining: 74ms\n",
      "88:\tlearn: 0.9909707\ttotal: 546ms\tremaining: 67.5ms\n",
      "89:\tlearn: 0.9909707\ttotal: 550ms\tremaining: 61.1ms\n",
      "90:\tlearn: 0.9909707\ttotal: 554ms\tremaining: 54.8ms\n",
      "91:\tlearn: 0.9909707\ttotal: 558ms\tremaining: 48.5ms\n",
      "92:\tlearn: 0.9909707\ttotal: 561ms\tremaining: 42.2ms\n",
      "93:\tlearn: 0.9909707\ttotal: 565ms\tremaining: 36ms\n",
      "94:\tlearn: 0.9920993\ttotal: 568ms\tremaining: 29.9ms\n",
      "95:\tlearn: 0.9920993\ttotal: 572ms\tremaining: 23.8ms\n",
      "96:\tlearn: 0.9932280\ttotal: 575ms\tremaining: 17.8ms\n",
      "97:\tlearn: 0.9932280\ttotal: 578ms\tremaining: 11.8ms\n",
      "98:\tlearn: 0.9932280\ttotal: 581ms\tremaining: 5.87ms\n",
      "99:\tlearn: 0.9932280\ttotal: 586ms\tremaining: 0us\n",
      "0:\tlearn: 0.8781038\ttotal: 15.5ms\tremaining: 1.53s\n",
      "1:\tlearn: 0.9051919\ttotal: 23.7ms\tremaining: 1.16s\n",
      "2:\tlearn: 0.9097065\ttotal: 29.8ms\tremaining: 963ms\n",
      "3:\tlearn: 0.9176072\ttotal: 35.3ms\tremaining: 847ms\n",
      "4:\tlearn: 0.9243792\ttotal: 42.1ms\tremaining: 800ms\n",
      "5:\tlearn: 0.9255079\ttotal: 46.5ms\tremaining: 729ms\n",
      "6:\tlearn: 0.9266366\ttotal: 50.7ms\tremaining: 673ms\n",
      "7:\tlearn: 0.9255079\ttotal: 55.9ms\tremaining: 643ms\n",
      "8:\tlearn: 0.9266366\ttotal: 60ms\tremaining: 607ms\n",
      "9:\tlearn: 0.9266366\ttotal: 64ms\tremaining: 576ms\n",
      "10:\tlearn: 0.9322799\ttotal: 69.1ms\tremaining: 559ms\n",
      "11:\tlearn: 0.9345372\ttotal: 75ms\tremaining: 550ms\n",
      "12:\tlearn: 0.9322799\ttotal: 79.5ms\tremaining: 532ms\n",
      "13:\tlearn: 0.9345372\ttotal: 84.1ms\tremaining: 517ms\n",
      "14:\tlearn: 0.9356659\ttotal: 89.5ms\tremaining: 507ms\n",
      "15:\tlearn: 0.9345372\ttotal: 93.7ms\tremaining: 492ms\n",
      "16:\tlearn: 0.9345372\ttotal: 98.4ms\tremaining: 481ms\n",
      "17:\tlearn: 0.9345372\ttotal: 105ms\tremaining: 478ms\n",
      "18:\tlearn: 0.9345372\ttotal: 109ms\tremaining: 465ms\n",
      "19:\tlearn: 0.9367946\ttotal: 113ms\tremaining: 451ms\n",
      "20:\tlearn: 0.9356659\ttotal: 114ms\tremaining: 430ms\n",
      "21:\tlearn: 0.9367946\ttotal: 119ms\tremaining: 420ms\n",
      "22:\tlearn: 0.9356659\ttotal: 122ms\tremaining: 409ms\n",
      "23:\tlearn: 0.9367946\ttotal: 126ms\tremaining: 399ms\n",
      "24:\tlearn: 0.9390519\ttotal: 128ms\tremaining: 385ms\n",
      "25:\tlearn: 0.9413093\ttotal: 133ms\tremaining: 378ms\n",
      "26:\tlearn: 0.9458239\ttotal: 138ms\tremaining: 372ms\n",
      "27:\tlearn: 0.9469526\ttotal: 141ms\tremaining: 363ms\n",
      "28:\tlearn: 0.9469526\ttotal: 145ms\tremaining: 354ms\n",
      "29:\tlearn: 0.9480813\ttotal: 148ms\tremaining: 346ms\n",
      "30:\tlearn: 0.9492099\ttotal: 152ms\tremaining: 339ms\n",
      "31:\tlearn: 0.9514673\ttotal: 156ms\tremaining: 332ms\n",
      "32:\tlearn: 0.9548533\ttotal: 160ms\tremaining: 324ms\n",
      "33:\tlearn: 0.9559819\ttotal: 164ms\tremaining: 317ms\n",
      "34:\tlearn: 0.9571106\ttotal: 169ms\tremaining: 314ms\n",
      "35:\tlearn: 0.9627540\ttotal: 173ms\tremaining: 307ms\n",
      "36:\tlearn: 0.9627540\ttotal: 176ms\tremaining: 300ms\n",
      "37:\tlearn: 0.9672686\ttotal: 180ms\tremaining: 293ms\n",
      "38:\tlearn: 0.9661400\ttotal: 184ms\tremaining: 288ms\n",
      "39:\tlearn: 0.9672686\ttotal: 188ms\tremaining: 282ms\n",
      "40:\tlearn: 0.9683973\ttotal: 191ms\tremaining: 275ms\n",
      "41:\tlearn: 0.9683973\ttotal: 194ms\tremaining: 268ms\n",
      "42:\tlearn: 0.9683973\ttotal: 198ms\tremaining: 263ms\n",
      "43:\tlearn: 0.9683973\ttotal: 202ms\tremaining: 257ms\n",
      "44:\tlearn: 0.9695260\ttotal: 205ms\tremaining: 251ms\n",
      "45:\tlearn: 0.9717833\ttotal: 209ms\tremaining: 245ms\n",
      "46:\tlearn: 0.9717833\ttotal: 213ms\tremaining: 240ms\n",
      "47:\tlearn: 0.9717833\ttotal: 217ms\tremaining: 236ms\n",
      "48:\tlearn: 0.9717833\ttotal: 221ms\tremaining: 230ms\n",
      "49:\tlearn: 0.9740406\ttotal: 225ms\tremaining: 225ms\n",
      "50:\tlearn: 0.9751693\ttotal: 228ms\tremaining: 219ms\n",
      "51:\tlearn: 0.9751693\ttotal: 234ms\tremaining: 216ms\n",
      "52:\tlearn: 0.9751693\ttotal: 238ms\tremaining: 211ms\n",
      "53:\tlearn: 0.9762980\ttotal: 242ms\tremaining: 207ms\n",
      "54:\tlearn: 0.9762980\ttotal: 248ms\tremaining: 203ms\n",
      "55:\tlearn: 0.9785553\ttotal: 252ms\tremaining: 198ms\n",
      "56:\tlearn: 0.9785553\ttotal: 256ms\tremaining: 193ms\n",
      "57:\tlearn: 0.9796840\ttotal: 260ms\tremaining: 189ms\n",
      "58:\tlearn: 0.9796840\ttotal: 265ms\tremaining: 184ms\n",
      "59:\tlearn: 0.9796840\ttotal: 269ms\tremaining: 179ms\n",
      "60:\tlearn: 0.9796840\ttotal: 272ms\tremaining: 174ms\n",
      "61:\tlearn: 0.9808126\ttotal: 276ms\tremaining: 169ms\n",
      "62:\tlearn: 0.9819413\ttotal: 281ms\tremaining: 165ms\n",
      "63:\tlearn: 0.9819413\ttotal: 284ms\tremaining: 160ms\n",
      "64:\tlearn: 0.9841986\ttotal: 288ms\tremaining: 155ms\n",
      "65:\tlearn: 0.9841986\ttotal: 292ms\tremaining: 150ms\n",
      "66:\tlearn: 0.9830700\ttotal: 297ms\tremaining: 146ms\n",
      "67:\tlearn: 0.9841986\ttotal: 300ms\tremaining: 141ms\n",
      "68:\tlearn: 0.9853273\ttotal: 304ms\tremaining: 137ms\n",
      "69:\tlearn: 0.9853273\ttotal: 307ms\tremaining: 132ms\n",
      "70:\tlearn: 0.9853273\ttotal: 312ms\tremaining: 128ms\n",
      "71:\tlearn: 0.9853273\ttotal: 316ms\tremaining: 123ms\n",
      "72:\tlearn: 0.9853273\ttotal: 319ms\tremaining: 118ms\n",
      "73:\tlearn: 0.9853273\ttotal: 323ms\tremaining: 113ms\n",
      "74:\tlearn: 0.9853273\ttotal: 328ms\tremaining: 109ms\n",
      "75:\tlearn: 0.9853273\ttotal: 332ms\tremaining: 105ms\n",
      "76:\tlearn: 0.9864560\ttotal: 335ms\tremaining: 100ms\n",
      "77:\tlearn: 0.9875847\ttotal: 338ms\tremaining: 95.5ms\n",
      "78:\tlearn: 0.9864560\ttotal: 344ms\tremaining: 91.4ms\n",
      "79:\tlearn: 0.9864560\ttotal: 348ms\tremaining: 86.9ms\n",
      "80:\tlearn: 0.9864560\ttotal: 351ms\tremaining: 82.4ms\n",
      "81:\tlearn: 0.9864560\ttotal: 355ms\tremaining: 78ms\n",
      "82:\tlearn: 0.9864560\ttotal: 361ms\tremaining: 73.9ms\n",
      "83:\tlearn: 0.9864560\ttotal: 365ms\tremaining: 69.4ms\n",
      "84:\tlearn: 0.9875847\ttotal: 368ms\tremaining: 65ms\n",
      "85:\tlearn: 0.9887133\ttotal: 372ms\tremaining: 60.6ms\n",
      "86:\tlearn: 0.9898420\ttotal: 376ms\tremaining: 56.2ms\n",
      "87:\tlearn: 0.9898420\ttotal: 380ms\tremaining: 51.8ms\n",
      "88:\tlearn: 0.9898420\ttotal: 384ms\tremaining: 47.4ms\n",
      "89:\tlearn: 0.9898420\ttotal: 387ms\tremaining: 43ms\n",
      "90:\tlearn: 0.9898420\ttotal: 392ms\tremaining: 38.8ms\n",
      "91:\tlearn: 0.9898420\ttotal: 396ms\tremaining: 34.4ms\n",
      "92:\tlearn: 0.9898420\ttotal: 400ms\tremaining: 30.1ms\n",
      "93:\tlearn: 0.9898420\ttotal: 404ms\tremaining: 25.8ms\n",
      "94:\tlearn: 0.9898420\ttotal: 408ms\tremaining: 21.5ms\n",
      "95:\tlearn: 0.9898420\ttotal: 412ms\tremaining: 17.2ms\n",
      "96:\tlearn: 0.9909707\ttotal: 415ms\tremaining: 12.8ms\n",
      "97:\tlearn: 0.9909707\ttotal: 421ms\tremaining: 8.6ms\n",
      "98:\tlearn: 0.9909707\ttotal: 426ms\tremaining: 4.3ms\n",
      "99:\tlearn: 0.9909707\ttotal: 430ms\tremaining: 0us\n",
      "0:\tlearn: 0.8814898\ttotal: 8.57ms\tremaining: 848ms\n",
      "1:\tlearn: 0.8916479\ttotal: 12.3ms\tremaining: 600ms\n",
      "2:\tlearn: 0.9051919\ttotal: 16.3ms\tremaining: 526ms\n",
      "3:\tlearn: 0.9164786\ttotal: 21.5ms\tremaining: 517ms\n",
      "4:\tlearn: 0.9209932\ttotal: 25.3ms\tremaining: 481ms\n",
      "5:\tlearn: 0.9164786\ttotal: 29.5ms\tremaining: 463ms\n",
      "6:\tlearn: 0.9198646\ttotal: 35.7ms\tremaining: 475ms\n",
      "7:\tlearn: 0.9255079\ttotal: 40.5ms\tremaining: 466ms\n",
      "8:\tlearn: 0.9277652\ttotal: 45.8ms\tremaining: 463ms\n",
      "9:\tlearn: 0.9266366\ttotal: 51.4ms\tremaining: 462ms\n",
      "10:\tlearn: 0.9322799\ttotal: 57.2ms\tremaining: 463ms\n",
      "11:\tlearn: 0.9334086\ttotal: 62ms\tremaining: 455ms\n",
      "12:\tlearn: 0.9300226\ttotal: 68.6ms\tremaining: 459ms\n",
      "13:\tlearn: 0.9345372\ttotal: 73.7ms\tremaining: 453ms\n",
      "14:\tlearn: 0.9379233\ttotal: 78.7ms\tremaining: 446ms\n",
      "15:\tlearn: 0.9390519\ttotal: 86.4ms\tremaining: 454ms\n",
      "16:\tlearn: 0.9390519\ttotal: 90ms\tremaining: 439ms\n",
      "17:\tlearn: 0.9379233\ttotal: 91.4ms\tremaining: 416ms\n",
      "18:\tlearn: 0.9390519\ttotal: 95.2ms\tremaining: 406ms\n",
      "19:\tlearn: 0.9413093\ttotal: 99.7ms\tremaining: 399ms\n",
      "20:\tlearn: 0.9435666\ttotal: 103ms\tremaining: 389ms\n",
      "21:\tlearn: 0.9435666\ttotal: 107ms\tremaining: 380ms\n",
      "22:\tlearn: 0.9446953\ttotal: 111ms\tremaining: 371ms\n",
      "23:\tlearn: 0.9446953\ttotal: 116ms\tremaining: 366ms\n",
      "24:\tlearn: 0.9480813\ttotal: 120ms\tremaining: 360ms\n",
      "25:\tlearn: 0.9480813\ttotal: 123ms\tremaining: 351ms\n",
      "26:\tlearn: 0.9480813\ttotal: 127ms\tremaining: 343ms\n",
      "27:\tlearn: 0.9480813\ttotal: 131ms\tremaining: 337ms\n",
      "28:\tlearn: 0.9480813\ttotal: 135ms\tremaining: 330ms\n",
      "29:\tlearn: 0.9514673\ttotal: 139ms\tremaining: 323ms\n",
      "30:\tlearn: 0.9514673\ttotal: 142ms\tremaining: 316ms\n",
      "31:\tlearn: 0.9582393\ttotal: 146ms\tremaining: 310ms\n",
      "32:\tlearn: 0.9593679\ttotal: 150ms\tremaining: 305ms\n",
      "33:\tlearn: 0.9604966\ttotal: 154ms\tremaining: 300ms\n",
      "34:\tlearn: 0.9627540\ttotal: 159ms\tremaining: 295ms\n",
      "35:\tlearn: 0.9638826\ttotal: 165ms\tremaining: 293ms\n",
      "36:\tlearn: 0.9638826\ttotal: 169ms\tremaining: 288ms\n",
      "37:\tlearn: 0.9661400\ttotal: 173ms\tremaining: 283ms\n",
      "38:\tlearn: 0.9661400\ttotal: 177ms\tremaining: 277ms\n",
      "39:\tlearn: 0.9661400\ttotal: 180ms\tremaining: 270ms\n",
      "40:\tlearn: 0.9683973\ttotal: 184ms\tremaining: 265ms\n",
      "41:\tlearn: 0.9695260\ttotal: 187ms\tremaining: 259ms\n",
      "42:\tlearn: 0.9706546\ttotal: 192ms\tremaining: 254ms\n",
      "43:\tlearn: 0.9717833\ttotal: 197ms\tremaining: 251ms\n",
      "44:\tlearn: 0.9717833\ttotal: 201ms\tremaining: 246ms\n",
      "45:\tlearn: 0.9717833\ttotal: 205ms\tremaining: 241ms\n",
      "46:\tlearn: 0.9717833\ttotal: 210ms\tremaining: 236ms\n",
      "47:\tlearn: 0.9717833\ttotal: 215ms\tremaining: 232ms\n",
      "48:\tlearn: 0.9717833\ttotal: 219ms\tremaining: 228ms\n",
      "49:\tlearn: 0.9717833\ttotal: 220ms\tremaining: 220ms\n",
      "50:\tlearn: 0.9717833\ttotal: 225ms\tremaining: 216ms\n",
      "51:\tlearn: 0.9717833\ttotal: 229ms\tremaining: 212ms\n",
      "52:\tlearn: 0.9729120\ttotal: 233ms\tremaining: 206ms\n",
      "53:\tlearn: 0.9717833\ttotal: 236ms\tremaining: 201ms\n",
      "54:\tlearn: 0.9729120\ttotal: 240ms\tremaining: 197ms\n",
      "55:\tlearn: 0.9740406\ttotal: 246ms\tremaining: 193ms\n",
      "56:\tlearn: 0.9751693\ttotal: 249ms\tremaining: 188ms\n",
      "57:\tlearn: 0.9774266\ttotal: 253ms\tremaining: 183ms\n",
      "58:\tlearn: 0.9774266\ttotal: 256ms\tremaining: 178ms\n",
      "59:\tlearn: 0.9774266\ttotal: 261ms\tremaining: 174ms\n",
      "60:\tlearn: 0.9785553\ttotal: 265ms\tremaining: 169ms\n",
      "61:\tlearn: 0.9796840\ttotal: 269ms\tremaining: 165ms\n",
      "62:\tlearn: 0.9819413\ttotal: 272ms\tremaining: 160ms\n",
      "63:\tlearn: 0.9819413\ttotal: 278ms\tremaining: 157ms\n",
      "64:\tlearn: 0.9819413\ttotal: 282ms\tremaining: 152ms\n",
      "65:\tlearn: 0.9819413\ttotal: 286ms\tremaining: 147ms\n",
      "66:\tlearn: 0.9819413\ttotal: 289ms\tremaining: 142ms\n",
      "67:\tlearn: 0.9819413\ttotal: 294ms\tremaining: 138ms\n",
      "68:\tlearn: 0.9819413\ttotal: 298ms\tremaining: 134ms\n",
      "69:\tlearn: 0.9819413\ttotal: 301ms\tremaining: 129ms\n",
      "70:\tlearn: 0.9819413\ttotal: 305ms\tremaining: 124ms\n",
      "71:\tlearn: 0.9819413\ttotal: 310ms\tremaining: 120ms\n",
      "72:\tlearn: 0.9830700\ttotal: 313ms\tremaining: 116ms\n",
      "73:\tlearn: 0.9830700\ttotal: 317ms\tremaining: 111ms\n",
      "74:\tlearn: 0.9830700\ttotal: 320ms\tremaining: 107ms\n",
      "75:\tlearn: 0.9830700\ttotal: 325ms\tremaining: 103ms\n",
      "76:\tlearn: 0.9830700\ttotal: 328ms\tremaining: 98.1ms\n",
      "77:\tlearn: 0.9830700\ttotal: 332ms\tremaining: 93.7ms\n",
      "78:\tlearn: 0.9841986\ttotal: 336ms\tremaining: 89.3ms\n",
      "79:\tlearn: 0.9841986\ttotal: 341ms\tremaining: 85.3ms\n",
      "80:\tlearn: 0.9853273\ttotal: 345ms\tremaining: 80.9ms\n",
      "81:\tlearn: 0.9864560\ttotal: 348ms\tremaining: 76.5ms\n",
      "82:\tlearn: 0.9864560\ttotal: 354ms\tremaining: 72.4ms\n",
      "83:\tlearn: 0.9864560\ttotal: 359ms\tremaining: 68.3ms\n",
      "84:\tlearn: 0.9864560\ttotal: 364ms\tremaining: 64.2ms\n",
      "85:\tlearn: 0.9864560\ttotal: 368ms\tremaining: 60ms\n",
      "86:\tlearn: 0.9864560\ttotal: 374ms\tremaining: 55.9ms\n",
      "87:\tlearn: 0.9875847\ttotal: 378ms\tremaining: 51.6ms\n",
      "88:\tlearn: 0.9875847\ttotal: 382ms\tremaining: 47.2ms\n",
      "89:\tlearn: 0.9887133\ttotal: 388ms\tremaining: 43.1ms\n",
      "90:\tlearn: 0.9887133\ttotal: 392ms\tremaining: 38.8ms\n",
      "91:\tlearn: 0.9887133\ttotal: 397ms\tremaining: 34.5ms\n",
      "92:\tlearn: 0.9887133\ttotal: 401ms\tremaining: 30.2ms\n",
      "93:\tlearn: 0.9887133\ttotal: 405ms\tremaining: 25.9ms\n",
      "94:\tlearn: 0.9887133\ttotal: 408ms\tremaining: 21.5ms\n",
      "95:\tlearn: 0.9887133\ttotal: 413ms\tremaining: 17.2ms\n",
      "96:\tlearn: 0.9909707\ttotal: 417ms\tremaining: 12.9ms\n",
      "97:\tlearn: 0.9898420\ttotal: 421ms\tremaining: 8.59ms\n",
      "98:\tlearn: 0.9898420\ttotal: 425ms\tremaining: 4.29ms\n",
      "99:\tlearn: 0.9909707\ttotal: 428ms\tremaining: 0us\n",
      "0:\tlearn: 0.8679458\ttotal: 18.2ms\tremaining: 1.8s\n",
      "1:\tlearn: 0.8950339\ttotal: 26.2ms\tremaining: 1.28s\n",
      "2:\tlearn: 0.9063205\ttotal: 40.9ms\tremaining: 1.32s\n",
      "3:\tlearn: 0.9176072\ttotal: 46.1ms\tremaining: 1.11s\n",
      "4:\tlearn: 0.9176072\ttotal: 55.9ms\tremaining: 1.06s\n",
      "5:\tlearn: 0.9176072\ttotal: 61.3ms\tremaining: 960ms\n",
      "6:\tlearn: 0.9187359\ttotal: 70ms\tremaining: 930ms\n",
      "7:\tlearn: 0.9288939\ttotal: 76.9ms\tremaining: 884ms\n",
      "8:\tlearn: 0.9255079\ttotal: 86.7ms\tremaining: 877ms\n",
      "9:\tlearn: 0.9300226\ttotal: 102ms\tremaining: 920ms\n",
      "10:\tlearn: 0.9288939\ttotal: 109ms\tremaining: 884ms\n",
      "11:\tlearn: 0.9334086\ttotal: 118ms\tremaining: 864ms\n",
      "12:\tlearn: 0.9334086\ttotal: 124ms\tremaining: 828ms\n",
      "13:\tlearn: 0.9334086\ttotal: 132ms\tremaining: 809ms\n",
      "14:\tlearn: 0.9334086\ttotal: 137ms\tremaining: 779ms\n",
      "15:\tlearn: 0.9345372\ttotal: 143ms\tremaining: 751ms\n",
      "16:\tlearn: 0.9367946\ttotal: 150ms\tremaining: 735ms\n",
      "17:\tlearn: 0.9356659\ttotal: 156ms\tremaining: 712ms\n",
      "18:\tlearn: 0.9356659\ttotal: 165ms\tremaining: 705ms\n",
      "19:\tlearn: 0.9401806\ttotal: 170ms\tremaining: 681ms\n",
      "20:\tlearn: 0.9413093\ttotal: 173ms\tremaining: 651ms\n",
      "21:\tlearn: 0.9413093\ttotal: 180ms\tremaining: 639ms\n",
      "22:\tlearn: 0.9413093\ttotal: 186ms\tremaining: 622ms\n",
      "23:\tlearn: 0.9435666\ttotal: 193ms\tremaining: 611ms\n",
      "24:\tlearn: 0.9458239\ttotal: 201ms\tremaining: 604ms\n",
      "25:\tlearn: 0.9480813\ttotal: 211ms\tremaining: 600ms\n",
      "26:\tlearn: 0.9480813\ttotal: 216ms\tremaining: 583ms\n",
      "27:\tlearn: 0.9492099\ttotal: 221ms\tremaining: 568ms\n",
      "28:\tlearn: 0.9492099\ttotal: 226ms\tremaining: 554ms\n",
      "29:\tlearn: 0.9514673\ttotal: 231ms\tremaining: 540ms\n",
      "30:\tlearn: 0.9525959\ttotal: 236ms\tremaining: 525ms\n",
      "31:\tlearn: 0.9525959\ttotal: 242ms\tremaining: 515ms\n",
      "32:\tlearn: 0.9525959\ttotal: 247ms\tremaining: 501ms\n",
      "33:\tlearn: 0.9525959\ttotal: 255ms\tremaining: 494ms\n",
      "34:\tlearn: 0.9537246\ttotal: 262ms\tremaining: 486ms\n",
      "35:\tlearn: 0.9571106\ttotal: 267ms\tremaining: 474ms\n",
      "36:\tlearn: 0.9593679\ttotal: 272ms\tremaining: 463ms\n",
      "37:\tlearn: 0.9571106\ttotal: 275ms\tremaining: 448ms\n",
      "38:\tlearn: 0.9582393\ttotal: 279ms\tremaining: 437ms\n",
      "39:\tlearn: 0.9604966\ttotal: 284ms\tremaining: 426ms\n",
      "40:\tlearn: 0.9638826\ttotal: 290ms\tremaining: 418ms\n",
      "41:\tlearn: 0.9650113\ttotal: 298ms\tremaining: 411ms\n",
      "42:\tlearn: 0.9661400\ttotal: 303ms\tremaining: 402ms\n",
      "43:\tlearn: 0.9672686\ttotal: 310ms\tremaining: 395ms\n",
      "44:\tlearn: 0.9683973\ttotal: 315ms\tremaining: 385ms\n",
      "45:\tlearn: 0.9695260\ttotal: 319ms\tremaining: 375ms\n",
      "46:\tlearn: 0.9717833\ttotal: 326ms\tremaining: 368ms\n",
      "47:\tlearn: 0.9717833\ttotal: 331ms\tremaining: 358ms\n",
      "48:\tlearn: 0.9717833\ttotal: 335ms\tremaining: 349ms\n",
      "49:\tlearn: 0.9717833\ttotal: 338ms\tremaining: 338ms\n",
      "50:\tlearn: 0.9717833\ttotal: 340ms\tremaining: 326ms\n",
      "51:\tlearn: 0.9717833\ttotal: 344ms\tremaining: 318ms\n",
      "52:\tlearn: 0.9717833\ttotal: 346ms\tremaining: 307ms\n",
      "53:\tlearn: 0.9751693\ttotal: 350ms\tremaining: 298ms\n",
      "54:\tlearn: 0.9762980\ttotal: 356ms\tremaining: 291ms\n",
      "55:\tlearn: 0.9762980\ttotal: 359ms\tremaining: 282ms\n",
      "56:\tlearn: 0.9762980\ttotal: 363ms\tremaining: 274ms\n",
      "57:\tlearn: 0.9774266\ttotal: 364ms\tremaining: 264ms\n",
      "58:\tlearn: 0.9774266\ttotal: 368ms\tremaining: 256ms\n",
      "59:\tlearn: 0.9774266\ttotal: 372ms\tremaining: 248ms\n",
      "60:\tlearn: 0.9774266\ttotal: 375ms\tremaining: 240ms\n",
      "61:\tlearn: 0.9774266\ttotal: 379ms\tremaining: 232ms\n",
      "62:\tlearn: 0.9774266\ttotal: 382ms\tremaining: 224ms\n",
      "63:\tlearn: 0.9774266\ttotal: 387ms\tremaining: 218ms\n",
      "64:\tlearn: 0.9785553\ttotal: 391ms\tremaining: 210ms\n",
      "65:\tlearn: 0.9774266\ttotal: 394ms\tremaining: 203ms\n",
      "66:\tlearn: 0.9785553\ttotal: 398ms\tremaining: 196ms\n",
      "67:\tlearn: 0.9785553\ttotal: 403ms\tremaining: 190ms\n",
      "68:\tlearn: 0.9785553\ttotal: 407ms\tremaining: 183ms\n",
      "69:\tlearn: 0.9796840\ttotal: 411ms\tremaining: 176ms\n",
      "70:\tlearn: 0.9796840\ttotal: 416ms\tremaining: 170ms\n",
      "71:\tlearn: 0.9808126\ttotal: 422ms\tremaining: 164ms\n",
      "72:\tlearn: 0.9819413\ttotal: 425ms\tremaining: 157ms\n",
      "73:\tlearn: 0.9830700\ttotal: 429ms\tremaining: 151ms\n",
      "74:\tlearn: 0.9830700\ttotal: 434ms\tremaining: 145ms\n",
      "75:\tlearn: 0.9830700\ttotal: 437ms\tremaining: 138ms\n",
      "76:\tlearn: 0.9853273\ttotal: 442ms\tremaining: 132ms\n",
      "77:\tlearn: 0.9853273\ttotal: 445ms\tremaining: 126ms\n",
      "78:\tlearn: 0.9853273\ttotal: 449ms\tremaining: 119ms\n",
      "79:\tlearn: 0.9864560\ttotal: 453ms\tremaining: 113ms\n",
      "80:\tlearn: 0.9864560\ttotal: 456ms\tremaining: 107ms\n",
      "81:\tlearn: 0.9864560\ttotal: 460ms\tremaining: 101ms\n",
      "82:\tlearn: 0.9864560\ttotal: 463ms\tremaining: 94.9ms\n",
      "83:\tlearn: 0.9864560\ttotal: 467ms\tremaining: 89ms\n",
      "84:\tlearn: 0.9864560\ttotal: 471ms\tremaining: 83.1ms\n",
      "85:\tlearn: 0.9864560\ttotal: 474ms\tremaining: 77.1ms\n",
      "86:\tlearn: 0.9864560\ttotal: 477ms\tremaining: 71.3ms\n",
      "87:\tlearn: 0.9864560\ttotal: 502ms\tremaining: 68.5ms\n",
      "88:\tlearn: 0.9864560\ttotal: 512ms\tremaining: 63.3ms\n",
      "89:\tlearn: 0.9864560\ttotal: 521ms\tremaining: 57.8ms\n",
      "90:\tlearn: 0.9864560\ttotal: 527ms\tremaining: 52.1ms\n",
      "91:\tlearn: 0.9864560\ttotal: 533ms\tremaining: 46.4ms\n",
      "92:\tlearn: 0.9864560\ttotal: 538ms\tremaining: 40.5ms\n",
      "93:\tlearn: 0.9875847\ttotal: 543ms\tremaining: 34.7ms\n",
      "94:\tlearn: 0.9875847\ttotal: 550ms\tremaining: 28.9ms\n",
      "95:\tlearn: 0.9875847\ttotal: 554ms\tremaining: 23.1ms\n",
      "96:\tlearn: 0.9875847\ttotal: 558ms\tremaining: 17.2ms\n",
      "97:\tlearn: 0.9875847\ttotal: 562ms\tremaining: 11.5ms\n",
      "98:\tlearn: 0.9887133\ttotal: 566ms\tremaining: 5.71ms\n",
      "99:\tlearn: 0.9909707\ttotal: 569ms\tremaining: 0us\n",
      "0:\tlearn: 0.8782413\ttotal: 17.9ms\tremaining: 1.77s\n",
      "1:\tlearn: 0.9019166\ttotal: 27.6ms\tremaining: 1.35s\n",
      "2:\tlearn: 0.9131905\ttotal: 36.2ms\tremaining: 1.17s\n",
      "3:\tlearn: 0.9199549\ttotal: 46.7ms\tremaining: 1.12s\n",
      "4:\tlearn: 0.9199549\ttotal: 56.1ms\tremaining: 1.06s\n",
      "5:\tlearn: 0.9109357\ttotal: 66.7ms\tremaining: 1.04s\n",
      "6:\tlearn: 0.9199549\ttotal: 76ms\tremaining: 1.01s\n",
      "7:\tlearn: 0.9222097\ttotal: 88.9ms\tremaining: 1.02s\n",
      "8:\tlearn: 0.9278467\ttotal: 98.9ms\tremaining: 1000ms\n",
      "9:\tlearn: 0.9267193\ttotal: 106ms\tremaining: 958ms\n",
      "10:\tlearn: 0.9267193\ttotal: 113ms\tremaining: 913ms\n",
      "11:\tlearn: 0.9312289\ttotal: 118ms\tremaining: 866ms\n",
      "12:\tlearn: 0.9323563\ttotal: 124ms\tremaining: 827ms\n",
      "13:\tlearn: 0.9312289\ttotal: 128ms\tremaining: 787ms\n",
      "14:\tlearn: 0.9334837\ttotal: 132ms\tremaining: 751ms\n",
      "15:\tlearn: 0.9323563\ttotal: 136ms\tremaining: 714ms\n",
      "16:\tlearn: 0.9346110\ttotal: 141ms\tremaining: 688ms\n",
      "17:\tlearn: 0.9346110\ttotal: 145ms\tremaining: 662ms\n",
      "18:\tlearn: 0.9368658\ttotal: 149ms\tremaining: 637ms\n",
      "19:\tlearn: 0.9402480\ttotal: 154ms\tremaining: 614ms\n",
      "20:\tlearn: 0.9391206\ttotal: 156ms\tremaining: 585ms\n",
      "21:\tlearn: 0.9425028\ttotal: 159ms\tremaining: 564ms\n",
      "22:\tlearn: 0.9425028\ttotal: 163ms\tremaining: 544ms\n",
      "23:\tlearn: 0.9436302\ttotal: 166ms\tremaining: 526ms\n",
      "24:\tlearn: 0.9436302\ttotal: 168ms\tremaining: 505ms\n",
      "25:\tlearn: 0.9436302\ttotal: 173ms\tremaining: 494ms\n",
      "26:\tlearn: 0.9470124\ttotal: 177ms\tremaining: 479ms\n",
      "27:\tlearn: 0.9470124\ttotal: 180ms\tremaining: 464ms\n",
      "28:\tlearn: 0.9470124\ttotal: 184ms\tremaining: 450ms\n",
      "29:\tlearn: 0.9481398\ttotal: 189ms\tremaining: 441ms\n",
      "30:\tlearn: 0.9503946\ttotal: 192ms\tremaining: 428ms\n",
      "31:\tlearn: 0.9526494\ttotal: 196ms\tremaining: 416ms\n",
      "32:\tlearn: 0.9560316\ttotal: 200ms\tremaining: 406ms\n",
      "33:\tlearn: 0.9571590\ttotal: 205ms\tremaining: 398ms\n",
      "34:\tlearn: 0.9571590\ttotal: 209ms\tremaining: 387ms\n",
      "35:\tlearn: 0.9582864\ttotal: 212ms\tremaining: 377ms\n",
      "36:\tlearn: 0.9582864\ttotal: 215ms\tremaining: 366ms\n",
      "37:\tlearn: 0.9605411\ttotal: 220ms\tremaining: 358ms\n",
      "38:\tlearn: 0.9594138\ttotal: 223ms\tremaining: 349ms\n",
      "39:\tlearn: 0.9616685\ttotal: 227ms\tremaining: 340ms\n",
      "40:\tlearn: 0.9627959\ttotal: 230ms\tremaining: 331ms\n",
      "41:\tlearn: 0.9650507\ttotal: 235ms\tremaining: 324ms\n",
      "42:\tlearn: 0.9673055\ttotal: 238ms\tremaining: 316ms\n",
      "43:\tlearn: 0.9684329\ttotal: 242ms\tremaining: 308ms\n",
      "44:\tlearn: 0.9695603\ttotal: 246ms\tremaining: 301ms\n",
      "45:\tlearn: 0.9695603\ttotal: 251ms\tremaining: 294ms\n",
      "46:\tlearn: 0.9695603\ttotal: 254ms\tremaining: 287ms\n",
      "47:\tlearn: 0.9695603\ttotal: 258ms\tremaining: 279ms\n",
      "48:\tlearn: 0.9706877\ttotal: 262ms\tremaining: 272ms\n",
      "49:\tlearn: 0.9718151\ttotal: 266ms\tremaining: 266ms\n",
      "50:\tlearn: 0.9740699\ttotal: 271ms\tremaining: 261ms\n",
      "51:\tlearn: 0.9740699\ttotal: 275ms\tremaining: 254ms\n",
      "52:\tlearn: 0.9751973\ttotal: 278ms\tremaining: 247ms\n",
      "53:\tlearn: 0.9763247\ttotal: 282ms\tremaining: 241ms\n",
      "54:\tlearn: 0.9763247\ttotal: 286ms\tremaining: 234ms\n",
      "55:\tlearn: 0.9763247\ttotal: 290ms\tremaining: 228ms\n",
      "56:\tlearn: 0.9774521\ttotal: 293ms\tremaining: 221ms\n",
      "57:\tlearn: 0.9774521\ttotal: 297ms\tremaining: 215ms\n",
      "58:\tlearn: 0.9774521\ttotal: 301ms\tremaining: 209ms\n",
      "59:\tlearn: 0.9774521\ttotal: 305ms\tremaining: 203ms\n",
      "60:\tlearn: 0.9785795\ttotal: 308ms\tremaining: 197ms\n",
      "61:\tlearn: 0.9785795\ttotal: 312ms\tremaining: 191ms\n",
      "62:\tlearn: 0.9785795\ttotal: 316ms\tremaining: 186ms\n",
      "63:\tlearn: 0.9785795\ttotal: 320ms\tremaining: 180ms\n",
      "64:\tlearn: 0.9785795\ttotal: 323ms\tremaining: 174ms\n",
      "65:\tlearn: 0.9785795\ttotal: 327ms\tremaining: 168ms\n",
      "66:\tlearn: 0.9785795\ttotal: 332ms\tremaining: 163ms\n",
      "67:\tlearn: 0.9797069\ttotal: 335ms\tremaining: 158ms\n",
      "68:\tlearn: 0.9830891\ttotal: 338ms\tremaining: 152ms\n",
      "69:\tlearn: 0.9808343\ttotal: 343ms\tremaining: 147ms\n",
      "70:\tlearn: 0.9808343\ttotal: 348ms\tremaining: 142ms\n",
      "71:\tlearn: 0.9819617\ttotal: 352ms\tremaining: 137ms\n",
      "72:\tlearn: 0.9819617\ttotal: 355ms\tremaining: 131ms\n",
      "73:\tlearn: 0.9830891\ttotal: 359ms\tremaining: 126ms\n",
      "74:\tlearn: 0.9830891\ttotal: 363ms\tremaining: 121ms\n",
      "75:\tlearn: 0.9842165\ttotal: 367ms\tremaining: 116ms\n",
      "76:\tlearn: 0.9830891\ttotal: 370ms\tremaining: 111ms\n",
      "77:\tlearn: 0.9830891\ttotal: 373ms\tremaining: 105ms\n",
      "78:\tlearn: 0.9830891\ttotal: 377ms\tremaining: 100ms\n",
      "79:\tlearn: 0.9853439\ttotal: 381ms\tremaining: 95.3ms\n",
      "80:\tlearn: 0.9864713\ttotal: 385ms\tremaining: 90.2ms\n",
      "81:\tlearn: 0.9864713\ttotal: 388ms\tremaining: 85.2ms\n",
      "82:\tlearn: 0.9853439\ttotal: 391ms\tremaining: 80.2ms\n",
      "83:\tlearn: 0.9864713\ttotal: 397ms\tremaining: 75.5ms\n",
      "84:\tlearn: 0.9875986\ttotal: 400ms\tremaining: 70.6ms\n",
      "85:\tlearn: 0.9875986\ttotal: 403ms\tremaining: 65.6ms\n",
      "86:\tlearn: 0.9875986\ttotal: 406ms\tremaining: 60.7ms\n",
      "87:\tlearn: 0.9875986\ttotal: 411ms\tremaining: 56ms\n",
      "88:\tlearn: 0.9875986\ttotal: 414ms\tremaining: 51.2ms\n",
      "89:\tlearn: 0.9875986\ttotal: 418ms\tremaining: 46.4ms\n",
      "90:\tlearn: 0.9875986\ttotal: 421ms\tremaining: 41.6ms\n",
      "91:\tlearn: 0.9875986\ttotal: 425ms\tremaining: 36.9ms\n",
      "92:\tlearn: 0.9875986\ttotal: 429ms\tremaining: 32.3ms\n",
      "93:\tlearn: 0.9887260\ttotal: 432ms\tremaining: 27.6ms\n",
      "94:\tlearn: 0.9887260\ttotal: 436ms\tremaining: 22.9ms\n",
      "95:\tlearn: 0.9887260\ttotal: 440ms\tremaining: 18.3ms\n",
      "96:\tlearn: 0.9898534\ttotal: 445ms\tremaining: 13.8ms\n",
      "97:\tlearn: 0.9898534\ttotal: 448ms\tremaining: 9.15ms\n",
      "98:\tlearn: 0.9898534\ttotal: 452ms\tremaining: 4.56ms\n",
      "99:\tlearn: 0.9898534\ttotal: 455ms\tremaining: 0us\n",
      "0:\tlearn: 0.8816234\ttotal: 7.63ms\tremaining: 755ms\n",
      "1:\tlearn: 0.8985344\ttotal: 11.7ms\tremaining: 572ms\n",
      "2:\tlearn: 0.9019166\ttotal: 15.9ms\tremaining: 516ms\n",
      "3:\tlearn: 0.9109357\ttotal: 22.8ms\tremaining: 546ms\n",
      "4:\tlearn: 0.9177001\ttotal: 26.7ms\tremaining: 507ms\n",
      "5:\tlearn: 0.9165727\ttotal: 30.5ms\tremaining: 477ms\n",
      "6:\tlearn: 0.9199549\ttotal: 34.5ms\tremaining: 458ms\n",
      "7:\tlearn: 0.9177001\ttotal: 40.6ms\tremaining: 467ms\n",
      "8:\tlearn: 0.9222097\ttotal: 45.2ms\tremaining: 457ms\n",
      "9:\tlearn: 0.9255919\ttotal: 49.7ms\tremaining: 447ms\n",
      "10:\tlearn: 0.9278467\ttotal: 55.3ms\tremaining: 447ms\n",
      "11:\tlearn: 0.9289741\ttotal: 59.1ms\tremaining: 433ms\n",
      "12:\tlearn: 0.9312289\ttotal: 63.1ms\tremaining: 422ms\n",
      "13:\tlearn: 0.9312289\ttotal: 68.1ms\tremaining: 418ms\n",
      "14:\tlearn: 0.9301015\ttotal: 71.8ms\tremaining: 407ms\n",
      "15:\tlearn: 0.9301015\ttotal: 75.4ms\tremaining: 396ms\n",
      "16:\tlearn: 0.9312289\ttotal: 79.4ms\tremaining: 388ms\n",
      "17:\tlearn: 0.9323563\ttotal: 81.1ms\tremaining: 370ms\n",
      "18:\tlearn: 0.9357384\ttotal: 86.3ms\tremaining: 368ms\n",
      "19:\tlearn: 0.9346110\ttotal: 90.2ms\tremaining: 361ms\n",
      "20:\tlearn: 0.9402480\ttotal: 93.8ms\tremaining: 353ms\n",
      "21:\tlearn: 0.9425028\ttotal: 98.6ms\tremaining: 349ms\n",
      "22:\tlearn: 0.9436302\ttotal: 103ms\tremaining: 346ms\n",
      "23:\tlearn: 0.9458850\ttotal: 108ms\tremaining: 341ms\n",
      "24:\tlearn: 0.9470124\ttotal: 111ms\tremaining: 334ms\n",
      "25:\tlearn: 0.9481398\ttotal: 116ms\tremaining: 329ms\n",
      "26:\tlearn: 0.9481398\ttotal: 120ms\tremaining: 325ms\n",
      "27:\tlearn: 0.9481398\ttotal: 123ms\tremaining: 317ms\n",
      "28:\tlearn: 0.9481398\ttotal: 127ms\tremaining: 311ms\n",
      "29:\tlearn: 0.9515220\ttotal: 131ms\tremaining: 306ms\n",
      "30:\tlearn: 0.9537768\ttotal: 135ms\tremaining: 300ms\n",
      "31:\tlearn: 0.9549042\ttotal: 138ms\tremaining: 294ms\n",
      "32:\tlearn: 0.9571590\ttotal: 142ms\tremaining: 288ms\n",
      "33:\tlearn: 0.9594138\ttotal: 146ms\tremaining: 283ms\n",
      "34:\tlearn: 0.9594138\ttotal: 151ms\tremaining: 280ms\n",
      "35:\tlearn: 0.9605411\ttotal: 154ms\tremaining: 274ms\n",
      "36:\tlearn: 0.9605411\ttotal: 158ms\tremaining: 268ms\n",
      "37:\tlearn: 0.9616685\ttotal: 161ms\tremaining: 263ms\n",
      "38:\tlearn: 0.9639233\ttotal: 166ms\tremaining: 260ms\n",
      "39:\tlearn: 0.9650507\ttotal: 168ms\tremaining: 252ms\n",
      "40:\tlearn: 0.9650507\ttotal: 172ms\tremaining: 247ms\n",
      "41:\tlearn: 0.9650507\ttotal: 175ms\tremaining: 242ms\n",
      "42:\tlearn: 0.9673055\ttotal: 179ms\tremaining: 237ms\n",
      "43:\tlearn: 0.9673055\ttotal: 184ms\tremaining: 234ms\n",
      "44:\tlearn: 0.9673055\ttotal: 188ms\tremaining: 230ms\n",
      "45:\tlearn: 0.9684329\ttotal: 192ms\tremaining: 225ms\n",
      "46:\tlearn: 0.9684329\ttotal: 197ms\tremaining: 222ms\n",
      "47:\tlearn: 0.9684329\ttotal: 201ms\tremaining: 218ms\n",
      "48:\tlearn: 0.9684329\ttotal: 205ms\tremaining: 213ms\n",
      "49:\tlearn: 0.9684329\ttotal: 206ms\tremaining: 206ms\n",
      "50:\tlearn: 0.9695603\ttotal: 213ms\tremaining: 204ms\n",
      "51:\tlearn: 0.9695603\ttotal: 217ms\tremaining: 200ms\n",
      "52:\tlearn: 0.9718151\ttotal: 221ms\tremaining: 196ms\n",
      "53:\tlearn: 0.9729425\ttotal: 224ms\tremaining: 191ms\n",
      "54:\tlearn: 0.9740699\ttotal: 229ms\tremaining: 187ms\n",
      "55:\tlearn: 0.9763247\ttotal: 233ms\tremaining: 183ms\n",
      "56:\tlearn: 0.9763247\ttotal: 236ms\tremaining: 178ms\n",
      "57:\tlearn: 0.9763247\ttotal: 240ms\tremaining: 174ms\n",
      "58:\tlearn: 0.9774521\ttotal: 245ms\tremaining: 170ms\n",
      "59:\tlearn: 0.9785795\ttotal: 248ms\tremaining: 166ms\n",
      "60:\tlearn: 0.9785795\ttotal: 252ms\tremaining: 161ms\n",
      "61:\tlearn: 0.9785795\ttotal: 255ms\tremaining: 156ms\n",
      "62:\tlearn: 0.9808343\ttotal: 261ms\tremaining: 153ms\n",
      "63:\tlearn: 0.9808343\ttotal: 264ms\tremaining: 149ms\n",
      "64:\tlearn: 0.9819617\ttotal: 268ms\tremaining: 144ms\n",
      "65:\tlearn: 0.9819617\ttotal: 272ms\tremaining: 140ms\n",
      "66:\tlearn: 0.9830891\ttotal: 278ms\tremaining: 137ms\n",
      "67:\tlearn: 0.9830891\ttotal: 282ms\tremaining: 133ms\n",
      "68:\tlearn: 0.9830891\ttotal: 285ms\tremaining: 128ms\n",
      "69:\tlearn: 0.9830891\ttotal: 290ms\tremaining: 124ms\n",
      "70:\tlearn: 0.9830891\ttotal: 295ms\tremaining: 120ms\n",
      "71:\tlearn: 0.9842165\ttotal: 299ms\tremaining: 116ms\n",
      "72:\tlearn: 0.9830891\ttotal: 303ms\tremaining: 112ms\n",
      "73:\tlearn: 0.9830891\ttotal: 309ms\tremaining: 108ms\n",
      "74:\tlearn: 0.9830891\ttotal: 313ms\tremaining: 104ms\n",
      "75:\tlearn: 0.9853439\ttotal: 317ms\tremaining: 100ms\n",
      "76:\tlearn: 0.9853439\ttotal: 322ms\tremaining: 96.1ms\n",
      "77:\tlearn: 0.9864713\ttotal: 327ms\tremaining: 92.3ms\n",
      "78:\tlearn: 0.9864713\ttotal: 331ms\tremaining: 88ms\n",
      "79:\tlearn: 0.9864713\ttotal: 335ms\tremaining: 83.8ms\n",
      "80:\tlearn: 0.9864713\ttotal: 342ms\tremaining: 80.3ms\n",
      "81:\tlearn: 0.9875986\ttotal: 347ms\tremaining: 76.1ms\n",
      "82:\tlearn: 0.9875986\ttotal: 350ms\tremaining: 71.8ms\n",
      "83:\tlearn: 0.9875986\ttotal: 356ms\tremaining: 67.8ms\n",
      "84:\tlearn: 0.9875986\ttotal: 360ms\tremaining: 63.5ms\n",
      "85:\tlearn: 0.9875986\ttotal: 364ms\tremaining: 59.2ms\n",
      "86:\tlearn: 0.9887260\ttotal: 367ms\tremaining: 54.9ms\n",
      "87:\tlearn: 0.9875986\ttotal: 373ms\tremaining: 50.8ms\n",
      "88:\tlearn: 0.9875986\ttotal: 377ms\tremaining: 46.6ms\n",
      "89:\tlearn: 0.9875986\ttotal: 379ms\tremaining: 42.1ms\n",
      "90:\tlearn: 0.9875986\ttotal: 382ms\tremaining: 37.8ms\n",
      "91:\tlearn: 0.9875986\ttotal: 387ms\tremaining: 33.6ms\n",
      "92:\tlearn: 0.9887260\ttotal: 391ms\tremaining: 29.4ms\n",
      "93:\tlearn: 0.9898534\ttotal: 395ms\tremaining: 25.2ms\n",
      "94:\tlearn: 0.9898534\ttotal: 399ms\tremaining: 21ms\n",
      "95:\tlearn: 0.9898534\ttotal: 404ms\tremaining: 16.8ms\n",
      "96:\tlearn: 0.9898534\ttotal: 406ms\tremaining: 12.6ms\n",
      "97:\tlearn: 0.9909808\ttotal: 410ms\tremaining: 8.37ms\n",
      "98:\tlearn: 0.9909808\ttotal: 414ms\tremaining: 4.18ms\n",
      "99:\tlearn: 0.9909808\ttotal: 419ms\tremaining: 0us\n",
      "0:\tlearn: 0.8771139\ttotal: 7.61ms\tremaining: 753ms\n",
      "1:\tlearn: 0.8974070\ttotal: 12.4ms\tremaining: 605ms\n",
      "2:\tlearn: 0.9120631\ttotal: 22ms\tremaining: 710ms\n",
      "3:\tlearn: 0.9177001\ttotal: 29.2ms\tremaining: 701ms\n",
      "4:\tlearn: 0.9143179\ttotal: 44.4ms\tremaining: 843ms\n",
      "5:\tlearn: 0.9143179\ttotal: 50.8ms\tremaining: 797ms\n",
      "6:\tlearn: 0.9165727\ttotal: 60.1ms\tremaining: 798ms\n",
      "7:\tlearn: 0.9199549\ttotal: 77.9ms\tremaining: 896ms\n",
      "8:\tlearn: 0.9267193\ttotal: 90.1ms\tremaining: 911ms\n",
      "9:\tlearn: 0.9267193\ttotal: 95.6ms\tremaining: 860ms\n",
      "10:\tlearn: 0.9278467\ttotal: 105ms\tremaining: 854ms\n",
      "11:\tlearn: 0.9267193\ttotal: 114ms\tremaining: 833ms\n",
      "12:\tlearn: 0.9278467\ttotal: 122ms\tremaining: 814ms\n",
      "13:\tlearn: 0.9278467\ttotal: 128ms\tremaining: 785ms\n",
      "14:\tlearn: 0.9301015\ttotal: 137ms\tremaining: 776ms\n",
      "15:\tlearn: 0.9301015\ttotal: 144ms\tremaining: 754ms\n",
      "16:\tlearn: 0.9312289\ttotal: 152ms\tremaining: 743ms\n",
      "17:\tlearn: 0.9312289\ttotal: 158ms\tremaining: 722ms\n",
      "18:\tlearn: 0.9323563\ttotal: 169ms\tremaining: 721ms\n",
      "19:\tlearn: 0.9346110\ttotal: 174ms\tremaining: 697ms\n",
      "20:\tlearn: 0.9357384\ttotal: 182ms\tremaining: 685ms\n",
      "21:\tlearn: 0.9346110\ttotal: 188ms\tremaining: 666ms\n",
      "22:\tlearn: 0.9357384\ttotal: 194ms\tremaining: 648ms\n",
      "23:\tlearn: 0.9391206\ttotal: 202ms\tremaining: 640ms\n",
      "24:\tlearn: 0.9379932\ttotal: 207ms\tremaining: 621ms\n",
      "25:\tlearn: 0.9413754\ttotal: 215ms\tremaining: 612ms\n",
      "26:\tlearn: 0.9447576\ttotal: 220ms\tremaining: 595ms\n",
      "27:\tlearn: 0.9470124\ttotal: 227ms\tremaining: 583ms\n",
      "28:\tlearn: 0.9470124\ttotal: 235ms\tremaining: 575ms\n",
      "29:\tlearn: 0.9470124\ttotal: 240ms\tremaining: 560ms\n",
      "30:\tlearn: 0.9458850\ttotal: 248ms\tremaining: 551ms\n",
      "31:\tlearn: 0.9458850\ttotal: 250ms\tremaining: 532ms\n",
      "32:\tlearn: 0.9447576\ttotal: 257ms\tremaining: 523ms\n",
      "33:\tlearn: 0.9515220\ttotal: 267ms\tremaining: 518ms\n",
      "34:\tlearn: 0.9526494\ttotal: 273ms\tremaining: 506ms\n",
      "35:\tlearn: 0.9537768\ttotal: 281ms\tremaining: 499ms\n",
      "36:\tlearn: 0.9571590\ttotal: 286ms\tremaining: 487ms\n",
      "37:\tlearn: 0.9582864\ttotal: 291ms\tremaining: 474ms\n",
      "38:\tlearn: 0.9582864\ttotal: 299ms\tremaining: 468ms\n",
      "39:\tlearn: 0.9594138\ttotal: 305ms\tremaining: 457ms\n",
      "40:\tlearn: 0.9616685\ttotal: 312ms\tremaining: 449ms\n",
      "41:\tlearn: 0.9639233\ttotal: 351ms\tremaining: 484ms\n",
      "42:\tlearn: 0.9650507\ttotal: 361ms\tremaining: 479ms\n",
      "43:\tlearn: 0.9661781\ttotal: 367ms\tremaining: 467ms\n",
      "44:\tlearn: 0.9706877\ttotal: 373ms\tremaining: 455ms\n",
      "45:\tlearn: 0.9718151\ttotal: 382ms\tremaining: 448ms\n",
      "46:\tlearn: 0.9718151\ttotal: 392ms\tremaining: 442ms\n",
      "47:\tlearn: 0.9706877\ttotal: 421ms\tremaining: 457ms\n",
      "48:\tlearn: 0.9718151\ttotal: 436ms\tremaining: 454ms\n",
      "49:\tlearn: 0.9740699\ttotal: 444ms\tremaining: 444ms\n",
      "50:\tlearn: 0.9751973\ttotal: 456ms\tremaining: 438ms\n",
      "51:\tlearn: 0.9751973\ttotal: 469ms\tremaining: 433ms\n",
      "52:\tlearn: 0.9751973\ttotal: 482ms\tremaining: 427ms\n",
      "53:\tlearn: 0.9751973\ttotal: 494ms\tremaining: 421ms\n",
      "54:\tlearn: 0.9751973\ttotal: 499ms\tremaining: 408ms\n",
      "55:\tlearn: 0.9774521\ttotal: 504ms\tremaining: 396ms\n",
      "56:\tlearn: 0.9774521\ttotal: 511ms\tremaining: 385ms\n",
      "57:\tlearn: 0.9774521\ttotal: 516ms\tremaining: 373ms\n",
      "58:\tlearn: 0.9785795\ttotal: 522ms\tremaining: 363ms\n",
      "59:\tlearn: 0.9797069\ttotal: 532ms\tremaining: 355ms\n",
      "60:\tlearn: 0.9797069\ttotal: 539ms\tremaining: 344ms\n",
      "61:\tlearn: 0.9797069\ttotal: 543ms\tremaining: 333ms\n",
      "62:\tlearn: 0.9797069\ttotal: 573ms\tremaining: 337ms\n",
      "63:\tlearn: 0.9797069\ttotal: 581ms\tremaining: 327ms\n",
      "64:\tlearn: 0.9797069\ttotal: 587ms\tremaining: 316ms\n",
      "65:\tlearn: 0.9797069\ttotal: 592ms\tremaining: 305ms\n",
      "66:\tlearn: 0.9797069\ttotal: 596ms\tremaining: 293ms\n",
      "67:\tlearn: 0.9808343\ttotal: 600ms\tremaining: 282ms\n",
      "68:\tlearn: 0.9808343\ttotal: 605ms\tremaining: 272ms\n",
      "69:\tlearn: 0.9808343\ttotal: 611ms\tremaining: 262ms\n",
      "70:\tlearn: 0.9808343\ttotal: 616ms\tremaining: 252ms\n",
      "71:\tlearn: 0.9808343\ttotal: 621ms\tremaining: 241ms\n",
      "72:\tlearn: 0.9830891\ttotal: 625ms\tremaining: 231ms\n",
      "73:\tlearn: 0.9830891\ttotal: 635ms\tremaining: 223ms\n",
      "74:\tlearn: 0.9842165\ttotal: 645ms\tremaining: 215ms\n",
      "75:\tlearn: 0.9842165\ttotal: 656ms\tremaining: 207ms\n",
      "76:\tlearn: 0.9853439\ttotal: 660ms\tremaining: 197ms\n",
      "77:\tlearn: 0.9875986\ttotal: 668ms\tremaining: 188ms\n",
      "78:\tlearn: 0.9875986\ttotal: 676ms\tremaining: 180ms\n",
      "79:\tlearn: 0.9875986\ttotal: 680ms\tremaining: 170ms\n",
      "80:\tlearn: 0.9875986\ttotal: 685ms\tremaining: 161ms\n",
      "81:\tlearn: 0.9875986\ttotal: 689ms\tremaining: 151ms\n",
      "82:\tlearn: 0.9875986\ttotal: 692ms\tremaining: 142ms\n",
      "83:\tlearn: 0.9875986\ttotal: 696ms\tremaining: 133ms\n",
      "84:\tlearn: 0.9875986\ttotal: 700ms\tremaining: 124ms\n",
      "85:\tlearn: 0.9875986\ttotal: 704ms\tremaining: 115ms\n",
      "86:\tlearn: 0.9898534\ttotal: 707ms\tremaining: 106ms\n",
      "87:\tlearn: 0.9898534\ttotal: 711ms\tremaining: 97ms\n",
      "88:\tlearn: 0.9909808\ttotal: 716ms\tremaining: 88.5ms\n",
      "89:\tlearn: 0.9909808\ttotal: 719ms\tremaining: 79.9ms\n",
      "90:\tlearn: 0.9909808\ttotal: 723ms\tremaining: 71.5ms\n",
      "91:\tlearn: 0.9909808\ttotal: 727ms\tremaining: 63.2ms\n",
      "92:\tlearn: 0.9909808\ttotal: 733ms\tremaining: 55.2ms\n",
      "93:\tlearn: 0.9921082\ttotal: 737ms\tremaining: 47ms\n",
      "94:\tlearn: 0.9921082\ttotal: 741ms\tremaining: 39ms\n",
      "95:\tlearn: 0.9921082\ttotal: 745ms\tremaining: 31.1ms\n",
      "96:\tlearn: 0.9909808\ttotal: 750ms\tremaining: 23.2ms\n",
      "97:\tlearn: 0.9909808\ttotal: 754ms\tremaining: 15.4ms\n",
      "98:\tlearn: 0.9909808\ttotal: 758ms\tremaining: 7.66ms\n",
      "99:\tlearn: 0.9921082\ttotal: 764ms\tremaining: 0us\n",
      "0:\tlearn: 0.8793687\ttotal: 6.04ms\tremaining: 598ms\n",
      "1:\tlearn: 0.9052988\ttotal: 12.6ms\tremaining: 616ms\n",
      "2:\tlearn: 0.9154453\ttotal: 17.9ms\tremaining: 579ms\n",
      "3:\tlearn: 0.9188275\ttotal: 22.9ms\tremaining: 550ms\n",
      "4:\tlearn: 0.9210823\ttotal: 27.6ms\tremaining: 525ms\n",
      "5:\tlearn: 0.9289741\ttotal: 31.5ms\tremaining: 493ms\n",
      "6:\tlearn: 0.9267193\ttotal: 34.9ms\tremaining: 463ms\n",
      "7:\tlearn: 0.9323563\ttotal: 39ms\tremaining: 449ms\n",
      "8:\tlearn: 0.9289741\ttotal: 44.3ms\tremaining: 448ms\n",
      "9:\tlearn: 0.9334837\ttotal: 63.8ms\tremaining: 574ms\n",
      "10:\tlearn: 0.9334837\ttotal: 74.6ms\tremaining: 603ms\n",
      "11:\tlearn: 0.9334837\ttotal: 78.4ms\tremaining: 575ms\n",
      "12:\tlearn: 0.9334837\ttotal: 81.9ms\tremaining: 548ms\n",
      "13:\tlearn: 0.9346110\ttotal: 85.4ms\tremaining: 524ms\n",
      "14:\tlearn: 0.9379932\ttotal: 90.7ms\tremaining: 514ms\n",
      "15:\tlearn: 0.9391206\ttotal: 94.4ms\tremaining: 495ms\n",
      "16:\tlearn: 0.9413754\ttotal: 97.8ms\tremaining: 478ms\n",
      "17:\tlearn: 0.9402480\ttotal: 102ms\tremaining: 463ms\n",
      "18:\tlearn: 0.9402480\ttotal: 108ms\tremaining: 459ms\n",
      "19:\tlearn: 0.9379932\ttotal: 112ms\tremaining: 446ms\n",
      "20:\tlearn: 0.9391206\ttotal: 113ms\tremaining: 425ms\n",
      "21:\tlearn: 0.9425028\ttotal: 117ms\tremaining: 414ms\n",
      "22:\tlearn: 0.9458850\ttotal: 122ms\tremaining: 407ms\n",
      "23:\tlearn: 0.9470124\ttotal: 125ms\tremaining: 396ms\n",
      "24:\tlearn: 0.9481398\ttotal: 129ms\tremaining: 386ms\n",
      "25:\tlearn: 0.9492672\ttotal: 132ms\tremaining: 376ms\n",
      "26:\tlearn: 0.9503946\ttotal: 136ms\tremaining: 368ms\n",
      "27:\tlearn: 0.9526494\ttotal: 140ms\tremaining: 361ms\n",
      "28:\tlearn: 0.9526494\ttotal: 144ms\tremaining: 352ms\n",
      "29:\tlearn: 0.9549042\ttotal: 147ms\tremaining: 344ms\n",
      "30:\tlearn: 0.9549042\ttotal: 151ms\tremaining: 337ms\n",
      "31:\tlearn: 0.9594138\ttotal: 156ms\tremaining: 332ms\n",
      "32:\tlearn: 0.9605411\ttotal: 160ms\tremaining: 324ms\n",
      "33:\tlearn: 0.9605411\ttotal: 163ms\tremaining: 317ms\n",
      "34:\tlearn: 0.9639233\ttotal: 167ms\tremaining: 311ms\n",
      "35:\tlearn: 0.9627959\ttotal: 172ms\tremaining: 305ms\n",
      "36:\tlearn: 0.9650507\ttotal: 175ms\tremaining: 299ms\n",
      "37:\tlearn: 0.9650507\ttotal: 177ms\tremaining: 289ms\n",
      "38:\tlearn: 0.9650507\ttotal: 178ms\tremaining: 279ms\n",
      "39:\tlearn: 0.9661781\ttotal: 182ms\tremaining: 273ms\n",
      "40:\tlearn: 0.9673055\ttotal: 186ms\tremaining: 268ms\n",
      "41:\tlearn: 0.9684329\ttotal: 190ms\tremaining: 262ms\n",
      "42:\tlearn: 0.9706877\ttotal: 193ms\tremaining: 256ms\n",
      "43:\tlearn: 0.9729425\ttotal: 199ms\tremaining: 253ms\n",
      "44:\tlearn: 0.9740699\ttotal: 203ms\tremaining: 249ms\n",
      "45:\tlearn: 0.9740699\ttotal: 207ms\tremaining: 243ms\n",
      "46:\tlearn: 0.9729425\ttotal: 211ms\tremaining: 238ms\n",
      "47:\tlearn: 0.9751973\ttotal: 217ms\tremaining: 235ms\n",
      "48:\tlearn: 0.9763247\ttotal: 220ms\tremaining: 229ms\n",
      "49:\tlearn: 0.9763247\ttotal: 224ms\tremaining: 224ms\n",
      "50:\tlearn: 0.9763247\ttotal: 227ms\tremaining: 218ms\n",
      "51:\tlearn: 0.9774521\ttotal: 231ms\tremaining: 214ms\n",
      "52:\tlearn: 0.9774521\ttotal: 235ms\tremaining: 209ms\n",
      "53:\tlearn: 0.9797069\ttotal: 239ms\tremaining: 203ms\n",
      "54:\tlearn: 0.9808343\ttotal: 242ms\tremaining: 198ms\n",
      "55:\tlearn: 0.9808343\ttotal: 247ms\tremaining: 194ms\n",
      "56:\tlearn: 0.9819617\ttotal: 252ms\tremaining: 190ms\n",
      "57:\tlearn: 0.9830891\ttotal: 257ms\tremaining: 186ms\n",
      "58:\tlearn: 0.9842165\ttotal: 260ms\tremaining: 181ms\n",
      "59:\tlearn: 0.9842165\ttotal: 266ms\tremaining: 178ms\n",
      "60:\tlearn: 0.9842165\ttotal: 270ms\tremaining: 173ms\n",
      "61:\tlearn: 0.9842165\ttotal: 274ms\tremaining: 168ms\n",
      "62:\tlearn: 0.9853439\ttotal: 277ms\tremaining: 163ms\n",
      "63:\tlearn: 0.9842165\ttotal: 282ms\tremaining: 159ms\n",
      "64:\tlearn: 0.9853439\ttotal: 286ms\tremaining: 154ms\n",
      "65:\tlearn: 0.9842165\ttotal: 290ms\tremaining: 149ms\n",
      "66:\tlearn: 0.9853439\ttotal: 293ms\tremaining: 144ms\n",
      "67:\tlearn: 0.9853439\ttotal: 301ms\tremaining: 142ms\n",
      "68:\tlearn: 0.9864713\ttotal: 305ms\tremaining: 137ms\n",
      "69:\tlearn: 0.9864713\ttotal: 308ms\tremaining: 132ms\n",
      "70:\tlearn: 0.9864713\ttotal: 313ms\tremaining: 128ms\n",
      "71:\tlearn: 0.9887260\ttotal: 317ms\tremaining: 123ms\n",
      "72:\tlearn: 0.9887260\ttotal: 320ms\tremaining: 119ms\n",
      "73:\tlearn: 0.9887260\ttotal: 324ms\tremaining: 114ms\n",
      "74:\tlearn: 0.9887260\ttotal: 328ms\tremaining: 109ms\n",
      "75:\tlearn: 0.9898534\ttotal: 332ms\tremaining: 105ms\n",
      "76:\tlearn: 0.9887260\ttotal: 336ms\tremaining: 100ms\n",
      "77:\tlearn: 0.9887260\ttotal: 339ms\tremaining: 95.7ms\n",
      "78:\tlearn: 0.9909808\ttotal: 344ms\tremaining: 91.5ms\n",
      "79:\tlearn: 0.9909808\ttotal: 348ms\tremaining: 87.1ms\n",
      "80:\tlearn: 0.9909808\ttotal: 352ms\tremaining: 82.6ms\n",
      "81:\tlearn: 0.9909808\ttotal: 356ms\tremaining: 78.1ms\n",
      "82:\tlearn: 0.9909808\ttotal: 360ms\tremaining: 73.7ms\n",
      "83:\tlearn: 0.9932356\ttotal: 364ms\tremaining: 69.3ms\n",
      "84:\tlearn: 0.9932356\ttotal: 367ms\tremaining: 64.8ms\n",
      "85:\tlearn: 0.9921082\ttotal: 371ms\tremaining: 60.4ms\n",
      "86:\tlearn: 0.9932356\ttotal: 374ms\tremaining: 55.9ms\n",
      "87:\tlearn: 0.9932356\ttotal: 378ms\tremaining: 51.6ms\n",
      "88:\tlearn: 0.9932356\ttotal: 382ms\tremaining: 47.2ms\n",
      "89:\tlearn: 0.9932356\ttotal: 385ms\tremaining: 42.8ms\n",
      "90:\tlearn: 0.9943630\ttotal: 388ms\tremaining: 38.4ms\n",
      "91:\tlearn: 0.9954904\ttotal: 393ms\tremaining: 34.2ms\n",
      "92:\tlearn: 0.9954904\ttotal: 396ms\tremaining: 29.8ms\n",
      "93:\tlearn: 0.9954904\ttotal: 400ms\tremaining: 25.5ms\n",
      "94:\tlearn: 0.9954904\ttotal: 403ms\tremaining: 21.2ms\n",
      "95:\tlearn: 0.9954904\ttotal: 407ms\tremaining: 17ms\n",
      "96:\tlearn: 0.9943630\ttotal: 411ms\tremaining: 12.7ms\n",
      "97:\tlearn: 0.9943630\ttotal: 414ms\tremaining: 8.45ms\n",
      "98:\tlearn: 0.9954904\ttotal: 417ms\tremaining: 4.21ms\n",
      "99:\tlearn: 0.9954904\ttotal: 421ms\tremaining: 0us\n",
      "0:\tlearn: 0.8793687\ttotal: 13.1ms\tremaining: 1.3s\n",
      "1:\tlearn: 0.8974070\ttotal: 23.9ms\tremaining: 1.17s\n",
      "2:\tlearn: 0.9143179\ttotal: 33.7ms\tremaining: 1.09s\n",
      "3:\tlearn: 0.9177001\ttotal: 44ms\tremaining: 1.05s\n",
      "4:\tlearn: 0.9233371\ttotal: 50.9ms\tremaining: 968ms\n",
      "5:\tlearn: 0.9233371\ttotal: 59.1ms\tremaining: 926ms\n",
      "6:\tlearn: 0.9255919\ttotal: 66.2ms\tremaining: 879ms\n",
      "7:\tlearn: 0.9346110\ttotal: 73.8ms\tremaining: 849ms\n",
      "8:\tlearn: 0.9334837\ttotal: 79.3ms\tremaining: 802ms\n",
      "9:\tlearn: 0.9334837\ttotal: 83.8ms\tremaining: 754ms\n",
      "10:\tlearn: 0.9346110\ttotal: 89.5ms\tremaining: 724ms\n",
      "11:\tlearn: 0.9368658\ttotal: 94.3ms\tremaining: 692ms\n",
      "12:\tlearn: 0.9391206\ttotal: 98.8ms\tremaining: 661ms\n",
      "13:\tlearn: 0.9379932\ttotal: 105ms\tremaining: 643ms\n",
      "14:\tlearn: 0.9368658\ttotal: 109ms\tremaining: 617ms\n",
      "15:\tlearn: 0.9357384\ttotal: 114ms\tremaining: 597ms\n",
      "16:\tlearn: 0.9402480\ttotal: 119ms\tremaining: 583ms\n",
      "17:\tlearn: 0.9402480\ttotal: 125ms\tremaining: 568ms\n",
      "18:\tlearn: 0.9413754\ttotal: 130ms\tremaining: 554ms\n",
      "19:\tlearn: 0.9447576\ttotal: 136ms\tremaining: 546ms\n",
      "20:\tlearn: 0.9447576\ttotal: 139ms\tremaining: 521ms\n",
      "21:\tlearn: 0.9436302\ttotal: 143ms\tremaining: 507ms\n",
      "22:\tlearn: 0.9458850\ttotal: 147ms\tremaining: 494ms\n",
      "23:\tlearn: 0.9481398\ttotal: 153ms\tremaining: 486ms\n",
      "24:\tlearn: 0.9470124\ttotal: 158ms\tremaining: 474ms\n",
      "25:\tlearn: 0.9492672\ttotal: 162ms\tremaining: 462ms\n",
      "26:\tlearn: 0.9515220\ttotal: 168ms\tremaining: 455ms\n",
      "27:\tlearn: 0.9526494\ttotal: 173ms\tremaining: 445ms\n",
      "28:\tlearn: 0.9526494\ttotal: 179ms\tremaining: 438ms\n",
      "29:\tlearn: 0.9526494\ttotal: 182ms\tremaining: 425ms\n",
      "30:\tlearn: 0.9571590\ttotal: 187ms\tremaining: 415ms\n",
      "31:\tlearn: 0.9571590\ttotal: 191ms\tremaining: 406ms\n",
      "32:\tlearn: 0.9616685\ttotal: 196ms\tremaining: 397ms\n",
      "33:\tlearn: 0.9639233\ttotal: 201ms\tremaining: 391ms\n",
      "34:\tlearn: 0.9627959\ttotal: 206ms\tremaining: 382ms\n",
      "35:\tlearn: 0.9639233\ttotal: 210ms\tremaining: 374ms\n",
      "36:\tlearn: 0.9650507\ttotal: 218ms\tremaining: 370ms\n",
      "37:\tlearn: 0.9639233\ttotal: 221ms\tremaining: 361ms\n",
      "38:\tlearn: 0.9650507\ttotal: 225ms\tremaining: 352ms\n",
      "39:\tlearn: 0.9650507\ttotal: 231ms\tremaining: 346ms\n",
      "40:\tlearn: 0.9650507\ttotal: 237ms\tremaining: 340ms\n",
      "41:\tlearn: 0.9639233\ttotal: 240ms\tremaining: 332ms\n",
      "42:\tlearn: 0.9650507\ttotal: 244ms\tremaining: 323ms\n",
      "43:\tlearn: 0.9684329\ttotal: 250ms\tremaining: 318ms\n",
      "44:\tlearn: 0.9695603\ttotal: 253ms\tremaining: 309ms\n",
      "45:\tlearn: 0.9740699\ttotal: 257ms\tremaining: 302ms\n",
      "46:\tlearn: 0.9740699\ttotal: 263ms\tremaining: 297ms\n",
      "47:\tlearn: 0.9729425\ttotal: 268ms\tremaining: 291ms\n",
      "48:\tlearn: 0.9729425\ttotal: 276ms\tremaining: 287ms\n",
      "49:\tlearn: 0.9740699\ttotal: 281ms\tremaining: 281ms\n",
      "50:\tlearn: 0.9729425\ttotal: 285ms\tremaining: 274ms\n",
      "51:\tlearn: 0.9729425\ttotal: 289ms\tremaining: 267ms\n",
      "52:\tlearn: 0.9751973\ttotal: 295ms\tremaining: 261ms\n",
      "53:\tlearn: 0.9751973\ttotal: 299ms\tremaining: 254ms\n",
      "54:\tlearn: 0.9763247\ttotal: 303ms\tremaining: 248ms\n",
      "55:\tlearn: 0.9774521\ttotal: 308ms\tremaining: 242ms\n",
      "56:\tlearn: 0.9774521\ttotal: 317ms\tremaining: 239ms\n",
      "57:\tlearn: 0.9774521\ttotal: 324ms\tremaining: 235ms\n",
      "58:\tlearn: 0.9785795\ttotal: 333ms\tremaining: 231ms\n",
      "59:\tlearn: 0.9774521\ttotal: 342ms\tremaining: 228ms\n",
      "60:\tlearn: 0.9808343\ttotal: 349ms\tremaining: 223ms\n",
      "61:\tlearn: 0.9797069\ttotal: 353ms\tremaining: 217ms\n",
      "62:\tlearn: 0.9808343\ttotal: 362ms\tremaining: 212ms\n",
      "63:\tlearn: 0.9808343\ttotal: 368ms\tremaining: 207ms\n",
      "64:\tlearn: 0.9808343\ttotal: 379ms\tremaining: 204ms\n",
      "65:\tlearn: 0.9797069\ttotal: 385ms\tremaining: 199ms\n",
      "66:\tlearn: 0.9808343\ttotal: 400ms\tremaining: 197ms\n",
      "67:\tlearn: 0.9808343\ttotal: 409ms\tremaining: 193ms\n",
      "68:\tlearn: 0.9808343\ttotal: 417ms\tremaining: 187ms\n",
      "69:\tlearn: 0.9819617\ttotal: 425ms\tremaining: 182ms\n",
      "70:\tlearn: 0.9808343\ttotal: 435ms\tremaining: 177ms\n",
      "71:\tlearn: 0.9808343\ttotal: 445ms\tremaining: 173ms\n",
      "72:\tlearn: 0.9819617\ttotal: 453ms\tremaining: 168ms\n",
      "73:\tlearn: 0.9819617\ttotal: 460ms\tremaining: 162ms\n",
      "74:\tlearn: 0.9819617\ttotal: 466ms\tremaining: 155ms\n",
      "75:\tlearn: 0.9819617\ttotal: 473ms\tremaining: 150ms\n",
      "76:\tlearn: 0.9819617\ttotal: 479ms\tremaining: 143ms\n",
      "77:\tlearn: 0.9819617\ttotal: 486ms\tremaining: 137ms\n",
      "78:\tlearn: 0.9830891\ttotal: 492ms\tremaining: 131ms\n",
      "79:\tlearn: 0.9842165\ttotal: 496ms\tremaining: 124ms\n",
      "80:\tlearn: 0.9842165\ttotal: 503ms\tremaining: 118ms\n",
      "81:\tlearn: 0.9830891\ttotal: 508ms\tremaining: 112ms\n",
      "82:\tlearn: 0.9842165\ttotal: 513ms\tremaining: 105ms\n",
      "83:\tlearn: 0.9830891\ttotal: 521ms\tremaining: 99.3ms\n",
      "84:\tlearn: 0.9853439\ttotal: 526ms\tremaining: 92.9ms\n",
      "85:\tlearn: 0.9853439\ttotal: 531ms\tremaining: 86.4ms\n",
      "86:\tlearn: 0.9853439\ttotal: 539ms\tremaining: 80.5ms\n",
      "87:\tlearn: 0.9853439\ttotal: 544ms\tremaining: 74.1ms\n",
      "88:\tlearn: 0.9864713\ttotal: 549ms\tremaining: 67.9ms\n",
      "89:\tlearn: 0.9864713\ttotal: 555ms\tremaining: 61.7ms\n",
      "90:\tlearn: 0.9875986\ttotal: 559ms\tremaining: 55.3ms\n",
      "91:\tlearn: 0.9864713\ttotal: 565ms\tremaining: 49.1ms\n",
      "92:\tlearn: 0.9864713\ttotal: 570ms\tremaining: 42.9ms\n",
      "93:\tlearn: 0.9875986\ttotal: 574ms\tremaining: 36.7ms\n",
      "94:\tlearn: 0.9887260\ttotal: 579ms\tremaining: 30.5ms\n",
      "95:\tlearn: 0.9898534\ttotal: 586ms\tremaining: 24.4ms\n",
      "96:\tlearn: 0.9921082\ttotal: 591ms\tremaining: 18.3ms\n",
      "97:\tlearn: 0.9921082\ttotal: 595ms\tremaining: 12.1ms\n",
      "98:\tlearn: 0.9932356\ttotal: 602ms\tremaining: 6.08ms\n",
      "99:\tlearn: 0.9932356\ttotal: 607ms\tremaining: 0us\n",
      "0:\tlearn: 0.8838782\ttotal: 8.54ms\tremaining: 846ms\n",
      "1:\tlearn: 0.9030440\ttotal: 13.3ms\tremaining: 652ms\n",
      "2:\tlearn: 0.9143179\ttotal: 18.9ms\tremaining: 611ms\n",
      "3:\tlearn: 0.9199549\ttotal: 24.2ms\tremaining: 581ms\n",
      "4:\tlearn: 0.9222097\ttotal: 28.3ms\tremaining: 539ms\n",
      "5:\tlearn: 0.9165727\ttotal: 32.6ms\tremaining: 510ms\n",
      "6:\tlearn: 0.9244645\ttotal: 38.8ms\tremaining: 516ms\n",
      "7:\tlearn: 0.9233371\ttotal: 42.9ms\tremaining: 494ms\n",
      "8:\tlearn: 0.9222097\ttotal: 47.5ms\tremaining: 480ms\n",
      "9:\tlearn: 0.9301015\ttotal: 54.1ms\tremaining: 487ms\n",
      "10:\tlearn: 0.9278467\ttotal: 58.1ms\tremaining: 470ms\n",
      "11:\tlearn: 0.9289741\ttotal: 62.6ms\tremaining: 459ms\n",
      "12:\tlearn: 0.9312289\ttotal: 67.1ms\tremaining: 449ms\n",
      "13:\tlearn: 0.9301015\ttotal: 71.1ms\tremaining: 437ms\n",
      "14:\tlearn: 0.9323563\ttotal: 74.7ms\tremaining: 423ms\n",
      "15:\tlearn: 0.9301015\ttotal: 78.3ms\tremaining: 411ms\n",
      "16:\tlearn: 0.9346110\ttotal: 82.1ms\tremaining: 401ms\n",
      "17:\tlearn: 0.9346110\ttotal: 87.2ms\tremaining: 397ms\n",
      "18:\tlearn: 0.9391206\ttotal: 90.9ms\tremaining: 387ms\n",
      "19:\tlearn: 0.9458850\ttotal: 94.4ms\tremaining: 378ms\n",
      "20:\tlearn: 0.9447576\ttotal: 95.7ms\tremaining: 360ms\n",
      "21:\tlearn: 0.9425028\ttotal: 100ms\tremaining: 356ms\n",
      "22:\tlearn: 0.9436302\ttotal: 104ms\tremaining: 347ms\n",
      "23:\tlearn: 0.9470124\ttotal: 107ms\tremaining: 338ms\n",
      "24:\tlearn: 0.9481398\ttotal: 110ms\tremaining: 331ms\n",
      "25:\tlearn: 0.9492672\ttotal: 115ms\tremaining: 329ms\n",
      "26:\tlearn: 0.9515220\ttotal: 120ms\tremaining: 326ms\n",
      "27:\tlearn: 0.9526494\ttotal: 125ms\tremaining: 321ms\n",
      "28:\tlearn: 0.9526494\ttotal: 128ms\tremaining: 314ms\n",
      "29:\tlearn: 0.9549042\ttotal: 134ms\tremaining: 312ms\n",
      "30:\tlearn: 0.9537768\ttotal: 137ms\tremaining: 305ms\n",
      "31:\tlearn: 0.9571590\ttotal: 140ms\tremaining: 298ms\n",
      "32:\tlearn: 0.9582864\ttotal: 143ms\tremaining: 291ms\n",
      "33:\tlearn: 0.9594138\ttotal: 148ms\tremaining: 288ms\n",
      "34:\tlearn: 0.9616685\ttotal: 152ms\tremaining: 282ms\n",
      "35:\tlearn: 0.9627959\ttotal: 155ms\tremaining: 276ms\n",
      "36:\tlearn: 0.9650507\ttotal: 158ms\tremaining: 269ms\n",
      "37:\tlearn: 0.9673055\ttotal: 161ms\tremaining: 263ms\n",
      "38:\tlearn: 0.9673055\ttotal: 166ms\tremaining: 259ms\n",
      "39:\tlearn: 0.9684329\ttotal: 167ms\tremaining: 251ms\n",
      "40:\tlearn: 0.9684329\ttotal: 170ms\tremaining: 245ms\n",
      "41:\tlearn: 0.9684329\ttotal: 173ms\tremaining: 239ms\n",
      "42:\tlearn: 0.9684329\ttotal: 176ms\tremaining: 234ms\n",
      "43:\tlearn: 0.9695603\ttotal: 182ms\tremaining: 231ms\n",
      "44:\tlearn: 0.9695603\ttotal: 185ms\tremaining: 226ms\n",
      "45:\tlearn: 0.9695603\ttotal: 188ms\tremaining: 221ms\n",
      "46:\tlearn: 0.9695603\ttotal: 192ms\tremaining: 216ms\n",
      "47:\tlearn: 0.9695603\ttotal: 196ms\tremaining: 212ms\n",
      "48:\tlearn: 0.9706877\ttotal: 200ms\tremaining: 208ms\n",
      "49:\tlearn: 0.9718151\ttotal: 203ms\tremaining: 203ms\n",
      "50:\tlearn: 0.9718151\ttotal: 204ms\tremaining: 196ms\n",
      "51:\tlearn: 0.9729425\ttotal: 207ms\tremaining: 191ms\n",
      "52:\tlearn: 0.9740699\ttotal: 213ms\tremaining: 188ms\n",
      "53:\tlearn: 0.9740699\ttotal: 216ms\tremaining: 184ms\n",
      "54:\tlearn: 0.9740699\ttotal: 219ms\tremaining: 179ms\n",
      "55:\tlearn: 0.9763247\ttotal: 224ms\tremaining: 176ms\n",
      "56:\tlearn: 0.9774521\ttotal: 230ms\tremaining: 173ms\n",
      "57:\tlearn: 0.9774521\ttotal: 233ms\tremaining: 169ms\n",
      "58:\tlearn: 0.9785795\ttotal: 237ms\tremaining: 164ms\n",
      "59:\tlearn: 0.9785795\ttotal: 240ms\tremaining: 160ms\n",
      "60:\tlearn: 0.9785795\ttotal: 245ms\tremaining: 157ms\n",
      "61:\tlearn: 0.9797069\ttotal: 251ms\tremaining: 154ms\n",
      "62:\tlearn: 0.9797069\ttotal: 255ms\tremaining: 150ms\n",
      "63:\tlearn: 0.9785795\ttotal: 259ms\tremaining: 146ms\n",
      "64:\tlearn: 0.9785795\ttotal: 263ms\tremaining: 141ms\n",
      "65:\tlearn: 0.9797069\ttotal: 266ms\tremaining: 137ms\n",
      "66:\tlearn: 0.9797069\ttotal: 270ms\tremaining: 133ms\n",
      "67:\tlearn: 0.9797069\ttotal: 273ms\tremaining: 128ms\n",
      "68:\tlearn: 0.9808343\ttotal: 278ms\tremaining: 125ms\n",
      "69:\tlearn: 0.9819617\ttotal: 282ms\tremaining: 121ms\n",
      "70:\tlearn: 0.9830891\ttotal: 285ms\tremaining: 116ms\n",
      "71:\tlearn: 0.9830891\ttotal: 288ms\tremaining: 112ms\n",
      "72:\tlearn: 0.9819617\ttotal: 293ms\tremaining: 108ms\n",
      "73:\tlearn: 0.9819617\ttotal: 297ms\tremaining: 104ms\n",
      "74:\tlearn: 0.9819617\ttotal: 300ms\tremaining: 99.9ms\n",
      "75:\tlearn: 0.9819617\ttotal: 303ms\tremaining: 95.7ms\n",
      "76:\tlearn: 0.9819617\ttotal: 308ms\tremaining: 92ms\n",
      "77:\tlearn: 0.9830891\ttotal: 311ms\tremaining: 87.8ms\n",
      "78:\tlearn: 0.9842165\ttotal: 315ms\tremaining: 83.7ms\n",
      "79:\tlearn: 0.9853439\ttotal: 318ms\tremaining: 79.5ms\n",
      "80:\tlearn: 0.9842165\ttotal: 322ms\tremaining: 75.6ms\n",
      "81:\tlearn: 0.9853439\ttotal: 326ms\tremaining: 71.5ms\n",
      "82:\tlearn: 0.9853439\ttotal: 329ms\tremaining: 67.4ms\n",
      "83:\tlearn: 0.9864713\ttotal: 333ms\tremaining: 63.3ms\n",
      "84:\tlearn: 0.9864713\ttotal: 336ms\tremaining: 59.3ms\n",
      "85:\tlearn: 0.9864713\ttotal: 341ms\tremaining: 55.6ms\n",
      "86:\tlearn: 0.9864713\ttotal: 345ms\tremaining: 51.5ms\n",
      "87:\tlearn: 0.9864713\ttotal: 348ms\tremaining: 47.5ms\n",
      "88:\tlearn: 0.9887260\ttotal: 351ms\tremaining: 43.4ms\n",
      "89:\tlearn: 0.9887260\ttotal: 356ms\tremaining: 39.5ms\n",
      "90:\tlearn: 0.9887260\ttotal: 359ms\tremaining: 35.5ms\n",
      "91:\tlearn: 0.9898534\ttotal: 362ms\tremaining: 31.5ms\n",
      "92:\tlearn: 0.9887260\ttotal: 365ms\tremaining: 27.5ms\n",
      "93:\tlearn: 0.9898534\ttotal: 368ms\tremaining: 23.5ms\n",
      "94:\tlearn: 0.9898534\ttotal: 373ms\tremaining: 19.6ms\n",
      "95:\tlearn: 0.9898534\ttotal: 376ms\tremaining: 15.7ms\n",
      "96:\tlearn: 0.9909808\ttotal: 379ms\tremaining: 11.7ms\n",
      "97:\tlearn: 0.9909808\ttotal: 383ms\tremaining: 7.82ms\n",
      "98:\tlearn: 0.9921082\ttotal: 387ms\tremaining: 3.91ms\n",
      "99:\tlearn: 0.9921082\ttotal: 389ms\tremaining: 0us\n",
      "0:\tlearn: 0.8804961\ttotal: 6.17ms\tremaining: 611ms\n",
      "1:\tlearn: 0.9098083\ttotal: 11ms\tremaining: 538ms\n",
      "2:\tlearn: 0.9131905\ttotal: 20.2ms\tremaining: 655ms\n",
      "3:\tlearn: 0.9199549\ttotal: 25ms\tremaining: 601ms\n",
      "4:\tlearn: 0.9210823\ttotal: 31ms\tremaining: 590ms\n",
      "5:\tlearn: 0.9177001\ttotal: 35.5ms\tremaining: 556ms\n",
      "6:\tlearn: 0.9177001\ttotal: 39.9ms\tremaining: 531ms\n",
      "7:\tlearn: 0.9210823\ttotal: 43.8ms\tremaining: 504ms\n",
      "8:\tlearn: 0.9210823\ttotal: 49.5ms\tremaining: 500ms\n",
      "9:\tlearn: 0.9244645\ttotal: 53.1ms\tremaining: 478ms\n",
      "10:\tlearn: 0.9267193\ttotal: 56.8ms\tremaining: 459ms\n",
      "11:\tlearn: 0.9301015\ttotal: 60.5ms\tremaining: 444ms\n",
      "12:\tlearn: 0.9289741\ttotal: 64.5ms\tremaining: 432ms\n",
      "13:\tlearn: 0.9323563\ttotal: 68.7ms\tremaining: 422ms\n",
      "14:\tlearn: 0.9312289\ttotal: 72.3ms\tremaining: 410ms\n",
      "15:\tlearn: 0.9312289\ttotal: 75.9ms\tremaining: 398ms\n",
      "16:\tlearn: 0.9346110\ttotal: 81.3ms\tremaining: 397ms\n",
      "17:\tlearn: 0.9368658\ttotal: 85.2ms\tremaining: 388ms\n",
      "18:\tlearn: 0.9368658\ttotal: 88.6ms\tremaining: 378ms\n",
      "19:\tlearn: 0.9391206\ttotal: 92ms\tremaining: 368ms\n",
      "20:\tlearn: 0.9391206\ttotal: 96.8ms\tremaining: 364ms\n",
      "21:\tlearn: 0.9402480\ttotal: 100ms\tremaining: 356ms\n",
      "22:\tlearn: 0.9425028\ttotal: 104ms\tremaining: 347ms\n",
      "23:\tlearn: 0.9447576\ttotal: 107ms\tremaining: 339ms\n",
      "24:\tlearn: 0.9447576\ttotal: 112ms\tremaining: 336ms\n",
      "25:\tlearn: 0.9481398\ttotal: 116ms\tremaining: 329ms\n",
      "26:\tlearn: 0.9515220\ttotal: 119ms\tremaining: 322ms\n",
      "27:\tlearn: 0.9515220\ttotal: 122ms\tremaining: 315ms\n",
      "28:\tlearn: 0.9492672\ttotal: 127ms\tremaining: 310ms\n",
      "29:\tlearn: 0.9503946\ttotal: 130ms\tremaining: 303ms\n",
      "30:\tlearn: 0.9549042\ttotal: 133ms\tremaining: 296ms\n",
      "31:\tlearn: 0.9549042\ttotal: 134ms\tremaining: 285ms\n",
      "32:\tlearn: 0.9549042\ttotal: 138ms\tremaining: 279ms\n",
      "33:\tlearn: 0.9582864\ttotal: 142ms\tremaining: 275ms\n",
      "34:\tlearn: 0.9582864\ttotal: 146ms\tremaining: 271ms\n",
      "35:\tlearn: 0.9582864\ttotal: 149ms\tremaining: 265ms\n",
      "36:\tlearn: 0.9594138\ttotal: 152ms\tremaining: 259ms\n",
      "37:\tlearn: 0.9594138\ttotal: 154ms\tremaining: 251ms\n",
      "38:\tlearn: 0.9639233\ttotal: 158ms\tremaining: 247ms\n",
      "39:\tlearn: 0.9661781\ttotal: 161ms\tremaining: 242ms\n",
      "40:\tlearn: 0.9650507\ttotal: 164ms\tremaining: 237ms\n",
      "41:\tlearn: 0.9673055\ttotal: 168ms\tremaining: 232ms\n",
      "42:\tlearn: 0.9684329\ttotal: 171ms\tremaining: 227ms\n",
      "43:\tlearn: 0.9718151\ttotal: 176ms\tremaining: 224ms\n",
      "44:\tlearn: 0.9729425\ttotal: 180ms\tremaining: 219ms\n",
      "45:\tlearn: 0.9729425\ttotal: 183ms\tremaining: 215ms\n",
      "46:\tlearn: 0.9729425\ttotal: 186ms\tremaining: 210ms\n",
      "47:\tlearn: 0.9763247\ttotal: 190ms\tremaining: 206ms\n",
      "48:\tlearn: 0.9774521\ttotal: 193ms\tremaining: 201ms\n",
      "49:\tlearn: 0.9774521\ttotal: 197ms\tremaining: 197ms\n",
      "50:\tlearn: 0.9774521\ttotal: 201ms\tremaining: 194ms\n",
      "51:\tlearn: 0.9785795\ttotal: 205ms\tremaining: 189ms\n",
      "52:\tlearn: 0.9785795\ttotal: 210ms\tremaining: 186ms\n",
      "53:\tlearn: 0.9797069\ttotal: 213ms\tremaining: 181ms\n",
      "54:\tlearn: 0.9808343\ttotal: 217ms\tremaining: 177ms\n",
      "55:\tlearn: 0.9808343\ttotal: 221ms\tremaining: 173ms\n",
      "56:\tlearn: 0.9808343\ttotal: 223ms\tremaining: 168ms\n",
      "57:\tlearn: 0.9808343\ttotal: 228ms\tremaining: 165ms\n",
      "58:\tlearn: 0.9808343\ttotal: 231ms\tremaining: 161ms\n",
      "59:\tlearn: 0.9808343\ttotal: 234ms\tremaining: 156ms\n",
      "60:\tlearn: 0.9808343\ttotal: 240ms\tremaining: 154ms\n",
      "61:\tlearn: 0.9808343\ttotal: 244ms\tremaining: 149ms\n",
      "62:\tlearn: 0.9808343\ttotal: 247ms\tremaining: 145ms\n",
      "63:\tlearn: 0.9808343\ttotal: 251ms\tremaining: 141ms\n",
      "64:\tlearn: 0.9830891\ttotal: 255ms\tremaining: 137ms\n",
      "65:\tlearn: 0.9830891\ttotal: 259ms\tremaining: 134ms\n",
      "66:\tlearn: 0.9842165\ttotal: 263ms\tremaining: 129ms\n",
      "67:\tlearn: 0.9853439\ttotal: 266ms\tremaining: 125ms\n",
      "68:\tlearn: 0.9853439\ttotal: 271ms\tremaining: 122ms\n",
      "69:\tlearn: 0.9864713\ttotal: 274ms\tremaining: 118ms\n",
      "70:\tlearn: 0.9864713\ttotal: 277ms\tremaining: 113ms\n",
      "71:\tlearn: 0.9864713\ttotal: 281ms\tremaining: 109ms\n",
      "72:\tlearn: 0.9875986\ttotal: 284ms\tremaining: 105ms\n",
      "73:\tlearn: 0.9864713\ttotal: 288ms\tremaining: 101ms\n",
      "74:\tlearn: 0.9864713\ttotal: 291ms\tremaining: 97.1ms\n",
      "75:\tlearn: 0.9875986\ttotal: 295ms\tremaining: 93ms\n",
      "76:\tlearn: 0.9875986\ttotal: 298ms\tremaining: 89ms\n",
      "77:\tlearn: 0.9875986\ttotal: 301ms\tremaining: 84.8ms\n",
      "78:\tlearn: 0.9875986\ttotal: 305ms\tremaining: 81.2ms\n",
      "79:\tlearn: 0.9875986\ttotal: 309ms\tremaining: 77.2ms\n",
      "80:\tlearn: 0.9875986\ttotal: 312ms\tremaining: 73.2ms\n",
      "81:\tlearn: 0.9887260\ttotal: 315ms\tremaining: 69.2ms\n",
      "82:\tlearn: 0.9887260\ttotal: 320ms\tremaining: 65.5ms\n",
      "83:\tlearn: 0.9887260\ttotal: 323ms\tremaining: 61.6ms\n",
      "84:\tlearn: 0.9887260\ttotal: 327ms\tremaining: 57.7ms\n",
      "85:\tlearn: 0.9887260\ttotal: 330ms\tremaining: 53.7ms\n",
      "86:\tlearn: 0.9887260\ttotal: 334ms\tremaining: 49.9ms\n",
      "87:\tlearn: 0.9898534\ttotal: 338ms\tremaining: 46.1ms\n",
      "88:\tlearn: 0.9898534\ttotal: 342ms\tremaining: 42.2ms\n",
      "89:\tlearn: 0.9909808\ttotal: 345ms\tremaining: 38.3ms\n",
      "90:\tlearn: 0.9909808\ttotal: 348ms\tremaining: 34.4ms\n",
      "91:\tlearn: 0.9909808\ttotal: 352ms\tremaining: 30.6ms\n",
      "92:\tlearn: 0.9909808\ttotal: 355ms\tremaining: 26.7ms\n",
      "93:\tlearn: 0.9909808\ttotal: 359ms\tremaining: 22.9ms\n",
      "94:\tlearn: 0.9909808\ttotal: 362ms\tremaining: 19ms\n",
      "95:\tlearn: 0.9909808\ttotal: 366ms\tremaining: 15.2ms\n",
      "96:\tlearn: 0.9909808\ttotal: 369ms\tremaining: 11.4ms\n",
      "97:\tlearn: 0.9932356\ttotal: 372ms\tremaining: 7.58ms\n",
      "98:\tlearn: 0.9932356\ttotal: 375ms\tremaining: 3.79ms\n",
      "99:\tlearn: 0.9932356\ttotal: 378ms\tremaining: 0us\n",
      "0:\tlearn: 0.8624577\ttotal: 5.95ms\tremaining: 589ms\n",
      "1:\tlearn: 0.8895152\ttotal: 11.7ms\tremaining: 571ms\n",
      "2:\tlearn: 0.9052988\ttotal: 15.8ms\tremaining: 510ms\n",
      "3:\tlearn: 0.9075536\ttotal: 19.8ms\tremaining: 476ms\n",
      "4:\tlearn: 0.9165727\ttotal: 25.1ms\tremaining: 477ms\n",
      "5:\tlearn: 0.9210823\ttotal: 29.7ms\tremaining: 466ms\n",
      "6:\tlearn: 0.9210823\ttotal: 34ms\tremaining: 452ms\n",
      "7:\tlearn: 0.9255919\ttotal: 38.1ms\tremaining: 439ms\n",
      "8:\tlearn: 0.9323563\ttotal: 43.1ms\tremaining: 436ms\n",
      "9:\tlearn: 0.9289741\ttotal: 47.1ms\tremaining: 423ms\n",
      "10:\tlearn: 0.9323563\ttotal: 51.1ms\tremaining: 414ms\n",
      "11:\tlearn: 0.9346110\ttotal: 55.6ms\tremaining: 408ms\n",
      "12:\tlearn: 0.9334837\ttotal: 61.3ms\tremaining: 410ms\n",
      "13:\tlearn: 0.9312289\ttotal: 65.3ms\tremaining: 401ms\n",
      "14:\tlearn: 0.9323563\ttotal: 69.2ms\tremaining: 392ms\n",
      "15:\tlearn: 0.9312289\ttotal: 74ms\tremaining: 388ms\n",
      "16:\tlearn: 0.9357384\ttotal: 78.6ms\tremaining: 384ms\n",
      "17:\tlearn: 0.9357384\ttotal: 83ms\tremaining: 378ms\n",
      "18:\tlearn: 0.9368658\ttotal: 87.1ms\tremaining: 371ms\n",
      "19:\tlearn: 0.9436302\ttotal: 92.8ms\tremaining: 371ms\n",
      "20:\tlearn: 0.9425028\ttotal: 94.7ms\tremaining: 356ms\n",
      "21:\tlearn: 0.9425028\ttotal: 99.1ms\tremaining: 351ms\n",
      "22:\tlearn: 0.9447576\ttotal: 103ms\tremaining: 346ms\n",
      "23:\tlearn: 0.9458850\ttotal: 109ms\tremaining: 344ms\n",
      "24:\tlearn: 0.9492672\ttotal: 113ms\tremaining: 339ms\n",
      "25:\tlearn: 0.9515220\ttotal: 117ms\tremaining: 333ms\n",
      "26:\tlearn: 0.9537768\ttotal: 122ms\tremaining: 331ms\n",
      "27:\tlearn: 0.9537768\ttotal: 127ms\tremaining: 326ms\n",
      "28:\tlearn: 0.9549042\ttotal: 131ms\tremaining: 321ms\n",
      "29:\tlearn: 0.9549042\ttotal: 135ms\tremaining: 315ms\n",
      "30:\tlearn: 0.9560316\ttotal: 140ms\tremaining: 313ms\n",
      "31:\tlearn: 0.9549042\ttotal: 144ms\tremaining: 307ms\n",
      "32:\tlearn: 0.9549042\ttotal: 148ms\tremaining: 301ms\n",
      "33:\tlearn: 0.9594138\ttotal: 153ms\tremaining: 296ms\n",
      "34:\tlearn: 0.9605411\ttotal: 157ms\tremaining: 292ms\n",
      "35:\tlearn: 0.9616685\ttotal: 162ms\tremaining: 287ms\n",
      "36:\tlearn: 0.9616685\ttotal: 165ms\tremaining: 282ms\n",
      "37:\tlearn: 0.9650507\ttotal: 170ms\tremaining: 278ms\n",
      "38:\tlearn: 0.9661781\ttotal: 175ms\tremaining: 273ms\n",
      "39:\tlearn: 0.9673055\ttotal: 179ms\tremaining: 268ms\n",
      "40:\tlearn: 0.9695603\ttotal: 183ms\tremaining: 263ms\n",
      "41:\tlearn: 0.9706877\ttotal: 188ms\tremaining: 259ms\n",
      "42:\tlearn: 0.9718151\ttotal: 192ms\tremaining: 254ms\n",
      "43:\tlearn: 0.9706877\ttotal: 195ms\tremaining: 249ms\n",
      "44:\tlearn: 0.9706877\ttotal: 199ms\tremaining: 243ms\n",
      "45:\tlearn: 0.9729425\ttotal: 205ms\tremaining: 241ms\n",
      "46:\tlearn: 0.9740699\ttotal: 209ms\tremaining: 235ms\n",
      "47:\tlearn: 0.9729425\ttotal: 210ms\tremaining: 228ms\n",
      "48:\tlearn: 0.9740699\ttotal: 213ms\tremaining: 222ms\n",
      "49:\tlearn: 0.9740699\ttotal: 215ms\tremaining: 215ms\n",
      "50:\tlearn: 0.9751973\ttotal: 220ms\tremaining: 212ms\n",
      "51:\tlearn: 0.9763247\ttotal: 225ms\tremaining: 207ms\n",
      "52:\tlearn: 0.9774521\ttotal: 229ms\tremaining: 203ms\n",
      "53:\tlearn: 0.9785795\ttotal: 234ms\tremaining: 199ms\n",
      "54:\tlearn: 0.9785795\ttotal: 238ms\tremaining: 195ms\n",
      "55:\tlearn: 0.9785795\ttotal: 242ms\tremaining: 190ms\n",
      "56:\tlearn: 0.9785795\ttotal: 245ms\tremaining: 185ms\n",
      "57:\tlearn: 0.9797069\ttotal: 250ms\tremaining: 181ms\n",
      "58:\tlearn: 0.9808343\ttotal: 254ms\tremaining: 176ms\n",
      "59:\tlearn: 0.9808343\ttotal: 257ms\tremaining: 171ms\n",
      "60:\tlearn: 0.9808343\ttotal: 261ms\tremaining: 167ms\n",
      "61:\tlearn: 0.9808343\ttotal: 266ms\tremaining: 163ms\n",
      "62:\tlearn: 0.9819617\ttotal: 270ms\tremaining: 159ms\n",
      "63:\tlearn: 0.9819617\ttotal: 274ms\tremaining: 154ms\n",
      "64:\tlearn: 0.9819617\ttotal: 277ms\tremaining: 149ms\n",
      "65:\tlearn: 0.9819617\ttotal: 282ms\tremaining: 145ms\n",
      "66:\tlearn: 0.9819617\ttotal: 286ms\tremaining: 141ms\n",
      "67:\tlearn: 0.9819617\ttotal: 290ms\tremaining: 136ms\n",
      "68:\tlearn: 0.9842165\ttotal: 293ms\tremaining: 132ms\n",
      "69:\tlearn: 0.9819617\ttotal: 298ms\tremaining: 128ms\n",
      "70:\tlearn: 0.9853439\ttotal: 302ms\tremaining: 123ms\n",
      "71:\tlearn: 0.9853439\ttotal: 305ms\tremaining: 119ms\n",
      "72:\tlearn: 0.9853439\ttotal: 309ms\tremaining: 114ms\n",
      "73:\tlearn: 0.9853439\ttotal: 312ms\tremaining: 110ms\n",
      "74:\tlearn: 0.9853439\ttotal: 317ms\tremaining: 106ms\n",
      "75:\tlearn: 0.9864713\ttotal: 321ms\tremaining: 101ms\n",
      "76:\tlearn: 0.9864713\ttotal: 325ms\tremaining: 97ms\n",
      "77:\tlearn: 0.9887260\ttotal: 328ms\tremaining: 92.6ms\n",
      "78:\tlearn: 0.9898534\ttotal: 333ms\tremaining: 88.5ms\n",
      "79:\tlearn: 0.9898534\ttotal: 338ms\tremaining: 84.6ms\n",
      "80:\tlearn: 0.9898534\ttotal: 343ms\tremaining: 80.4ms\n",
      "81:\tlearn: 0.9898534\ttotal: 350ms\tremaining: 76.7ms\n",
      "82:\tlearn: 0.9898534\ttotal: 354ms\tremaining: 72.6ms\n",
      "83:\tlearn: 0.9898534\ttotal: 359ms\tremaining: 68.4ms\n",
      "84:\tlearn: 0.9898534\ttotal: 365ms\tremaining: 64.5ms\n",
      "85:\tlearn: 0.9898534\ttotal: 370ms\tremaining: 60.2ms\n",
      "86:\tlearn: 0.9898534\ttotal: 375ms\tremaining: 56ms\n",
      "87:\tlearn: 0.9898534\ttotal: 382ms\tremaining: 52.1ms\n",
      "88:\tlearn: 0.9898534\ttotal: 386ms\tremaining: 47.8ms\n",
      "89:\tlearn: 0.9898534\ttotal: 391ms\tremaining: 43.4ms\n",
      "90:\tlearn: 0.9898534\ttotal: 397ms\tremaining: 39.3ms\n",
      "91:\tlearn: 0.9909808\ttotal: 403ms\tremaining: 35ms\n",
      "92:\tlearn: 0.9909808\ttotal: 407ms\tremaining: 30.7ms\n",
      "93:\tlearn: 0.9909808\ttotal: 413ms\tremaining: 26.4ms\n",
      "94:\tlearn: 0.9909808\ttotal: 417ms\tremaining: 21.9ms\n",
      "95:\tlearn: 0.9921082\ttotal: 422ms\tremaining: 17.6ms\n",
      "96:\tlearn: 0.9921082\ttotal: 428ms\tremaining: 13.2ms\n",
      "97:\tlearn: 0.9921082\ttotal: 434ms\tremaining: 8.85ms\n",
      "98:\tlearn: 0.9921082\ttotal: 439ms\tremaining: 4.43ms\n",
      "99:\tlearn: 0.9921082\ttotal: 448ms\tremaining: 0us\n",
      "0:\tlearn: 0.8782413\ttotal: 11.2ms\tremaining: 1.11s\n",
      "1:\tlearn: 0.8962796\ttotal: 24.6ms\tremaining: 1.21s\n",
      "2:\tlearn: 0.9120631\ttotal: 32.6ms\tremaining: 1.05s\n",
      "3:\tlearn: 0.9210823\ttotal: 39.1ms\tremaining: 938ms\n",
      "4:\tlearn: 0.9188275\ttotal: 47.5ms\tremaining: 902ms\n",
      "5:\tlearn: 0.9154453\ttotal: 55ms\tremaining: 861ms\n",
      "6:\tlearn: 0.9244645\ttotal: 66ms\tremaining: 877ms\n",
      "7:\tlearn: 0.9289741\ttotal: 73.3ms\tremaining: 843ms\n",
      "8:\tlearn: 0.9289741\ttotal: 80ms\tremaining: 809ms\n",
      "9:\tlearn: 0.9289741\ttotal: 86.8ms\tremaining: 781ms\n",
      "10:\tlearn: 0.9312289\ttotal: 95.8ms\tremaining: 775ms\n",
      "11:\tlearn: 0.9312289\ttotal: 102ms\tremaining: 746ms\n",
      "12:\tlearn: 0.9323563\ttotal: 109ms\tremaining: 729ms\n",
      "13:\tlearn: 0.9334837\ttotal: 115ms\tremaining: 708ms\n",
      "14:\tlearn: 0.9346110\ttotal: 123ms\tremaining: 697ms\n",
      "15:\tlearn: 0.9334837\ttotal: 130ms\tremaining: 684ms\n",
      "16:\tlearn: 0.9357384\ttotal: 137ms\tremaining: 669ms\n",
      "17:\tlearn: 0.9368658\ttotal: 145ms\tremaining: 661ms\n",
      "18:\tlearn: 0.9368658\ttotal: 151ms\tremaining: 644ms\n",
      "19:\tlearn: 0.9402480\ttotal: 160ms\tremaining: 639ms\n",
      "20:\tlearn: 0.9368658\ttotal: 162ms\tremaining: 611ms\n",
      "21:\tlearn: 0.9402480\ttotal: 170ms\tremaining: 601ms\n",
      "22:\tlearn: 0.9402480\ttotal: 177ms\tremaining: 591ms\n",
      "23:\tlearn: 0.9447576\ttotal: 182ms\tremaining: 578ms\n",
      "24:\tlearn: 0.9458850\ttotal: 189ms\tremaining: 567ms\n",
      "25:\tlearn: 0.9470124\ttotal: 195ms\tremaining: 555ms\n",
      "26:\tlearn: 0.9470124\ttotal: 201ms\tremaining: 543ms\n",
      "27:\tlearn: 0.9470124\ttotal: 208ms\tremaining: 534ms\n",
      "28:\tlearn: 0.9470124\ttotal: 213ms\tremaining: 522ms\n",
      "29:\tlearn: 0.9492672\ttotal: 222ms\tremaining: 518ms\n",
      "30:\tlearn: 0.9503946\ttotal: 228ms\tremaining: 507ms\n",
      "31:\tlearn: 0.9515220\ttotal: 235ms\tremaining: 499ms\n",
      "32:\tlearn: 0.9526494\ttotal: 241ms\tremaining: 489ms\n",
      "33:\tlearn: 0.9537768\ttotal: 247ms\tremaining: 479ms\n",
      "34:\tlearn: 0.9537768\ttotal: 254ms\tremaining: 472ms\n",
      "35:\tlearn: 0.9560316\ttotal: 261ms\tremaining: 463ms\n",
      "36:\tlearn: 0.9560316\ttotal: 269ms\tremaining: 458ms\n",
      "37:\tlearn: 0.9571590\ttotal: 278ms\tremaining: 454ms\n",
      "38:\tlearn: 0.9582864\ttotal: 290ms\tremaining: 453ms\n",
      "39:\tlearn: 0.9605411\ttotal: 296ms\tremaining: 443ms\n",
      "40:\tlearn: 0.9650507\ttotal: 303ms\tremaining: 436ms\n",
      "41:\tlearn: 0.9639233\ttotal: 310ms\tremaining: 428ms\n",
      "42:\tlearn: 0.9673055\ttotal: 319ms\tremaining: 422ms\n",
      "43:\tlearn: 0.9684329\ttotal: 325ms\tremaining: 414ms\n",
      "44:\tlearn: 0.9673055\ttotal: 335ms\tremaining: 409ms\n",
      "45:\tlearn: 0.9673055\ttotal: 341ms\tremaining: 400ms\n",
      "46:\tlearn: 0.9673055\ttotal: 349ms\tremaining: 394ms\n",
      "47:\tlearn: 0.9661781\ttotal: 355ms\tremaining: 385ms\n",
      "48:\tlearn: 0.9684329\ttotal: 362ms\tremaining: 377ms\n",
      "49:\tlearn: 0.9695603\ttotal: 369ms\tremaining: 369ms\n",
      "50:\tlearn: 0.9706877\ttotal: 375ms\tremaining: 360ms\n",
      "51:\tlearn: 0.9718151\ttotal: 382ms\tremaining: 353ms\n",
      "52:\tlearn: 0.9718151\ttotal: 388ms\tremaining: 344ms\n",
      "53:\tlearn: 0.9729425\ttotal: 397ms\tremaining: 338ms\n",
      "54:\tlearn: 0.9740699\ttotal: 404ms\tremaining: 331ms\n",
      "55:\tlearn: 0.9763247\ttotal: 411ms\tremaining: 323ms\n",
      "56:\tlearn: 0.9763247\ttotal: 416ms\tremaining: 314ms\n",
      "57:\tlearn: 0.9785795\ttotal: 421ms\tremaining: 305ms\n",
      "58:\tlearn: 0.9797069\ttotal: 428ms\tremaining: 297ms\n",
      "59:\tlearn: 0.9797069\ttotal: 434ms\tremaining: 289ms\n",
      "60:\tlearn: 0.9797069\ttotal: 439ms\tremaining: 280ms\n",
      "61:\tlearn: 0.9797069\ttotal: 446ms\tremaining: 273ms\n",
      "62:\tlearn: 0.9808343\ttotal: 450ms\tremaining: 265ms\n",
      "63:\tlearn: 0.9808343\ttotal: 455ms\tremaining: 256ms\n",
      "64:\tlearn: 0.9808343\ttotal: 462ms\tremaining: 249ms\n",
      "65:\tlearn: 0.9808343\ttotal: 465ms\tremaining: 240ms\n",
      "66:\tlearn: 0.9808343\ttotal: 470ms\tremaining: 231ms\n",
      "67:\tlearn: 0.9808343\ttotal: 475ms\tremaining: 224ms\n",
      "68:\tlearn: 0.9808343\ttotal: 481ms\tremaining: 216ms\n",
      "69:\tlearn: 0.9808343\ttotal: 485ms\tremaining: 208ms\n",
      "70:\tlearn: 0.9808343\ttotal: 491ms\tremaining: 201ms\n",
      "71:\tlearn: 0.9819617\ttotal: 496ms\tremaining: 193ms\n",
      "72:\tlearn: 0.9819617\ttotal: 502ms\tremaining: 186ms\n",
      "73:\tlearn: 0.9819617\ttotal: 509ms\tremaining: 179ms\n",
      "74:\tlearn: 0.9819617\ttotal: 515ms\tremaining: 172ms\n",
      "75:\tlearn: 0.9819617\ttotal: 520ms\tremaining: 164ms\n",
      "76:\tlearn: 0.9819617\ttotal: 526ms\tremaining: 157ms\n",
      "77:\tlearn: 0.9830891\ttotal: 531ms\tremaining: 150ms\n",
      "78:\tlearn: 0.9830891\ttotal: 536ms\tremaining: 143ms\n",
      "79:\tlearn: 0.9830891\ttotal: 543ms\tremaining: 136ms\n",
      "80:\tlearn: 0.9830891\ttotal: 548ms\tremaining: 128ms\n",
      "81:\tlearn: 0.9830891\ttotal: 554ms\tremaining: 122ms\n",
      "82:\tlearn: 0.9830891\ttotal: 559ms\tremaining: 115ms\n",
      "83:\tlearn: 0.9853439\ttotal: 564ms\tremaining: 107ms\n",
      "84:\tlearn: 0.9853439\ttotal: 570ms\tremaining: 101ms\n",
      "85:\tlearn: 0.9853439\ttotal: 576ms\tremaining: 93.7ms\n",
      "86:\tlearn: 0.9842165\ttotal: 580ms\tremaining: 86.7ms\n",
      "87:\tlearn: 0.9842165\ttotal: 586ms\tremaining: 79.8ms\n",
      "88:\tlearn: 0.9853439\ttotal: 591ms\tremaining: 73ms\n",
      "89:\tlearn: 0.9875986\ttotal: 595ms\tremaining: 66.1ms\n",
      "90:\tlearn: 0.9875986\ttotal: 600ms\tremaining: 59.3ms\n",
      "91:\tlearn: 0.9875986\ttotal: 606ms\tremaining: 52.7ms\n",
      "92:\tlearn: 0.9875986\ttotal: 611ms\tremaining: 46ms\n",
      "93:\tlearn: 0.9887260\ttotal: 616ms\tremaining: 39.3ms\n",
      "94:\tlearn: 0.9887260\ttotal: 622ms\tremaining: 32.8ms\n",
      "95:\tlearn: 0.9898534\ttotal: 627ms\tremaining: 26.1ms\n",
      "96:\tlearn: 0.9898534\ttotal: 632ms\tremaining: 19.5ms\n",
      "97:\tlearn: 0.9898534\ttotal: 639ms\tremaining: 13ms\n",
      "98:\tlearn: 0.9909808\ttotal: 643ms\tremaining: 6.5ms\n",
      "99:\tlearn: 0.9909808\ttotal: 649ms\tremaining: 0us\n",
      "0:\tlearn: 0.8771139\ttotal: 6.87ms\tremaining: 680ms\n",
      "1:\tlearn: 0.8951522\ttotal: 17.2ms\tremaining: 844ms\n",
      "2:\tlearn: 0.9007892\ttotal: 46.1ms\tremaining: 1.49s\n",
      "3:\tlearn: 0.9098083\ttotal: 53.8ms\tremaining: 1.29s\n",
      "4:\tlearn: 0.9131905\ttotal: 59.7ms\tremaining: 1.13s\n",
      "5:\tlearn: 0.9131905\ttotal: 66.2ms\tremaining: 1.04s\n",
      "6:\tlearn: 0.9188275\ttotal: 71.8ms\tremaining: 954ms\n",
      "7:\tlearn: 0.9188275\ttotal: 79.2ms\tremaining: 910ms\n",
      "8:\tlearn: 0.9278467\ttotal: 85.8ms\tremaining: 868ms\n",
      "9:\tlearn: 0.9267193\ttotal: 93.4ms\tremaining: 840ms\n",
      "10:\tlearn: 0.9255919\ttotal: 101ms\tremaining: 819ms\n",
      "11:\tlearn: 0.9278467\ttotal: 107ms\tremaining: 786ms\n",
      "12:\tlearn: 0.9323563\ttotal: 113ms\tremaining: 759ms\n",
      "13:\tlearn: 0.9323563\ttotal: 119ms\tremaining: 731ms\n",
      "14:\tlearn: 0.9312289\ttotal: 125ms\tremaining: 707ms\n",
      "15:\tlearn: 0.9312289\ttotal: 130ms\tremaining: 685ms\n",
      "16:\tlearn: 0.9346110\ttotal: 136ms\tremaining: 662ms\n",
      "17:\tlearn: 0.9357384\ttotal: 143ms\tremaining: 651ms\n",
      "18:\tlearn: 0.9357384\ttotal: 148ms\tremaining: 632ms\n",
      "19:\tlearn: 0.9402480\ttotal: 153ms\tremaining: 614ms\n",
      "20:\tlearn: 0.9391206\ttotal: 156ms\tremaining: 588ms\n",
      "21:\tlearn: 0.9402480\ttotal: 162ms\tremaining: 575ms\n",
      "22:\tlearn: 0.9379932\ttotal: 168ms\tremaining: 562ms\n",
      "23:\tlearn: 0.9402480\ttotal: 174ms\tremaining: 552ms\n",
      "24:\tlearn: 0.9413754\ttotal: 180ms\tremaining: 541ms\n",
      "25:\tlearn: 0.9458850\ttotal: 186ms\tremaining: 530ms\n",
      "26:\tlearn: 0.9503946\ttotal: 193ms\tremaining: 523ms\n",
      "27:\tlearn: 0.9492672\ttotal: 199ms\tremaining: 511ms\n",
      "28:\tlearn: 0.9537768\ttotal: 205ms\tremaining: 501ms\n",
      "29:\tlearn: 0.9537768\ttotal: 211ms\tremaining: 492ms\n",
      "30:\tlearn: 0.9560316\ttotal: 216ms\tremaining: 481ms\n",
      "31:\tlearn: 0.9605411\ttotal: 223ms\tremaining: 473ms\n",
      "32:\tlearn: 0.9616685\ttotal: 228ms\tremaining: 463ms\n",
      "33:\tlearn: 0.9627959\ttotal: 234ms\tremaining: 454ms\n",
      "34:\tlearn: 0.9650507\ttotal: 242ms\tremaining: 449ms\n",
      "35:\tlearn: 0.9661781\ttotal: 248ms\tremaining: 440ms\n",
      "36:\tlearn: 0.9661781\ttotal: 255ms\tremaining: 434ms\n",
      "37:\tlearn: 0.9650507\ttotal: 258ms\tremaining: 421ms\n",
      "38:\tlearn: 0.9639233\ttotal: 264ms\tremaining: 412ms\n",
      "39:\tlearn: 0.9661781\ttotal: 270ms\tremaining: 405ms\n",
      "40:\tlearn: 0.9673055\ttotal: 276ms\tremaining: 397ms\n",
      "41:\tlearn: 0.9684329\ttotal: 281ms\tremaining: 388ms\n",
      "42:\tlearn: 0.9684329\ttotal: 290ms\tremaining: 384ms\n",
      "43:\tlearn: 0.9695603\ttotal: 295ms\tremaining: 375ms\n",
      "44:\tlearn: 0.9706877\ttotal: 302ms\tremaining: 369ms\n",
      "45:\tlearn: 0.9706877\ttotal: 308ms\tremaining: 362ms\n",
      "46:\tlearn: 0.9718151\ttotal: 314ms\tremaining: 354ms\n",
      "47:\tlearn: 0.9718151\ttotal: 320ms\tremaining: 347ms\n",
      "48:\tlearn: 0.9729425\ttotal: 326ms\tremaining: 339ms\n",
      "49:\tlearn: 0.9729425\ttotal: 327ms\tremaining: 327ms\n",
      "50:\tlearn: 0.9729425\ttotal: 333ms\tremaining: 320ms\n",
      "51:\tlearn: 0.9729425\ttotal: 339ms\tremaining: 313ms\n",
      "52:\tlearn: 0.9729425\ttotal: 344ms\tremaining: 305ms\n",
      "53:\tlearn: 0.9729425\ttotal: 354ms\tremaining: 302ms\n",
      "54:\tlearn: 0.9740699\ttotal: 361ms\tremaining: 295ms\n",
      "55:\tlearn: 0.9751973\ttotal: 368ms\tremaining: 289ms\n",
      "56:\tlearn: 0.9740699\ttotal: 374ms\tremaining: 282ms\n",
      "57:\tlearn: 0.9763247\ttotal: 380ms\tremaining: 276ms\n",
      "58:\tlearn: 0.9763247\ttotal: 386ms\tremaining: 269ms\n",
      "59:\tlearn: 0.9763247\ttotal: 392ms\tremaining: 261ms\n",
      "60:\tlearn: 0.9785795\ttotal: 397ms\tremaining: 254ms\n",
      "61:\tlearn: 0.9797069\ttotal: 403ms\tremaining: 247ms\n",
      "62:\tlearn: 0.9797069\ttotal: 409ms\tremaining: 240ms\n",
      "63:\tlearn: 0.9797069\ttotal: 416ms\tremaining: 234ms\n",
      "64:\tlearn: 0.9797069\ttotal: 418ms\tremaining: 225ms\n",
      "65:\tlearn: 0.9797069\ttotal: 424ms\tremaining: 219ms\n",
      "66:\tlearn: 0.9785795\ttotal: 432ms\tremaining: 213ms\n",
      "67:\tlearn: 0.9797069\ttotal: 439ms\tremaining: 206ms\n",
      "68:\tlearn: 0.9808343\ttotal: 446ms\tremaining: 200ms\n",
      "69:\tlearn: 0.9808343\ttotal: 452ms\tremaining: 194ms\n",
      "70:\tlearn: 0.9819617\ttotal: 458ms\tremaining: 187ms\n",
      "71:\tlearn: 0.9830891\ttotal: 465ms\tremaining: 181ms\n",
      "72:\tlearn: 0.9842165\ttotal: 470ms\tremaining: 174ms\n",
      "73:\tlearn: 0.9830891\ttotal: 478ms\tremaining: 168ms\n",
      "74:\tlearn: 0.9842165\ttotal: 485ms\tremaining: 162ms\n",
      "75:\tlearn: 0.9842165\ttotal: 495ms\tremaining: 156ms\n",
      "76:\tlearn: 0.9830891\ttotal: 501ms\tremaining: 150ms\n",
      "77:\tlearn: 0.9842165\ttotal: 511ms\tremaining: 144ms\n",
      "78:\tlearn: 0.9842165\ttotal: 518ms\tremaining: 138ms\n",
      "79:\tlearn: 0.9842165\ttotal: 524ms\tremaining: 131ms\n",
      "80:\tlearn: 0.9842165\ttotal: 530ms\tremaining: 124ms\n",
      "81:\tlearn: 0.9842165\ttotal: 536ms\tremaining: 118ms\n",
      "82:\tlearn: 0.9853439\ttotal: 543ms\tremaining: 111ms\n",
      "83:\tlearn: 0.9853439\ttotal: 548ms\tremaining: 104ms\n",
      "84:\tlearn: 0.9875986\ttotal: 554ms\tremaining: 97.7ms\n",
      "85:\tlearn: 0.9864713\ttotal: 561ms\tremaining: 91.3ms\n",
      "86:\tlearn: 0.9887260\ttotal: 566ms\tremaining: 84.6ms\n",
      "87:\tlearn: 0.9887260\ttotal: 572ms\tremaining: 77.9ms\n",
      "88:\tlearn: 0.9887260\ttotal: 578ms\tremaining: 71.5ms\n",
      "89:\tlearn: 0.9887260\ttotal: 584ms\tremaining: 64.9ms\n",
      "90:\tlearn: 0.9898534\ttotal: 591ms\tremaining: 58.5ms\n",
      "91:\tlearn: 0.9898534\ttotal: 596ms\tremaining: 51.9ms\n",
      "92:\tlearn: 0.9898534\ttotal: 602ms\tremaining: 45.3ms\n",
      "93:\tlearn: 0.9898534\ttotal: 610ms\tremaining: 38.9ms\n",
      "94:\tlearn: 0.9898534\ttotal: 616ms\tremaining: 32.4ms\n",
      "95:\tlearn: 0.9898534\ttotal: 625ms\tremaining: 26ms\n",
      "96:\tlearn: 0.9909808\ttotal: 632ms\tremaining: 19.5ms\n",
      "97:\tlearn: 0.9909808\ttotal: 639ms\tremaining: 13.1ms\n",
      "98:\tlearn: 0.9909808\ttotal: 645ms\tremaining: 6.52ms\n",
      "99:\tlearn: 0.9921082\ttotal: 652ms\tremaining: 0us\n",
      "0:\tlearn: 0.8771139\ttotal: 7.1ms\tremaining: 703ms\n",
      "1:\tlearn: 0.8951522\ttotal: 14.5ms\tremaining: 711ms\n",
      "2:\tlearn: 0.9030440\ttotal: 20.4ms\tremaining: 660ms\n",
      "3:\tlearn: 0.9165727\ttotal: 25.7ms\tremaining: 618ms\n",
      "4:\tlearn: 0.9143179\ttotal: 32.8ms\tremaining: 623ms\n",
      "5:\tlearn: 0.9165727\ttotal: 38.5ms\tremaining: 602ms\n",
      "6:\tlearn: 0.9199549\ttotal: 44.8ms\tremaining: 596ms\n",
      "7:\tlearn: 0.9199549\ttotal: 50.5ms\tremaining: 581ms\n",
      "8:\tlearn: 0.9210823\ttotal: 56.1ms\tremaining: 567ms\n",
      "9:\tlearn: 0.9244645\ttotal: 63.2ms\tremaining: 569ms\n",
      "10:\tlearn: 0.9278467\ttotal: 68.5ms\tremaining: 554ms\n",
      "11:\tlearn: 0.9301015\ttotal: 74.1ms\tremaining: 543ms\n",
      "12:\tlearn: 0.9357384\ttotal: 81.4ms\tremaining: 545ms\n",
      "13:\tlearn: 0.9334837\ttotal: 86.6ms\tremaining: 532ms\n",
      "14:\tlearn: 0.9346110\ttotal: 92.4ms\tremaining: 524ms\n",
      "15:\tlearn: 0.9346110\ttotal: 98.5ms\tremaining: 517ms\n",
      "16:\tlearn: 0.9368658\ttotal: 104ms\tremaining: 506ms\n",
      "17:\tlearn: 0.9391206\ttotal: 110ms\tremaining: 500ms\n",
      "18:\tlearn: 0.9391206\ttotal: 116ms\tremaining: 495ms\n",
      "19:\tlearn: 0.9391206\ttotal: 122ms\tremaining: 488ms\n",
      "20:\tlearn: 0.9391206\ttotal: 126ms\tremaining: 474ms\n",
      "21:\tlearn: 0.9391206\ttotal: 133ms\tremaining: 471ms\n",
      "22:\tlearn: 0.9425028\ttotal: 142ms\tremaining: 474ms\n",
      "23:\tlearn: 0.9436302\ttotal: 151ms\tremaining: 477ms\n",
      "24:\tlearn: 0.9458850\ttotal: 157ms\tremaining: 472ms\n",
      "25:\tlearn: 0.9470124\ttotal: 163ms\tremaining: 463ms\n",
      "26:\tlearn: 0.9515220\ttotal: 169ms\tremaining: 457ms\n",
      "27:\tlearn: 0.9515220\ttotal: 177ms\tremaining: 456ms\n",
      "28:\tlearn: 0.9549042\ttotal: 184ms\tremaining: 449ms\n",
      "29:\tlearn: 0.9560316\ttotal: 192ms\tremaining: 447ms\n",
      "30:\tlearn: 0.9549042\ttotal: 197ms\tremaining: 439ms\n",
      "31:\tlearn: 0.9571590\ttotal: 204ms\tremaining: 432ms\n",
      "32:\tlearn: 0.9594138\ttotal: 211ms\tremaining: 428ms\n",
      "33:\tlearn: 0.9605411\ttotal: 219ms\tremaining: 425ms\n",
      "34:\tlearn: 0.9627959\ttotal: 227ms\tremaining: 422ms\n",
      "35:\tlearn: 0.9650507\ttotal: 240ms\tremaining: 426ms\n",
      "36:\tlearn: 0.9639233\ttotal: 252ms\tremaining: 430ms\n",
      "37:\tlearn: 0.9661781\ttotal: 261ms\tremaining: 426ms\n",
      "38:\tlearn: 0.9650507\ttotal: 277ms\tremaining: 432ms\n",
      "39:\tlearn: 0.9661781\ttotal: 291ms\tremaining: 436ms\n",
      "40:\tlearn: 0.9661781\ttotal: 304ms\tremaining: 438ms\n",
      "41:\tlearn: 0.9661781\ttotal: 314ms\tremaining: 433ms\n",
      "42:\tlearn: 0.9695603\ttotal: 333ms\tremaining: 441ms\n",
      "43:\tlearn: 0.9706877\ttotal: 348ms\tremaining: 443ms\n",
      "44:\tlearn: 0.9740699\ttotal: 359ms\tremaining: 439ms\n",
      "45:\tlearn: 0.9718151\ttotal: 374ms\tremaining: 438ms\n",
      "46:\tlearn: 0.9763247\ttotal: 400ms\tremaining: 451ms\n",
      "47:\tlearn: 0.9763247\ttotal: 409ms\tremaining: 443ms\n",
      "48:\tlearn: 0.9763247\ttotal: 419ms\tremaining: 436ms\n",
      "49:\tlearn: 0.9763247\ttotal: 427ms\tremaining: 427ms\n",
      "50:\tlearn: 0.9763247\ttotal: 435ms\tremaining: 418ms\n",
      "51:\tlearn: 0.9763247\ttotal: 443ms\tremaining: 409ms\n",
      "52:\tlearn: 0.9774521\ttotal: 452ms\tremaining: 401ms\n",
      "53:\tlearn: 0.9785795\ttotal: 459ms\tremaining: 391ms\n",
      "54:\tlearn: 0.9797069\ttotal: 467ms\tremaining: 382ms\n",
      "55:\tlearn: 0.9797069\ttotal: 474ms\tremaining: 373ms\n",
      "56:\tlearn: 0.9797069\ttotal: 477ms\tremaining: 360ms\n",
      "57:\tlearn: 0.9797069\ttotal: 483ms\tremaining: 350ms\n",
      "58:\tlearn: 0.9797069\ttotal: 490ms\tremaining: 340ms\n",
      "59:\tlearn: 0.9797069\ttotal: 498ms\tremaining: 332ms\n",
      "60:\tlearn: 0.9797069\ttotal: 505ms\tremaining: 323ms\n",
      "61:\tlearn: 0.9819617\ttotal: 517ms\tremaining: 317ms\n",
      "62:\tlearn: 0.9819617\ttotal: 526ms\tremaining: 309ms\n",
      "63:\tlearn: 0.9842165\ttotal: 535ms\tremaining: 301ms\n",
      "64:\tlearn: 0.9842165\ttotal: 546ms\tremaining: 294ms\n",
      "65:\tlearn: 0.9842165\ttotal: 559ms\tremaining: 288ms\n",
      "66:\tlearn: 0.9853439\ttotal: 568ms\tremaining: 280ms\n",
      "67:\tlearn: 0.9864713\ttotal: 580ms\tremaining: 273ms\n",
      "68:\tlearn: 0.9864713\ttotal: 596ms\tremaining: 268ms\n",
      "69:\tlearn: 0.9864713\ttotal: 616ms\tremaining: 264ms\n",
      "70:\tlearn: 0.9864713\ttotal: 631ms\tremaining: 258ms\n",
      "71:\tlearn: 0.9875986\ttotal: 650ms\tremaining: 253ms\n",
      "72:\tlearn: 0.9875986\ttotal: 661ms\tremaining: 244ms\n",
      "73:\tlearn: 0.9875986\ttotal: 679ms\tremaining: 239ms\n",
      "74:\tlearn: 0.9875986\ttotal: 689ms\tremaining: 230ms\n",
      "75:\tlearn: 0.9887260\ttotal: 706ms\tremaining: 223ms\n",
      "76:\tlearn: 0.9887260\ttotal: 713ms\tremaining: 213ms\n",
      "77:\tlearn: 0.9887260\ttotal: 722ms\tremaining: 204ms\n",
      "78:\tlearn: 0.9887260\ttotal: 729ms\tremaining: 194ms\n",
      "79:\tlearn: 0.9898534\ttotal: 740ms\tremaining: 185ms\n",
      "80:\tlearn: 0.9898534\ttotal: 749ms\tremaining: 176ms\n",
      "81:\tlearn: 0.9898534\ttotal: 757ms\tremaining: 166ms\n",
      "82:\tlearn: 0.9898534\ttotal: 766ms\tremaining: 157ms\n",
      "83:\tlearn: 0.9898534\ttotal: 774ms\tremaining: 147ms\n",
      "84:\tlearn: 0.9898534\ttotal: 782ms\tremaining: 138ms\n",
      "85:\tlearn: 0.9898534\ttotal: 790ms\tremaining: 129ms\n",
      "86:\tlearn: 0.9898534\ttotal: 798ms\tremaining: 119ms\n",
      "87:\tlearn: 0.9898534\ttotal: 808ms\tremaining: 110ms\n",
      "88:\tlearn: 0.9909808\ttotal: 817ms\tremaining: 101ms\n",
      "89:\tlearn: 0.9909808\ttotal: 824ms\tremaining: 91.5ms\n",
      "90:\tlearn: 0.9909808\ttotal: 833ms\tremaining: 82.4ms\n",
      "91:\tlearn: 0.9909808\ttotal: 840ms\tremaining: 73ms\n",
      "92:\tlearn: 0.9909808\ttotal: 847ms\tremaining: 63.8ms\n",
      "93:\tlearn: 0.9909808\ttotal: 853ms\tremaining: 54.5ms\n",
      "94:\tlearn: 0.9909808\ttotal: 861ms\tremaining: 45.3ms\n",
      "95:\tlearn: 0.9909808\ttotal: 871ms\tremaining: 36.3ms\n",
      "96:\tlearn: 0.9932356\ttotal: 878ms\tremaining: 27.1ms\n",
      "97:\tlearn: 0.9943630\ttotal: 885ms\tremaining: 18.1ms\n",
      "98:\tlearn: 0.9943630\ttotal: 892ms\tremaining: 9.01ms\n",
      "99:\tlearn: 0.9932356\ttotal: 900ms\tremaining: 0us\n",
      "0:\tlearn: 0.8838782\ttotal: 7.67ms\tremaining: 759ms\n",
      "1:\tlearn: 0.8996618\ttotal: 15.6ms\tremaining: 763ms\n",
      "2:\tlearn: 0.9086809\ttotal: 21.3ms\tremaining: 689ms\n",
      "3:\tlearn: 0.9131905\ttotal: 27.1ms\tremaining: 651ms\n",
      "4:\tlearn: 0.9165727\ttotal: 33.5ms\tremaining: 637ms\n",
      "5:\tlearn: 0.9143179\ttotal: 39.2ms\tremaining: 614ms\n",
      "6:\tlearn: 0.9188275\ttotal: 45ms\tremaining: 599ms\n",
      "7:\tlearn: 0.9233371\ttotal: 50.3ms\tremaining: 579ms\n",
      "8:\tlearn: 0.9210823\ttotal: 56.4ms\tremaining: 570ms\n",
      "9:\tlearn: 0.9267193\ttotal: 63ms\tremaining: 567ms\n",
      "10:\tlearn: 0.9267193\ttotal: 68.4ms\tremaining: 553ms\n",
      "11:\tlearn: 0.9255919\ttotal: 73.2ms\tremaining: 537ms\n",
      "12:\tlearn: 0.9278467\ttotal: 80ms\tremaining: 535ms\n",
      "13:\tlearn: 0.9334837\ttotal: 85ms\tremaining: 522ms\n",
      "14:\tlearn: 0.9357384\ttotal: 90.1ms\tremaining: 511ms\n",
      "15:\tlearn: 0.9301015\ttotal: 96.6ms\tremaining: 507ms\n",
      "16:\tlearn: 0.9346110\ttotal: 102ms\tremaining: 497ms\n",
      "17:\tlearn: 0.9391206\ttotal: 107ms\tremaining: 489ms\n",
      "18:\tlearn: 0.9402480\ttotal: 114ms\tremaining: 484ms\n",
      "19:\tlearn: 0.9436302\ttotal: 119ms\tremaining: 475ms\n",
      "20:\tlearn: 0.9425028\ttotal: 121ms\tremaining: 457ms\n",
      "21:\tlearn: 0.9458850\ttotal: 131ms\tremaining: 465ms\n",
      "22:\tlearn: 0.9447576\ttotal: 138ms\tremaining: 463ms\n",
      "23:\tlearn: 0.9492672\ttotal: 145ms\tremaining: 458ms\n",
      "24:\tlearn: 0.9503946\ttotal: 150ms\tremaining: 451ms\n",
      "25:\tlearn: 0.9515220\ttotal: 156ms\tremaining: 445ms\n",
      "26:\tlearn: 0.9537768\ttotal: 162ms\tremaining: 438ms\n",
      "27:\tlearn: 0.9549042\ttotal: 167ms\tremaining: 430ms\n",
      "28:\tlearn: 0.9571590\ttotal: 173ms\tremaining: 423ms\n",
      "29:\tlearn: 0.9582864\ttotal: 178ms\tremaining: 415ms\n",
      "30:\tlearn: 0.9594138\ttotal: 183ms\tremaining: 408ms\n",
      "31:\tlearn: 0.9605411\ttotal: 188ms\tremaining: 400ms\n",
      "32:\tlearn: 0.9605411\ttotal: 194ms\tremaining: 393ms\n",
      "33:\tlearn: 0.9616685\ttotal: 198ms\tremaining: 385ms\n",
      "34:\tlearn: 0.9639233\ttotal: 204ms\tremaining: 378ms\n",
      "35:\tlearn: 0.9627959\ttotal: 209ms\tremaining: 371ms\n",
      "36:\tlearn: 0.9639233\ttotal: 214ms\tremaining: 364ms\n",
      "37:\tlearn: 0.9650507\ttotal: 223ms\tremaining: 364ms\n",
      "38:\tlearn: 0.9684329\ttotal: 231ms\tremaining: 362ms\n",
      "39:\tlearn: 0.9684329\ttotal: 234ms\tremaining: 352ms\n",
      "40:\tlearn: 0.9684329\ttotal: 241ms\tremaining: 347ms\n",
      "41:\tlearn: 0.9684329\ttotal: 265ms\tremaining: 366ms\n",
      "42:\tlearn: 0.9695603\ttotal: 282ms\tremaining: 373ms\n",
      "43:\tlearn: 0.9706877\ttotal: 290ms\tremaining: 369ms\n",
      "44:\tlearn: 0.9729425\ttotal: 296ms\tremaining: 362ms\n",
      "45:\tlearn: 0.9729425\ttotal: 303ms\tremaining: 355ms\n",
      "46:\tlearn: 0.9740699\ttotal: 308ms\tremaining: 348ms\n",
      "47:\tlearn: 0.9729425\ttotal: 314ms\tremaining: 340ms\n",
      "48:\tlearn: 0.9729425\ttotal: 323ms\tremaining: 336ms\n",
      "49:\tlearn: 0.9740699\ttotal: 330ms\tremaining: 330ms\n",
      "50:\tlearn: 0.9763247\ttotal: 337ms\tremaining: 324ms\n",
      "51:\tlearn: 0.9763247\ttotal: 364ms\tremaining: 336ms\n",
      "52:\tlearn: 0.9763247\ttotal: 384ms\tremaining: 340ms\n",
      "53:\tlearn: 0.9763247\ttotal: 390ms\tremaining: 332ms\n",
      "54:\tlearn: 0.9785795\ttotal: 396ms\tremaining: 324ms\n",
      "55:\tlearn: 0.9797069\ttotal: 402ms\tremaining: 316ms\n",
      "56:\tlearn: 0.9797069\ttotal: 414ms\tremaining: 313ms\n",
      "57:\tlearn: 0.9797069\ttotal: 421ms\tremaining: 305ms\n",
      "58:\tlearn: 0.9819617\ttotal: 441ms\tremaining: 307ms\n",
      "59:\tlearn: 0.9808343\ttotal: 473ms\tremaining: 315ms\n",
      "60:\tlearn: 0.9819617\ttotal: 479ms\tremaining: 306ms\n",
      "61:\tlearn: 0.9819617\ttotal: 485ms\tremaining: 297ms\n",
      "62:\tlearn: 0.9819617\ttotal: 492ms\tremaining: 289ms\n",
      "63:\tlearn: 0.9819617\ttotal: 496ms\tremaining: 279ms\n",
      "64:\tlearn: 0.9819617\ttotal: 501ms\tremaining: 270ms\n",
      "65:\tlearn: 0.9819617\ttotal: 512ms\tremaining: 264ms\n",
      "66:\tlearn: 0.9830891\ttotal: 525ms\tremaining: 259ms\n",
      "67:\tlearn: 0.9842165\ttotal: 557ms\tremaining: 262ms\n",
      "68:\tlearn: 0.9842165\ttotal: 571ms\tremaining: 257ms\n",
      "69:\tlearn: 0.9842165\ttotal: 586ms\tremaining: 251ms\n",
      "70:\tlearn: 0.9842165\ttotal: 592ms\tremaining: 242ms\n",
      "71:\tlearn: 0.9842165\ttotal: 599ms\tremaining: 233ms\n",
      "72:\tlearn: 0.9853439\ttotal: 610ms\tremaining: 225ms\n",
      "73:\tlearn: 0.9853439\ttotal: 616ms\tremaining: 216ms\n",
      "74:\tlearn: 0.9842165\ttotal: 647ms\tremaining: 216ms\n",
      "75:\tlearn: 0.9842165\ttotal: 675ms\tremaining: 213ms\n",
      "76:\tlearn: 0.9853439\ttotal: 681ms\tremaining: 203ms\n",
      "77:\tlearn: 0.9842165\ttotal: 691ms\tremaining: 195ms\n",
      "78:\tlearn: 0.9842165\ttotal: 697ms\tremaining: 185ms\n",
      "79:\tlearn: 0.9864713\ttotal: 703ms\tremaining: 176ms\n",
      "80:\tlearn: 0.9864713\ttotal: 711ms\tremaining: 167ms\n",
      "81:\tlearn: 0.9864713\ttotal: 725ms\tremaining: 159ms\n",
      "82:\tlearn: 0.9887260\ttotal: 739ms\tremaining: 151ms\n",
      "83:\tlearn: 0.9898534\ttotal: 758ms\tremaining: 144ms\n",
      "84:\tlearn: 0.9909808\ttotal: 764ms\tremaining: 135ms\n",
      "85:\tlearn: 0.9898534\ttotal: 774ms\tremaining: 126ms\n",
      "86:\tlearn: 0.9909808\ttotal: 779ms\tremaining: 116ms\n",
      "87:\tlearn: 0.9921082\ttotal: 784ms\tremaining: 107ms\n",
      "88:\tlearn: 0.9909808\ttotal: 790ms\tremaining: 97.7ms\n",
      "89:\tlearn: 0.9909808\ttotal: 795ms\tremaining: 88.3ms\n",
      "90:\tlearn: 0.9921082\ttotal: 801ms\tremaining: 79.2ms\n",
      "91:\tlearn: 0.9921082\ttotal: 807ms\tremaining: 70.2ms\n",
      "92:\tlearn: 0.9921082\ttotal: 813ms\tremaining: 61.2ms\n",
      "93:\tlearn: 0.9921082\ttotal: 821ms\tremaining: 52.4ms\n",
      "94:\tlearn: 0.9921082\ttotal: 827ms\tremaining: 43.5ms\n",
      "95:\tlearn: 0.9932356\ttotal: 832ms\tremaining: 34.7ms\n",
      "96:\tlearn: 0.9932356\ttotal: 839ms\tremaining: 26ms\n",
      "97:\tlearn: 0.9932356\ttotal: 845ms\tremaining: 17.2ms\n",
      "98:\tlearn: 0.9932356\ttotal: 850ms\tremaining: 8.59ms\n",
      "99:\tlearn: 0.9932356\ttotal: 855ms\tremaining: 0us\n",
      "0:\tlearn: 0.8838782\ttotal: 6.34ms\tremaining: 628ms\n",
      "1:\tlearn: 0.9007892\ttotal: 11.9ms\tremaining: 583ms\n",
      "2:\tlearn: 0.9007892\ttotal: 19.5ms\tremaining: 629ms\n",
      "3:\tlearn: 0.9177001\ttotal: 26ms\tremaining: 623ms\n",
      "4:\tlearn: 0.9177001\ttotal: 37.4ms\tremaining: 710ms\n",
      "5:\tlearn: 0.9165727\ttotal: 48.1ms\tremaining: 753ms\n",
      "6:\tlearn: 0.9177001\ttotal: 55.8ms\tremaining: 742ms\n",
      "7:\tlearn: 0.9222097\ttotal: 65.1ms\tremaining: 749ms\n",
      "8:\tlearn: 0.9199549\ttotal: 72ms\tremaining: 728ms\n",
      "9:\tlearn: 0.9233371\ttotal: 81.5ms\tremaining: 734ms\n",
      "10:\tlearn: 0.9255919\ttotal: 99ms\tremaining: 801ms\n",
      "11:\tlearn: 0.9289741\ttotal: 111ms\tremaining: 816ms\n",
      "12:\tlearn: 0.9301015\ttotal: 128ms\tremaining: 855ms\n",
      "13:\tlearn: 0.9334837\ttotal: 171ms\tremaining: 1.05s\n",
      "14:\tlearn: 0.9346110\ttotal: 183ms\tremaining: 1.03s\n",
      "15:\tlearn: 0.9346110\ttotal: 194ms\tremaining: 1.02s\n",
      "16:\tlearn: 0.9346110\ttotal: 202ms\tremaining: 986ms\n",
      "17:\tlearn: 0.9346110\ttotal: 211ms\tremaining: 963ms\n",
      "18:\tlearn: 0.9391206\ttotal: 219ms\tremaining: 932ms\n",
      "19:\tlearn: 0.9402480\ttotal: 228ms\tremaining: 914ms\n",
      "20:\tlearn: 0.9391206\ttotal: 231ms\tremaining: 870ms\n",
      "21:\tlearn: 0.9402480\ttotal: 241ms\tremaining: 855ms\n",
      "22:\tlearn: 0.9413754\ttotal: 251ms\tremaining: 841ms\n",
      "23:\tlearn: 0.9413754\ttotal: 260ms\tremaining: 824ms\n",
      "24:\tlearn: 0.9391206\ttotal: 265ms\tremaining: 795ms\n",
      "25:\tlearn: 0.9413754\ttotal: 272ms\tremaining: 774ms\n",
      "26:\tlearn: 0.9447576\ttotal: 280ms\tremaining: 756ms\n",
      "27:\tlearn: 0.9458850\ttotal: 286ms\tremaining: 736ms\n",
      "28:\tlearn: 0.9481398\ttotal: 294ms\tremaining: 720ms\n",
      "29:\tlearn: 0.9481398\ttotal: 301ms\tremaining: 701ms\n",
      "30:\tlearn: 0.9492672\ttotal: 310ms\tremaining: 690ms\n",
      "31:\tlearn: 0.9515220\ttotal: 317ms\tremaining: 674ms\n",
      "32:\tlearn: 0.9537768\ttotal: 329ms\tremaining: 668ms\n",
      "33:\tlearn: 0.9537768\ttotal: 337ms\tremaining: 655ms\n",
      "34:\tlearn: 0.9549042\ttotal: 345ms\tremaining: 641ms\n",
      "35:\tlearn: 0.9571590\ttotal: 354ms\tremaining: 630ms\n",
      "36:\tlearn: 0.9582864\ttotal: 361ms\tremaining: 615ms\n",
      "37:\tlearn: 0.9582864\ttotal: 367ms\tremaining: 599ms\n",
      "38:\tlearn: 0.9582864\ttotal: 376ms\tremaining: 588ms\n",
      "39:\tlearn: 0.9594138\ttotal: 383ms\tremaining: 574ms\n",
      "40:\tlearn: 0.9594138\ttotal: 390ms\tremaining: 561ms\n",
      "41:\tlearn: 0.9616685\ttotal: 397ms\tremaining: 548ms\n",
      "42:\tlearn: 0.9639233\ttotal: 405ms\tremaining: 537ms\n",
      "43:\tlearn: 0.9661781\ttotal: 412ms\tremaining: 524ms\n",
      "44:\tlearn: 0.9673055\ttotal: 420ms\tremaining: 514ms\n",
      "45:\tlearn: 0.9673055\ttotal: 427ms\tremaining: 501ms\n",
      "46:\tlearn: 0.9684329\ttotal: 436ms\tremaining: 491ms\n",
      "47:\tlearn: 0.9695603\ttotal: 443ms\tremaining: 480ms\n",
      "48:\tlearn: 0.9695603\ttotal: 451ms\tremaining: 469ms\n",
      "49:\tlearn: 0.9684329\ttotal: 458ms\tremaining: 458ms\n",
      "50:\tlearn: 0.9695603\ttotal: 465ms\tremaining: 447ms\n",
      "51:\tlearn: 0.9706877\ttotal: 473ms\tremaining: 436ms\n",
      "52:\tlearn: 0.9706877\ttotal: 480ms\tremaining: 425ms\n",
      "53:\tlearn: 0.9706877\ttotal: 487ms\tremaining: 415ms\n",
      "54:\tlearn: 0.9718151\ttotal: 493ms\tremaining: 403ms\n",
      "55:\tlearn: 0.9751973\ttotal: 500ms\tremaining: 393ms\n",
      "56:\tlearn: 0.9751973\ttotal: 507ms\tremaining: 382ms\n",
      "57:\tlearn: 0.9751973\ttotal: 510ms\tremaining: 369ms\n",
      "58:\tlearn: 0.9740699\ttotal: 519ms\tremaining: 361ms\n",
      "59:\tlearn: 0.9751973\ttotal: 532ms\tremaining: 355ms\n",
      "60:\tlearn: 0.9763247\ttotal: 543ms\tremaining: 347ms\n",
      "61:\tlearn: 0.9763247\ttotal: 553ms\tremaining: 339ms\n",
      "62:\tlearn: 0.9763247\ttotal: 561ms\tremaining: 329ms\n",
      "63:\tlearn: 0.9763247\ttotal: 568ms\tremaining: 320ms\n",
      "64:\tlearn: 0.9785795\ttotal: 574ms\tremaining: 309ms\n",
      "65:\tlearn: 0.9785795\ttotal: 582ms\tremaining: 300ms\n",
      "66:\tlearn: 0.9808343\ttotal: 588ms\tremaining: 290ms\n",
      "67:\tlearn: 0.9808343\ttotal: 597ms\tremaining: 281ms\n",
      "68:\tlearn: 0.9819617\ttotal: 603ms\tremaining: 271ms\n",
      "69:\tlearn: 0.9842165\ttotal: 610ms\tremaining: 261ms\n",
      "70:\tlearn: 0.9853439\ttotal: 616ms\tremaining: 252ms\n",
      "71:\tlearn: 0.9864713\ttotal: 623ms\tremaining: 242ms\n",
      "72:\tlearn: 0.9875986\ttotal: 631ms\tremaining: 233ms\n",
      "73:\tlearn: 0.9887260\ttotal: 636ms\tremaining: 223ms\n",
      "74:\tlearn: 0.9887260\ttotal: 643ms\tremaining: 214ms\n",
      "75:\tlearn: 0.9887260\ttotal: 648ms\tremaining: 205ms\n",
      "76:\tlearn: 0.9887260\ttotal: 653ms\tremaining: 195ms\n",
      "77:\tlearn: 0.9887260\ttotal: 662ms\tremaining: 187ms\n",
      "78:\tlearn: 0.9887260\ttotal: 669ms\tremaining: 178ms\n",
      "79:\tlearn: 0.9887260\ttotal: 676ms\tremaining: 169ms\n",
      "80:\tlearn: 0.9898534\ttotal: 681ms\tremaining: 160ms\n",
      "81:\tlearn: 0.9909808\ttotal: 687ms\tremaining: 151ms\n",
      "82:\tlearn: 0.9909808\ttotal: 693ms\tremaining: 142ms\n",
      "83:\tlearn: 0.9909808\ttotal: 698ms\tremaining: 133ms\n",
      "84:\tlearn: 0.9909808\ttotal: 704ms\tremaining: 124ms\n",
      "85:\tlearn: 0.9909808\ttotal: 710ms\tremaining: 116ms\n",
      "86:\tlearn: 0.9898534\ttotal: 715ms\tremaining: 107ms\n",
      "87:\tlearn: 0.9909808\ttotal: 720ms\tremaining: 98.2ms\n",
      "88:\tlearn: 0.9909808\ttotal: 727ms\tremaining: 89.9ms\n",
      "89:\tlearn: 0.9921082\ttotal: 733ms\tremaining: 81.4ms\n",
      "90:\tlearn: 0.9921082\ttotal: 740ms\tremaining: 73.2ms\n",
      "91:\tlearn: 0.9921082\ttotal: 746ms\tremaining: 64.8ms\n",
      "92:\tlearn: 0.9909808\ttotal: 751ms\tremaining: 56.5ms\n",
      "93:\tlearn: 0.9921082\ttotal: 758ms\tremaining: 48.4ms\n",
      "94:\tlearn: 0.9909808\ttotal: 764ms\tremaining: 40.2ms\n",
      "95:\tlearn: 0.9909808\ttotal: 770ms\tremaining: 32.1ms\n",
      "96:\tlearn: 0.9932356\ttotal: 776ms\tremaining: 24ms\n",
      "97:\tlearn: 0.9932356\ttotal: 782ms\tremaining: 16ms\n",
      "98:\tlearn: 0.9932356\ttotal: 788ms\tremaining: 7.96ms\n",
      "99:\tlearn: 0.9932356\ttotal: 794ms\tremaining: 0us\n",
      "Acurácia Média 0.8680286738351254\n"
     ]
    }
   ],
   "source": [
    "modelo = CatBoostClassifier(task_type= 'CPU',iterations=100,learning_rate=0.1,depth=8,random_state=5,eval_metric=\"Accuracy\")\n",
    "\n",
    "resultado = cross_val_score(modelo,previsores,alvo,cv = kfold)\n",
    "\n",
    "print(f\"Acurácia Média {resultado.mean()}\")"
   ]
  },
  {
   "cell_type": "markdown",
   "metadata": {},
   "source": [
    "#  Otimização de HiperParâmetros"
   ]
  },
  {
   "cell_type": "code",
   "execution_count": 221,
   "metadata": {},
   "outputs": [
    {
     "name": "stdout",
     "output_type": "stream",
     "text": [
      "Pacotes importados com sucesso\n"
     ]
    }
   ],
   "source": [
    "# Importando os pacotes\n",
    "\n",
    "from sklearn.metrics import roc_auc_score\n",
    "from sklearn.model_selection import GridSearchCV\n",
    "from sklearn.ensemble import GradientBoostingClassifier\n",
    "\n",
    "print(\"Pacotes importados com sucesso\")"
   ]
  },
  {
   "cell_type": "code",
   "execution_count": 222,
   "metadata": {},
   "outputs": [],
   "source": [
    "# Criando o algoritmo\n",
    "\n",
    "gbm = GradientBoostingClassifier(random_state=0)"
   ]
  },
  {
   "cell_type": "code",
   "execution_count": 224,
   "metadata": {},
   "outputs": [],
   "source": [
    "# Determinando o espaço do hiperparâmetro\n",
    "\n",
    "param_grid = dict(\n",
    "    n_estimators = [20,50,100,250],\n",
    "    learning_rate = [0.05,0.1,0.5],\n",
    "    max_depth = [1,2,3,4,5]\n",
    ")"
   ]
  },
  {
   "cell_type": "code",
   "execution_count": 225,
   "metadata": {},
   "outputs": [],
   "source": [
    "# Configurando a procura com o Grid Search\n",
    "\n",
    "grid_search = GridSearchCV(gbm,param_grid,scoring='roc_auc',cv=4)"
   ]
  },
  {
   "cell_type": "code",
   "execution_count": 228,
   "metadata": {},
   "outputs": [
    {
     "data": {
      "text/html": [
       "<style>#sk-container-id-8 {color: black;background-color: white;}#sk-container-id-8 pre{padding: 0;}#sk-container-id-8 div.sk-toggleable {background-color: white;}#sk-container-id-8 label.sk-toggleable__label {cursor: pointer;display: block;width: 100%;margin-bottom: 0;padding: 0.3em;box-sizing: border-box;text-align: center;}#sk-container-id-8 label.sk-toggleable__label-arrow:before {content: \"▸\";float: left;margin-right: 0.25em;color: #696969;}#sk-container-id-8 label.sk-toggleable__label-arrow:hover:before {color: black;}#sk-container-id-8 div.sk-estimator:hover label.sk-toggleable__label-arrow:before {color: black;}#sk-container-id-8 div.sk-toggleable__content {max-height: 0;max-width: 0;overflow: hidden;text-align: left;background-color: #f0f8ff;}#sk-container-id-8 div.sk-toggleable__content pre {margin: 0.2em;color: black;border-radius: 0.25em;background-color: #f0f8ff;}#sk-container-id-8 input.sk-toggleable__control:checked~div.sk-toggleable__content {max-height: 200px;max-width: 100%;overflow: auto;}#sk-container-id-8 input.sk-toggleable__control:checked~label.sk-toggleable__label-arrow:before {content: \"▾\";}#sk-container-id-8 div.sk-estimator input.sk-toggleable__control:checked~label.sk-toggleable__label {background-color: #d4ebff;}#sk-container-id-8 div.sk-label input.sk-toggleable__control:checked~label.sk-toggleable__label {background-color: #d4ebff;}#sk-container-id-8 input.sk-hidden--visually {border: 0;clip: rect(1px 1px 1px 1px);clip: rect(1px, 1px, 1px, 1px);height: 1px;margin: -1px;overflow: hidden;padding: 0;position: absolute;width: 1px;}#sk-container-id-8 div.sk-estimator {font-family: monospace;background-color: #f0f8ff;border: 1px dotted black;border-radius: 0.25em;box-sizing: border-box;margin-bottom: 0.5em;}#sk-container-id-8 div.sk-estimator:hover {background-color: #d4ebff;}#sk-container-id-8 div.sk-parallel-item::after {content: \"\";width: 100%;border-bottom: 1px solid gray;flex-grow: 1;}#sk-container-id-8 div.sk-label:hover label.sk-toggleable__label {background-color: #d4ebff;}#sk-container-id-8 div.sk-serial::before {content: \"\";position: absolute;border-left: 1px solid gray;box-sizing: border-box;top: 0;bottom: 0;left: 50%;z-index: 0;}#sk-container-id-8 div.sk-serial {display: flex;flex-direction: column;align-items: center;background-color: white;padding-right: 0.2em;padding-left: 0.2em;position: relative;}#sk-container-id-8 div.sk-item {position: relative;z-index: 1;}#sk-container-id-8 div.sk-parallel {display: flex;align-items: stretch;justify-content: center;background-color: white;position: relative;}#sk-container-id-8 div.sk-item::before, #sk-container-id-8 div.sk-parallel-item::before {content: \"\";position: absolute;border-left: 1px solid gray;box-sizing: border-box;top: 0;bottom: 0;left: 50%;z-index: -1;}#sk-container-id-8 div.sk-parallel-item {display: flex;flex-direction: column;z-index: 1;position: relative;background-color: white;}#sk-container-id-8 div.sk-parallel-item:first-child::after {align-self: flex-end;width: 50%;}#sk-container-id-8 div.sk-parallel-item:last-child::after {align-self: flex-start;width: 50%;}#sk-container-id-8 div.sk-parallel-item:only-child::after {width: 0;}#sk-container-id-8 div.sk-dashed-wrapped {border: 1px dashed gray;margin: 0 0.4em 0.5em 0.4em;box-sizing: border-box;padding-bottom: 0.4em;background-color: white;}#sk-container-id-8 div.sk-label label {font-family: monospace;font-weight: bold;display: inline-block;line-height: 1.2em;}#sk-container-id-8 div.sk-label-container {text-align: center;}#sk-container-id-8 div.sk-container {/* jupyter's `normalize.less` sets `[hidden] { display: none; }` but bootstrap.min.css set `[hidden] { display: none !important; }` so we also need the `!important` here to be able to override the default hidden behavior on the sphinx rendered scikit-learn.org. See: https://github.com/scikit-learn/scikit-learn/issues/21755 */display: inline-block !important;position: relative;}#sk-container-id-8 div.sk-text-repr-fallback {display: none;}</style><div id=\"sk-container-id-8\" class=\"sk-top-container\"><div class=\"sk-text-repr-fallback\"><pre>GridSearchCV(cv=4, estimator=GradientBoostingClassifier(random_state=0),\n",
       "             param_grid={&#x27;learning_rate&#x27;: [0.05, 0.1, 0.5],\n",
       "                         &#x27;max_depth&#x27;: [1, 2, 3, 4, 5],\n",
       "                         &#x27;n_estimators&#x27;: [20, 50, 100, 250]},\n",
       "             scoring=&#x27;roc_auc&#x27;)</pre><b>In a Jupyter environment, please rerun this cell to show the HTML representation or trust the notebook. <br />On GitHub, the HTML representation is unable to render, please try loading this page with nbviewer.org.</b></div><div class=\"sk-container\" hidden><div class=\"sk-item sk-dashed-wrapped\"><div class=\"sk-label-container\"><div class=\"sk-label sk-toggleable\"><input class=\"sk-toggleable__control sk-hidden--visually\" id=\"sk-estimator-id-8\" type=\"checkbox\" ><label for=\"sk-estimator-id-8\" class=\"sk-toggleable__label sk-toggleable__label-arrow\">GridSearchCV</label><div class=\"sk-toggleable__content\"><pre>GridSearchCV(cv=4, estimator=GradientBoostingClassifier(random_state=0),\n",
       "             param_grid={&#x27;learning_rate&#x27;: [0.05, 0.1, 0.5],\n",
       "                         &#x27;max_depth&#x27;: [1, 2, 3, 4, 5],\n",
       "                         &#x27;n_estimators&#x27;: [20, 50, 100, 250]},\n",
       "             scoring=&#x27;roc_auc&#x27;)</pre></div></div></div><div class=\"sk-parallel\"><div class=\"sk-parallel-item\"><div class=\"sk-item\"><div class=\"sk-label-container\"><div class=\"sk-label sk-toggleable\"><input class=\"sk-toggleable__control sk-hidden--visually\" id=\"sk-estimator-id-9\" type=\"checkbox\" ><label for=\"sk-estimator-id-9\" class=\"sk-toggleable__label sk-toggleable__label-arrow\">estimator: GradientBoostingClassifier</label><div class=\"sk-toggleable__content\"><pre>GradientBoostingClassifier(random_state=0)</pre></div></div></div><div class=\"sk-serial\"><div class=\"sk-item\"><div class=\"sk-estimator sk-toggleable\"><input class=\"sk-toggleable__control sk-hidden--visually\" id=\"sk-estimator-id-10\" type=\"checkbox\" ><label for=\"sk-estimator-id-10\" class=\"sk-toggleable__label sk-toggleable__label-arrow\">GradientBoostingClassifier</label><div class=\"sk-toggleable__content\"><pre>GradientBoostingClassifier(random_state=0)</pre></div></div></div></div></div></div></div></div></div></div>"
      ],
      "text/plain": [
       "GridSearchCV(cv=4, estimator=GradientBoostingClassifier(random_state=0),\n",
       "             param_grid={'learning_rate': [0.05, 0.1, 0.5],\n",
       "                         'max_depth': [1, 2, 3, 4, 5],\n",
       "                         'n_estimators': [20, 50, 100, 250]},\n",
       "             scoring='roc_auc')"
      ]
     },
     "execution_count": 228,
     "metadata": {},
     "output_type": "execute_result"
    }
   ],
   "source": [
    "# Configurando os melhores hiperparêmetros\n",
    "\n",
    "grid_search.fit(x_treino,y_treino)"
   ]
  },
  {
   "cell_type": "code",
   "execution_count": 229,
   "metadata": {},
   "outputs": [
    {
     "data": {
      "text/plain": [
       "{'learning_rate': 0.05, 'max_depth': 2, 'n_estimators': 50}"
      ]
     },
     "execution_count": 229,
     "metadata": {},
     "output_type": "execute_result"
    }
   ],
   "source": [
    "# Melhores hiperparametros\n",
    "\n",
    "grid_search.best_params_"
   ]
  },
  {
   "cell_type": "code",
   "execution_count": 233,
   "metadata": {},
   "outputs": [],
   "source": [
    "\n",
    "# Criando o modelo\n",
    "gbm = GradientBoostingClassifier(random_state=0,learning_rate=0.05,max_depth=2,n_estimators=50)\n"
   ]
  },
  {
   "cell_type": "code",
   "execution_count": 234,
   "metadata": {},
   "outputs": [
    {
     "data": {
      "text/html": [
       "<style>#sk-container-id-9 {color: black;background-color: white;}#sk-container-id-9 pre{padding: 0;}#sk-container-id-9 div.sk-toggleable {background-color: white;}#sk-container-id-9 label.sk-toggleable__label {cursor: pointer;display: block;width: 100%;margin-bottom: 0;padding: 0.3em;box-sizing: border-box;text-align: center;}#sk-container-id-9 label.sk-toggleable__label-arrow:before {content: \"▸\";float: left;margin-right: 0.25em;color: #696969;}#sk-container-id-9 label.sk-toggleable__label-arrow:hover:before {color: black;}#sk-container-id-9 div.sk-estimator:hover label.sk-toggleable__label-arrow:before {color: black;}#sk-container-id-9 div.sk-toggleable__content {max-height: 0;max-width: 0;overflow: hidden;text-align: left;background-color: #f0f8ff;}#sk-container-id-9 div.sk-toggleable__content pre {margin: 0.2em;color: black;border-radius: 0.25em;background-color: #f0f8ff;}#sk-container-id-9 input.sk-toggleable__control:checked~div.sk-toggleable__content {max-height: 200px;max-width: 100%;overflow: auto;}#sk-container-id-9 input.sk-toggleable__control:checked~label.sk-toggleable__label-arrow:before {content: \"▾\";}#sk-container-id-9 div.sk-estimator input.sk-toggleable__control:checked~label.sk-toggleable__label {background-color: #d4ebff;}#sk-container-id-9 div.sk-label input.sk-toggleable__control:checked~label.sk-toggleable__label {background-color: #d4ebff;}#sk-container-id-9 input.sk-hidden--visually {border: 0;clip: rect(1px 1px 1px 1px);clip: rect(1px, 1px, 1px, 1px);height: 1px;margin: -1px;overflow: hidden;padding: 0;position: absolute;width: 1px;}#sk-container-id-9 div.sk-estimator {font-family: monospace;background-color: #f0f8ff;border: 1px dotted black;border-radius: 0.25em;box-sizing: border-box;margin-bottom: 0.5em;}#sk-container-id-9 div.sk-estimator:hover {background-color: #d4ebff;}#sk-container-id-9 div.sk-parallel-item::after {content: \"\";width: 100%;border-bottom: 1px solid gray;flex-grow: 1;}#sk-container-id-9 div.sk-label:hover label.sk-toggleable__label {background-color: #d4ebff;}#sk-container-id-9 div.sk-serial::before {content: \"\";position: absolute;border-left: 1px solid gray;box-sizing: border-box;top: 0;bottom: 0;left: 50%;z-index: 0;}#sk-container-id-9 div.sk-serial {display: flex;flex-direction: column;align-items: center;background-color: white;padding-right: 0.2em;padding-left: 0.2em;position: relative;}#sk-container-id-9 div.sk-item {position: relative;z-index: 1;}#sk-container-id-9 div.sk-parallel {display: flex;align-items: stretch;justify-content: center;background-color: white;position: relative;}#sk-container-id-9 div.sk-item::before, #sk-container-id-9 div.sk-parallel-item::before {content: \"\";position: absolute;border-left: 1px solid gray;box-sizing: border-box;top: 0;bottom: 0;left: 50%;z-index: -1;}#sk-container-id-9 div.sk-parallel-item {display: flex;flex-direction: column;z-index: 1;position: relative;background-color: white;}#sk-container-id-9 div.sk-parallel-item:first-child::after {align-self: flex-end;width: 50%;}#sk-container-id-9 div.sk-parallel-item:last-child::after {align-self: flex-start;width: 50%;}#sk-container-id-9 div.sk-parallel-item:only-child::after {width: 0;}#sk-container-id-9 div.sk-dashed-wrapped {border: 1px dashed gray;margin: 0 0.4em 0.5em 0.4em;box-sizing: border-box;padding-bottom: 0.4em;background-color: white;}#sk-container-id-9 div.sk-label label {font-family: monospace;font-weight: bold;display: inline-block;line-height: 1.2em;}#sk-container-id-9 div.sk-label-container {text-align: center;}#sk-container-id-9 div.sk-container {/* jupyter's `normalize.less` sets `[hidden] { display: none; }` but bootstrap.min.css set `[hidden] { display: none !important; }` so we also need the `!important` here to be able to override the default hidden behavior on the sphinx rendered scikit-learn.org. See: https://github.com/scikit-learn/scikit-learn/issues/21755 */display: inline-block !important;position: relative;}#sk-container-id-9 div.sk-text-repr-fallback {display: none;}</style><div id=\"sk-container-id-9\" class=\"sk-top-container\"><div class=\"sk-text-repr-fallback\"><pre>GradientBoostingClassifier(learning_rate=0.05, max_depth=2, n_estimators=50,\n",
       "                           random_state=0)</pre><b>In a Jupyter environment, please rerun this cell to show the HTML representation or trust the notebook. <br />On GitHub, the HTML representation is unable to render, please try loading this page with nbviewer.org.</b></div><div class=\"sk-container\" hidden><div class=\"sk-item\"><div class=\"sk-estimator sk-toggleable\"><input class=\"sk-toggleable__control sk-hidden--visually\" id=\"sk-estimator-id-11\" type=\"checkbox\" checked><label for=\"sk-estimator-id-11\" class=\"sk-toggleable__label sk-toggleable__label-arrow\">GradientBoostingClassifier</label><div class=\"sk-toggleable__content\"><pre>GradientBoostingClassifier(learning_rate=0.05, max_depth=2, n_estimators=50,\n",
       "                           random_state=0)</pre></div></div></div></div></div>"
      ],
      "text/plain": [
       "GradientBoostingClassifier(learning_rate=0.05, max_depth=2, n_estimators=50,\n",
       "                           random_state=0)"
      ]
     },
     "execution_count": 234,
     "metadata": {},
     "output_type": "execute_result"
    }
   ],
   "source": [
    "# Treinando o modelo\n",
    "gbm.fit(x_treino,y_treino)"
   ]
  },
  {
   "cell_type": "code",
   "execution_count": 235,
   "metadata": {},
   "outputs": [],
   "source": [
    "# Realizando o predict\n",
    "\n",
    "predicoes_gbm = gbm.predict(x_teste)"
   ]
  },
  {
   "cell_type": "code",
   "execution_count": 236,
   "metadata": {},
   "outputs": [
    {
     "data": {
      "text/plain": [
       "array([1, 1, 1, 0, 0, 0, 0, 0, 0, 0, 1, 1, 1, 1, 0, 1, 1, 1, 1, 0, 1, 1,\n",
       "       0, 0, 0, 0, 1, 1, 1, 1, 1, 0, 0, 0, 1, 0, 0, 0, 1, 0, 0, 1, 1, 1,\n",
       "       1, 0, 0, 1, 0, 1, 1, 0, 0, 0, 1, 0, 0, 0, 0, 0, 1, 1, 1, 0, 1, 1,\n",
       "       1, 0, 1, 0, 1, 1, 0, 1, 1, 1, 1, 1, 1, 1, 1, 1, 0, 0, 1, 1, 1, 1,\n",
       "       1, 0, 1, 0, 0, 0, 0, 0, 1, 0, 0, 0, 0, 1, 1, 1, 0, 1, 0, 0, 0, 0,\n",
       "       0, 1, 1, 1, 0, 1, 0, 1, 1, 1, 1, 1, 1, 0, 1, 1, 0, 1, 0, 1, 0, 1,\n",
       "       1, 1, 0, 1, 1, 1, 1, 0, 0, 1, 0, 1, 1, 0, 1, 0, 1, 0, 0, 1, 1, 0,\n",
       "       1, 0, 1, 1, 1, 0, 1, 1, 1, 0, 1, 0, 1, 0, 1, 0, 1, 1, 0, 0, 1, 0,\n",
       "       1, 0, 0, 1, 1, 1, 0, 1, 1, 1, 0, 1, 1, 0, 1, 0, 1, 0, 1, 0, 0, 0,\n",
       "       1, 0, 1, 1, 0, 1, 1, 0, 0, 0, 1, 0, 1, 1, 0, 0, 0, 0, 1, 0, 1, 1,\n",
       "       1, 0, 0, 1, 1, 1, 0, 1, 0, 1, 0, 1, 1, 1, 0, 1, 1, 1, 0, 1, 1, 0,\n",
       "       1, 0, 0, 0, 0, 0, 1, 0, 1, 0, 1, 0, 0, 0, 1, 0, 0, 1, 0, 1, 1, 0,\n",
       "       0, 0, 0, 0, 1, 0, 0, 1, 1, 1, 1, 1], dtype=int64)"
      ]
     },
     "execution_count": 236,
     "metadata": {},
     "output_type": "execute_result"
    }
   ],
   "source": [
    "predicoes_gbm"
   ]
  },
  {
   "cell_type": "code",
   "execution_count": 237,
   "metadata": {},
   "outputs": [
    {
     "name": "stdout",
     "output_type": "stream",
     "text": [
      "Acuracia do modelo 0.8405797101449275\n"
     ]
    }
   ],
   "source": [
    "# Olhando para a acuracia do modelo\n",
    "\n",
    "print(f\"Acuracia do modelo {accuracy_score(y_teste,predicoes_gbm)}\")"
   ]
  }
 ],
 "metadata": {
  "kernelspec": {
   "display_name": "Python 3",
   "language": "python",
   "name": "python3"
  },
  "language_info": {
   "codemirror_mode": {
    "name": "ipython",
    "version": 3
   },
   "file_extension": ".py",
   "mimetype": "text/x-python",
   "name": "python",
   "nbconvert_exporter": "python",
   "pygments_lexer": "ipython3",
   "version": "3.10.11"
  }
 },
 "nbformat": 4,
 "nbformat_minor": 2
}
